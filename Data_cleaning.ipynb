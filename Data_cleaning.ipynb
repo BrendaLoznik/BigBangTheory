{
  "nbformat": 4,
  "nbformat_minor": 0,
  "metadata": {
    "colab": {
      "name": "Bang_cleaning.ipynb",
      "provenance": [],
      "collapsed_sections": [],
      "include_colab_link": true
    },
    "kernelspec": {
      "name": "python3",
      "display_name": "Python 3"
    },
    "language_info": {
      "name": "python"
    }
  },
  "cells": [
    {
      "cell_type": "markdown",
      "metadata": {
        "id": "view-in-github",
        "colab_type": "text"
      },
      "source": [
        "<a href=\"https://colab.research.google.com/github/BrendaLoznik/BigBangTheory/blob/main/Data_cleaning.ipynb\" target=\"_parent\"><img src=\"https://colab.research.google.com/assets/colab-badge.svg\" alt=\"Open In Colab\"/></a>"
      ]
    },
    {
      "cell_type": "code",
      "execution_count": 412,
      "metadata": {
        "id": "t-2h5WfUeAwS"
      },
      "outputs": [],
      "source": [
        ""
      ]
    },
    {
      "cell_type": "markdown",
      "source": [
        "# 1 Housekeeping"
      ],
      "metadata": {
        "id": "-eLS8JD0eEHB"
      }
    },
    {
      "cell_type": "code",
      "source": [
        "#basic libraries\n",
        "import numpy as np\n",
        "import pandas as pd\n",
        "import matplotlib.pyplot as plt\n",
        "%matplotlib inline\n",
        "import seaborn as sns\n",
        "import re\n",
        "\n",
        "pd.set_option(\"display.max_columns\", 100)\n",
        "pd.set_option(\"display.max_rows\", 200)"
      ],
      "metadata": {
        "id": "-Dp4bxzLeEqB"
      },
      "execution_count": 413,
      "outputs": []
    },
    {
      "cell_type": "markdown",
      "source": [
        "### 1.2 Load data"
      ],
      "metadata": {
        "id": "2P9CYLZreKLC"
      }
    },
    {
      "cell_type": "code",
      "source": [
        "from google.colab import drive \n",
        "drive.mount('/content/gdrive')"
      ],
      "metadata": {
        "colab": {
          "base_uri": "https://localhost:8080/"
        },
        "id": "BZuNnS_IeIUi",
        "outputId": "24b1dae5-b556-43a3-d095-16c00b117866"
      },
      "execution_count": 414,
      "outputs": [
        {
          "output_type": "stream",
          "name": "stdout",
          "text": [
            "Drive already mounted at /content/gdrive; to attempt to forcibly remount, call drive.mount(\"/content/gdrive\", force_remount=True).\n"
          ]
        }
      ]
    },
    {
      "cell_type": "code",
      "source": [
        "raw = pd.read_csv('/content/gdrive/MyDrive/Kaggle/Bigbang/raw_episodes.csv')\n",
        "raw.head()"
      ],
      "metadata": {
        "colab": {
          "base_uri": "https://localhost:8080/",
          "height": 336
        },
        "id": "n77Ip2YQeMiC",
        "outputId": "b6212912-42dc-4b92-f21a-022af731ec67"
      },
      "execution_count": 415,
      "outputs": [
        {
          "output_type": "execute_result",
          "data": {
            "text/html": [
              "\n",
              "  <div id=\"df-d1f24b25-e687-494a-80a6-05429be3e510\">\n",
              "    <div class=\"colab-df-container\">\n",
              "      <div>\n",
              "<style scoped>\n",
              "    .dataframe tbody tr th:only-of-type {\n",
              "        vertical-align: middle;\n",
              "    }\n",
              "\n",
              "    .dataframe tbody tr th {\n",
              "        vertical-align: top;\n",
              "    }\n",
              "\n",
              "    .dataframe thead th {\n",
              "        text-align: right;\n",
              "    }\n",
              "</style>\n",
              "<table border=\"1\" class=\"dataframe\">\n",
              "  <thead>\n",
              "    <tr style=\"text-align: right;\">\n",
              "      <th></th>\n",
              "      <th>line</th>\n",
              "      <th>episode</th>\n",
              "      <th>character_scene</th>\n",
              "    </tr>\n",
              "  </thead>\n",
              "  <tbody>\n",
              "    <tr>\n",
              "      <th>0</th>\n",
              "      <td>A corridor at a sperm bank.</td>\n",
              "      <td>Series 01 Episode 01 – Pilot Episode | Big Bang Theory Transcripts</td>\n",
              "      <td>Scene</td>\n",
              "    </tr>\n",
              "    <tr>\n",
              "      <th>1</th>\n",
              "      <td>So if a photon is directed through a plane with two slits in it and either slit is observed it will not go through both slits. If it’s unobserved it will, however, if it’s observed after it’s left the plane but before it hits its target, it will not have gone through both slits.</td>\n",
              "      <td>Series 01 Episode 01 – Pilot Episode | Big Bang Theory Transcripts</td>\n",
              "      <td>Sheldon</td>\n",
              "    </tr>\n",
              "    <tr>\n",
              "      <th>2</th>\n",
              "      <td>Agreed, what’s your point?</td>\n",
              "      <td>Series 01 Episode 01 – Pilot Episode | Big Bang Theory Transcripts</td>\n",
              "      <td>Leonard</td>\n",
              "    </tr>\n",
              "    <tr>\n",
              "      <th>3</th>\n",
              "      <td>There’s no point, I just think it’s a good idea for a tee-shirt.</td>\n",
              "      <td>Series 01 Episode 01 – Pilot Episode | Big Bang Theory Transcripts</td>\n",
              "      <td>Sheldon</td>\n",
              "    </tr>\n",
              "    <tr>\n",
              "      <th>4</th>\n",
              "      <td>Excuse me?</td>\n",
              "      <td>Series 01 Episode 01 – Pilot Episode | Big Bang Theory Transcripts</td>\n",
              "      <td>Leonard</td>\n",
              "    </tr>\n",
              "  </tbody>\n",
              "</table>\n",
              "</div>\n",
              "      <button class=\"colab-df-convert\" onclick=\"convertToInteractive('df-d1f24b25-e687-494a-80a6-05429be3e510')\"\n",
              "              title=\"Convert this dataframe to an interactive table.\"\n",
              "              style=\"display:none;\">\n",
              "        \n",
              "  <svg xmlns=\"http://www.w3.org/2000/svg\" height=\"24px\"viewBox=\"0 0 24 24\"\n",
              "       width=\"24px\">\n",
              "    <path d=\"M0 0h24v24H0V0z\" fill=\"none\"/>\n",
              "    <path d=\"M18.56 5.44l.94 2.06.94-2.06 2.06-.94-2.06-.94-.94-2.06-.94 2.06-2.06.94zm-11 1L8.5 8.5l.94-2.06 2.06-.94-2.06-.94L8.5 2.5l-.94 2.06-2.06.94zm10 10l.94 2.06.94-2.06 2.06-.94-2.06-.94-.94-2.06-.94 2.06-2.06.94z\"/><path d=\"M17.41 7.96l-1.37-1.37c-.4-.4-.92-.59-1.43-.59-.52 0-1.04.2-1.43.59L10.3 9.45l-7.72 7.72c-.78.78-.78 2.05 0 2.83L4 21.41c.39.39.9.59 1.41.59.51 0 1.02-.2 1.41-.59l7.78-7.78 2.81-2.81c.8-.78.8-2.07 0-2.86zM5.41 20L4 18.59l7.72-7.72 1.47 1.35L5.41 20z\"/>\n",
              "  </svg>\n",
              "      </button>\n",
              "      \n",
              "  <style>\n",
              "    .colab-df-container {\n",
              "      display:flex;\n",
              "      flex-wrap:wrap;\n",
              "      gap: 12px;\n",
              "    }\n",
              "\n",
              "    .colab-df-convert {\n",
              "      background-color: #E8F0FE;\n",
              "      border: none;\n",
              "      border-radius: 50%;\n",
              "      cursor: pointer;\n",
              "      display: none;\n",
              "      fill: #1967D2;\n",
              "      height: 32px;\n",
              "      padding: 0 0 0 0;\n",
              "      width: 32px;\n",
              "    }\n",
              "\n",
              "    .colab-df-convert:hover {\n",
              "      background-color: #E2EBFA;\n",
              "      box-shadow: 0px 1px 2px rgba(60, 64, 67, 0.3), 0px 1px 3px 1px rgba(60, 64, 67, 0.15);\n",
              "      fill: #174EA6;\n",
              "    }\n",
              "\n",
              "    [theme=dark] .colab-df-convert {\n",
              "      background-color: #3B4455;\n",
              "      fill: #D2E3FC;\n",
              "    }\n",
              "\n",
              "    [theme=dark] .colab-df-convert:hover {\n",
              "      background-color: #434B5C;\n",
              "      box-shadow: 0px 1px 3px 1px rgba(0, 0, 0, 0.15);\n",
              "      filter: drop-shadow(0px 1px 2px rgba(0, 0, 0, 0.3));\n",
              "      fill: #FFFFFF;\n",
              "    }\n",
              "  </style>\n",
              "\n",
              "      <script>\n",
              "        const buttonEl =\n",
              "          document.querySelector('#df-d1f24b25-e687-494a-80a6-05429be3e510 button.colab-df-convert');\n",
              "        buttonEl.style.display =\n",
              "          google.colab.kernel.accessAllowed ? 'block' : 'none';\n",
              "\n",
              "        async function convertToInteractive(key) {\n",
              "          const element = document.querySelector('#df-d1f24b25-e687-494a-80a6-05429be3e510');\n",
              "          const dataTable =\n",
              "            await google.colab.kernel.invokeFunction('convertToInteractive',\n",
              "                                                     [key], {});\n",
              "          if (!dataTable) return;\n",
              "\n",
              "          const docLinkHtml = 'Like what you see? Visit the ' +\n",
              "            '<a target=\"_blank\" href=https://colab.research.google.com/notebooks/data_table.ipynb>data table notebook</a>'\n",
              "            + ' to learn more about interactive tables.';\n",
              "          element.innerHTML = '';\n",
              "          dataTable['output_type'] = 'display_data';\n",
              "          await google.colab.output.renderOutput(dataTable, element);\n",
              "          const docLink = document.createElement('div');\n",
              "          docLink.innerHTML = docLinkHtml;\n",
              "          element.appendChild(docLink);\n",
              "        }\n",
              "      </script>\n",
              "    </div>\n",
              "  </div>\n",
              "  "
            ],
            "text/plain": [
              "                                                                                                                                                                                                                                                                                       line  \\\n",
              "0                                                                                                                                                                                                                                                               A corridor at a sperm bank.   \n",
              "1   So if a photon is directed through a plane with two slits in it and either slit is observed it will not go through both slits. If it’s unobserved it will, however, if it’s observed after it’s left the plane but before it hits its target, it will not have gone through both slits.   \n",
              "2                                                                                                                                                                                                                                                                Agreed, what’s your point?   \n",
              "3                                                                                                                                                                                                                         There’s no point, I just think it’s a good idea for a tee-shirt.    \n",
              "4                                                                                                                                                                                                                                                                                Excuse me?   \n",
              "\n",
              "                                                              episode  \\\n",
              "0  Series 01 Episode 01 – Pilot Episode | Big Bang Theory Transcripts   \n",
              "1  Series 01 Episode 01 – Pilot Episode | Big Bang Theory Transcripts   \n",
              "2  Series 01 Episode 01 – Pilot Episode | Big Bang Theory Transcripts   \n",
              "3  Series 01 Episode 01 – Pilot Episode | Big Bang Theory Transcripts   \n",
              "4  Series 01 Episode 01 – Pilot Episode | Big Bang Theory Transcripts   \n",
              "\n",
              "  character_scene  \n",
              "0           Scene  \n",
              "1         Sheldon  \n",
              "2         Leonard  \n",
              "3         Sheldon  \n",
              "4         Leonard  "
            ]
          },
          "metadata": {},
          "execution_count": 415
        }
      ]
    },
    {
      "cell_type": "markdown",
      "source": [
        "### 1.3 Custom functions"
      ],
      "metadata": {
        "id": "u_0gTK41ew72"
      }
    },
    {
      "cell_type": "code",
      "source": [
        "#function to use regex to clean text\n",
        "def string_splitter(row, x): \n",
        "  s = row['episode']\n",
        "  try: \n",
        "    return s.split()[x]\n",
        "  except ValueError:\n",
        "    return \"\" \n",
        "\n",
        "#raw['season'] = raw.apply(string_splitter, axis=1, x=1).astype('int')"
      ],
      "metadata": {
        "id": "vDVLzUECfQCv"
      },
      "execution_count": 416,
      "outputs": []
    },
    {
      "cell_type": "code",
      "source": [
        "#function to use regex to clean text\n",
        "def find_between(row, first, last):\n",
        "  s = row['episode']\n",
        "  try: \n",
        "    start = s.index( first ) + len( first )\n",
        "    end = s.index( last, start )\n",
        "    return s[start:end]\n",
        "  except ValueError:\n",
        "    return \"\"  "
      ],
      "metadata": {
        "id": "1CV-YSJoqknO"
      },
      "execution_count": 417,
      "outputs": []
    },
    {
      "cell_type": "markdown",
      "source": [
        "# 2. Cleaning"
      ],
      "metadata": {
        "id": "9uqebeAZjh2p"
      }
    },
    {
      "cell_type": "markdown",
      "source": [
        "#### Season"
      ],
      "metadata": {
        "id": "_fohU2nGjur4"
      }
    },
    {
      "cell_type": "code",
      "source": [
        "raw['season'] = raw['episode'].str.split(\" \").str[1].astype('int').astype('str')\n",
        "raw.head()"
      ],
      "metadata": {
        "colab": {
          "base_uri": "https://localhost:8080/",
          "height": 336
        },
        "id": "X8ar_QgtoehL",
        "outputId": "21b4f31f-6847-4f2e-ad6b-1675c29a5b47"
      },
      "execution_count": 418,
      "outputs": [
        {
          "output_type": "execute_result",
          "data": {
            "text/html": [
              "\n",
              "  <div id=\"df-5c0abfbd-95af-400f-87bb-8cb6aa9928e3\">\n",
              "    <div class=\"colab-df-container\">\n",
              "      <div>\n",
              "<style scoped>\n",
              "    .dataframe tbody tr th:only-of-type {\n",
              "        vertical-align: middle;\n",
              "    }\n",
              "\n",
              "    .dataframe tbody tr th {\n",
              "        vertical-align: top;\n",
              "    }\n",
              "\n",
              "    .dataframe thead th {\n",
              "        text-align: right;\n",
              "    }\n",
              "</style>\n",
              "<table border=\"1\" class=\"dataframe\">\n",
              "  <thead>\n",
              "    <tr style=\"text-align: right;\">\n",
              "      <th></th>\n",
              "      <th>line</th>\n",
              "      <th>episode</th>\n",
              "      <th>character_scene</th>\n",
              "      <th>season</th>\n",
              "    </tr>\n",
              "  </thead>\n",
              "  <tbody>\n",
              "    <tr>\n",
              "      <th>0</th>\n",
              "      <td>A corridor at a sperm bank.</td>\n",
              "      <td>Series 01 Episode 01 – Pilot Episode | Big Bang Theory Transcripts</td>\n",
              "      <td>Scene</td>\n",
              "      <td>1</td>\n",
              "    </tr>\n",
              "    <tr>\n",
              "      <th>1</th>\n",
              "      <td>So if a photon is directed through a plane with two slits in it and either slit is observed it will not go through both slits. If it’s unobserved it will, however, if it’s observed after it’s left the plane but before it hits its target, it will not have gone through both slits.</td>\n",
              "      <td>Series 01 Episode 01 – Pilot Episode | Big Bang Theory Transcripts</td>\n",
              "      <td>Sheldon</td>\n",
              "      <td>1</td>\n",
              "    </tr>\n",
              "    <tr>\n",
              "      <th>2</th>\n",
              "      <td>Agreed, what’s your point?</td>\n",
              "      <td>Series 01 Episode 01 – Pilot Episode | Big Bang Theory Transcripts</td>\n",
              "      <td>Leonard</td>\n",
              "      <td>1</td>\n",
              "    </tr>\n",
              "    <tr>\n",
              "      <th>3</th>\n",
              "      <td>There’s no point, I just think it’s a good idea for a tee-shirt.</td>\n",
              "      <td>Series 01 Episode 01 – Pilot Episode | Big Bang Theory Transcripts</td>\n",
              "      <td>Sheldon</td>\n",
              "      <td>1</td>\n",
              "    </tr>\n",
              "    <tr>\n",
              "      <th>4</th>\n",
              "      <td>Excuse me?</td>\n",
              "      <td>Series 01 Episode 01 – Pilot Episode | Big Bang Theory Transcripts</td>\n",
              "      <td>Leonard</td>\n",
              "      <td>1</td>\n",
              "    </tr>\n",
              "  </tbody>\n",
              "</table>\n",
              "</div>\n",
              "      <button class=\"colab-df-convert\" onclick=\"convertToInteractive('df-5c0abfbd-95af-400f-87bb-8cb6aa9928e3')\"\n",
              "              title=\"Convert this dataframe to an interactive table.\"\n",
              "              style=\"display:none;\">\n",
              "        \n",
              "  <svg xmlns=\"http://www.w3.org/2000/svg\" height=\"24px\"viewBox=\"0 0 24 24\"\n",
              "       width=\"24px\">\n",
              "    <path d=\"M0 0h24v24H0V0z\" fill=\"none\"/>\n",
              "    <path d=\"M18.56 5.44l.94 2.06.94-2.06 2.06-.94-2.06-.94-.94-2.06-.94 2.06-2.06.94zm-11 1L8.5 8.5l.94-2.06 2.06-.94-2.06-.94L8.5 2.5l-.94 2.06-2.06.94zm10 10l.94 2.06.94-2.06 2.06-.94-2.06-.94-.94-2.06-.94 2.06-2.06.94z\"/><path d=\"M17.41 7.96l-1.37-1.37c-.4-.4-.92-.59-1.43-.59-.52 0-1.04.2-1.43.59L10.3 9.45l-7.72 7.72c-.78.78-.78 2.05 0 2.83L4 21.41c.39.39.9.59 1.41.59.51 0 1.02-.2 1.41-.59l7.78-7.78 2.81-2.81c.8-.78.8-2.07 0-2.86zM5.41 20L4 18.59l7.72-7.72 1.47 1.35L5.41 20z\"/>\n",
              "  </svg>\n",
              "      </button>\n",
              "      \n",
              "  <style>\n",
              "    .colab-df-container {\n",
              "      display:flex;\n",
              "      flex-wrap:wrap;\n",
              "      gap: 12px;\n",
              "    }\n",
              "\n",
              "    .colab-df-convert {\n",
              "      background-color: #E8F0FE;\n",
              "      border: none;\n",
              "      border-radius: 50%;\n",
              "      cursor: pointer;\n",
              "      display: none;\n",
              "      fill: #1967D2;\n",
              "      height: 32px;\n",
              "      padding: 0 0 0 0;\n",
              "      width: 32px;\n",
              "    }\n",
              "\n",
              "    .colab-df-convert:hover {\n",
              "      background-color: #E2EBFA;\n",
              "      box-shadow: 0px 1px 2px rgba(60, 64, 67, 0.3), 0px 1px 3px 1px rgba(60, 64, 67, 0.15);\n",
              "      fill: #174EA6;\n",
              "    }\n",
              "\n",
              "    [theme=dark] .colab-df-convert {\n",
              "      background-color: #3B4455;\n",
              "      fill: #D2E3FC;\n",
              "    }\n",
              "\n",
              "    [theme=dark] .colab-df-convert:hover {\n",
              "      background-color: #434B5C;\n",
              "      box-shadow: 0px 1px 3px 1px rgba(0, 0, 0, 0.15);\n",
              "      filter: drop-shadow(0px 1px 2px rgba(0, 0, 0, 0.3));\n",
              "      fill: #FFFFFF;\n",
              "    }\n",
              "  </style>\n",
              "\n",
              "      <script>\n",
              "        const buttonEl =\n",
              "          document.querySelector('#df-5c0abfbd-95af-400f-87bb-8cb6aa9928e3 button.colab-df-convert');\n",
              "        buttonEl.style.display =\n",
              "          google.colab.kernel.accessAllowed ? 'block' : 'none';\n",
              "\n",
              "        async function convertToInteractive(key) {\n",
              "          const element = document.querySelector('#df-5c0abfbd-95af-400f-87bb-8cb6aa9928e3');\n",
              "          const dataTable =\n",
              "            await google.colab.kernel.invokeFunction('convertToInteractive',\n",
              "                                                     [key], {});\n",
              "          if (!dataTable) return;\n",
              "\n",
              "          const docLinkHtml = 'Like what you see? Visit the ' +\n",
              "            '<a target=\"_blank\" href=https://colab.research.google.com/notebooks/data_table.ipynb>data table notebook</a>'\n",
              "            + ' to learn more about interactive tables.';\n",
              "          element.innerHTML = '';\n",
              "          dataTable['output_type'] = 'display_data';\n",
              "          await google.colab.output.renderOutput(dataTable, element);\n",
              "          const docLink = document.createElement('div');\n",
              "          docLink.innerHTML = docLinkHtml;\n",
              "          element.appendChild(docLink);\n",
              "        }\n",
              "      </script>\n",
              "    </div>\n",
              "  </div>\n",
              "  "
            ],
            "text/plain": [
              "                                                                                                                                                                                                                                                                                       line  \\\n",
              "0                                                                                                                                                                                                                                                               A corridor at a sperm bank.   \n",
              "1   So if a photon is directed through a plane with two slits in it and either slit is observed it will not go through both slits. If it’s unobserved it will, however, if it’s observed after it’s left the plane but before it hits its target, it will not have gone through both slits.   \n",
              "2                                                                                                                                                                                                                                                                Agreed, what’s your point?   \n",
              "3                                                                                                                                                                                                                         There’s no point, I just think it’s a good idea for a tee-shirt.    \n",
              "4                                                                                                                                                                                                                                                                                Excuse me?   \n",
              "\n",
              "                                                              episode  \\\n",
              "0  Series 01 Episode 01 – Pilot Episode | Big Bang Theory Transcripts   \n",
              "1  Series 01 Episode 01 – Pilot Episode | Big Bang Theory Transcripts   \n",
              "2  Series 01 Episode 01 – Pilot Episode | Big Bang Theory Transcripts   \n",
              "3  Series 01 Episode 01 – Pilot Episode | Big Bang Theory Transcripts   \n",
              "4  Series 01 Episode 01 – Pilot Episode | Big Bang Theory Transcripts   \n",
              "\n",
              "  character_scene season  \n",
              "0           Scene      1  \n",
              "1         Sheldon      1  \n",
              "2         Leonard      1  \n",
              "3         Sheldon      1  \n",
              "4         Leonard      1  "
            ]
          },
          "metadata": {},
          "execution_count": 418
        }
      ]
    },
    {
      "cell_type": "markdown",
      "source": [
        "#### Episode"
      ],
      "metadata": {
        "id": "2JIc1b1djyK9"
      }
    },
    {
      "cell_type": "code",
      "source": [
        "raw['episode_number'] = raw['episode'].str.split(\" \").str[3].astype('int').astype('str')\n",
        "raw.head()"
      ],
      "metadata": {
        "colab": {
          "base_uri": "https://localhost:8080/",
          "height": 336
        },
        "id": "_Ap8-xMYkNxA",
        "outputId": "381085fa-b0f1-4f62-cf26-4ff1c1b51cc2"
      },
      "execution_count": 419,
      "outputs": [
        {
          "output_type": "execute_result",
          "data": {
            "text/html": [
              "\n",
              "  <div id=\"df-460c8da0-9a5c-4fe8-a0d6-aaba1c1bbc2a\">\n",
              "    <div class=\"colab-df-container\">\n",
              "      <div>\n",
              "<style scoped>\n",
              "    .dataframe tbody tr th:only-of-type {\n",
              "        vertical-align: middle;\n",
              "    }\n",
              "\n",
              "    .dataframe tbody tr th {\n",
              "        vertical-align: top;\n",
              "    }\n",
              "\n",
              "    .dataframe thead th {\n",
              "        text-align: right;\n",
              "    }\n",
              "</style>\n",
              "<table border=\"1\" class=\"dataframe\">\n",
              "  <thead>\n",
              "    <tr style=\"text-align: right;\">\n",
              "      <th></th>\n",
              "      <th>line</th>\n",
              "      <th>episode</th>\n",
              "      <th>character_scene</th>\n",
              "      <th>season</th>\n",
              "      <th>episode_number</th>\n",
              "    </tr>\n",
              "  </thead>\n",
              "  <tbody>\n",
              "    <tr>\n",
              "      <th>0</th>\n",
              "      <td>A corridor at a sperm bank.</td>\n",
              "      <td>Series 01 Episode 01 – Pilot Episode | Big Bang Theory Transcripts</td>\n",
              "      <td>Scene</td>\n",
              "      <td>1</td>\n",
              "      <td>1</td>\n",
              "    </tr>\n",
              "    <tr>\n",
              "      <th>1</th>\n",
              "      <td>So if a photon is directed through a plane with two slits in it and either slit is observed it will not go through both slits. If it’s unobserved it will, however, if it’s observed after it’s left the plane but before it hits its target, it will not have gone through both slits.</td>\n",
              "      <td>Series 01 Episode 01 – Pilot Episode | Big Bang Theory Transcripts</td>\n",
              "      <td>Sheldon</td>\n",
              "      <td>1</td>\n",
              "      <td>1</td>\n",
              "    </tr>\n",
              "    <tr>\n",
              "      <th>2</th>\n",
              "      <td>Agreed, what’s your point?</td>\n",
              "      <td>Series 01 Episode 01 – Pilot Episode | Big Bang Theory Transcripts</td>\n",
              "      <td>Leonard</td>\n",
              "      <td>1</td>\n",
              "      <td>1</td>\n",
              "    </tr>\n",
              "    <tr>\n",
              "      <th>3</th>\n",
              "      <td>There’s no point, I just think it’s a good idea for a tee-shirt.</td>\n",
              "      <td>Series 01 Episode 01 – Pilot Episode | Big Bang Theory Transcripts</td>\n",
              "      <td>Sheldon</td>\n",
              "      <td>1</td>\n",
              "      <td>1</td>\n",
              "    </tr>\n",
              "    <tr>\n",
              "      <th>4</th>\n",
              "      <td>Excuse me?</td>\n",
              "      <td>Series 01 Episode 01 – Pilot Episode | Big Bang Theory Transcripts</td>\n",
              "      <td>Leonard</td>\n",
              "      <td>1</td>\n",
              "      <td>1</td>\n",
              "    </tr>\n",
              "  </tbody>\n",
              "</table>\n",
              "</div>\n",
              "      <button class=\"colab-df-convert\" onclick=\"convertToInteractive('df-460c8da0-9a5c-4fe8-a0d6-aaba1c1bbc2a')\"\n",
              "              title=\"Convert this dataframe to an interactive table.\"\n",
              "              style=\"display:none;\">\n",
              "        \n",
              "  <svg xmlns=\"http://www.w3.org/2000/svg\" height=\"24px\"viewBox=\"0 0 24 24\"\n",
              "       width=\"24px\">\n",
              "    <path d=\"M0 0h24v24H0V0z\" fill=\"none\"/>\n",
              "    <path d=\"M18.56 5.44l.94 2.06.94-2.06 2.06-.94-2.06-.94-.94-2.06-.94 2.06-2.06.94zm-11 1L8.5 8.5l.94-2.06 2.06-.94-2.06-.94L8.5 2.5l-.94 2.06-2.06.94zm10 10l.94 2.06.94-2.06 2.06-.94-2.06-.94-.94-2.06-.94 2.06-2.06.94z\"/><path d=\"M17.41 7.96l-1.37-1.37c-.4-.4-.92-.59-1.43-.59-.52 0-1.04.2-1.43.59L10.3 9.45l-7.72 7.72c-.78.78-.78 2.05 0 2.83L4 21.41c.39.39.9.59 1.41.59.51 0 1.02-.2 1.41-.59l7.78-7.78 2.81-2.81c.8-.78.8-2.07 0-2.86zM5.41 20L4 18.59l7.72-7.72 1.47 1.35L5.41 20z\"/>\n",
              "  </svg>\n",
              "      </button>\n",
              "      \n",
              "  <style>\n",
              "    .colab-df-container {\n",
              "      display:flex;\n",
              "      flex-wrap:wrap;\n",
              "      gap: 12px;\n",
              "    }\n",
              "\n",
              "    .colab-df-convert {\n",
              "      background-color: #E8F0FE;\n",
              "      border: none;\n",
              "      border-radius: 50%;\n",
              "      cursor: pointer;\n",
              "      display: none;\n",
              "      fill: #1967D2;\n",
              "      height: 32px;\n",
              "      padding: 0 0 0 0;\n",
              "      width: 32px;\n",
              "    }\n",
              "\n",
              "    .colab-df-convert:hover {\n",
              "      background-color: #E2EBFA;\n",
              "      box-shadow: 0px 1px 2px rgba(60, 64, 67, 0.3), 0px 1px 3px 1px rgba(60, 64, 67, 0.15);\n",
              "      fill: #174EA6;\n",
              "    }\n",
              "\n",
              "    [theme=dark] .colab-df-convert {\n",
              "      background-color: #3B4455;\n",
              "      fill: #D2E3FC;\n",
              "    }\n",
              "\n",
              "    [theme=dark] .colab-df-convert:hover {\n",
              "      background-color: #434B5C;\n",
              "      box-shadow: 0px 1px 3px 1px rgba(0, 0, 0, 0.15);\n",
              "      filter: drop-shadow(0px 1px 2px rgba(0, 0, 0, 0.3));\n",
              "      fill: #FFFFFF;\n",
              "    }\n",
              "  </style>\n",
              "\n",
              "      <script>\n",
              "        const buttonEl =\n",
              "          document.querySelector('#df-460c8da0-9a5c-4fe8-a0d6-aaba1c1bbc2a button.colab-df-convert');\n",
              "        buttonEl.style.display =\n",
              "          google.colab.kernel.accessAllowed ? 'block' : 'none';\n",
              "\n",
              "        async function convertToInteractive(key) {\n",
              "          const element = document.querySelector('#df-460c8da0-9a5c-4fe8-a0d6-aaba1c1bbc2a');\n",
              "          const dataTable =\n",
              "            await google.colab.kernel.invokeFunction('convertToInteractive',\n",
              "                                                     [key], {});\n",
              "          if (!dataTable) return;\n",
              "\n",
              "          const docLinkHtml = 'Like what you see? Visit the ' +\n",
              "            '<a target=\"_blank\" href=https://colab.research.google.com/notebooks/data_table.ipynb>data table notebook</a>'\n",
              "            + ' to learn more about interactive tables.';\n",
              "          element.innerHTML = '';\n",
              "          dataTable['output_type'] = 'display_data';\n",
              "          await google.colab.output.renderOutput(dataTable, element);\n",
              "          const docLink = document.createElement('div');\n",
              "          docLink.innerHTML = docLinkHtml;\n",
              "          element.appendChild(docLink);\n",
              "        }\n",
              "      </script>\n",
              "    </div>\n",
              "  </div>\n",
              "  "
            ],
            "text/plain": [
              "                                                                                                                                                                                                                                                                                       line  \\\n",
              "0                                                                                                                                                                                                                                                               A corridor at a sperm bank.   \n",
              "1   So if a photon is directed through a plane with two slits in it and either slit is observed it will not go through both slits. If it’s unobserved it will, however, if it’s observed after it’s left the plane but before it hits its target, it will not have gone through both slits.   \n",
              "2                                                                                                                                                                                                                                                                Agreed, what’s your point?   \n",
              "3                                                                                                                                                                                                                         There’s no point, I just think it’s a good idea for a tee-shirt.    \n",
              "4                                                                                                                                                                                                                                                                                Excuse me?   \n",
              "\n",
              "                                                              episode  \\\n",
              "0  Series 01 Episode 01 – Pilot Episode | Big Bang Theory Transcripts   \n",
              "1  Series 01 Episode 01 – Pilot Episode | Big Bang Theory Transcripts   \n",
              "2  Series 01 Episode 01 – Pilot Episode | Big Bang Theory Transcripts   \n",
              "3  Series 01 Episode 01 – Pilot Episode | Big Bang Theory Transcripts   \n",
              "4  Series 01 Episode 01 – Pilot Episode | Big Bang Theory Transcripts   \n",
              "\n",
              "  character_scene season episode_number  \n",
              "0           Scene      1              1  \n",
              "1         Sheldon      1              1  \n",
              "2         Leonard      1              1  \n",
              "3         Sheldon      1              1  \n",
              "4         Leonard      1              1  "
            ]
          },
          "metadata": {},
          "execution_count": 419
        }
      ]
    },
    {
      "cell_type": "markdown",
      "source": [
        "### Episode name"
      ],
      "metadata": {
        "id": "hTet3aAeqXvE"
      }
    },
    {
      "cell_type": "code",
      "source": [
        "raw['episode_name'] = raw.apply(find_between, axis=1, first = \" – \", last = '|')\n",
        "raw = raw.drop('episode', axis=1)\n",
        "raw.head()"
      ],
      "metadata": {
        "colab": {
          "base_uri": "https://localhost:8080/",
          "height": 267
        },
        "id": "6Dd4mpVYqtu-",
        "outputId": "eec1a4ac-2d5e-4ab8-cfbd-d3dbabddee58"
      },
      "execution_count": 420,
      "outputs": [
        {
          "output_type": "execute_result",
          "data": {
            "text/html": [
              "\n",
              "  <div id=\"df-ee52d038-8cd5-47df-8ad7-23d6dc09bcfc\">\n",
              "    <div class=\"colab-df-container\">\n",
              "      <div>\n",
              "<style scoped>\n",
              "    .dataframe tbody tr th:only-of-type {\n",
              "        vertical-align: middle;\n",
              "    }\n",
              "\n",
              "    .dataframe tbody tr th {\n",
              "        vertical-align: top;\n",
              "    }\n",
              "\n",
              "    .dataframe thead th {\n",
              "        text-align: right;\n",
              "    }\n",
              "</style>\n",
              "<table border=\"1\" class=\"dataframe\">\n",
              "  <thead>\n",
              "    <tr style=\"text-align: right;\">\n",
              "      <th></th>\n",
              "      <th>line</th>\n",
              "      <th>character_scene</th>\n",
              "      <th>season</th>\n",
              "      <th>episode_number</th>\n",
              "      <th>episode_name</th>\n",
              "    </tr>\n",
              "  </thead>\n",
              "  <tbody>\n",
              "    <tr>\n",
              "      <th>0</th>\n",
              "      <td>A corridor at a sperm bank.</td>\n",
              "      <td>Scene</td>\n",
              "      <td>1</td>\n",
              "      <td>1</td>\n",
              "      <td>Pilot Episode</td>\n",
              "    </tr>\n",
              "    <tr>\n",
              "      <th>1</th>\n",
              "      <td>So if a photon is directed through a plane with two slits in it and either slit is observed it will not go through both slits. If it’s unobserved it will, however, if it’s observed after it’s left the plane but before it hits its target, it will not have gone through both slits.</td>\n",
              "      <td>Sheldon</td>\n",
              "      <td>1</td>\n",
              "      <td>1</td>\n",
              "      <td>Pilot Episode</td>\n",
              "    </tr>\n",
              "    <tr>\n",
              "      <th>2</th>\n",
              "      <td>Agreed, what’s your point?</td>\n",
              "      <td>Leonard</td>\n",
              "      <td>1</td>\n",
              "      <td>1</td>\n",
              "      <td>Pilot Episode</td>\n",
              "    </tr>\n",
              "    <tr>\n",
              "      <th>3</th>\n",
              "      <td>There’s no point, I just think it’s a good idea for a tee-shirt.</td>\n",
              "      <td>Sheldon</td>\n",
              "      <td>1</td>\n",
              "      <td>1</td>\n",
              "      <td>Pilot Episode</td>\n",
              "    </tr>\n",
              "    <tr>\n",
              "      <th>4</th>\n",
              "      <td>Excuse me?</td>\n",
              "      <td>Leonard</td>\n",
              "      <td>1</td>\n",
              "      <td>1</td>\n",
              "      <td>Pilot Episode</td>\n",
              "    </tr>\n",
              "  </tbody>\n",
              "</table>\n",
              "</div>\n",
              "      <button class=\"colab-df-convert\" onclick=\"convertToInteractive('df-ee52d038-8cd5-47df-8ad7-23d6dc09bcfc')\"\n",
              "              title=\"Convert this dataframe to an interactive table.\"\n",
              "              style=\"display:none;\">\n",
              "        \n",
              "  <svg xmlns=\"http://www.w3.org/2000/svg\" height=\"24px\"viewBox=\"0 0 24 24\"\n",
              "       width=\"24px\">\n",
              "    <path d=\"M0 0h24v24H0V0z\" fill=\"none\"/>\n",
              "    <path d=\"M18.56 5.44l.94 2.06.94-2.06 2.06-.94-2.06-.94-.94-2.06-.94 2.06-2.06.94zm-11 1L8.5 8.5l.94-2.06 2.06-.94-2.06-.94L8.5 2.5l-.94 2.06-2.06.94zm10 10l.94 2.06.94-2.06 2.06-.94-2.06-.94-.94-2.06-.94 2.06-2.06.94z\"/><path d=\"M17.41 7.96l-1.37-1.37c-.4-.4-.92-.59-1.43-.59-.52 0-1.04.2-1.43.59L10.3 9.45l-7.72 7.72c-.78.78-.78 2.05 0 2.83L4 21.41c.39.39.9.59 1.41.59.51 0 1.02-.2 1.41-.59l7.78-7.78 2.81-2.81c.8-.78.8-2.07 0-2.86zM5.41 20L4 18.59l7.72-7.72 1.47 1.35L5.41 20z\"/>\n",
              "  </svg>\n",
              "      </button>\n",
              "      \n",
              "  <style>\n",
              "    .colab-df-container {\n",
              "      display:flex;\n",
              "      flex-wrap:wrap;\n",
              "      gap: 12px;\n",
              "    }\n",
              "\n",
              "    .colab-df-convert {\n",
              "      background-color: #E8F0FE;\n",
              "      border: none;\n",
              "      border-radius: 50%;\n",
              "      cursor: pointer;\n",
              "      display: none;\n",
              "      fill: #1967D2;\n",
              "      height: 32px;\n",
              "      padding: 0 0 0 0;\n",
              "      width: 32px;\n",
              "    }\n",
              "\n",
              "    .colab-df-convert:hover {\n",
              "      background-color: #E2EBFA;\n",
              "      box-shadow: 0px 1px 2px rgba(60, 64, 67, 0.3), 0px 1px 3px 1px rgba(60, 64, 67, 0.15);\n",
              "      fill: #174EA6;\n",
              "    }\n",
              "\n",
              "    [theme=dark] .colab-df-convert {\n",
              "      background-color: #3B4455;\n",
              "      fill: #D2E3FC;\n",
              "    }\n",
              "\n",
              "    [theme=dark] .colab-df-convert:hover {\n",
              "      background-color: #434B5C;\n",
              "      box-shadow: 0px 1px 3px 1px rgba(0, 0, 0, 0.15);\n",
              "      filter: drop-shadow(0px 1px 2px rgba(0, 0, 0, 0.3));\n",
              "      fill: #FFFFFF;\n",
              "    }\n",
              "  </style>\n",
              "\n",
              "      <script>\n",
              "        const buttonEl =\n",
              "          document.querySelector('#df-ee52d038-8cd5-47df-8ad7-23d6dc09bcfc button.colab-df-convert');\n",
              "        buttonEl.style.display =\n",
              "          google.colab.kernel.accessAllowed ? 'block' : 'none';\n",
              "\n",
              "        async function convertToInteractive(key) {\n",
              "          const element = document.querySelector('#df-ee52d038-8cd5-47df-8ad7-23d6dc09bcfc');\n",
              "          const dataTable =\n",
              "            await google.colab.kernel.invokeFunction('convertToInteractive',\n",
              "                                                     [key], {});\n",
              "          if (!dataTable) return;\n",
              "\n",
              "          const docLinkHtml = 'Like what you see? Visit the ' +\n",
              "            '<a target=\"_blank\" href=https://colab.research.google.com/notebooks/data_table.ipynb>data table notebook</a>'\n",
              "            + ' to learn more about interactive tables.';\n",
              "          element.innerHTML = '';\n",
              "          dataTable['output_type'] = 'display_data';\n",
              "          await google.colab.output.renderOutput(dataTable, element);\n",
              "          const docLink = document.createElement('div');\n",
              "          docLink.innerHTML = docLinkHtml;\n",
              "          element.appendChild(docLink);\n",
              "        }\n",
              "      </script>\n",
              "    </div>\n",
              "  </div>\n",
              "  "
            ],
            "text/plain": [
              "                                                                                                                                                                                                                                                                                       line  \\\n",
              "0                                                                                                                                                                                                                                                               A corridor at a sperm bank.   \n",
              "1   So if a photon is directed through a plane with two slits in it and either slit is observed it will not go through both slits. If it’s unobserved it will, however, if it’s observed after it’s left the plane but before it hits its target, it will not have gone through both slits.   \n",
              "2                                                                                                                                                                                                                                                                Agreed, what’s your point?   \n",
              "3                                                                                                                                                                                                                         There’s no point, I just think it’s a good idea for a tee-shirt.    \n",
              "4                                                                                                                                                                                                                                                                                Excuse me?   \n",
              "\n",
              "  character_scene season episode_number    episode_name  \n",
              "0           Scene      1              1  Pilot Episode   \n",
              "1         Sheldon      1              1  Pilot Episode   \n",
              "2         Leonard      1              1  Pilot Episode   \n",
              "3         Sheldon      1              1  Pilot Episode   \n",
              "4         Leonard      1              1  Pilot Episode   "
            ]
          },
          "metadata": {},
          "execution_count": 420
        }
      ]
    },
    {
      "cell_type": "markdown",
      "source": [
        "### ID"
      ],
      "metadata": {
        "id": "exCP2q2nsh5V"
      }
    },
    {
      "cell_type": "code",
      "source": [
        "raw['episode_id'] = raw['season'] +\"-\"+ raw['episode_number']\n",
        "raw.head()"
      ],
      "metadata": {
        "colab": {
          "base_uri": "https://localhost:8080/",
          "height": 267
        },
        "id": "HfEc3zaqe4mg",
        "outputId": "def96caa-6d29-4597-eaca-b0ec04be026e"
      },
      "execution_count": 421,
      "outputs": [
        {
          "output_type": "execute_result",
          "data": {
            "text/html": [
              "\n",
              "  <div id=\"df-761439a5-ca7f-4ce6-aeb5-77c288f868e0\">\n",
              "    <div class=\"colab-df-container\">\n",
              "      <div>\n",
              "<style scoped>\n",
              "    .dataframe tbody tr th:only-of-type {\n",
              "        vertical-align: middle;\n",
              "    }\n",
              "\n",
              "    .dataframe tbody tr th {\n",
              "        vertical-align: top;\n",
              "    }\n",
              "\n",
              "    .dataframe thead th {\n",
              "        text-align: right;\n",
              "    }\n",
              "</style>\n",
              "<table border=\"1\" class=\"dataframe\">\n",
              "  <thead>\n",
              "    <tr style=\"text-align: right;\">\n",
              "      <th></th>\n",
              "      <th>line</th>\n",
              "      <th>character_scene</th>\n",
              "      <th>season</th>\n",
              "      <th>episode_number</th>\n",
              "      <th>episode_name</th>\n",
              "      <th>episode_id</th>\n",
              "    </tr>\n",
              "  </thead>\n",
              "  <tbody>\n",
              "    <tr>\n",
              "      <th>0</th>\n",
              "      <td>A corridor at a sperm bank.</td>\n",
              "      <td>Scene</td>\n",
              "      <td>1</td>\n",
              "      <td>1</td>\n",
              "      <td>Pilot Episode</td>\n",
              "      <td>1-1</td>\n",
              "    </tr>\n",
              "    <tr>\n",
              "      <th>1</th>\n",
              "      <td>So if a photon is directed through a plane with two slits in it and either slit is observed it will not go through both slits. If it’s unobserved it will, however, if it’s observed after it’s left the plane but before it hits its target, it will not have gone through both slits.</td>\n",
              "      <td>Sheldon</td>\n",
              "      <td>1</td>\n",
              "      <td>1</td>\n",
              "      <td>Pilot Episode</td>\n",
              "      <td>1-1</td>\n",
              "    </tr>\n",
              "    <tr>\n",
              "      <th>2</th>\n",
              "      <td>Agreed, what’s your point?</td>\n",
              "      <td>Leonard</td>\n",
              "      <td>1</td>\n",
              "      <td>1</td>\n",
              "      <td>Pilot Episode</td>\n",
              "      <td>1-1</td>\n",
              "    </tr>\n",
              "    <tr>\n",
              "      <th>3</th>\n",
              "      <td>There’s no point, I just think it’s a good idea for a tee-shirt.</td>\n",
              "      <td>Sheldon</td>\n",
              "      <td>1</td>\n",
              "      <td>1</td>\n",
              "      <td>Pilot Episode</td>\n",
              "      <td>1-1</td>\n",
              "    </tr>\n",
              "    <tr>\n",
              "      <th>4</th>\n",
              "      <td>Excuse me?</td>\n",
              "      <td>Leonard</td>\n",
              "      <td>1</td>\n",
              "      <td>1</td>\n",
              "      <td>Pilot Episode</td>\n",
              "      <td>1-1</td>\n",
              "    </tr>\n",
              "  </tbody>\n",
              "</table>\n",
              "</div>\n",
              "      <button class=\"colab-df-convert\" onclick=\"convertToInteractive('df-761439a5-ca7f-4ce6-aeb5-77c288f868e0')\"\n",
              "              title=\"Convert this dataframe to an interactive table.\"\n",
              "              style=\"display:none;\">\n",
              "        \n",
              "  <svg xmlns=\"http://www.w3.org/2000/svg\" height=\"24px\"viewBox=\"0 0 24 24\"\n",
              "       width=\"24px\">\n",
              "    <path d=\"M0 0h24v24H0V0z\" fill=\"none\"/>\n",
              "    <path d=\"M18.56 5.44l.94 2.06.94-2.06 2.06-.94-2.06-.94-.94-2.06-.94 2.06-2.06.94zm-11 1L8.5 8.5l.94-2.06 2.06-.94-2.06-.94L8.5 2.5l-.94 2.06-2.06.94zm10 10l.94 2.06.94-2.06 2.06-.94-2.06-.94-.94-2.06-.94 2.06-2.06.94z\"/><path d=\"M17.41 7.96l-1.37-1.37c-.4-.4-.92-.59-1.43-.59-.52 0-1.04.2-1.43.59L10.3 9.45l-7.72 7.72c-.78.78-.78 2.05 0 2.83L4 21.41c.39.39.9.59 1.41.59.51 0 1.02-.2 1.41-.59l7.78-7.78 2.81-2.81c.8-.78.8-2.07 0-2.86zM5.41 20L4 18.59l7.72-7.72 1.47 1.35L5.41 20z\"/>\n",
              "  </svg>\n",
              "      </button>\n",
              "      \n",
              "  <style>\n",
              "    .colab-df-container {\n",
              "      display:flex;\n",
              "      flex-wrap:wrap;\n",
              "      gap: 12px;\n",
              "    }\n",
              "\n",
              "    .colab-df-convert {\n",
              "      background-color: #E8F0FE;\n",
              "      border: none;\n",
              "      border-radius: 50%;\n",
              "      cursor: pointer;\n",
              "      display: none;\n",
              "      fill: #1967D2;\n",
              "      height: 32px;\n",
              "      padding: 0 0 0 0;\n",
              "      width: 32px;\n",
              "    }\n",
              "\n",
              "    .colab-df-convert:hover {\n",
              "      background-color: #E2EBFA;\n",
              "      box-shadow: 0px 1px 2px rgba(60, 64, 67, 0.3), 0px 1px 3px 1px rgba(60, 64, 67, 0.15);\n",
              "      fill: #174EA6;\n",
              "    }\n",
              "\n",
              "    [theme=dark] .colab-df-convert {\n",
              "      background-color: #3B4455;\n",
              "      fill: #D2E3FC;\n",
              "    }\n",
              "\n",
              "    [theme=dark] .colab-df-convert:hover {\n",
              "      background-color: #434B5C;\n",
              "      box-shadow: 0px 1px 3px 1px rgba(0, 0, 0, 0.15);\n",
              "      filter: drop-shadow(0px 1px 2px rgba(0, 0, 0, 0.3));\n",
              "      fill: #FFFFFF;\n",
              "    }\n",
              "  </style>\n",
              "\n",
              "      <script>\n",
              "        const buttonEl =\n",
              "          document.querySelector('#df-761439a5-ca7f-4ce6-aeb5-77c288f868e0 button.colab-df-convert');\n",
              "        buttonEl.style.display =\n",
              "          google.colab.kernel.accessAllowed ? 'block' : 'none';\n",
              "\n",
              "        async function convertToInteractive(key) {\n",
              "          const element = document.querySelector('#df-761439a5-ca7f-4ce6-aeb5-77c288f868e0');\n",
              "          const dataTable =\n",
              "            await google.colab.kernel.invokeFunction('convertToInteractive',\n",
              "                                                     [key], {});\n",
              "          if (!dataTable) return;\n",
              "\n",
              "          const docLinkHtml = 'Like what you see? Visit the ' +\n",
              "            '<a target=\"_blank\" href=https://colab.research.google.com/notebooks/data_table.ipynb>data table notebook</a>'\n",
              "            + ' to learn more about interactive tables.';\n",
              "          element.innerHTML = '';\n",
              "          dataTable['output_type'] = 'display_data';\n",
              "          await google.colab.output.renderOutput(dataTable, element);\n",
              "          const docLink = document.createElement('div');\n",
              "          docLink.innerHTML = docLinkHtml;\n",
              "          element.appendChild(docLink);\n",
              "        }\n",
              "      </script>\n",
              "    </div>\n",
              "  </div>\n",
              "  "
            ],
            "text/plain": [
              "                                                                                                                                                                                                                                                                                       line  \\\n",
              "0                                                                                                                                                                                                                                                               A corridor at a sperm bank.   \n",
              "1   So if a photon is directed through a plane with two slits in it and either slit is observed it will not go through both slits. If it’s unobserved it will, however, if it’s observed after it’s left the plane but before it hits its target, it will not have gone through both slits.   \n",
              "2                                                                                                                                                                                                                                                                Agreed, what’s your point?   \n",
              "3                                                                                                                                                                                                                         There’s no point, I just think it’s a good idea for a tee-shirt.    \n",
              "4                                                                                                                                                                                                                                                                                Excuse me?   \n",
              "\n",
              "  character_scene season episode_number    episode_name episode_id  \n",
              "0           Scene      1              1  Pilot Episode         1-1  \n",
              "1         Sheldon      1              1  Pilot Episode         1-1  \n",
              "2         Leonard      1              1  Pilot Episode         1-1  \n",
              "3         Sheldon      1              1  Pilot Episode         1-1  \n",
              "4         Leonard      1              1  Pilot Episode         1-1  "
            ]
          },
          "metadata": {},
          "execution_count": 421
        }
      ]
    },
    {
      "cell_type": "code",
      "source": [
        "len(raw)"
      ],
      "metadata": {
        "colab": {
          "base_uri": "https://localhost:8080/"
        },
        "id": "P2J04jExNwI7",
        "outputId": "a3ec89ca-30ca-4743-dfbe-0740ae21c0ae"
      },
      "execution_count": 422,
      "outputs": [
        {
          "output_type": "execute_result",
          "data": {
            "text/plain": [
              "55039"
            ]
          },
          "metadata": {},
          "execution_count": 422
        }
      ]
    },
    {
      "cell_type": "markdown",
      "source": [
        "### Drop empty records"
      ],
      "metadata": {
        "id": "tPVeZwX10Wx3"
      }
    },
    {
      "cell_type": "code",
      "source": [
        "#drop empty records\n",
        "raw=raw.dropna()\n"
      ],
      "metadata": {
        "id": "1B6qInY80t10"
      },
      "execution_count": 423,
      "outputs": []
    },
    {
      "cell_type": "code",
      "source": [
        "len(raw)"
      ],
      "metadata": {
        "colab": {
          "base_uri": "https://localhost:8080/"
        },
        "id": "4LEUtVIeNy3k",
        "outputId": "febb604a-1a5e-4e18-c7f7-837fda0f4c4f"
      },
      "execution_count": 424,
      "outputs": [
        {
          "output_type": "execute_result",
          "data": {
            "text/plain": [
              "54162"
            ]
          },
          "metadata": {},
          "execution_count": 424
        }
      ]
    },
    {
      "cell_type": "markdown",
      "source": [
        "### Clean up names"
      ],
      "metadata": {
        "id": "NXBLY_p72Ixy"
      }
    },
    {
      "cell_type": "markdown",
      "source": [
        "I plan on focussing on the main characters of the show and focus my cleaning efforts on them."
      ],
      "metadata": {
        "id": "e6E83I50khMC"
      }
    },
    {
      "cell_type": "code",
      "source": [
        "#some character names include unneeded strings like: 'Raj (internally)' or 'Leonard (to Sheldon)' . I want to remove the text between brackets\n",
        "raw['character_scene'] = raw['character_scene'].str.replace(r\"\\(.*\\)\",\"\")\n"
      ],
      "metadata": {
        "colab": {
          "base_uri": "https://localhost:8080/"
        },
        "id": "3I1wTwDt2Hzw",
        "outputId": "4e4472ca-6020-4d10-8cc3-9d5585f905b8"
      },
      "execution_count": 425,
      "outputs": [
        {
          "output_type": "stream",
          "name": "stderr",
          "text": [
            "/usr/local/lib/python3.7/dist-packages/ipykernel_launcher.py:2: SettingWithCopyWarning: \n",
            "A value is trying to be set on a copy of a slice from a DataFrame.\n",
            "Try using .loc[row_indexer,col_indexer] = value instead\n",
            "\n",
            "See the caveats in the documentation: https://pandas.pydata.org/pandas-docs/stable/user_guide/indexing.html#returning-a-view-versus-a-copy\n",
            "  \n"
          ]
        }
      ]
    },
    {
      "cell_type": "code",
      "source": [
        "#replace weird characters with empty string\n",
        "raw['character_scene'] = raw['character_scene'].str.replace(r\"\\<i></i>\",\"\")\n",
        "raw['character_scene'] = raw['character_scene'].str.replace(r\"<i>\",\"\")\n",
        "raw['character_scene'] = raw['character_scene'].str.replace(r\"</i>\",\"\")\n",
        "raw['character_scene'] = raw['character_scene'].str.replace(r'<span style=\"font-style',\"\")"
      ],
      "metadata": {
        "id": "Ex91pMUVB9kB"
      },
      "execution_count": 426,
      "outputs": []
    },
    {
      "cell_type": "code",
      "source": [
        "#remove weird text strings\n",
        "faulty = ['<span style=\"text-decoration', '<a href=\"https',  '<span style=\"font-style' , '<span style=\"font-size', '<span style=\"font-family']  # 2-3 lines per episode\n",
        "raw[raw['character_scene'].isin(faulty)]\n",
        "raw = raw[~raw['character_scene'].isin(faulty)]"
      ],
      "metadata": {
        "id": "M1VIDdg6CRqo"
      },
      "execution_count": 427,
      "outputs": []
    },
    {
      "cell_type": "code",
      "source": [
        "#remove trailing whitespace\n",
        "raw['character_scene'] = raw['character_scene'].str.rstrip()\n",
        "raw['character_scene'] = raw['character_scene'].str.lstrip()"
      ],
      "metadata": {
        "colab": {
          "base_uri": "https://localhost:8080/"
        },
        "id": "J86DBujuaDoB",
        "outputId": "58ed23f8-eac8-4fc6-91dc-158395824421"
      },
      "execution_count": 428,
      "outputs": [
        {
          "output_type": "stream",
          "name": "stderr",
          "text": [
            "/usr/local/lib/python3.7/dist-packages/ipykernel_launcher.py:2: SettingWithCopyWarning: \n",
            "A value is trying to be set on a copy of a slice from a DataFrame.\n",
            "Try using .loc[row_indexer,col_indexer] = value instead\n",
            "\n",
            "See the caveats in the documentation: https://pandas.pydata.org/pandas-docs/stable/user_guide/indexing.html#returning-a-view-versus-a-copy\n",
            "  \n",
            "/usr/local/lib/python3.7/dist-packages/ipykernel_launcher.py:3: SettingWithCopyWarning: \n",
            "A value is trying to be set on a copy of a slice from a DataFrame.\n",
            "Try using .loc[row_indexer,col_indexer] = value instead\n",
            "\n",
            "See the caveats in the documentation: https://pandas.pydata.org/pandas-docs/stable/user_guide/indexing.html#returning-a-view-versus-a-copy\n",
            "  This is separate from the ipykernel package so we can avoid doing imports until\n"
          ]
        }
      ]
    },
    {
      "cell_type": "code",
      "source": [
        "#replace odd chracters\n",
        "raw['character_scene'] = raw['character_scene'].str.replace(r'&amp;',\"and\")"
      ],
      "metadata": {
        "id": "RoZP0ETQc7Z-"
      },
      "execution_count": 429,
      "outputs": []
    },
    {
      "cell_type": "code",
      "source": [
        "#clean up sheldon\n",
        "caracters = raw['character_scene'].unique()\n",
        "sheldon_long_list = [s for s in caracters if \"She\" in s]\n",
        "\n",
        " #this list also contains some strings where multiple characters speak... I'll keep those\n",
        "sheldon_short_list = ['Sheldon','On-screen Sheldon', 'Past Sheldon', 'Sheldon-bot', 'Mechanical voice on Sheldon’s phone', 'Sheldon’s voice',\n",
        "                      'Shelldon', '1.  Sheldon', '3.  Sheldon', '4. Sheldon', '5.  Sheldon', 'Sheldon’s phone', 'She', 'Sehldon', 'Shldon', 'Shedon', 'Sgeldon', 'Sheldon on laptop screen'] #some were added manually\n",
        "\n",
        "#replace values by Sheldon\n",
        "raw.loc[raw['character_scene'].isin(sheldon_short_list), \"character_scene\"] = 'Sheldon'"
      ],
      "metadata": {
        "id": "6OdLyuQJOFiJ"
      },
      "execution_count": 430,
      "outputs": []
    },
    {
      "cell_type": "code",
      "source": [
        "#clean up Leonard\n",
        "caracters = raw['character_scene'].unique()\n",
        "Leonard_long_list = [s for s in caracters if \"How\" in s]\n",
        "\n",
        "#create short list of relevant items\n",
        "Leonard_short_list = ['Howard','Howard’s phone', 'Past Howard','Howard (on <span style=\"text-decoration','Howatd']\n",
        "\n",
        "#replace values by Howard\n",
        "raw.loc[raw['character_scene'].isin(Leonard_short_list), \"character_scene\"] = 'Howard'"
      ],
      "metadata": {
        "id": "UPgudB5pfTTN"
      },
      "execution_count": 431,
      "outputs": []
    },
    {
      "cell_type": "code",
      "source": [
        "#clean up Penny\n",
        "caracters = raw['character_scene'].unique()\n",
        "Penny_long_list = [s for s in caracters if \"Pen\" in s]\n",
        "\n",
        "#create short_list\n",
        "Penny_short_list = ['Penny','Penny- warrior', 'Penny-warrior', 'Past Penny', '<span lang=\"en-GB\">Penny']\n",
        "\n",
        "#replace values by Penny\n",
        "raw.loc[raw['character_scene'].isin(Penny_short_list), \"character_scene\"] = 'Penny'"
      ],
      "metadata": {
        "id": "uCmRiCZZf7VP"
      },
      "execution_count": 432,
      "outputs": []
    },
    {
      "cell_type": "code",
      "source": [
        "#clean up Bernadette\n",
        "caracters = raw['character_scene'].unique()\n",
        "Bernadette_long_list = [s for s in caracters if \"Ber\" in s]\n",
        "\n",
        "#create short_list\n",
        "Bernadette_short_list = ['Bermadette']\n",
        "\n",
        "#replace values by Bernadette\n",
        "raw.loc[raw['character_scene'].isin(Bernadette_short_list), \"character_scene\"] = 'Bernadette'"
      ],
      "metadata": {
        "id": "crwDaHxcgy00"
      },
      "execution_count": 433,
      "outputs": []
    },
    {
      "cell_type": "code",
      "source": [
        "#clean up Leonard\n",
        "caracters = raw['character_scene'].unique()\n",
        "Leonard_long_list = [s for s in caracters if \"Leo\" in s]\n",
        "\n",
        "#create short list\n",
        "Leonard_short_list = ['Leonard', 'Leonard-warrior', 'Leonard-warrior’s head', 'Past Leonard', 'Leoanard', 'Fat Leonard']\n",
        "\n",
        "#replace values by Leonard\n",
        "raw.loc[raw['character_scene'].isin(Leonard_short_list), \"character_scene\"] = 'Leonard'"
      ],
      "metadata": {
        "id": "5JZRVcpEhpMy"
      },
      "execution_count": 434,
      "outputs": []
    },
    {
      "cell_type": "code",
      "source": [
        "#clean up Amy\n",
        "caracters = raw['character_scene'].unique()\n",
        "Amy_long_list = [s for s in caracters if \"Amy\" in s]\n",
        "\n",
        "#create short list\n",
        "Amy_short_list = ['Amy','1. Amy','2.  Amy','3.  Amy', '4. Amy']\n",
        "\n",
        "#replace values by Amy\n",
        "raw.loc[raw['character_scene'].isin(Amy_short_list), \"character_scene\"] = 'Amy'"
      ],
      "metadata": {
        "id": "HdzgWbQ6iFWe"
      },
      "execution_count": 435,
      "outputs": []
    },
    {
      "cell_type": "code",
      "source": [
        "#clean up Raj\n",
        "caracters = raw['character_scene'].unique()\n",
        "Raj_long_list = [s for s in caracters if \"Ra\" in s]\n",
        "\n",
        "#create short list\n",
        "Raj_short_list = ['Raj','Past Raj','Raj’s Voice', 'Rajj','Fat Raj', 'Ra', 'Rai']\n",
        "\n",
        "#replace values by Raj\n",
        "raw.loc[raw['character_scene'].isin(Raj_short_list), \"character_scene\"] = 'Raj'"
      ],
      "metadata": {
        "id": "0W_NAHQIiY8P"
      },
      "execution_count": 436,
      "outputs": []
    },
    {
      "cell_type": "code",
      "source": [
        "#clean up Stuart\n",
        "caracters = raw['character_scene'].unique()\n",
        "Stuart_long_list = [s for s in caracters if \"Stu\" in s]\n",
        "\n",
        "#create short list\n",
        "Stuart_short_list = ['Fat Stuart']\n",
        "\n",
        "#replace values by Stuart\n",
        "raw.loc[raw['character_scene'].isin(Stuart_short_list), \"character_scene\"] = 'Stuart'"
      ],
      "metadata": {
        "id": "uioCfNZliFNS"
      },
      "execution_count": 437,
      "outputs": []
    },
    {
      "cell_type": "code",
      "source": [
        "#rare characters\n",
        "sheldon_mon = ['Mrs Cooper', 'Mary Cooper']\n",
        "howard_mom = ['Mrs Wolowitz', 'Howard’s Mother', 'Howard’s mother', 'Dead Mrs Wolowitz']\n",
        "kripke  = [ 'Kripke', 'Barry Kripke', 'Barry' ]\n",
        "will_wheaton = ['Wil Wheaton', 'Wil']\n",
        "leonard_mom = ['Beverley', 'Beverly', 'Dr Hofstadter', 'Mrs Hofstadter',   'Leonard’s Mother']\n",
        "\n",
        "#replace values by\n",
        "raw.loc[raw['character_scene'].isin(sheldon_mon), \"character_scene\"] = 'Mary Cooper'\n",
        "raw.loc[raw['character_scene'].isin(howard_mom), \"character_scene\"] = 'Mrs Wolowitz'\n",
        "raw.loc[raw['character_scene'].isin(kripke ), \"character_scene\"] = 'Barry Kripke'\n",
        "raw.loc[raw['character_scene'].isin(will_wheaton ), \"character_scene\"] = 'Wil Wheaton'\n",
        "raw.loc[raw['character_scene'].isin(leonard_mom), \"character_scene\"] = 'Mrs Hofstadter'"
      ],
      "metadata": {
        "id": "AismLyUgtfcw"
      },
      "execution_count": 438,
      "outputs": []
    },
    {
      "cell_type": "code",
      "source": [
        ""
      ],
      "metadata": {
        "id": "18He6618q7ID"
      },
      "execution_count": 438,
      "outputs": []
    },
    {
      "cell_type": "code",
      "source": [
        ""
      ],
      "metadata": {
        "id": "nIBFaNJtsrSL"
      },
      "execution_count": 438,
      "outputs": []
    },
    {
      "cell_type": "code",
      "source": [
        "#the 8 main characters together have 90% of all paragraphs in the show\n",
        "characters = raw[raw['character_scene']!= 'Scene']\n",
        "characters = characters['character_scene'].value_counts(normalize=True)\n",
        "characters[0:20]"
      ],
      "metadata": {
        "colab": {
          "base_uri": "https://localhost:8080/"
        },
        "id": "EWi2yZCjpuoy",
        "outputId": "aee9b9eb-8b95-4231-d06d-13b4f026fe6b"
      },
      "execution_count": 439,
      "outputs": [
        {
          "output_type": "execute_result",
          "data": {
            "text/plain": [
              "Sheldon           0.228444\n",
              "Leonard           0.190550\n",
              "Penny             0.149341\n",
              "Howard            0.113506\n",
              "Raj               0.090558\n",
              "Amy               0.067198\n",
              "Bernadette        0.051938\n",
              "Stuart            0.013789\n",
              "Mrs Hofstadter    0.005257\n",
              "Priya             0.004354\n",
              "Mary Cooper       0.004158\n",
              "Barry Kripke      0.003648\n",
              "Emily             0.003217\n",
              "Mrs Wolowitz      0.003060\n",
              "Wil Wheaton       0.002981\n",
              "Zack              0.002628\n",
              "Arthur            0.002550\n",
              "Leslie            0.002216\n",
              "Man               0.002059\n",
              "Bert              0.001863\n",
              "Name: character_scene, dtype: float64"
            ]
          },
          "metadata": {},
          "execution_count": 439
        }
      ]
    },
    {
      "cell_type": "code",
      "source": [
        ""
      ],
      "metadata": {
        "id": "FjC0eOpTKbDJ"
      },
      "execution_count": 439,
      "outputs": []
    },
    {
      "cell_type": "markdown",
      "source": [
        "### Clean up locations"
      ],
      "metadata": {
        "id": "JA9XpApsk3YD"
      }
    },
    {
      "cell_type": "code",
      "source": [
        "#create a copy of the line column\n",
        "raw['location'] = raw['line']\n",
        "\n"
      ],
      "metadata": {
        "id": "ktULPTb8J5x1"
      },
      "execution_count": 440,
      "outputs": []
    },
    {
      "cell_type": "code",
      "source": [
        "#remove trailing whitespace\n",
        "raw['line'] = raw['line'].str.rstrip()\n",
        "raw['line'] = raw['line'].str.lstrip()\n",
        "\n",
        "raw['location'] = raw['location'].str.rstrip()\n",
        "raw['location'] = raw['location'].str.lstrip()"
      ],
      "metadata": {
        "id": "ZyGAz83cnS1u"
      },
      "execution_count": 441,
      "outputs": []
    },
    {
      "cell_type": "code",
      "source": [
        "locations = raw[raw['character_scene']=='Scene']['location'].unique()\n",
        "\n",
        "#scenes taped in and around the staircase\n",
        "stairs_long_list = [s for s in locations if \"stair\" in s]\n",
        "stairs_long_list.remove('The upstairs landing of Mrs Wolowitz’s house.')\n",
        "stairs_long_list.append(['Ground floor hallway of the apartment building. Leonard is signing for the delivery.',  'Lobby of the apartment building, Howard, Raj, Sheldon and Leonard enter in combat gear, covered in blue paint.', 'Entering the apartment building.'\n",
        "'The lobby.'])\n",
        "\n",
        "\n",
        "raw.loc[raw['location'].isin(stairs_long_list), \"location\"] = 'The stairwell'"
      ],
      "metadata": {
        "id": "HuEEoubVmNSL"
      },
      "execution_count": 442,
      "outputs": []
    },
    {
      "cell_type": "code",
      "source": [
        "#clean up  'The appartment'\n",
        "locations = raw[raw['character_scene']=='Scene']['location'].unique()\n",
        "main_appartment_long_list = [s for s in locations if \"apar\" in s]\n",
        "\n",
        "penny_appartment = ['Outside Penny’s old apartment building.', 'Inside Penny’s apartment. They are laying the package down on the floor.', 'Penny’s apartment, penny is sleeping, Sheldon is cleaning. Leonard enters.',\n",
        "                  'Penny’s apartment. Sheldon and Leonard are trying to construct furniture.', 'Penny’s apartment.',  'Outside Penny’s apartment.',\n",
        "                 'Penny’s apartment. She is on her laptop and talking into a headset.', 'Penny’s apartment. She is in her bathrobe. A note slides under the door.',\n",
        "                 'Penny’s apartment, she opens the door, Sheldon is stood outside with his Star Wars sheets.', 'Penny’s apartment. Leonard enters. Penny is taping together a number of long sticks.',\n",
        "                 'Outside Penny’s apartment. Sheldon has his laptop. He knocks three times, the presses a button and an electronic voice says “Penny”. He does this three times.',\n",
        "                  'Penny’s apartment. Penny and Leonard are doing tequila shots.', 'Penny’s apartment. Penny is on the phone.',\n",
        "                 'Penny’s apartment. Penny is making a barette. Sheldon is timing her.',  'Penny’s apartment, Penny and Leonard are kissing. They break and look at each other uncomfortably.',\n",
        "                 'Penny’s apartment. Everyone is watching football.',  'Penny’s apartment door.', 'Penny’s apartment. Penny is gathering laundry.', 'Penny’s apartment. Knocking.',\n",
        "                 'Penny’s apartment. She answers the door.',  'Penny’s apartment. There is a knock.', 'Penny’s apartment door. Sheldon knocks three times.', 'Penny’s apartment door. Leonard knocks.',\n",
        "                 'Penny’s apartment. Amy is applying very red lip gloss.',  'Penny’s apartment. Penny is texting.', 'Penny’s apartment.</i>','Penny’s apartment. Penny answers the door. Leonard is playing his cello outside.',  'Penny’s apartment. </i>', \n",
        "                 'Penny’s apartment. Knock on door.</i>', 'Penny’s apartment. (Montage with scenes in the apartment and Leonard’s bedroom)', 'Penny’s apartment. Penny is cutting Sheldon’s hair.',]\n",
        "\n",
        "other = [ 'The girl’s apartment.',  'Alicia’s apartment.', 'Bernadette’s apartment. Howard knocks on door.',  'The street outside the apartment block.', \n",
        "          'Alice’s apartment. Alice and Leonard are kissing.',    'Bernadette’s apartment.',\n",
        "          'Emily’s apartment.</i>',  'Emily’s apartment. </i>',\n",
        " 'Bert’s apartment.',  'Sheldon and Amy’s apartment.',] \n",
        "\n",
        "howard_bernadette_appartment = ['Howard and Bernadette’s apartment.',  'Howard and Bernadette’s apartment. </i>',  'Howard and Bernadette’s apartment.</i>',\n",
        "                                'Howard and Bernadette’s apartment. Bernadette is on the webcam.</i>',  'Howard and Bernadette’s apartment. Howard is on the phone to Raj.</i>',\n",
        "                                'Howard and Bernadette’s house.</i>',  'Howard and Bernadette’s kitchen.'] #added manually\n",
        "\n",
        "raj_appartment = ['Raj’s apartment.', 'Raj’s apartment. Raj is heard singing in a drunk voice through the door. He enters with his arm around Penny.',\n",
        "                   'Raj’s apartment. He wakes up clutched in the arms of the large lady. Tries to get away. She clutches him tighter. He shrugs and goes back to sleep.',\n",
        "                  'Raj’s apartment. Raj is watching a Bollywood movie. There is a knock on the door.', 'Raj’s apartment. Raj is reading New Moon.',  'Raj’s apartment. They are playing Jenga,',\n",
        "                   'Raj’s apartment. Leonard and Priya are kissing.', 'Raj’s apartment.</i>', 'Outside Raj’s apartment.', 'Raj’s apartment. Skype tone plays.</i>',\n",
        "                  'Outside Raj’s apartment. The girl from the comic book store knocks on the door.',  'Raj’s apartment. </i>',  'Raj’s apartment. Lucy is looking through Raj’s telescope.</i>']\n",
        "\n",
        "amy_appartment = [ 'Outside Amy’s apartment.', 'Amy’s apartment. Amy is brushing Penny’s hair.', 'Amy’s apartment. Amy is playing a harp.',  'Amy’s apartment.',\n",
        "                  'Amy’s apartment. Amy is playing the harp.', 'Amy’s apartment. Amy is playing her harp.',  'Amy’s apartment.</i>',  'Amy’s apartment. </i>',\n",
        "                  'Amy’s apartment. Amy is dancing to “Walking on Sunshine”. Hears door and turns off stereo.</i>',  'Outside Amy’s apartment. </i>',\n",
        "                  'Amy’s apartment. Sheldon knocks three times. </i>','Amy’s apartment. Amy is watching Fun With Flags.</i>',  'Amy”s apartment.',]\n",
        "\n",
        "\n",
        "#create the main apartment list by only including items that are not in the other lists\n",
        "main_appartment_short = [x for x in main_appartment_long_list if x not in penny_appartment ]\n",
        "main_appartment_short = [x for x in main_appartment_short if x not in other ]\n",
        "main_appartment_short  = [x for x in main_appartment_short if x not in raj_appartment ]\n",
        "main_appartment_short =  [x for x in main_appartment_short if x not in howard_bernadette_appartment  ]\n",
        "\n",
        "\n",
        "#clean-up\n",
        "raw.loc[raw['location'].isin(main_appartment_short), \"location\"] = 'Main appartment'\n",
        "raw.loc[raw['location'].isin(penny_appartment), \"location\"] = \"Penny’s apartment\"\n",
        "raw.loc[raw['location'].isin(howard_bernadette_appartment), \"location\"] = \"Howard and Bernadette’s apartment\"\n",
        "raw.loc[raw['location'].isin(raj_appartment), \"location\"] = \"Raj's appartment\"\n",
        "raw.loc[raw['location'].isin(amy_appartment), \"location\"] = \"Amy’s apartment\""
      ],
      "metadata": {
        "id": "iL10f61Gplfg"
      },
      "execution_count": 443,
      "outputs": []
    },
    {
      "cell_type": "code",
      "source": [
        "#clean up  'Car'\n",
        "locations = raw[raw['character_scene']=='Scene']['location'].unique()\n",
        "car_long_list = [s for s in locations if \"car\" in s]\n",
        "\n",
        "#faulty items in list\n",
        "remove = ['The living room. Leonard enters carrying a light sabre.', 'The comic book store. Raj enters carrying an iPod with a speaker on his tee shirt. As he enters the shop he starts the iPod and the Darth Vader theme from Star Wars emerges from the speaker.',\n",
        "          'The hallway. Sheldon exits carrying the Apple 2.',  'The daycare.']\n",
        "\n",
        "car_short_list = [x for x in car_long_list if x not in remove ]\n",
        "raw.loc[raw['location'].isin(car_short_list), \"location\"] = 'A car'"
      ],
      "metadata": {
        "id": "iV3AfWhblvIw"
      },
      "execution_count": 444,
      "outputs": []
    },
    {
      "cell_type": "code",
      "source": [
        "#clean up  'laundry'\n",
        "locations = raw[raw['character_scene']=='Scene']['location'].unique()\n",
        "laundry_long_list = [s for s in locations if \"laun\" in s]\n",
        "\n",
        "raw.loc[raw['location'].isin(laundry_long_list), \"location\"] = 'The laundry room'"
      ],
      "metadata": {
        "id": "ZuXAxnuR0OhI"
      },
      "execution_count": 445,
      "outputs": []
    },
    {
      "cell_type": "code",
      "source": [
        "#clean up  'commic store'\n",
        "locations = raw[raw['character_scene']=='Scene']['location'].unique()\n",
        "comic_long_list = [s for s in locations if \"comic\" in s]\n",
        "\n",
        "raw.loc[raw['location'].isin(comic_long_list), \"location\"] = 'The comic book store'"
      ],
      "metadata": {
        "id": "Rxr1jT8H0cVI"
      },
      "execution_count": 446,
      "outputs": []
    },
    {
      "cell_type": "code",
      "source": [
        "#clean up  'cheesecake factory'\n",
        "locations = raw[raw['character_scene']=='Scene']['location'].unique()\n",
        "cheese_long_list = [s for s in locations if \"cheese\" in s]\n",
        "cheese_long_list2 = [s for s in locations if \"Cheese\" in s]\n",
        "\n",
        "\n",
        "raw.loc[raw['location'].isin(cheese_long_list), \"location\"] = 'The cheesecake factory'\n",
        "raw.loc[raw['location'].isin(cheese_long_list2), \"location\"] = 'The cheesecake factory'"
      ],
      "metadata": {
        "id": "gz1lMKlX0v_Y"
      },
      "execution_count": 447,
      "outputs": []
    },
    {
      "cell_type": "code",
      "source": [
        "#clean up  'cafateria'\n",
        "locations = raw[raw['character_scene']=='Scene']['location'].unique()\n",
        "cafeteria_long_list = [s for s in locations if \"cafet\" in s]\n",
        "cafeteria_long_list2 = [s for s in locations if \"Cafet\" in s]\n",
        "\n",
        "raw.loc[raw['location'].isin(cafeteria_long_list), \"location\"] = 'The cafeteria'\n",
        "raw.loc[raw['location'].isin(cafeteria_long_list2), \"location\"] = 'The cafeteria'"
      ],
      "metadata": {
        "id": "dzGzttI31Dvs"
      },
      "execution_count": 448,
      "outputs": []
    },
    {
      "cell_type": "code",
      "source": [
        "#clean up  'sheldon locations'\n",
        "locations = raw[raw['character_scene']=='Scene']['location'].unique()\n",
        "sheldon_long_list = [s for s in locations if \"Sheldon\" in s]\n",
        "\n",
        "other = [ 'The department party. Sheldon, Raj and Leonard are at the buffet table.',  'A jungle. As the camera moves, the time machine becomes visible. Sheldon is sitting in it The disk stops spinning, and he looks around. The dials read APR 28 802,701.',\n",
        "         'The store. Sheldon is looking at two routers.','The store. Sheldon is on the in-store computer.',  'Howard’s bedroom. Howard is in bed, Sheldon is on a blow up mattress on the floor.'\n",
        "        'The building entrance lobby. The guys enter. Sheldon is dressed as a medieval monk, Howard is a court jester, Raj is a medieval gentleman and Leonard is a knight.',\n",
        "         'The Renaissance Fair. The guys are in costume. Sheldon is Spock and has a tri-corder.',  'Dr Gablehauser’s office. Sheldon and Leslie are standing across the desk.',\n",
        "         'Howard’s motor scooter. Howard is driving, Sheldon is on the back clutching him for dear life and screaming.',  'The same, only Sheldon and Leonard are present. Sheldon is practicing. There are sounds of squealing tyres and brakes and general panic and mayhem.',\n",
        "         'A corridor in the university. Sheldon emerges from his office in a shower cap and bathrobe. The others are turning the corner.',  'Rock climbing centre. Sheldon and Kripke are watching someone descend the practice wall.',\n",
        "         'The same. Everyone is eating. Sheldon is perched on the back of Leonard’s chair. He keeps making moaning noises. Saying “Excuse me” he tries moving back to his spot, but the cushion is not there. He tries perching on the arm in various positions.',\n",
        "         'The same, later. Sheldon and Penny are making barettes, singing “She’ll be coming round the mountain.”',  'Sheldon’s mother’s kitchen.',\n",
        "         'Sheldon’s mother’s house.',  'Outside Howard’s house. Sheldon rings the doorbell.', 'A police cell. Three people sit on a bench inside. Sheldon points at the one on the end.',\n",
        "         'Penny and Leonard are asleep in Leonard’s bed. Sheldon creeps in and tries to take the ring from round Penny’s neck, but she turns over. He tries to make buzzing fly noises to get her to turn back, but she turns all the way the other way. He then uses an extender with a claw on the end to lif the ring from Penny’s chest. As he tries to remove it, she wakes up, screams, and punches him in the face.',\n",
        "         'Outside. Sheldon is sitting at a table with a sign reading “Cats $20”)',  'A Korean ballroom dancing club. Sheldon and Amy are dancing.',  'Rothman’s office. Sheldon is trying to affix paper over a fiercely blowing air vent.',\n",
        "         'Rothman’s office. Sheldon has his head stuck in the hole in the wall.','A corridor in the basement. Sheldon takes out a key, unlocks a door and enters.',\n",
        "         'The room in the basement. Sheldon enters, takes out a box, takes a beanbag from the box, then starts playing keepie-uppie,',\n",
        "         'The parking spot. Sheldon is spraypainting out Howard’s name and replacing it with his own.',\n",
        "         'The parking spot. Sheldon has set up his office in it.',\n",
        "         'Vasquez Rocks. Sheldon, dressed as Data, is having his makeup put on by Raj, dressed as Worf.', 'A railway station. Sheldon is wearing no trousers.</i>',\n",
        "         'Sheldon’s classroom.</i>',  'The street. Sheldon sees Amy with another man. He leaves. </i>', 'Sheldon’s childhood home.',\n",
        "         'Sheldon’s old bedroom.', 'A restaurant. Sheldon makes an “unsure” noise.',\n",
        "         'Sheldon, waking up in bed next to a Geology book.',  'Sheldon’s dream.', \n",
        "         'In the university, Sheldon is asleep against a vending machine.', 'A hospital room. The guys except for Sheldon are in Hazmat suits.','A park bench. Sheldon is sitting. A stranger sits next to him.',\n",
        "         'Howard’s house. Sheldon rings the doorbell.',]\n",
        "\n",
        "sheldon_amy_appartment = [ 'Sheldon and Amy’s apartment.','Sheldon and Amy’s bedroom.','Sheldon and Amy’s door.',]\n",
        " \n",
        "\n",
        "cheesecake = [ 'Penny’s restaurant. Sheldon is on the piano, singing “To Life” from Fiddler on the Roof enthusiastically.',]\n",
        "\n",
        "penny_appartment = [ 'Penny’s flat. Penny is on her laptop. Everything around her is littered with empty food packaging and red bull cans. She burps loudly. Sheldon is sitting on the sofa.',\n",
        "                     'Outside Penny’s door. Sheldon stands looking at his watch with his hand poised to knock. At the right moment he starts knocking.', \n",
        "                      'Penny’s bedroom. Sheldon is standing over Penny’s bed, knocking on the wall.',  'Sheldon and Amy listening at Penny’s door.',]\n",
        "\n",
        "sheldon_office = [ 'Sheldon’s office. He is making measurements on maps. There is a knock on the door.',  'Sheldon’s office. He is making annotations on his board.',\n",
        "                   'Sheldon’s office.','Sheldon’s office. Sheldon is writing on the whiteboard.', 'Sheldon’s office.</i>', 'Sheldon and Raj’s office.', 'The corridor outside Sheldon’s office.',]\n",
        "\n",
        "stair = ['The lobby. Sheldon is listening to an iPod.',  'Opening shows some scenes from the final episode of the previous season, followed by the caption “Three months later.” Scene then opens in lobby, with the guys arriving home from the North Pole. All have long hair and bushy beards except Sheldon, whose hair is slightly longer and who has a goatee.',\n",
        "          'The elevator shaft. Sheldon is inside.', 'The hallway. Sheldon exits carrying the Apple 2.', 'The hallway. Sheldon-bot approaches Penny’s door and starts bashing into it.',  'The lobby. Sheldon is playing his theramin.',]\n",
        "\n",
        "\n",
        "#create the main apartment list by only including items that are not in the other lists\n",
        "main_appartment = [x for x in sheldon_long_list if x not in other]\n",
        "main_appartment = [x for x in main_appartment if x not in  sheldon_amy_appartment ]\n",
        "main_appartment = [x for x in main_appartment if x not in  cheesecake  ]\n",
        "main_appartment = [x for x in main_appartment if x not in  penny_appartment  ]\n",
        "main_appartment = [x for x in main_appartment if x not in  sheldon_office  ]\n",
        "main_appartment = [x for x in main_appartment if x not in  stair  ]\n",
        "\n",
        "#clean-up\n",
        "raw.loc[raw['location'].isin(main_appartment ), \"location\"] = 'Main appartment'\n",
        "raw.loc[raw['location'].isin(penny_appartment), \"location\"] = \"Penny’s apartment\"\n",
        "raw.loc[raw['location'].isin(cheesecake), \"location\"] = 'The cheesecake factory'\n",
        "raw.loc[raw['location'].isin(sheldon_office), \"location\"] = \"Sheldon’s office\"\n",
        "raw.loc[raw['location'].isin(stair), \"location\"] = 'The stairwell'\n",
        "raw.loc[raw['location'].isin(sheldon_amy_appartment), \"location\"] = \"Sheldon and Amy's apartment\""
      ],
      "metadata": {
        "id": "yFBFfNVw2lkO"
      },
      "execution_count": 449,
      "outputs": []
    },
    {
      "cell_type": "code",
      "source": [
        "#clean up  'leonard locations'\n",
        "locations = raw[raw['character_scene']=='Scene']['location'].unique()\n",
        "leonard_long_list = [s for s in locations if \"Leonard\" in s]\n",
        "\n",
        "penny_appartment = [ 'The hallway. Leonard knocks on Penny’s door.',  'Outside Penny’s door. Leonard knocks.',  'Leonard approaches Penny’s door and knocks.',\n",
        "                     'The hallway. Leonard is outside Penny’s door.',  'Penny’s bedroom. Penny and Leonard are in bed.', 'Outside Penny’s door. Leonard knocks, Penny answers in her dressing gown.',\n",
        "                    'Outside Penny’s door. Leonard is knocking.',  'Leonard and Penny are in Penny’s bed.',  'Penny’s bathroom. Leonard is vomiting in the toilet.',  'At Penny’s door. Leonard knocks three times.',]\n",
        "\n",
        "other = [ 'The department party. Sheldon, Raj and Leonard are at the buffet table.',  'The same, later. Leonard is dressed as Frodo. Howard appears to be Peter Pan. There is a knock on the door.',\n",
        "          'A corridor at the conference. Penny is attaching Leonard’s name tag.','Leonard is presenting.',  'Outside Howard’s house. Leonard rings bell.',\n",
        "          'The same, only Sheldon and Leonard are present. Sheldon is practicing. There are sounds of squealing tyres and brakes and general panic and mayhem.',\n",
        "          'Raj’s Apartment. Leonard knocks on the door.',   'Leonard’s old school. </i>', 'A street. Leonard is skipping ropes with some young girls. </i>',\n",
        "         'Leonard’s old school.</i>',  'On the deck of a ship on the North Sea, in the middle of a storm. Leonard is on a sat-phone.',\n",
        "         'Alice’s apartment. Alice and Leonard are kissing.',\n",
        "         'Leonard being ejected into the corridor.',]\n",
        "\n",
        "stairs = ['The hallway. Leonard is finishing off a bottle of spirits. He opens the lift and drops the bottle inside.',]\n",
        "\n",
        "lab = [ 'Leonard and Lesley’s lab.',  'Leonard’s lab.',  'Leonard’s laboratory.',  'Leonard’s laboratory.</i>',  'Leonard’s lab.</i>',  'Leonard’s lab. </i>',]\n",
        "\n",
        "#create the main apartment list by only including items that are not in the other lists\n",
        "main_appartment = [x for x in leonard_long_list  if x not in other]\n",
        "main_appartment = [x for x in main_appartment if x not in  penny_appartment ]\n",
        "main_appartment = [x for x in main_appartment if x not in  other ]\n",
        "main_appartment = [x for x in main_appartment if x not in  lab ]\n",
        "\n",
        "#clean-up\n",
        "raw.loc[raw['location'].isin(main_appartment ), \"location\"] = 'Main appartment'\n",
        "raw.loc[raw['location'].isin(penny_appartment), \"location\"] = \"Penny’s apartment\"\n",
        "raw.loc[raw['location'].isin(stairs ), \"location\"] = 'The stairwell'\n",
        "raw.loc[raw['location'].isin(lab ), \"location\"] = 'The lab'"
      ],
      "metadata": {
        "id": "7x2hp8dM7QMv"
      },
      "execution_count": 450,
      "outputs": []
    },
    {
      "cell_type": "code",
      "source": [
        "howard_bernadet = [ 'Howard and Bernadette’s bedroom.',  'Howard and Bernadette’s apartment',  'Howard and Bernadette’s bedroom.</i>',\n",
        "                   'Howard and Bernadette’s bedroom. Howard and Bernadette are dressed as smurfs.', 'Howard and Bernadette’s house. </i>',\n",
        "                   'Howard and Bernadette’s House.</i>', 'Howard and Bernadette’s dining room.',\n",
        "                   'Howard and Bernadett’s house.' 'Howard and Bernadette’s living room.','Howard and Bernadette’s van.','Howard and Bernadette’s nursery.', 'Howard and Bernadette’s house. Raj rings the doorbell.',\n",
        "                   'Howard and Bernadette’s minivan.', 'Howard and Bernadette’s bathroom.', 'Howard and Bernadette’s kitchen.</i>', 'Howard’s workshop.</i>',\n",
        "                   'The crawlspace under Howard and Bernadette’s house.</i>', 'Stuarts former bedroom in Howard and Bernadette’s house.</i>',\n",
        "                   'Howard and Bernadette’s bedroom. Howard and Bernadette are asleep.</i>','Howard and Berndette’s house.</i>','Howard and Bernadette’s patio.</i>',\n",
        "                   'Howard and Bernadette’s hot tub.</i>','Howard and Bernadette’s kitchen. Screams are emanating from Bernadette’s tablet.</i>', 'Howard and Bernadette’s spare room.','Howard and Bernadette’s house.','Howard and Bernadette’s garage.',]\n",
        "\n",
        "lab =['Howard and Lesley’s lab.',  'Howard’s lab.',  'Howard’s laboratory. Howard is soldering something.', 'Howard’s laboratory. The phone rings. Howard puts it on speaker.',  'Outside Amy’s lab. Howard knocks on the door.',]\n",
        "\n",
        "howard_home = [ 'Outside Howard’s house.', 'Howard’s house. The door rings.','Howard’s motor scooter. Howard is driving, Sheldon is on the back clutching him for dear life and screaming.',\n",
        "               'The living room. Howard on his laptop.',  'Outside Howard’s front door.','Howard’s bedroom.', 'Outside Howard’s house. Sheldon rings the doorbell.','Howard’s bathroom. He is in the bath.',\n",
        "               'Howard’s bedroom. Howard is being massaged by the robot hand.', 'Howard’s bedroom. Howard enters in a silk dressing gown, puts on romantic music and sets up mood lighting. Gets onto bed.', 'Outside Howard’s house. Leonard rings bell.', 'Howard’s house.', 'Howard’s house', 'Howard’s old bedroom. A phone is ringing.','Howard’s workshop.',\n",
        "               'Outside Howard’s house. Amy rings the bell.', 'Howard’s bedroom. Howard is playing with a lightsabre.','Howard’s house. Sheldon rings the doorbell.', 'Howard’s workshop</i>','Howard’s mother’s house.',]\n",
        "\n",
        "pennies = [\n",
        " 'The hallway. Howard knocks on Penny’s door with his bow.',  'Howard’s bedroom. The phone is ringing.',  'Penny’s door. Howard knocks.',]\n",
        "\n",
        "other =[ 'The same, later. Leonard is dressed as Frodo. Howard appears to be Peter Pan. There is a knock on the door.',\n",
        "        'The hospital. Howard runs in and up to the counter.',  'The top model house. The doorbell rings. One of the models answers. Howard and Raj are outside wearing blue jumpsuits.',       \n",
        "        'Howard’s hotel room.', 'Howard’s hotel room. There is a knock on the door.',  'The parking spot. Sheldon is spraypainting out Howard’s name and replacing it with his own.',\n",
        "        'Emily’s bedroom. Raj is still on the phone with Howard.</i>',]\n",
        "\n",
        "main = [ 'The living room door, a fibre-optic camera emerges from underneath. We see the scene from its point of view. Cut to outside. Raj is holding a laptop, Howard is feeding the camera under the door.',\n",
        "        'The living room. Raj and Howard are on the floor, fighting.',]\n",
        "\n",
        "bernadettes_appartment = ['Bernadette’s apartment. Howard knocks on door.', ]\n",
        "\n",
        "#clean\n",
        "raw.loc[raw['location'].isin(main  ), \"location\"] = 'Main appartment'\n",
        "raw.loc[raw['location'].isin(howard_bernadet), \"location\"] = \"Howard and Bernadette’s apartment\"\n",
        "raw.loc[raw['location'].isin(lab), \"location\"] = 'The lab'\n",
        "raw.loc[raw['location'].isin(howard_home ), \"location\"] = \"Howard’s house\"\n",
        "raw.loc[raw['location'].isin(pennies), \"location\"] = \"Penny’s apartment\"\n",
        "raw.loc[raw['location'].isin(bernadettes_appartment), \"location\"] = \"Bernadette's appartment\""
      ],
      "metadata": {
        "id": "IZ6-t1Cz9mof"
      },
      "execution_count": 451,
      "outputs": []
    },
    {
      "cell_type": "code",
      "source": [
        "#clean up  'penny locations'\n",
        "locations = raw[raw['character_scene']=='Scene']['location'].unique()\n",
        "penny_long_list = [s for s in locations if \"Penny\" in s]\n",
        "\n",
        "#faulty items in list\n",
        "remove = [ 'A corridor at the conference. Penny is attaching Leonard’s name tag.',  'Same – later. Penny is attacking a multi-headed monster with a sword on the screen.A muscular warrior in a cape walks onto the screen.',\n",
        "          'Inside the game. Penny-warrior is standing next to a battle horse.',  'A public washroom. Amy and Penny are in cubicles, Bernadette is washing her hands.',\n",
        "           'The same, later. Sheldon and Penny are making barettes, singing “She’ll be coming round the mountain.”', 'A film set. Penny is being fitted with gorilla hands.']\n",
        "\n",
        "#create list of items belonging to pennys' appartement\n",
        "penny_short_list = [x for x in penny_long_list if x not in remove ]\n",
        "raw.loc[raw['location'].isin(penny_short_list ), \"location\"] = \"Penny’s apartment\"\n",
        "\n",
        "#add to stairwell\n",
        "stair = [ 'The lobby. Penny finds a woman studying the lift.', ]\n",
        "raw.loc[raw['location'].isin(stair ), \"location\"] = 'The stairwell'\n"
      ],
      "metadata": {
        "id": "tldUQgh496QB"
      },
      "execution_count": 452,
      "outputs": []
    },
    {
      "cell_type": "code",
      "source": [
        "#clean up  'penny locations'\n",
        "locations = raw[raw['character_scene']=='Scene']['location'].unique()\n",
        "amy_long_list = [s for s in locations if \"Amy\" in s]\n",
        "\n",
        "lab =['Amy’s lab.',  'Amy’s lab. Amy is dissecting a brain.','Amy’s lab. She is dissecting a brain.','Amy’s laboratory.', 'Amy’s lab. Phone rings.',\n",
        "      'Amy’s lab.</i>','Amy’s laboratory.</i>', 'Amy’s lab. Phone rings.', 'Amy’s lab.</i>',\n",
        " 'Amy’s laboratory.</i>', 'Amy’s laboratory']\n",
        "\n",
        "amy_appartment =[ 'Amy’s bedroom. Phone rings.', 'Amy’s bedroom. </i>',  'Amy’s bedroom.</i>',]\n",
        "\n",
        "#clean\n",
        "raw.loc[raw['location'].isin(amy_appartment), \"location\"] = \"Amy’s apartment\"\n",
        "raw.loc[raw['location'].isin(lab), \"location\"] = 'The lab'"
      ],
      "metadata": {
        "id": "id5rNK1FBlYy"
      },
      "execution_count": 453,
      "outputs": []
    },
    {
      "cell_type": "code",
      "source": [
        "#clean up  'raj locations'\n",
        "locations = raw[raw['character_scene']=='Scene']['location'].unique()\n",
        "raj_long_list = [s for s in locations if \"Raj\" in s]\n",
        "\n",
        "\n",
        "raj_appartemnt = ['Outside Raj’s flat.' , 'Raj’s room.',  'Raj’s Apartment. Leonard knocks on the door.',  'Raj’s bedroom. Phone rings.']\n",
        "lab  = [ 'Raj’s Lab.',  'The telescope lab. Raj’s phone rings.</i>',]\n",
        "howard  =['Mrs Wolowitz’s house. Raj is climbing out of the window.']\n",
        "raj_office = ['Raj is exiting his office.',   'Outside Raj’s office.' ,'Raj’s office.' ,'Raj’s office.</i>',]\n",
        "\n",
        "#clean\n",
        "raw.loc[raw['location'].isin(lab), \"location\"] = 'The lab'\n",
        "raw.loc[raw['location'].isin(raj_appartemnt ), \"location\"] = \"Raj's appartment\"\n",
        "raw.loc[raw['location'].isin(howard ), \"location\"] = \"Howard’s house\"\n",
        "raw.loc[raw['location'].isin(raj_office ), \"location\"] = \"Raj’s office\""
      ],
      "metadata": {
        "id": "K_cf5_yJCo4W"
      },
      "execution_count": 454,
      "outputs": []
    },
    {
      "cell_type": "code",
      "source": [
        "#clean up  'Bernadette locations'\n",
        "locations = raw[raw['character_scene']=='Scene']['location'].unique()\n",
        "bernadette_long_list = [s for s in locations if \"Bern\" in s]\n",
        "\n",
        "bernadette_appartment = ['Bernadette’s bedroom.',\"Bernadette's appartment\", 'Bernadette’s apartment.',]\n",
        "howard_bernadette = ['Howard and Bernadett’s house.', 'Howard and Bernadette’s living room.']\n",
        "\n",
        "raw.loc[raw['location'].isin(bernadette_appartment ), \"location\"] = \"Bernadette's appartment\"\n",
        "raw.loc[raw['location'].isin(howard_bernadette  ), \"location\"] = \"Howard and Bernadette’s apartment\""
      ],
      "metadata": {
        "id": "GirBQBQ7Dj51"
      },
      "execution_count": 455,
      "outputs": []
    },
    {
      "cell_type": "code",
      "source": [
        "#clean up  'Wolowitz locations'\n",
        "locations = raw[raw['character_scene']=='Scene']['location'].unique()\n",
        "howard_long_list = [s for s in locations if \"Wolowitz\" in s]\n",
        "raw.loc[raw['location'].isin(howard_long_list  ), \"location\"] = \"Howard’s house\""
      ],
      "metadata": {
        "id": "3Cq3hYxQFj-h"
      },
      "execution_count": 456,
      "outputs": []
    },
    {
      "cell_type": "code",
      "source": [
        "#bar/restaurant\n",
        "locations = raw[raw['character_scene']=='Scene']['location'].unique()\n",
        "bar = [s for s in locations if \"bar\" in s]\n",
        "restaurant = [s for s in locations if \"restaur\" in s]\n",
        "\n",
        "raw.loc[raw['location'].isin(bar  ), \"location\"] = \"Bar or restaurant\"\n",
        "raw.loc[raw['location'].isin(restaurant ), \"location\"] = \"Bar or restaurant\""
      ],
      "metadata": {
        "id": "Oqw9lwaZF3s8"
      },
      "execution_count": 457,
      "outputs": []
    },
    {
      "cell_type": "code",
      "source": [
        "#uni\n",
        "locations = raw[raw['character_scene']=='Scene']['location'].unique()\n",
        "university = [s for s in locations if \"university\" in s]\n",
        "university2 = [s for s in locations if \"University\" in s]\n",
        "\n",
        "raw.loc[raw['location'].isin(university ), \"location\"] = \"University\"\n",
        "raw.loc[raw['location'].isin(university2 ), \"location\"] = \"University\""
      ],
      "metadata": {
        "id": "BeIg2j6_Hpov"
      },
      "execution_count": 458,
      "outputs": []
    },
    {
      "cell_type": "code",
      "source": [
        ""
      ],
      "metadata": {
        "id": "TNk-2z_PGdYj"
      },
      "execution_count": 458,
      "outputs": []
    },
    {
      "cell_type": "code",
      "source": [
        "#lobby to stairwell\n",
        "raw.loc[raw['location']== 'The lobby.', \"location\"] = \"The stairwell\"\n",
        "raw.loc[raw['location']== 'The hallway.', \"location\"] = \"The stairwell\"\n",
        "raw.loc[raw['location']== 'A coffee shop.', \"location\"] = \"Bar or restaurant\"\n",
        "raw.loc[raw['location']== 'The living room.', \"location\"] = \"Main appartment\"\n",
        "raw.loc[raw['location']== 'The kitchen.', \"location\"] = \"Main appartment\"\n",
        "raw.loc[raw['location']== 'The Apartment.', \"location\"] = \"Main appartment\"\n",
        "raw.loc[raw['location']== 'The lab.', \"location\"] = \"The lab\""
      ],
      "metadata": {
        "id": "pQdHmE49F3jo"
      },
      "execution_count": 459,
      "outputs": []
    },
    {
      "cell_type": "code",
      "source": [
        "#Same indicates that the scene continues. I will set these to np.nan and forward fill empty rows\n",
        "locations = raw[raw['character_scene']=='Scene']['location'].unique()\n",
        "same = [s for s in locations if \"Same\" in s or 'same' in s or 'moments' in s or 'Moments' in s]\n",
        "\n",
        "raw.loc[raw['location'].isin(same ), \"location\"] = np.nan\n",
        "\n"
      ],
      "metadata": {
        "id": "-msFG6A1nyvU"
      },
      "execution_count": 460,
      "outputs": []
    },
    {
      "cell_type": "code",
      "source": [
        "#top 10 locations make up 73% of all scenes\n",
        "locations = raw[raw['character_scene']=='Scene']\n",
        "locations  = locations['location'].value_counts(normalize=True)\n",
        "\n",
        "locations[0:10]"
      ],
      "metadata": {
        "colab": {
          "base_uri": "https://localhost:8080/"
        },
        "id": "polKxJwiuX9P",
        "outputId": "4d00d78c-11c7-40fd-e901-17d3f8b29e05"
      },
      "execution_count": 461,
      "outputs": [
        {
          "output_type": "execute_result",
          "data": {
            "text/plain": [
              "Main appartment                      0.326611\n",
              "Penny’s apartment                    0.096867\n",
              "Howard and Bernadette’s apartment    0.066259\n",
              "The stairwell                        0.049334\n",
              "A car                                0.048974\n",
              "The cafeteria                        0.042132\n",
              "Bar or restaurant                    0.033489\n",
              "Howard’s house                       0.028088\n",
              "Raj's appartment                     0.021966\n",
              "The comic book store                 0.021606\n",
              "Name: location, dtype: float64"
            ]
          },
          "metadata": {},
          "execution_count": 461
        }
      ]
    },
    {
      "cell_type": "code",
      "source": [
        ""
      ],
      "metadata": {
        "id": "bHZD3rkAuXu_"
      },
      "execution_count": 461,
      "outputs": []
    },
    {
      "cell_type": "markdown",
      "source": [
        "### Empty rows"
      ],
      "metadata": {
        "id": "QOIiB8YNomkQ"
      }
    },
    {
      "cell_type": "code",
      "source": [
        "#if it is a scene, remove the line\n",
        "#if it is not a scene, remove the location\n",
        "raw.loc[raw['character_scene']=='Scene', \"line\"] = np.nan\n",
        "raw.loc[raw['character_scene']!='Scene', \"location\"] = np.nan\n",
        "\n",
        "raw.head()"
      ],
      "metadata": {
        "colab": {
          "base_uri": "https://localhost:8080/",
          "height": 284
        },
        "id": "zZWJPTNIkeFb",
        "outputId": "68c09e6e-6f12-47c5-d37c-ec4d45d40d2b"
      },
      "execution_count": 462,
      "outputs": [
        {
          "output_type": "execute_result",
          "data": {
            "text/html": [
              "\n",
              "  <div id=\"df-3f4b3909-b48a-4e54-87ae-3ef77f0109a7\">\n",
              "    <div class=\"colab-df-container\">\n",
              "      <div>\n",
              "<style scoped>\n",
              "    .dataframe tbody tr th:only-of-type {\n",
              "        vertical-align: middle;\n",
              "    }\n",
              "\n",
              "    .dataframe tbody tr th {\n",
              "        vertical-align: top;\n",
              "    }\n",
              "\n",
              "    .dataframe thead th {\n",
              "        text-align: right;\n",
              "    }\n",
              "</style>\n",
              "<table border=\"1\" class=\"dataframe\">\n",
              "  <thead>\n",
              "    <tr style=\"text-align: right;\">\n",
              "      <th></th>\n",
              "      <th>line</th>\n",
              "      <th>character_scene</th>\n",
              "      <th>season</th>\n",
              "      <th>episode_number</th>\n",
              "      <th>episode_name</th>\n",
              "      <th>episode_id</th>\n",
              "      <th>location</th>\n",
              "    </tr>\n",
              "  </thead>\n",
              "  <tbody>\n",
              "    <tr>\n",
              "      <th>0</th>\n",
              "      <td>NaN</td>\n",
              "      <td>Scene</td>\n",
              "      <td>1</td>\n",
              "      <td>1</td>\n",
              "      <td>Pilot Episode</td>\n",
              "      <td>1-1</td>\n",
              "      <td>A corridor at a sperm bank.</td>\n",
              "    </tr>\n",
              "    <tr>\n",
              "      <th>1</th>\n",
              "      <td>So if a photon is directed through a plane with two slits in it and either slit is observed it will not go through both slits. If it’s unobserved it will, however, if it’s observed after it’s left the plane but before it hits its target, it will not have gone through both slits.</td>\n",
              "      <td>Sheldon</td>\n",
              "      <td>1</td>\n",
              "      <td>1</td>\n",
              "      <td>Pilot Episode</td>\n",
              "      <td>1-1</td>\n",
              "      <td>NaN</td>\n",
              "    </tr>\n",
              "    <tr>\n",
              "      <th>2</th>\n",
              "      <td>Agreed, what’s your point?</td>\n",
              "      <td>Leonard</td>\n",
              "      <td>1</td>\n",
              "      <td>1</td>\n",
              "      <td>Pilot Episode</td>\n",
              "      <td>1-1</td>\n",
              "      <td>NaN</td>\n",
              "    </tr>\n",
              "    <tr>\n",
              "      <th>3</th>\n",
              "      <td>There’s no point, I just think it’s a good idea for a tee-shirt.</td>\n",
              "      <td>Sheldon</td>\n",
              "      <td>1</td>\n",
              "      <td>1</td>\n",
              "      <td>Pilot Episode</td>\n",
              "      <td>1-1</td>\n",
              "      <td>NaN</td>\n",
              "    </tr>\n",
              "    <tr>\n",
              "      <th>4</th>\n",
              "      <td>Excuse me?</td>\n",
              "      <td>Leonard</td>\n",
              "      <td>1</td>\n",
              "      <td>1</td>\n",
              "      <td>Pilot Episode</td>\n",
              "      <td>1-1</td>\n",
              "      <td>NaN</td>\n",
              "    </tr>\n",
              "  </tbody>\n",
              "</table>\n",
              "</div>\n",
              "      <button class=\"colab-df-convert\" onclick=\"convertToInteractive('df-3f4b3909-b48a-4e54-87ae-3ef77f0109a7')\"\n",
              "              title=\"Convert this dataframe to an interactive table.\"\n",
              "              style=\"display:none;\">\n",
              "        \n",
              "  <svg xmlns=\"http://www.w3.org/2000/svg\" height=\"24px\"viewBox=\"0 0 24 24\"\n",
              "       width=\"24px\">\n",
              "    <path d=\"M0 0h24v24H0V0z\" fill=\"none\"/>\n",
              "    <path d=\"M18.56 5.44l.94 2.06.94-2.06 2.06-.94-2.06-.94-.94-2.06-.94 2.06-2.06.94zm-11 1L8.5 8.5l.94-2.06 2.06-.94-2.06-.94L8.5 2.5l-.94 2.06-2.06.94zm10 10l.94 2.06.94-2.06 2.06-.94-2.06-.94-.94-2.06-.94 2.06-2.06.94z\"/><path d=\"M17.41 7.96l-1.37-1.37c-.4-.4-.92-.59-1.43-.59-.52 0-1.04.2-1.43.59L10.3 9.45l-7.72 7.72c-.78.78-.78 2.05 0 2.83L4 21.41c.39.39.9.59 1.41.59.51 0 1.02-.2 1.41-.59l7.78-7.78 2.81-2.81c.8-.78.8-2.07 0-2.86zM5.41 20L4 18.59l7.72-7.72 1.47 1.35L5.41 20z\"/>\n",
              "  </svg>\n",
              "      </button>\n",
              "      \n",
              "  <style>\n",
              "    .colab-df-container {\n",
              "      display:flex;\n",
              "      flex-wrap:wrap;\n",
              "      gap: 12px;\n",
              "    }\n",
              "\n",
              "    .colab-df-convert {\n",
              "      background-color: #E8F0FE;\n",
              "      border: none;\n",
              "      border-radius: 50%;\n",
              "      cursor: pointer;\n",
              "      display: none;\n",
              "      fill: #1967D2;\n",
              "      height: 32px;\n",
              "      padding: 0 0 0 0;\n",
              "      width: 32px;\n",
              "    }\n",
              "\n",
              "    .colab-df-convert:hover {\n",
              "      background-color: #E2EBFA;\n",
              "      box-shadow: 0px 1px 2px rgba(60, 64, 67, 0.3), 0px 1px 3px 1px rgba(60, 64, 67, 0.15);\n",
              "      fill: #174EA6;\n",
              "    }\n",
              "\n",
              "    [theme=dark] .colab-df-convert {\n",
              "      background-color: #3B4455;\n",
              "      fill: #D2E3FC;\n",
              "    }\n",
              "\n",
              "    [theme=dark] .colab-df-convert:hover {\n",
              "      background-color: #434B5C;\n",
              "      box-shadow: 0px 1px 3px 1px rgba(0, 0, 0, 0.15);\n",
              "      filter: drop-shadow(0px 1px 2px rgba(0, 0, 0, 0.3));\n",
              "      fill: #FFFFFF;\n",
              "    }\n",
              "  </style>\n",
              "\n",
              "      <script>\n",
              "        const buttonEl =\n",
              "          document.querySelector('#df-3f4b3909-b48a-4e54-87ae-3ef77f0109a7 button.colab-df-convert');\n",
              "        buttonEl.style.display =\n",
              "          google.colab.kernel.accessAllowed ? 'block' : 'none';\n",
              "\n",
              "        async function convertToInteractive(key) {\n",
              "          const element = document.querySelector('#df-3f4b3909-b48a-4e54-87ae-3ef77f0109a7');\n",
              "          const dataTable =\n",
              "            await google.colab.kernel.invokeFunction('convertToInteractive',\n",
              "                                                     [key], {});\n",
              "          if (!dataTable) return;\n",
              "\n",
              "          const docLinkHtml = 'Like what you see? Visit the ' +\n",
              "            '<a target=\"_blank\" href=https://colab.research.google.com/notebooks/data_table.ipynb>data table notebook</a>'\n",
              "            + ' to learn more about interactive tables.';\n",
              "          element.innerHTML = '';\n",
              "          dataTable['output_type'] = 'display_data';\n",
              "          await google.colab.output.renderOutput(dataTable, element);\n",
              "          const docLink = document.createElement('div');\n",
              "          docLink.innerHTML = docLinkHtml;\n",
              "          element.appendChild(docLink);\n",
              "        }\n",
              "      </script>\n",
              "    </div>\n",
              "  </div>\n",
              "  "
            ],
            "text/plain": [
              "                                                                                                                                                                                                                                                                                      line  \\\n",
              "0                                                                                                                                                                                                                                                                                      NaN   \n",
              "1  So if a photon is directed through a plane with two slits in it and either slit is observed it will not go through both slits. If it’s unobserved it will, however, if it’s observed after it’s left the plane but before it hits its target, it will not have gone through both slits.   \n",
              "2                                                                                                                                                                                                                                                               Agreed, what’s your point?   \n",
              "3                                                                                                                                                                                                                         There’s no point, I just think it’s a good idea for a tee-shirt.   \n",
              "4                                                                                                                                                                                                                                                                               Excuse me?   \n",
              "\n",
              "  character_scene season episode_number    episode_name episode_id  \\\n",
              "0           Scene      1              1  Pilot Episode         1-1   \n",
              "1         Sheldon      1              1  Pilot Episode         1-1   \n",
              "2         Leonard      1              1  Pilot Episode         1-1   \n",
              "3         Sheldon      1              1  Pilot Episode         1-1   \n",
              "4         Leonard      1              1  Pilot Episode         1-1   \n",
              "\n",
              "                      location  \n",
              "0  A corridor at a sperm bank.  \n",
              "1                          NaN  \n",
              "2                          NaN  \n",
              "3                          NaN  \n",
              "4                          NaN  "
            ]
          },
          "metadata": {},
          "execution_count": 462
        }
      ]
    },
    {
      "cell_type": "code",
      "source": [
        "#forward fill the location\n",
        "raw[\"location\"] = raw.groupby('episode_id')['location'].transform(lambda x: x.ffill())"
      ],
      "metadata": {
        "id": "Omd10EWzoixT"
      },
      "execution_count": 463,
      "outputs": []
    },
    {
      "cell_type": "code",
      "source": [
        ""
      ],
      "metadata": {
        "id": "h2q8uvgzw1V1"
      },
      "execution_count": 463,
      "outputs": []
    },
    {
      "cell_type": "markdown",
      "source": [
        "### Remove scene"
      ],
      "metadata": {
        "id": "t0_zdCxGw1tt"
      }
    },
    {
      "cell_type": "code",
      "source": [
        "#remove scene\n",
        "raw = raw[raw['character_scene']!= 'Scene']\n"
      ],
      "metadata": {
        "id": "WKivCK6ypQdz"
      },
      "execution_count": 464,
      "outputs": []
    },
    {
      "cell_type": "code",
      "source": [
        "#rename columns\n",
        "raw =  raw.rename(columns={'character_scene': \"character\"})"
      ],
      "metadata": {
        "id": "aBypBAdqpZxi"
      },
      "execution_count": 465,
      "outputs": []
    },
    {
      "cell_type": "code",
      "source": [
        "raw.head()"
      ],
      "metadata": {
        "colab": {
          "base_uri": "https://localhost:8080/",
          "height": 336
        },
        "id": "rLlR6zNmpZrK",
        "outputId": "7b1bafb0-e48a-4603-f07f-a1d79fbc9525"
      },
      "execution_count": 466,
      "outputs": [
        {
          "output_type": "execute_result",
          "data": {
            "text/html": [
              "\n",
              "  <div id=\"df-638af14e-f97a-4437-9870-ca0ee7bd4d56\">\n",
              "    <div class=\"colab-df-container\">\n",
              "      <div>\n",
              "<style scoped>\n",
              "    .dataframe tbody tr th:only-of-type {\n",
              "        vertical-align: middle;\n",
              "    }\n",
              "\n",
              "    .dataframe tbody tr th {\n",
              "        vertical-align: top;\n",
              "    }\n",
              "\n",
              "    .dataframe thead th {\n",
              "        text-align: right;\n",
              "    }\n",
              "</style>\n",
              "<table border=\"1\" class=\"dataframe\">\n",
              "  <thead>\n",
              "    <tr style=\"text-align: right;\">\n",
              "      <th></th>\n",
              "      <th>line</th>\n",
              "      <th>character</th>\n",
              "      <th>season</th>\n",
              "      <th>episode_number</th>\n",
              "      <th>episode_name</th>\n",
              "      <th>episode_id</th>\n",
              "      <th>location</th>\n",
              "    </tr>\n",
              "  </thead>\n",
              "  <tbody>\n",
              "    <tr>\n",
              "      <th>1</th>\n",
              "      <td>So if a photon is directed through a plane with two slits in it and either slit is observed it will not go through both slits. If it’s unobserved it will, however, if it’s observed after it’s left the plane but before it hits its target, it will not have gone through both slits.</td>\n",
              "      <td>Sheldon</td>\n",
              "      <td>1</td>\n",
              "      <td>1</td>\n",
              "      <td>Pilot Episode</td>\n",
              "      <td>1-1</td>\n",
              "      <td>A corridor at a sperm bank.</td>\n",
              "    </tr>\n",
              "    <tr>\n",
              "      <th>2</th>\n",
              "      <td>Agreed, what’s your point?</td>\n",
              "      <td>Leonard</td>\n",
              "      <td>1</td>\n",
              "      <td>1</td>\n",
              "      <td>Pilot Episode</td>\n",
              "      <td>1-1</td>\n",
              "      <td>A corridor at a sperm bank.</td>\n",
              "    </tr>\n",
              "    <tr>\n",
              "      <th>3</th>\n",
              "      <td>There’s no point, I just think it’s a good idea for a tee-shirt.</td>\n",
              "      <td>Sheldon</td>\n",
              "      <td>1</td>\n",
              "      <td>1</td>\n",
              "      <td>Pilot Episode</td>\n",
              "      <td>1-1</td>\n",
              "      <td>A corridor at a sperm bank.</td>\n",
              "    </tr>\n",
              "    <tr>\n",
              "      <th>4</th>\n",
              "      <td>Excuse me?</td>\n",
              "      <td>Leonard</td>\n",
              "      <td>1</td>\n",
              "      <td>1</td>\n",
              "      <td>Pilot Episode</td>\n",
              "      <td>1-1</td>\n",
              "      <td>A corridor at a sperm bank.</td>\n",
              "    </tr>\n",
              "    <tr>\n",
              "      <th>5</th>\n",
              "      <td>Hang on.</td>\n",
              "      <td>Receptionist</td>\n",
              "      <td>1</td>\n",
              "      <td>1</td>\n",
              "      <td>Pilot Episode</td>\n",
              "      <td>1-1</td>\n",
              "      <td>A corridor at a sperm bank.</td>\n",
              "    </tr>\n",
              "  </tbody>\n",
              "</table>\n",
              "</div>\n",
              "      <button class=\"colab-df-convert\" onclick=\"convertToInteractive('df-638af14e-f97a-4437-9870-ca0ee7bd4d56')\"\n",
              "              title=\"Convert this dataframe to an interactive table.\"\n",
              "              style=\"display:none;\">\n",
              "        \n",
              "  <svg xmlns=\"http://www.w3.org/2000/svg\" height=\"24px\"viewBox=\"0 0 24 24\"\n",
              "       width=\"24px\">\n",
              "    <path d=\"M0 0h24v24H0V0z\" fill=\"none\"/>\n",
              "    <path d=\"M18.56 5.44l.94 2.06.94-2.06 2.06-.94-2.06-.94-.94-2.06-.94 2.06-2.06.94zm-11 1L8.5 8.5l.94-2.06 2.06-.94-2.06-.94L8.5 2.5l-.94 2.06-2.06.94zm10 10l.94 2.06.94-2.06 2.06-.94-2.06-.94-.94-2.06-.94 2.06-2.06.94z\"/><path d=\"M17.41 7.96l-1.37-1.37c-.4-.4-.92-.59-1.43-.59-.52 0-1.04.2-1.43.59L10.3 9.45l-7.72 7.72c-.78.78-.78 2.05 0 2.83L4 21.41c.39.39.9.59 1.41.59.51 0 1.02-.2 1.41-.59l7.78-7.78 2.81-2.81c.8-.78.8-2.07 0-2.86zM5.41 20L4 18.59l7.72-7.72 1.47 1.35L5.41 20z\"/>\n",
              "  </svg>\n",
              "      </button>\n",
              "      \n",
              "  <style>\n",
              "    .colab-df-container {\n",
              "      display:flex;\n",
              "      flex-wrap:wrap;\n",
              "      gap: 12px;\n",
              "    }\n",
              "\n",
              "    .colab-df-convert {\n",
              "      background-color: #E8F0FE;\n",
              "      border: none;\n",
              "      border-radius: 50%;\n",
              "      cursor: pointer;\n",
              "      display: none;\n",
              "      fill: #1967D2;\n",
              "      height: 32px;\n",
              "      padding: 0 0 0 0;\n",
              "      width: 32px;\n",
              "    }\n",
              "\n",
              "    .colab-df-convert:hover {\n",
              "      background-color: #E2EBFA;\n",
              "      box-shadow: 0px 1px 2px rgba(60, 64, 67, 0.3), 0px 1px 3px 1px rgba(60, 64, 67, 0.15);\n",
              "      fill: #174EA6;\n",
              "    }\n",
              "\n",
              "    [theme=dark] .colab-df-convert {\n",
              "      background-color: #3B4455;\n",
              "      fill: #D2E3FC;\n",
              "    }\n",
              "\n",
              "    [theme=dark] .colab-df-convert:hover {\n",
              "      background-color: #434B5C;\n",
              "      box-shadow: 0px 1px 3px 1px rgba(0, 0, 0, 0.15);\n",
              "      filter: drop-shadow(0px 1px 2px rgba(0, 0, 0, 0.3));\n",
              "      fill: #FFFFFF;\n",
              "    }\n",
              "  </style>\n",
              "\n",
              "      <script>\n",
              "        const buttonEl =\n",
              "          document.querySelector('#df-638af14e-f97a-4437-9870-ca0ee7bd4d56 button.colab-df-convert');\n",
              "        buttonEl.style.display =\n",
              "          google.colab.kernel.accessAllowed ? 'block' : 'none';\n",
              "\n",
              "        async function convertToInteractive(key) {\n",
              "          const element = document.querySelector('#df-638af14e-f97a-4437-9870-ca0ee7bd4d56');\n",
              "          const dataTable =\n",
              "            await google.colab.kernel.invokeFunction('convertToInteractive',\n",
              "                                                     [key], {});\n",
              "          if (!dataTable) return;\n",
              "\n",
              "          const docLinkHtml = 'Like what you see? Visit the ' +\n",
              "            '<a target=\"_blank\" href=https://colab.research.google.com/notebooks/data_table.ipynb>data table notebook</a>'\n",
              "            + ' to learn more about interactive tables.';\n",
              "          element.innerHTML = '';\n",
              "          dataTable['output_type'] = 'display_data';\n",
              "          await google.colab.output.renderOutput(dataTable, element);\n",
              "          const docLink = document.createElement('div');\n",
              "          docLink.innerHTML = docLinkHtml;\n",
              "          element.appendChild(docLink);\n",
              "        }\n",
              "      </script>\n",
              "    </div>\n",
              "  </div>\n",
              "  "
            ],
            "text/plain": [
              "                                                                                                                                                                                                                                                                                      line  \\\n",
              "1  So if a photon is directed through a plane with two slits in it and either slit is observed it will not go through both slits. If it’s unobserved it will, however, if it’s observed after it’s left the plane but before it hits its target, it will not have gone through both slits.   \n",
              "2                                                                                                                                                                                                                                                               Agreed, what’s your point?   \n",
              "3                                                                                                                                                                                                                         There’s no point, I just think it’s a good idea for a tee-shirt.   \n",
              "4                                                                                                                                                                                                                                                                               Excuse me?   \n",
              "5                                                                                                                                                                                                                                                                                 Hang on.   \n",
              "\n",
              "      character season episode_number    episode_name episode_id  \\\n",
              "1       Sheldon      1              1  Pilot Episode         1-1   \n",
              "2       Leonard      1              1  Pilot Episode         1-1   \n",
              "3       Sheldon      1              1  Pilot Episode         1-1   \n",
              "4       Leonard      1              1  Pilot Episode         1-1   \n",
              "5  Receptionist      1              1  Pilot Episode         1-1   \n",
              "\n",
              "                      location  \n",
              "1  A corridor at a sperm bank.  \n",
              "2  A corridor at a sperm bank.  \n",
              "3  A corridor at a sperm bank.  \n",
              "4  A corridor at a sperm bank.  \n",
              "5  A corridor at a sperm bank.  "
            ]
          },
          "metadata": {},
          "execution_count": 466
        }
      ]
    },
    {
      "cell_type": "markdown",
      "source": [
        "### Save df"
      ],
      "metadata": {
        "id": "lMehC_tv1xeB"
      }
    },
    {
      "cell_type": "code",
      "source": [
        "#save  dataframe \n",
        "#raw.to_csv(\"cleaned_episodes.csv\", index=False)"
      ],
      "metadata": {
        "id": "NR_TjRiE1tjS"
      },
      "execution_count": 467,
      "outputs": []
    },
    {
      "cell_type": "code",
      "source": [
        ""
      ],
      "metadata": {
        "id": "tgAl2xEe1qUC"
      },
      "execution_count": 467,
      "outputs": []
    },
    {
      "cell_type": "markdown",
      "source": [
        "# Grouping lines by episode"
      ],
      "metadata": {
        "id": "QyrJ6R0Q1zhw"
      }
    },
    {
      "cell_type": "code",
      "source": [
        ""
      ],
      "metadata": {
        "id": "8qwMQSiCzA6e"
      },
      "execution_count": 467,
      "outputs": []
    },
    {
      "cell_type": "code",
      "source": [
        "#pd.set_option('display.max_colwidth', None)\n",
        "episode = raw.copy()\n",
        "\n",
        "#turn season and episode to integer for sorting purposes\n",
        "episode [['season', 'episode_number']] = episode [['season', 'episode_number']].astype('int')\n",
        "\n",
        "#group lines by episode and sort\n",
        "episode  = episode .groupby(['season', 'episode_number'])['line'].apply(' '.join).reset_index()\n",
        "episode  = episode .sort_values(['season', 'episode_number'])\n",
        "\n",
        "#create key and drop redundant columns\n",
        "episode ['episode_id'] = (episode['season']).astype('str') + \"-\" + (episode['episode_number']).astype('str')\n",
        "episode  =episode .drop(['season', 'episode_number'], axis=1)\n",
        "\n",
        "episode .head()"
      ],
      "metadata": {
        "colab": {
          "base_uri": "https://localhost:8080/",
          "height": 1000
        },
        "id": "188ql3AoSDg6",
        "outputId": "2291382f-946d-45c7-b4bf-d48e92c657b2"
      },
      "execution_count": 468,
      "outputs": [
        {
          "output_type": "execute_result",
          "data": {
            "text/html": [
              "\n",
              "  <div id=\"df-bc14e48c-d3e1-4474-b0d1-f32a541d76a7\">\n",
              "    <div class=\"colab-df-container\">\n",
              "      <div>\n",
              "<style scoped>\n",
              "    .dataframe tbody tr th:only-of-type {\n",
              "        vertical-align: middle;\n",
              "    }\n",
              "\n",
              "    .dataframe tbody tr th {\n",
              "        vertical-align: top;\n",
              "    }\n",
              "\n",
              "    .dataframe thead th {\n",
              "        text-align: right;\n",
              "    }\n",
              "</style>\n",
              "<table border=\"1\" class=\"dataframe\">\n",
              "  <thead>\n",
              "    <tr style=\"text-align: right;\">\n",
              "      <th></th>\n",
              "      <th>line</th>\n",
              "      <th>episode_id</th>\n",
              "    </tr>\n",
              "  </thead>\n",
              "  <tbody>\n",
              "    <tr>\n",
              "      <th>0</th>\n",
              "      <td>So if a photon is directed through a plane with two slits in it and either slit is observed it will not go through both slits. If it’s unobserved it will, however, if it’s observed after it’s left the plane but before it hits its target, it will not have gone through both slits. Agreed, what’s your point? There’s no point, I just think it’s a good idea for a tee-shirt. Excuse me? Hang on. One across is Aegean, eight down is Nabakov, twenty-six across is MCM, fourteen down is… move your finger… phylum, which makes fourteen across Port-au-Prince. See, Papa Doc’s capital idea, that’s Port-au-Prince. Haiti. Can I help you? Yes. Um, is this the High IQ sperm bank? If you have to ask, maybe you shouldn’t be here. I think this is the place. Fill these out. Thank-you. We’ll be right back. Oh, take your time. I’ll just finish my crossword puzzle. Oh wait. Leonard, I don’t think I can do this. What, are you kidding? You’re a semi-pro. No. We are committing genetic fraud. There’s no guarantee that our sperm is going to generate high IQ offspring, think about that. I have a sister with the same basic DNA mix who hostesses at Fuddruckers. Sheldon, this was your idea. A little extra money to get fractional T1 bandwidth in the apartment. I know, and I do yearn for faster downloads, but there’s some poor woman is going to pin her hopes on my sperm, what if she winds up with a toddler who doesn’t know if he should use an integral or a differential to solve the area under a curve. I’m sure she’ll still love him. I wouldn’t. Well, what do you want to do? I want to leave. Okay. What’s the protocol for leaving? I don’t know, I’ve never reneged on a proffer of sperm before. Let’s try just walking out. Okay. Bye-bye See you. Are you still mad about the sperm bank? No. You want to hear an interesting thing about stairs? Not really. If the height of a single step is off by as little as two millimetres, most people will trip. I don’t care. Two millimetres? That doesn’t seem right. No, it’s true, I did a series of experiments when I was twelve, my father broke his clavicle. Is that why they sent you to boarding school? No, that was the result of my work with lasers. New neighbour? Evidently. Significant improvement over the old neighbour. Two hundred pound transvestite with a skin condition, yes she is. Oh, hi! Hi. Hi. Hi. Hi. Hi? We don’t mean to interrupt, we live across the hall. Oh, that’s nice. Oh… uh… no… we don’t live together… um… we live together but in separate, heterosexual bedrooms. Oh, okay, well, guess I’m your new neighbour, Penny. Leonard, Sheldon. Hi. Hi. Hi. Hi. Hi. Well, uh, oh, welcome to the building. Thankyou, maybe we can have coffee sometime. Oh, great. Great. Great. Great. Well, bye. Bye. Bye. Bye. Should we have invited her for lunch? No. We’re going to start Season Two of Battlestar Galactica. We already watched the Season Two DVDs. Not with commentary. I think we should be good neighbours, invite her over, make her feel welcome. We never invited Louis-slash-Louise over. Well, then that was wrong of us. We need to widen our circle. I have a very wide circle. I have 212 friends on myspace. Yes, and you’ve never met one of them. That’s the beauty of it. I’m going to invite her over. We’ll have a nice meal and chat. Chat? We don’t chat. At least not offline. Well it’s not difficult, you just listen to what she says and then you say something appropriate in response. To what end? Hi. Again. Hi. Hi. Hi. Hi. Anyway, um. We brought home Indian food. And, um. I know that moving can be stressful, and I find that when I’m undergoing stress, that good food and company can have a comforting effect. Also, curry is a natural laxative, and I don’t have to tell you that, uh, a clean colon is just one less thing to worry about. Leonard, I’m not expert here but I believe in the context of a luncheon invitation, you might want to skip the reference to bowel movements. Oh, you’re inviting me over to eat? Uh, yes. Oh, that’s so nice, I’d love to. Great. So, what do you guys do for fun around here? Well, today we tried masturbating for money. Okay, well, make yourself at home. Okay, thankyou. You’re very welcome. This looks like some serious stuff, Leonard, did you do this? Actually that’s my work. Wow. Yeah, well, it’s just some quantum mechanics, with a little string theory doodling around the edges. That part there, that’s just a joke, it’s a spoof of the Bourne-Oppenheimer approximation. So you’re like, one of those, beautiful mind genius guys. Yeah. This is really impressive. I have a board. If you like boards, this is my board. Holy smokes. If by holy smokes you mean a derivative restatement of the kind of stuff you can find scribbled on the wall of any men’s room at MIT, sure. What? Oh, come on. Who hasn’t seen this differential below “here I sit broken hearted?” At least I didn’t have to invent twenty-six dimensions just to make the math come out. I didn’t invent them, they’re there. In what universe? In all of them, that is the point. Uh, do you guys mind if I start? Um, Penny, that’s where I sit. So, sit next to me. No, I sit there. What’s the difference? What’s the difference? Here we go. In the winter that seat is close enough to the radiator to remain warm, and yet not so close as to cause perspiration. In the summer it’s directly in the path of a cross breeze created by open windows there, and there. It faces the television at an angle that is neither direct, thus discouraging conversation, nor so far wide to create a parallax distortion, I could go on, but I think I’ve made my point. Do you want me to move? Well. Just sit somewhere else. Fine. (Wanders in circles, looking lost.) Sheldon, sit!&lt;br/&gt; Aaah! Well this is nice. We don’t have a lot of company over. That’s not true. Koothrapali and Wolowitz come over all the time. Yes I now, but… Tuesday night we played Klingon boggle until one in the morning. Yes, I remember. I resent you saying we don’t have company. I’m sorry. That is an antisocial implication. I said I’m sorry. So, Klingon boggle? Yeah, it’s like regular boggle but, in Klingon. That’s probably enough about us, tell us about you. Um, me, okay, I’m Sagittarius, which probably tells you way more than you need to know. Yes, it tells us that you participate in the mass cultural delusion that the Sun’s apparent position relative to arbitrarily defined constellations and the time of your birth somehow effects your personality. Participate in the what? I think what Sheldon’s trying to say, is that Sagittarius wouldn’t have been our first guess. Oh, yeah, a lot of people think I’m a water sign. Okay, let’s see, what else, oh, I’m a vegetarian, oh, except for fish, and the occasional steak, I love steak. That’s interesting. Leonard can’t process corn. Wu-uh, do you have some sort of a job? Oh, yeah, I’m a waitress at the Cheesecake Factory. Oh, okay. I love cheesecake. You’re lactose intolerant. I don’t eat it, I just think it’s a good idea. Oh, anyways, I’m also writing a screenplay. It’s about this sensitive girl who comes to L.A. from Lincoln Nebraska to be an actress, and winds up a waitress at the Cheesecake Factory. So it’s based on your life? No, I’m from Omaha. Well, if that was a movie I would go see it. I know, right? Okay, let’s see, what else? Um, that’s about it. That’s the story of Penny. Well it sounds wonderful. It was. Until I fell in love with a jerk. What’s happening. I don’t know. Oh God, you know, four years I lived with him, four years, that’s like as long as High School. It took you four years to get through High School? Don’t. I just, I can’t believe I trusted him.&lt;br/&gt; Should I say something? I feel like I should say something. You? No, you’ll only make it worse. You want to know the most pathetic part? Even though I hate his lying, cheating guts, I still love him. Is that crazy? Yes. No, it’s not crazy it’s, uh, uh, it’s a paradox. And paradoxes are part of nature, think about light. Now if you look at Huygens, light is a wave, as confirmed by the double slit experiments, but then, along comes Albert Einstein and discovers that light behaves like particles too. Well, I didn’t make it worse. Oh, I’m so sorry, I’m such a mess, and on top of everything else I’m all gross from moving and my stupid shower doesn’t even work. Our shower works. Really? Would it be totally weird if I used it? Yes. No. No? No. No. It’s right down the hall. Thanks. You guys are really sweet.&lt;br/&gt; Well this is an interesting development. How so? It has been some time since we’ve had a woman take her clothes off in our apartment. That’s not true, remember at Thanksgiving my grandmother with Alzheimer’s had that episode. Point taken. It has been some time since we’ve had a woman take her clothes off after which we didn’t want to rip our eyes out. The worst part was watching her carve that turkey. So, what exactly are you trying to accomplish here? Excuse me? That woman in there’s not going to have sex with you. Well I’m not trying to have sex with her. Oh, good. Then you won’t be disappointed. What makes you think she wouldn’t have sex with me, I’m a male and she’s a female? Yes, but not of the same species. I’m not going to engage in hypotheticals here, I’m just trying to be a good neighbour. Oh, of course. That’s not to say that if a carnal relationship were to develop that I wouldn’t participate. However briefly. Do you think this possibility will be helped or hindered when she discovers your Luke Skywalker no-more-tears shampoo? It’s Darth Vader shampoo. (There is a knock on the door.) Luke Skywalker’s the conditioner.&lt;br/&gt; Wait till you see this. It’s fantastic. Unbelievable. See what? It’s a Stephen Hawking lecture from MIT in 1974. This is not a good time. It’s before he became a creepy computer voice That’s great, you guys have to go. Why? It’s just not a good time. Leonard has a lady over. Yeah, right, your grandmother back in town? No. And she’s not a lady, she’s just a new neighbour. Hang on, there really is a lady here? Uh-huh. And you want us out because you’re anticipating coitus? I’m not anticipating coitus. So she’s available for coitus? Can we please stop saying coitus? Technically that would be coitus interruptus. Hey, is there a trick to getting it to switch from tub to shower. Oh. Hi, sorry. Hello! Enchante Madamoiselle. Howard Wolowitz, Cal-Tech department of Applied Physics. You may be familiar with some of my work, it’s currently orbiting Jupiter’s largest moon taking high-resolution digital photographs. Penny. I work at the Cheesecake Factory. Come on, I’ll show you the trick with the shower. Bon douche. I’m sorry? It’s French for good shower. It’s a sentiment I can express in six languages. Save it for your blog, Howard. See-ka-tong-guay-jow. Uh, there it goes, it sticks, I’m sorry. Okay. Thanks. You’re welcome, oh, you’re going to step right, okay, I’ll…. Hey, Leonard? The hair products are Sheldon’s. Um, okay. Can I ask you a favour. A favour? Sure, you can ask me a favour, I would do you a favour for you. It’s okay if you say no. Oh, I’ll probably say yes. It’s just not the kind of thing you ask a guy you’ve just met. Wow. I really think we should examine the chain of causality here. Must we? Event A. A beautiful woman stands naked in our shower. Event B. We drive half way across town to retrieve a television set from the aforementioned woman’s ex-boyfriend. Query, on what plane of existence is there even a semi-rational link between these events? She asked me to do her a favour, Sheldon. Ah, yes, well that may be the proximal cause of our journey, but we both know it only exists in contradistinction to the higher level distal cause. Which is? You think with your penis. That’s a biological impossibility and you didn’t have to come. Oh, right, yes, I could have stayed behind and watched Wolowitz try to hit on Penny in Russian, Arabic and Farsi. Why can’t she get her own TV. Come on, you know how it is with break-ups. No I don’t. And neither do you. Wuh, I, I broke up with Joyce Kim. You did not break up with Joyce Kim, she defected to North Korea. To mend her broken heart. This situation is much less complicated. There’s some kind of dispute between Penny and her ex-boyfriend as to who gets custody of the TV. She just wanted to avoid having a scene with him. So we get to have a scene with him? No, Sheldon, there’s not going to be a scene. There’s two of us and one of him. Leonard, the two of us can’t even carry a TV. So, you guys work with Leonard and Sheldon at the University? Uh, I’m sorry, do you speak English? Oh, he speaks English, he just can’t speak to women. Really, why? He’s kind of a nerd. Juice box? I’ll do the talking. Yeah. Hi, I’m Leonard, this is Sheldon. Hello. What did I just…. Uh, we’re here to pick up Penny’s TV. Get lost. Okay, thanks for your time. We’re not going to give up just like that. Leonard, the TV is in the building, we’ve been denied access to the building, ergo we are done. Excuse me, if I were to give up at the first little hitch I never would have been able to identify the fingerprints of string theory in the aftermath of the big bang. My apologies. What’s your plan. It’s just a privilege to watch your mind at work. Come on, we have a combined IQ of 360, we should be able to figure out how to get into a stupid building. What do you think their combined IQ is? Just grab the door. This is it. (Knocks.) I’ll do the talking. Good thinking, I’ll just be the muscle. Yeah? I’m Leonard, this is Sheldon. From the intercom. How the hell did you get in the building? Oh. We’re scientists. Tell him about our IQ. Leonard. What? My mom bought me those pants. I’m sorry. You’re going to have to call her. Sheldon, I’m so sorry I dragged you through this. It’s okay. It wasn’t my first pantsing, and it won’t be my last. And you were right about my motives, I was hoping to establish a relationship with Penny that might have some day led to sex. Well you got me out of my pants. Anyway, I’ve learned my lesson. She’s out of my league, I’m done with her, I’ve got my work, one day I’ll win the Nobel Prize and then I’ll die alone. Don’t think like that, you’re not going to die alone. Thank you Sheldon, you’re a good friend. And you’re certainly not going to win a Nobel Prize. This is one of my favourite places to kick back after a quest, they have a great house ale. Wow, cool tiger. Yeah, I’ve had him since level ten. His name is Buttons. Anyway, if you had your own game character we could hang out, maybe go on a quest. Uh, sounds interesting. So you’ll think about it? Oh, I don’t think I’ll be able to stop thinking about it. Smooth. We’re home. Oh, my God, what happened? Well, your ex-boyfriend sends his regards and I think the rest is fairly self-explanatory. I’m so sorry, I really thought if you guys went instead of me he wouldn’t be such an ass. No, it was a valid hypothesis. That was a valid hypothesis? What is happening to you? Really, thank you so much for going and trying you’re, uh, you’re so terrific. Why don’t you put some clothes on, I’ll get my purse and dinner is on me, okay? Really? Great. Thank you. You’re not done with her, are you? Our babies will be smart and beautiful. Not to mention imaginary. Is Thai food okay with you Penny? Sure. We can’t have Thai food, we had Indian for lunch. So? They’re both curry based cuisines. So? They would be gastronomically redundant. I can see we’re going to have to spell out everything for this girl. Any ideas Raj? (He just looks at her with a worried expression.) Turn left on Lake Street and head up to Colorado. I know a wonderful little sushi bar that has karaoke. That sounds like fun. Baby, baby don’t get hooked on me. Uh, baby, baby don’t get hooked on me. I don’t know what your odds are in the world as a whole, but as far as the population of this car goes, you’re a veritable Mack Daddy.</td>\n",
              "      <td>1-1</td>\n",
              "    </tr>\n",
              "    <tr>\n",
              "      <th>1</th>\n",
              "      <td>There you go, Pad Thai, no peanuts. But does it have peanut oil? Uh, I’m not sure, everyone keep an eye on Howard in case he starts to swell up. Since it’s not bee season, you can have my epinephrine. Are there any chopsticks? You don’t need chopsticks, this is Thai food. Here we go. Thailand has had the fork since the latter half of the nineteenth century. Interestingly they don’t actually put the fork in their mouth, they use it to put the food on a spoon which then goes into their mouth. Ask him for a napkin, I dare you. (There is a knock on the door.) I’ll get it. Do I look puffy? I feel puffy. Hey Leonard. Oh, hi Penny. Am I interrupting. No. You’re not swelling, Howard. No, no, look at my fingers, they’re like Vienna sausages. Sounds like you have company. They’re not going anywhere. (Closes door, staying in hallway.) So, you’re coming home from work. That’s great. How was work. Well, you know, it’s the Cheesecake Factory. People order cheesecake, and I bring it to them. So, you sort of act as a carbohydrate delivery system. Yeah, call it whatever you want, I get minimum wage. Yeah, anyways, I was wondering if you could help me out with something, I was…. Yes. Oh. Okay, great, I’m having some furniture delivered tomorrow, and I may not be here, so…. (apartment door opens, Sheldon, Raj and Howard appear) Oh! Hel…hello! (speaks a phrase in Russian). I’m sorry? Haven’t you ever been told how beautiful you are in flawless Russian? No, I haven’t. Get used to it. Yeah, I probably won’t, but… Hey Sheldon. Hi. Hey Raj! (Raj looks uncomfortable) Still not talking to me, huh? Don’t take it personally, it’s his pathology, he can’t talk to women. He can’t talk to attractive women, or in your case a cheesecake–scented Goddess! So, there’s gonna be some furniture delivered? Yeah, yeah, if it gets here and I’m not here tomorrow could you just sign for it and have them put it in my apartment. Yeah, no problem. Great, here’s my spare key. Thank you. Penny, wait. Yeah? Um, if you don’t have any other plans, do you want to join us for Thai food and a Superman movie marathon? A marathon? Wow, how many Superman movies are there? You’re kidding, right? Yeah, I do like the one where Lois Lane falls from the helicopter and Superman swooshes down and catches her, which one was that? One. (Raj raises one finger). You realise that scene was rife with scientific inaccuracy. Yes, I know, men can’t fly. Oh no, let’s assume that they can. Lois Lane is falling, accelerating at an initial rate of 32 feet per second per second. Superman swoops down to save her by reaching out two arms of steel. Miss Lane, who is now travelling at approximately 120 miles per hour, hits them, and is immediately sliced into three equal pieces. Unless, Superman matches her speed and decelerates. In what space, sir, in what space? She’s two feet above the ground. Frankly, if he really loved her, he’d let her hit the pavement. It would be a more merciful death. Excuse me, your entire argument is predicated on the assumption that Superman’s flight is a feat of strength. Are you listening to yourself, it is well established that Superman’s flight is a feat of strength, it is an extension of his ability to leap tall buildings, an ability he derives from Earth’s yellow Sun. Yeah, and you don’t have a problem with that, how does he fly at night. Uh, a combination of the moon’s solar reflection and the energy storage capacity of Kryptonian skin cells. I’m just going to go wash up. I have 26 hundred comic books in there, I challenge you to find a single reference to Kryptonian skin cells. Challenge accepted. (Tries door.) We’re locked out. Also, the pretty girl left. Okay, her apartment’s on the fourth floor but the elevator’s broken so you’re going to have to (delivery man leaves) oh, you’re just going to be done, okay, cool, thanks. I guess we’ll just bring it up ourselves. I hardly think so. Why not? Well, we don’t have a dolly, or lifting belts, or any measurable upper body strength. We don’t need strength, we’re physicists. We are the intellectual descendents of Archimedes. Give me a fulcrum and a lever and I can move the Earth, it’s just a matter… (starts to move package) I don’t have this… I don’t have this I don’t have this. Archimedes would be so proud. Do you have any ideas? Yes, but they all involve a green lantern and a power ring. Easy, easy (package falls) Okay! Now we’ve got an inclined plane. The force required to lift is reduced by the sine of the angle of the stairs, call it thirty degrees, so about half. Exactly half. Exactly half. Let’s push. Okay, see, it’s moving, this is easy, all in the math. What’s your formula for the corner. What? Oh, okay, uh, okay, yeah, no problem, just come up here and help me pull and turn. Ah, gravity, thou art a heartless bitch. You do understand that our efforts here will in no way increase the odds of you having sexual congress with this woman? Men do things for women without expecting sex. Yeah, those are men who just had sex. I’m doing this to be a good neighbour. In any case, there’s no way it could lower the odds. Almost there, almost there, almost there. (Lets go of package, it starts to slip down) No we’re not, no we’re not, no we’re not. Watch your fingers. Watch your fingers. Oh God, my fingers! You okay? No, it hurt… (looking around) Great Caesar’s Ghost, look at this place? So Penny’s a little messy. A little messy? The Mandelbrot set of complex numbers is a little messy, this is chaos. Excuse me, explain to me an organisational system where a tray of flatware on a couch is valid. I’m just inferring that this is a couch, because the evidence suggests the coffee table’s having a tiny garage sale. Did it ever occur to you that not everyone has the compulsive need to sort, organise and label the entire world around them? No. Well they don’t. Hard as it may be for you to believe, most people don’t sort their breakfast cereal numerically by fibre content. Excuse me, but I think we’ve both found that helpful at times. Come on, we should go. Hang on. What are you doing? Straightening up. Sheldon, this is not your home. This is not anyone’s home, this is a swirling vortex of entropy. When the transvestite lived here, you didn’t care how he kept the place. Because it was immaculate, I mean, you open that man’s closet, it was left to right, evening gowns, cocktail dresses, then his police uniforms. What were you doing in his closet? I helped run some cable for a webcam. Hey guys. Oh, hey Penny, this just arrived, we just brought this up, just now. Great. Was it hard getting it up the stairs? (sucks in breath) No. No? No. No. Well, we’ll get out of your hair. Oh, great, thank you again (she throws her jacket over the back of the sofa). Penny, I just want you to know that, you don’t have to live like this. I’m here for you. What’s he talking about? It’s a joke. I don’t get it. Yeah, he didn’t tell it right. Sheldon? Sheldon? Hello? Sheldon! Sssshhhh! Penny’s sleeping. Are you insane, you can’t just break into a woman’s apartment in the middle of the night and clean. I had no choice. I couldn’t sleep knowing that just outside my bedroom was our living room, and just outside our living room was that hallway, and immediately adjacent to that hallway was… this. Do you realise that if Penny wakes up, there is no reasonable explanation as to why we’re here? I just gave you a reasonable explanation. No, no. You gave me an explanation, it’s reasonableness will be determined by a jury of your peers. Don’t be ridiculous. I have no peers. Sheldon, we have to get out of here. You might want to speak in a lower register. What? Evolution has made women sensitive to high pitched noises while they sleep, so that they’ll be roused by a crying baby. If you want to avoid waking her, speak in a lower register. That’s ridiculous. (Penny snores again.) No, (lowering his voice dramatically,) that’s ridiculous. Fine. I accept your premise, now please let’s go. I am not leaving until I’m done. O-o-o-oh! (Collapses against wall). If you have time to lean, you have time to clean. Oh, what the hell. Morning. Morning. I have to say, I slept splendidly. Granted, not long, but just deeply and well. I’m not surprised. A well known folk cure for insomnia is to break into your neighbour’s apartment and clean. Sarcasm? You think? Granted, my methods may have been somewhat unorthodox, but I think the end result will be a measurable enhancement of Penny’s quality of life. You know what, you’ve convinced me, maybe tonight we should sneak in and shampoo her carpet. You don’t think that crosses a line? Yes! For God’s sake, Sheldon, do I have to hold up a sarcasm sign every time I open my mouth. You have a sarcasm sign? No, I do not have a sarcasm sign. Do you want some cereal. I’m feeling so good today I’m going to choose from the low fibre end of the shelf. Hello, Honey Puffs. Son of a Bitch! Penny’s up. You sick, geeky bastards! How did she know it was us? I may have left a suggested organisational schematic for her bedroom closet. Leonard! God, this is going to be bad. Goodbye, Honey Puffs, hello Big Bran. You came into my apartment last night when I was sleeping? Yes, but, only to clean. Really more to organise, you’re not actually dirty, per se. Give me back my key. I’m very, very sorry. Do you understand how creepy this is. Oh, yes, we discussed it at length last night. In my apartment, while I was sleeping. And snoring. And that’s probably just a sinus infection, but it could be sleep apnoea, you might want to see an otolaryngologist. It’s a throat doctor. And what kind of doctor removes shoes from asses? Depending on the depth, that’s either a proctologist or a general surgeon. (Leonard holds up a sign reading “Sarcasm”) Oh! God! Okay, look, no Penny, I think what you’re feeling is perfectly valid, and maybe a little bit later today when you’re feeling a little bit less, for lack of a better word, violated, maybe we could talk about this some more. Stay away from me. Sure, that’s another way to go. Penny, Penny, just to clarify because there will be a discussion when you leave, is your objection solely to our presence in the apartment while you were sleeping, or do you also object to the imposition of a new organisational paradigm. (Penny stares in disbelief, then leaves.) Well that was a little non-responsive. You are going to march yourself over there right now and apologise. (Sheldon laughs.) What’s funny? That wasn’t sarcasm? No. Wooh, boy, you are all over the place this morning. (Knocks on Penny’s door.) I have a masters and two PhD’s, I should not have to do this. What? I am truly sorry for what happened last night, I take full responsibility. And I hope that it won’t colour your opinion of Leonard, who is not only a wonderful guy, but also, I hear, a gentle and thorough lover. (Penny closes door in his face.) I did what I could. Hey Raj. (Raj stands looking uncomfortable.) Hey, listen, I don’t know if you heard about what happened last night with Leonard and Sheldon, but I’m really upset about it, I mean they just, they let themselves into my place, and then they cleaned it, I mean can you even believe that? How weird is that? Ooh, she’s standing very close to me. Oh my, she does smell good. What is that, vanilla? You know, where I come from, someone comes into your house at night, you shoot, okay? And you don’t shoot to wound. I mean, alright, my sister shot her husband, but it was an accident, they were drunk. What was I saying? She’s so chatty. Maybe my parents are right. Maybe I’d be better off with an Indian girl. We’d have the same cultural background, and my wife would sing to my children the same lullabies my mother sang to me. It’s obvious that they meant well, but I’m just, I’m having a really rough time, like I said, I broke up with my boyfriend, and it’s just freaking me out. I mean, just because most of the men I’ve known in my life happen to be jerks, doesn’t mean I should just assume Leonard and Sheldon are. Right? She asked me a question. I should probably nod. (Does.) That’s exactly what I thought. Thank you for listening. You’re a doll. (She hugs him.) Oh-oh. Turn your pelvis. (Does.) Grab a napkin, homie. You just got served. It’s fine. You win. What’s his problem? His imaginary girlfriend broke up with him. Been there. Hello. Sorry I’m late. But I was in the hallway, chatting up Penny. Really? You? Rajesh Koothrapali, spoke to Penny? Actually, I was less the chatter than the chattee. What did she say? Is she still mad at me? Well, she was upset at first, but, probably because her sister shot somebody. Then there was something about you and… then she hugged me. She hugged you? How did she hug you? (Raj hugs Howard.) Is that her perfume I smell? intoxicating, isn’t it? Hi. Oh. What’s going on? Um, here’s the thing. (Reads from note.) Penny. Just as Oppenheimer came to regret his contributions to the first atomic bomb, so too I regret my participation in what was, at the very least, an error in judgement. The hallmark of the great human experiment is the willingness to recognise one’s mistakes. Some mistakes, such as Madame Curie’s discovery of Radium turned out to have great scientific potential even though she would later die a slow, painful death from radiation poisoning. Another example, from the field of ebola research…. Leonard. Yeah. We’re okay. (Kisses him on cheek. Closes door. Leonard looks happy, walks back across hallway and straight into the apartment door.) Six two inch dowels. Check. One package, Phillips head screws. Check. Guys, seriously, I grew up on a farm, okay, I rebuilt a tractor engine when I was like twelve, I think I can put together a cheap Swedish media centre. No, please, we insist, it’s the least we can do considering. Considering what? How great this place looks? Oh boy, I was afraid of this. What? These instructions are a pictographic representation of the least imaginative way to assemble these components. This right here is why Sweden has no space program. Well, uh, it looked pretty good in the store. It is an inefficient design, for example Penny has a flat screen TV, which means all the space behind it is wasted. We could put her stereo back there. And control it how? Run an infra-red repeater, photocell here, emitter here, easy peasy. Good point, how you gonna cool it? Hey guys, I got this. Hang on Penny. How about fans, here and here? Also inefficient, and might be loud. How about liquid coolant? Maybe a little aquarium pump here, run some quarter inch PVC… Guys, this is actually really simple. Hold on, honey, men at work. The PVC comes down here, maybe a little corrugated sheet metal as a radiator here. Oh, really, show me where we put a drip tray, a sluice and an overflow reservoir? And if water is involved we’re going to have to ground the crap out of the thing. Guys, it’s hot in here, I think I’ll just take off all my clothes. Oh, I’ve got it. How about if we replace panels A, B and F and crossbar H with aircraft grade aluminium. Right, then the entire thing’s one big heat sink. Perfect, Leonard, why don’t you and Sheldon go down to the junk yard and pick up about six square metres of scrap aluminium, Raj and I will run down to my lab and get the oxy-acetaline torch. Meet back here in an hour? Done. Got it. (They all leave). Okay, this place does look pretty good. Robert Cohen &amp;amp; Dave Goetsch Chuck Lorre &amp;amp; Bill Prady</td>\n",
              "      <td>1-2</td>\n",
              "    </tr>\n",
              "    <tr>\n",
              "      <th>2</th>\n",
              "      <td>Alright, just a few more feet, and…. here we are gentlemen, the Gates of Elzebub. Good lord! Oooh. Don’t panic, this is what the last 97 hours have been about. Stay frosty, there’s a horde of armed goblins on the other side of that gate guarding the Sword of Azeroth. Warriors, unsheathe your weapons, magic wielders raise your wands. Lock and load. Raj, blow up the gates. Blowing the gates. Control, shift, B! Oh, my God, so many goblins! Don’t just stand there, slash and move, slash and move. Stay in formation. Leonard, you’ve got one on your tail. That’s alright, my tail’s prehensile, I’ll swat him off. I’ve got him Leonard. Tonight I spice my meat with goblin blood! Raj, no, it’s a trap, they’re flanking us! Oooh, he’s got me. Sheldon, he’s got Raj, use your sleath spell. Sheldon! Sheldon! I’ve got the Sword of Azeroth! Forget the sword, Sheldon, help Raj. There is no more Sheldon, I am the Swordmaster! Leonard look out! Dammit man, we’re dying here. Goodbye, peasants. The bastard teleported. He’s selling the Sword of Azeroth on ebay. You betrayed us for money, who are you? I’m a rogue knight elf, don’t you people read character descriptions? Wait, wait, wait, somebody just clicked “buy it now.” I am the Swordmaster! Wooh, I’m all sweaty, anybody want to log on to second life and go swimming, I just built a virtual pool. No, I can’t look at you or your avatar right now. Sounds like your neighbour’s home. Excuse me. Don’t forget the mail you took accidentally on purpose so you’d have an excuse to talk to her. Oh, right, right right right right. Stealing snail mail, very old school, I like it. Penny, the mailman did it again, he… (looks up to see Penny kissing a hunky man) Oh! Sorry. Um, no, hi Leonard, this is Doug, Doug, this is my neighbour Leonard. What’s up bro. Not much. Bro. Is, is everything okay. Uh, yeah, uh, I just, I got your mail again, here. Thank you, I’ve got to talk to that mailman. Oh no, that’s probably not such a good idea. Civil servants have a documented propensity to, you know, snap. Okay, well, thank you, again. No problem. Bye. Oh, and, bye, bro! (Returns to apartment). Penny for your thoughts. What’s the matter. No, I’m fine. Penny’s fine, the guy she’s kissing is really fine and… Kissing, what kind of kissing? Cheeks? Lips? Chaste? French? What is wrong with you? I’m a romantic. Please don’t tell me that your hopeless infatuation is devolving into pointless jealousy. No, I’m not jealous, I’m just a little concerned for her. I didn’t like the look of the guy that she was with. Because he looked better than you? Yeah. He was kinda dreamy. Well, at least now you can retrieve the black box from the twisted smouldering wreckage that was once your fantasy of dating her, and analyse the data so that you don’t crash into geek mountain again. I disagree, love is not a sprint, it’s a marathon. A relentless pursuit that only ends when she falls into your arms. Or hits you with the pepper spray. Well, I’m done with Penny. I’m going to be more realistic and go after someone my own speed. Like who? I don’t know. Olivia Geiger? The dietician at the cafeteria with the limp and the lazy eye? Yeah. Well, I don’t think you have a shot there. I have noticed that Lesley Winkle recently started shaving her legs. Now, given that winter is coming one can only assume that she is signalling sexual availability. I don’t know, you guys work in the same lab. So? There are pitfalls, trust me, I know. When it comes to sexual harassment law I’m… a bit of a self-taught expert. Look, Howard, if I were to ask Lesley Winkle out it would just be for dinner, I’m not going to walk into the lab, ask her to strip naked and dance for me. Oh, then you’re probably okay. Hello Lesley. Hi Leonard. Lesley I would like to propose an experiment. Goggles, Leonard. Right. Lesley, I would like to propose an experiment. Hang on. I’m trying to see how long it takes a five hundred kilowatt oxygen iodine laser to heat up my cup o’ noodles. Pfff, I’ve done it, about two seconds, 2.6 for minestrone. Anyway, I was thinking more of a bio-social exploration with a neuro-chemical overlay. Wait, are you asking me out? I was going to characterise it as the modification of our colleague/friendship paradigm, with the addition of a date-like component. But we don’t need to quibble over terminology. What sort of experiment would you propose? There is a generally accepted pattern in this area, I would pick you up, take you to a restaurant, then we would see a movie, probably a romantic comedy featuring the talents of Hugh Grant or Sandra Bullock. Interesting. And would you agree that the primary way we would evaluate either the success or failure of the date would be based on the bio-chemical reaction during the goodnight kiss. Heartrate, pheromones, etc, yes. Well, why don’t we just stipulate that the date goes well and move to the key variable. You mean, kiss you now? Yes. Can you define the parameters of the kiss? Closed mouth but romantic. Mint? Thank you. (Takes mint). Shall I count down from three? No, I think it needs to be spontaneous. What do you think. You proposed the experiment, I think you should present your findings first. Fair enough. On the plus side, it was a good kiss, reasonable technique, no extraneous spittle. On the other hand, no arousal. None? None. Ah. Well, thank you for your time. Thank you. None at all? Sheldon, if you were a robot, and I knew and you didn’t, would you want me to tell you? That depends. When I learn that I’m a robot, will I be able to handle it? Maybe, although the history of science-fiction is not on your side. Uh, let me ask you this. When I learn that I’m a robot, would I be bound by Asimov’s three laws of robotics? You might be bound by them right now. That’s true. Have you ever harmed a human being, or through inaction allowed a human being to come to harm? Of course not. Have you ever harmed yourself, or allowed yourself to be harmed except in cases where a human being would have been endangered? Well, no. I smell robot. Hey, what’s going on. The internet’s been down for half an hour. Also, Sheldon may be a robot. So, how did it go with Lesley? Oh, we tried kissing, but the earth didn’t move. I mean any more than the 383 miles that it was going to move anyway. Oh, I’ve seen that look before. This is just going to be two weeks of moping and tedious emo songs, and calling me to come down to pet stores to look at cats. I don’t know if I can take it. You could power down. Well, as usual, Wolowitz has the solution. I happen to know a place where there are plenty of eligible women, and Leonard could have his pick. Remember the Latin hips. Shoulders stay still, and we sway. One two three. Five six seven. I think Mrs Tishman’s got her eye on you. I’ve been there, you’re in for a treat. Oh, good lord. You don’t know me, you don’t wear my chains… God, that’s a good song. If you’re compiling a mix CD for a double suicide. (Leonard is taking supplies out of a bag) Oh, I hope that scratching post is for you. I know what you’re thinking, I’ve taken your asthma into account. There’s a feline geneticist in San Diego who has developed the cutest little hypo-allergenic calicos. Leonard, listen to me… I’ve been thinking about names, I’m kind of torn between Einstein, Newton and Sergeant Fuzzyboots. Leonard, do you really think you can satisfy your need for a relationship with a genetically altered cat? Maybe, if it’s a cute little cuddly cat. Oh, come on, Leonard! This is obviously about Penny. It doesn’t matter. The woman’s not interested in me, the woman rejected me. Okay, look, I think that you have as much of a chance of having a sexual relationship with Penny as the Hubble Telescope does of discovering at the centre of every black hole is a little man with a flashlight searching for a circuit breaker. Nevertheless, I do feel obligated to point out to you that she did no reject you. You did not ask her out. You’re right. I didn’t ask her out, I should ask her out. No. No, now that was not my point. My point was, don’t buy a cat. No, but you’re right. I should march over there and ask her out. Oh, goody, we’re getting a cat. Ah, hey Leonard. Good afternoon Penny, so hi, hey. Uh… I was wondering if you had plans for dinner. Uh, do you mean dinner tonight? There is an inherent ambiguity in the word dinner. Technically it refers to the largest meal of the day whenever it is consumed, so, to clarify here, by dinner I mean supper. Supper? Or dinner. I was thinking six thirty, if you can go, or a different time. Uh, six thirty’s great. Really? Great! Yeah, I like hanging out with you guys. Us guys? You know, Sheldon, Howard, Raj, who all’s coming? They…. might all be there. Or a subset of them might be there, uh, algebraically speaking there are too many unknowns, for example Sheldon had Quizznos for lunch, sometimes he finds that filling, other times he doesn’t, it’s no fault of Quizznos, they have a varied menu. Okay, whatever, it sounds like fun. Great. Did we say a time? Six thirty. And that’s still good for you. It’s fine. Cos it’s not carved in stone. No, six thirty’s great. I’ll get my chisel. Why? To… carve the… okay, I’ll see you six thirty. How do I look? Could you be more specific? Can you tell I’m perspiring a little? No. The dark crescent-shaped patterns under your arms conceal it nicely. What time is your date? Six thirty. Perfect, that gives you two hours and fifteen minutes for that dense molecular cloud of Aramis to dissipate. Is it too much? Not if you’re a rugby team. By the way, if it should ever come up, you didn’t join us because you stuffed yourself with a chicken carbonara sub at Quizznos. Why would I join you? No reason. Oh, you know what, maybe this isn’t such a good idea. Oh, no, no, no, well now, there’s always the possibility that alcohol and poor judgement on her part might lead to a nice romantic evening. You’re right, alcohol, poor judgement, it could go well. Of course, there’s the other possibility that this date kicks off a rather unpleasant six months of the two of you passing awkwardly in the hall until one of you breaks down and moves to another zip code. You could have stopped at “it could go well.” If I could of, I would of. I mean, I’m a perfectly nice guy. There’s no reason we couldn’t go to the restaurant and have a lovely dinner. Maybe take a walk afterwards, talk about things we have in common, “you love pottery? I love pottery!” You know, there’s a pause, we both know what’s happening, I lean in, we kiss, it’s a little tentative at first but then I realise, she’s kissing me back, and she’s biting my lower lip, you know, she wants me, this thing is going the distance, we’re going to have sex! Oh God! Oh, my God! Is the sex starting now? I’m having a panic attack. Oh, okay, well then, calm down. If I could calm down I wouldn’t be having a panic attack, that’s why they call it a panic attack. Alright, alright, well, just, sit down, yes, sit down, now close your eyes. Why? Just do it. Okay. Now try to increase your alpha-wave activity. What? It’s a bio-feedback technique, it’s relaxation through brain-wave manipulation, I read a paper about it in the Journal of American Neuroscience, it was a little sparsely sourced but I think the basic science is valid, I probably have it here somewhere. Oh, who am I kidding, I can’t go through with this, you need to call her and cancel. Me? Yes. What should I tell her. I don’t know. Tell her I’m sick. Okay. Not the kind of illness that will make her want to come over and take care of me, but nothing so critical that she’ll feel uncomfortable going out with me in the future if I want to try this again. Got it. So I’m assuming nothing venereal. I’ll just tell her that you had a routine colonoscopy and haven’t quite bounced back. Give me the phone. But I thought you wanted to cancel? I can’t because if I don’t show up she’ll still be expecting you. Why would she be expecting me? Stop asking me all these questions, I need to take another shower. So are the rest of the guys meeting us here? Oh, yeah, no. Turns out that Raj and Howard had to work, and Sheldon had a colonoscopy and he hasn’t quite bounced back yet. Ooh, my uncle just had a colonoscopy. You’re kidding, well, then, that’s something we have in common. How? We both have people in our lives who… want to nip intestinal polyps in the bud. So, what’s new in the world of physics? Nothing. Really, nothing? Well, with the exception of string theory, not much has happened since the 1930’s, and you can’t prove string theory, at best you can say “hey, look, my idea has an internal logical consistency.” Ah. Well I’m sure things will pick up. What’s new at the Cheesecake Factory? Oh, uh, not much. We do have a chocolate key lime that’s moving pretty well. Good. Good. And what about your, uh, hallway friend. Doug? Oh, yeah, I dunno, I mean, he’s nice and funny, but… Can I get you started with some drinks? No, (waves her away) You were saying, but… I’d like a drink. Just say the but thing about Doug and then I’ll get her back. Okay, well, you know, it’s just me. I’m still getting over this break-up with Kurt, and this thing with Doug would be just rebound sex. Ugh, don’t get me started on rebound sex. It’s just, it’s my pattern. I break up, then I find some cute guy, and then it’s just thirty six meaningless of… well, you know. I’m not sure that I do. Um, is that one thirty-six hour experience, or is it thirty six hours spread out over say, one… glorious summer. No, it’s usually over a weekend, and trust me, you do not feel good after it. Well, chafing, right? Emotionally. Of course, yeah, emotional chafing. Hey, do you want to see something cool? (Penny nods.) I can make this olive go into this glass without touching it. How? Physics. (He places the glass over the olive and spins it until the olive gets caught up on the side). Wow, centrifugal force! Actually, it’s centripetal force, which is an inward force generated by the glass acting on the olive. (The olive drops.) Excuse me. (Leonard disappears under table.)Now, if you were riding on the olive, you’d be in a non-inertial reference frame, and would (he bangs his head on the underside of the table.) Are you okay? Yeah, I’m okay. Did you spill ketchup? No. I’m not okay. Are you sure you don’t want to go to the emergency room? No, no, I’m okay, it’s stopped bleeding. I know, but you did throw up. Isn’t that a sign of a concussion? Yes, but I get car sick too, so… Okay. Sorry about your car, by the way. Oh, no, it’s fine, you got most of it out the window. The poor guy on the bike. I had a nice time. Yeah, me too. Um, good night. (Leonard turns across hallway.) Leonard? Yeah. Was this supposed to be a date? This? No. No, of course not, this was just you and me hanging out with a bunch of guys who didn’t show up, because of work and a colonoscopy. Okay, I was just checking. When I take a girl out on a date, and I do, she knows she’s been dated. Capital D. Bold face, underline, like Day-ted. I think I might have a little concussion, I’m going to go lay down for a while, good night. So, how was your date? Awesome! Score one for liquor and poor judgement. Bill Prady &amp;amp; Steven Molaro Chuck Lorre</td>\n",
              "      <td>1-3</td>\n",
              "    </tr>\n",
              "    <tr>\n",
              "      <th>3</th>\n",
              "      <td>I’ve been thinking about time travel again. Why, did you hit a roadblock with invisibility? Put it on the back burner. Anyway, it occurs to me, if I ever did perfect a time machine, I’d just go into the past and give it to myself, thus eliminating the need for me to invent it in the first place. Interesting. Yeah, it really takes the pressure off. Sounds like a breakthrough, should I call the science magazines and tell them to hold the front cover? (Exiting the apartment.) It’s time travel, Leonard, I will have already done that. Then I guess congratulations are in order. No, congratulations will have been in order. You know, I’m not going to enjoy this party. I know, I’m familiar with you. At the last department party, Dr Finkleday cornered me and talked about spelunking for 45 minutes. Yes, I was there. You know what’s interesting about caves, Leonard? What? Nothing. Well then we’ll avoid Finkleday, we’ll meet the new department head, congratulate him, shake his hand and go. How’s this? Pleased to meet you, Dr Gablehouser. How fortunate for you that the University has chosen to hire you, despite the fact that you’ve done no original research in 25 years, and instead have written a series of popular books that reduce the great concepts of science to a series of anecdotes, each one dumbed down to accommodate the duration of an average bowel movement. Mahalo. Mahalo’s a nice touch. Do you know there are only eight consonants in the Hawaiian language. Interesting, you should lead with that. Oh, God, Look at this buffet. I love America. You don’t have buffets in India? Of course, but it’s all Indian food. You can’t find a bagel in Mumbai to save your life. Schmear me. Well here’s an interesting turn of events. What. (Sees Howard entering with a statuesque blonde) Howard brought a date? A more plausible explanation is that his work in robotics has made an amazing leap forward. Hey, what up, science bitches? May I introduce my special lady friend, Summer. (Puts arm around her.) I already told you, touching’s extra. Right. Sorry. Here comes our new boss, be polite. Hi fellas, Eric Gablehouser. Howard Wolowitz. Howard, nice to meet you, and you are? An actual real scientist. (To Leonard) How was that? I can’t believe he fired me. Well, you did call him a glorified high-school science teacher whose last successful experiment was lighting his own farts. In my defence, I prefaced that by saying “with all due respect.” Morning Morning. You’re making eggs for breakfast? This isn’t breakfast, it’s an experiment. Huh? Cos it looks a lot like breakfast. I finally have the time to test my hypothesis, about the separation of the water molecules from the egg proteins, and its impact vis-a-vis taste. Sounds yummy. I look forward to your work with bacon. As do I. You know, I’m sure if you just apologised to Gablehauser he would give you your job back. I don’t want my job back. I’ve spent the last three and a half years staring at greaseboards full of equations. Before that I spent four years working on my thesis. Before that I was in college, and before that, I was in the fifth grade. This is my first day off in decades, and I’m going to savour it. Okay. I’ll let you get back to fixing your eggs. I’m not just fixing my eggs, I’m fixing everyone’s eggs. And we all thank you. Use new eggs. (There is a knock on the door). Hi, hey. I’m running out to the market, do you guys need anything? Oh, well this would be one of those circumstances that people unfamiliar with the law of large numbers would call a coincidence. I’m sorry? I need eggs. Four dozen should suffice. Four dozen? Yes, and evenly distributed amongst brown, white, free range, large, extra-large and jumbo. Okay, one more time? Never mind, you won’t get it right, I’d better come with you. Oh, yay! How come you didn’t go into work today. I’m taking a sabbatical, because I won’t kow-tow to mediocre minds. So you got canned, huh? Theoretical physicists do not get canned. But yeah. Well, maybe it’s all for the best, you know I always say, when one door closes, another one opens. No it doesn’t. Not unless the two doors are connected by relays, or there are motion sensors involved. No, no, I meant… Or the first door closing causes a change of air pressure that acts upon the second door. Never mind. Slow down. Slow down, please slow down. We’re fine. Look, you’re not leaving yourself enough space between cars. Oh, sure I am. No, no. Let me do the math for you, this car weighs let’s say 4,000lb, now add say 140 for me, 120 for you. 120? Oh, I’m sorry, did I insult you? Is your body mass somehow tied into your self worth? Well, yeah. Interesting. Anyway, that gives us a total weight of, let’s say, 4,400lb. Let’s say 4,390. Fine. We’re travelling forward at, good Lord, 51 miles an hour. Now let’s assume that your brakes are new and the callipers are aligned, still, by the time we come to a stop, we’ll be occupying the same space as that Buick in front of us, an impossibility that nature will quickly resolve into death, mutilation and… oh look, they built a new put-put course. This is great. Look at me, out in the real world of ordinary people, just living their ordinary, colourless, workaday lives. Thank you. No, thank you. And thank you, ordinary person. Hey, you want to hear an interesting thing about tomatoes. Uh, no, no not really. Listen, didn’t you say you needed some eggs. Uh, yes, but anyone who knows anything about the dynamics of bacterial growth knows to pick up their refrigerated foods on the way out of the supermarket. Oh, okay, well maybe you should start heading on out then. No, this is fun. Oh, the thing about tomatoes, and I think you’ll really enjoy this, is, they’re shelved with the vegetables, but they’re technically a fruit. Interesting. Isn’t it? No, I mean what you find enjoyable. Oh boy. What now? Well, there’s some value to taking a multivitamin, but the human body can only absorb so much, what you’re buying here are the ingredients for very expensive urine. Well, maybe that’s what I was going for. Well then you’ll want some manganese. That was fun. Maybe tomorrow we can go to one of those big warehouse stores. Oh, I don’t know Sheldon, it’s going to take me a while to recover from all the fun I had today. Are you sure. There are a lot of advantages to buying in bulk. For example, I noticed that you purchase your tampons one month’s supply at a time. What? Well think about it, it’s a product that doesn’t spoil, and you’re going to be needing them for at least the next thirty years. You want me to buy thirty years worth of tampons? Well, thirty, thirty five, hey, when did your mother go into menopause? Okay, I’m not talking about this with you. Oh, Penny, this is a natural human process, and we’re talking about statistically significant savings. Now, if you assume 15 tampons per cycle and a 28 day cycle, are you fairly regular? (Penny shuts door in his face.) Okay, no warehouse store, but we’re still on for put-put golf, right? Hey, I just ran into Penny, she seemed upset about something. I think it’s her time of the month. I marked the calendar for future reference. What’s with the fish? It’s an experiment. What happened to your scrambled egg research? Oh, that was a dead end. Scrambled eggs are as good as they’re ever going to be. So… fish. I read an article about Japanese scientists, who inserted DNA from luminous jellyfish into other animals, and I thought hey, fish nightlights. Fish nightlights. It’s a billion dollar idea. Shhhhh! Mum’s the word. Sheldon, are you sure you don’t want to just apologise to Gablehauser and get your job back. Oh, no, no, no. No, I’ve too much to do. Like luminous fish. Shhhhh! Right… I didn’t…. That’s just the beginning. I also have an idea for a bulk mail-order feminine hygiene company. Oh, glow in the dark tampons! Leonard, we’re going to be rich. Thank you for coming on such short notice. You did the right thing calling. I didn’t know what else to do, he’s lost all focus, every day he’s got a new obsession. (They enter the apartment. Sheldon is weaving on a loom. He is wrapped in a poncho.) This is a particularly disturbing one. Mommy. Hi baby. You called my mother? Oh, you got yourself a loom, how nice. Thank you. Honey, why did you get a loom? I was working with luminous fish, and I thought, hey, loom! Mom, what are you doing here? Leonard called me. I know, but why? Because one of the great minds of the twenty-first century is raising glow-in-the-dark fish and weaving sarapes. This is not a sarape. This is a poncho. A sarape is open at the sides, a poncho is closed, this is a poncho, and neither is a reason to call someone’s mother. Really, when was the last time you left the house. I went to the market with Penny. That was three weeks ago. Well then buckle up, in the next four to eight days she’s going to get very crabby. Sweetheart, your little friend is concerned about you. Yes, well I’m not a child, I’m a grown man capable of living my life as I see fit. And I certainly don’t need someone telling on me to my mother. Where are you going? To my room, and no-one’s allowed in. He gets his temper from his daddy. Oh. He’s got my eyes. I see. All that science stuff, that comes from Jesus. Sheldon? Your mum made dinner. I’m not hungry. Oh, Leonard, don’t trouble yourself, he’s stubborn. He may stay in there ‘til the Rapture. Are we so sure that’s a bad thing? I’ll tell ya, I love the boy to death, but he has been difficult since he fell out of me at the K-Mart. Excuse me for being so bold, but I now see where Sheldon gets his smouldering good looks. Oh, honey that ain’t going to work, but you keep trying. (To Raj) I made chicken, I hope that isn’t one of the animals that you people think is magic? You know, we have an Indian gentleman at our church, a Dr Patel, it’s a beautiful story, the lord spoke to him, and moved him to give us all 20% off on lasic, you know, those that needed it. That is a lovely story, um, are we going to do anything about Sheldon? Oh, we will, you have to take your time with Sheldon. His father, God rest his soul, used to say to me, Mary, you have to take your time with Sheldon. Sounds like a wise man. Oh, not so wise, he was trying to fight a bobcat for some licquorish. So, everybody grab a plate, and a pretty place mat that Shelly wove. Has Shelly ever freaked out like this before. Oh, all the time, I remember one summer when he was thirteen, he built a small nuclear reactor in the shed and told everybody he was going to provide free electricity for the whole town, well the only problem was he had no, whatchacall, fissionable materials. Anyway, when he went on the internets to get some, a man from the government came by and sat him down real gentle and told him it’s against the law to have yellow cake uranium in a shed. What happened? Well, the poor boy had a fit, locked himself in his room and built a sonic death ray. A death ray? Well, that’s what he called it, didn’t even slow down the neighbour kids. It pissed our dog off to no end. You know, you two make a cute couple. No, we’re not, we’re not, not a couple, two singles, like those individually wrapped slices of cheese that…. are friends. Did I pluck a nerve there? Oh yeah. Okay. Alright everybody, it’s time to eat. (Everybody begins to do so) Oh Lord, we thank you for this meal, all your bounty, and we pray that you help Sheldon get back on his rocker. (To Raj and Howard) Now after a moment of silent meditation I’m going to end with “In Jesus’ Name” but you two don’t feel any obligation to join in. Unless, of course, the holy spirit moves you. Oh my God, this is the best cobbler I’ve ever had. It was always Sheldon’ s favourite. You know what the secret ingredient is? Love? Lard. Hey, look who’s come out…. Shhh! You’ll spook him. He’s like a baby deer, you gotta let him come to you. This is ridiculous. Dammit, Sheldon, snap out of it. You’re a physicist, you belong at the University doing research, not hiding in your room. (Sheldon scuttles away) You don’t hunt, do you? Good morning, snicker-doodle. Morning. Oh, well that looks awful fancy, what is that? It’s my idea of what DNA would look like in a silicon based life form. But intelligently designed by a creator, right? What do you want, mom? You know how your daddy used to say that you can only fish for so long before you got to throw a stick of dynamite in the water? Yeah. Well, I’m done fishing. (Throwing a pair of trousers on the bed) You put those on. What for? Because you’re going to go down to your office, you’re going to apologise to your boss, and get your job back. No. I’m sorry, did I start that sentence with the words “if it please your highness?” I’m not going to apologise, I didn’t say anything that wasn’t true. Now you listen here, I have been telling you since you were four years old, it’s okay to be smarter than everybody but you can’t go around pointing it out. Why not? Because people don’t like it. Remember all the ass-kickings you got from the neighbour kids? Now let’s get cracking. Shower, shirt, shoes, and let’s shove off. (Exits) Wouldn’t have been any ass-kickings if that stupid death ray had worked. Problem solved. Really? That’s impressive. Leonard, the Lord never gives us more than we can handle. Thankfully he blessed me with two other children who are dumb as soup. Excuse me, Dr Gablehouser, are you busy? Well, actually…. Sheldon, he’s just doodling, get in here. Dr Gablehouser. Dr Cooper. Let’s go, baby, we’re losing daylight. Um, as you know, several weeks ago in our first encounter we may have gotten off on the wrong foot, when I called you an idiot. And I just wanted to say that I was wrong. To point it out. I’m sorry, we haven’t been introduced. Dr Eric Gablehouser. Mary Cooper, Sheldon’s mom. Now that’s impossible, you must have had him when you were a teenager. Oh, aren’t you sweet, his father’s dead. Recently? Long enough. Please. Sheldon, shouldn’t you be working? Okay. Hey, how did it go? I got my job back. Really? What happened? I’m not quite sure. It involves a part of the human experience that has always eluded me. That narrows it down. I’m very proud of you honey, you showed a lot of courage today. Thanks, mom. Mom? Mmm-hmm? Is Dr Gablehouser going to be my new daddy? We’ll see. Sleep tight. David Litt &amp;amp; Lee Aronsohn Chuck Lorre &amp;amp; Bill Prady</td>\n",
              "      <td>1-4</td>\n",
              "    </tr>\n",
              "    <tr>\n",
              "      <th>4</th>\n",
              "      <td>Alright, I’m moving my infantry division, augmented by a battalion of Orcs from Lord of the Rings, we flank the Tennessee Volunteers, and the North once again wins the Battle of Gettysburg. Not so fast, remember the South still has two infantry divisions, plus Superman and Godzilla. No, no, no, no, Orcs are magic, Superman is vulnerable to magic, not to mention, you already lost Godzilla to the Illinois Cavalry and Hulk. Why don’t you just have Robert E. Lee charge the line with Shiva and Ganesh. Hi, you guys ready to order? Hang on, honey. Shiva and Ganesh? The Hindu Gods against the entire Union army? And Orcs! I’ll be back. Excuse me, Ganesh is the remover of obstacles, and Shiva is the destroyer. When the smoke clears, Abraham Lincoln will be speaking Hindi and drinking mint juleps. Alright, my boss says you either have to order, or leave and never come back. What do you recommend for someone who worked up a man-sized appetite from a morning of weight training and cardio-funk? A shower. I’ll take the heart smart platter. Alright, thank you, and Sheldon. We don’t eat here, I don’t know what’s good. Well, it’s all good. Statistically unlikely. Just get a hamburger, you like hamburgers. I like the hamburgers where we usually have hamburgers, you can’t make the assumption that I’ll like the hamburgers here. I’m sorry. Give him a hamburger. Uh, which one, the Classic Burger, the Ranch House Burger, the Barbecue Burger or the Kobe burger? Can’t we just go to Big Boy? They only have one burger. The Big Boy. The Barbecue Burger is like the Big Boy. Excuse me, in a world that already includes the Big Boy, why would I settle for something like a Big Boy? Because you are not at Big Boy! Fine, I’ll have the Barbecue Burger. Make it two. Waitresses don’t yell at you at Big Boy. Hey Leonard, hi guys. Hey Lesley. I didn’t know you ate here. We don’t. This is a disturbing aberration. Lesley, this is Penny, she lives across the hall from Sheldon and me. And walks in quiet beauty like the night. Howard, I’ve asked you not to do that. Lesley and I do research together at the University. Oh, wow, a girl scientist. Yep, come for the breasts, stay for the brains. So, I’m glad I ran into you, the physics department string quartet needs a new cellist. What happened to Elliot Wong? He switched over to high energy radiation research, had a little mishap, and now the other guys are uncomfortable sitting next to him. So, are you in? Yeah, sure, why not. Great, we rehearse on Tuesdays at your place. Why at my place? Yeah, the department of energy said our regular space is kind of a hot zone. Nice meeting you. Yeah, you too. Leonard, I didn’t know you played the cello? Yeah, my parents felt that naming me Leonard and putting me in advanced placement classes wasn’t getting me beaten up enough. If you’re into music, I happen to be a human beatbox. Really? (Howard performs some of the worst beatboxing imaginable.) I’m actually not that into music. So hey, your friend’s really cute, anything going on with you two. Lesley? No, no-oh, what are you kidding? He asked her out once, it was an embarrassing failure. Thank you Sheldon. Oh, I’m sorry, was that supposed to be a secret? Oh, that’s too bad, you guys would make a cute couple. Oh dear. What’s the matter? She didn’t take my order. How can she take your order when you’re too neurotic to talk to her. Nevertheless, this will be reflected in her tip. What did Penny mean, you’d make a cute couple? Well I assume she meant that the two of you together would constitute a couple that others might consider cute. An alternate, and somewhat less likely interpretation, is that you could manufacture one. As in, oh look, Leonard and Lesley made Mr and Mrs Goldfarb, aren’t they adorable. If Penny didn’t know that Lesley had already turned me down then that would unambiguously mean that she, Penny, thought that I should her, Lesley, out, indicating that she, Penny, had no interest in me asking her, Penny, out. But because she did know that I had asked Lesley out and that she, Lesley, had turned me down then she, Penny, could be offering consolation. That’s too bad, you would have made a cute couple. But while thinking, good, Leonard remains available. You’re a lucky man, Leonard. How so? You’re talking to one of the three men in the Western hemisphere capable of following that train of thought. Well, what do you think. I said I could follow it, I didn’t say I cared. I admire your fingering. Thank you. Maybe some time you can try that on my instrument. Goodnight guys, good job. Thanks. See you next week. That was fun, Lesley, thanks for including me. You’re welcome. If you’re up for it we could practise that middle section again. Uh, sure, why not. Just so we’re clear, you understand that me hanging back to practise with you is a pretext for letting you know that I’m sexually available. Really? Yeah, I’m good to go. I thought you weren’t interested in me. That was before I saw you handling that beautiful piece of wood between your legs. You mean my cello? No, I mean the obvious crude double entendre. I’m seducing you. No kidding? What can I say, I’m a passionate and impulsive woman. So how about it? Gee, uh… Is it the waitress? Penny? What about her? Well, I thought I saw your pupils dilate when you looked at her, which, unless you’re a heroin addict, points to sexual attraction. Well, I did have a poppy seed bagel for breakfast, which could give a positive urine test for opiates but certainly not dilate my pupils, so I guess there’s no point in bringing it up. You and the waitress then? No. No, there’s nothing going on between Penny and me. So, you’re open to a sexual relationship? Yeah. Yeah, I guess I am. Good. Yeah, yeah it is good. Did you want to start now? Why don’t we finish the section first. Oh. Okay. A little musical foreplay. Terrific. I’m good, I’m good to go. Me too. (Exit in direction of bedrooms.) Oh, hey Sheldon, what’s going on? I need your opinion on a matter of semiotics. I’m sorry? Semiotics. The study of signs and symbols, it’s a branch of philosophy related to linguistics. Okay, sweetie, I know you think you’re explaining yourself, but you’re really not. Just come with me. Well? Well what? What does it mean? Oh, come on, you went to college. Yes, but I was eleven. Alright, look, a tie on the doorknob usually means someone doesn’t want to be disturbed because they’re, you know, getting busy. So you’re saying Leonard has a girl in there. Well, either that or he’s lost his tie rack and gotten really into Bryan Adams. Oh Leonard, you magnificent beast. We really shouldn’t be standing here. This is very awkward. Oh, come on, you know, Leonard’s had girls over before, right? Oh, yes, but there’s usually planning, courtship and advance notice. Last time I was able to book a cruise to the Arctic to see a solar eclipse. Wait, you had to leave the state because your roommate was having sex? I didn’t have to, the dates just happened to coincide. So, do you know who’s in there? Well, there’s Leonard. (Picking up violin case) And he’s either with Lesley Winkle or a 1930’s gangster. Hmmm. Good for him. Good for Leonard. Okay, night. No, no, wait, hold on. What’s the matter? I don’t know what the protocol is here. Do I stay, do I leave? Do I wait to greet them with a refreshing beverage? Gee, Sheldon, you’re asking the wrong girl. I’m usually on the other side of the tie. Hi, Leonard. It’s me, Sheldon. In the living room. I just, I wanted you to know I saw the tie. Message received. You’re welcome. You carry on. Give my best to Lesley. Big boy! (Wakes up, looks at watch, wraps self in blanket, walks towards kitchen) Someone touched my board. Oh God, my board. Leonard! Leonard! Hey, what’s the matter? My equations, someone’s tampered with my equations. Are you sure? Of course I’m sure. Look at the beta-function of quantum chrono-dynamics, the sign’s been changed. Oh yeah. But doesn’t that fix the problem you’ve been having? Are you insane? Are you out of your mind? Are you…. hey look, that fixes the problem I’ve been having. You’re welcome. You did this? Yeah, I noticed it when I got up to get a glass of water, so I fixed it, now you can show that quarks are asymptotically free at high energies. Pretty cool, huh? Cool? Listen, I got to hit the lab. Thanks for a great night. Thank you, I’ll see you at work. Uh-duh, hold on, hold on! What? Who told you you could touch my board? No-one. I don’t come into your house and touch your board. There are no incorrect equations on my board. Oh, that is so… so… I’m sorry, I’ve got to run, if you come up with an adjective, text me. (Leaves). Inconsiderate, that is the adjective, inconsiderate. You can stare at your board all day Sheldon, she’s still going to be right. I’m not staring, I’m mulling. Oh, hey Leonard. Oh, hi. So, how’s it going? Pretty good. Just pretty good, I’d think you were doing very good. Pretty, very, there’s really no objective scale for delineating variations of good, why do you ask? Well, a little bird told me that you and Lesley hooked up last night. Sheldon! I’m coming. So, is it serious, do you like her? Wuh, I don’t…. th-th-th-that’s really two different questions, uh, I’m not…. Sheldon, we have to go! Boy, you’re wound awfully tight for a man who just had sexual intercourse. Alright, well, I’ll talk to you later, but, I am so happy for you Leonard. Thank you. What did she mean, she’s happy for me? Is she happy because I’m seeing someone, or is she happy because she thinks that I’m happy, because anyone who cared for someone would want them to be happy, even if the reason for their happiness made the first person unhappy. You know, because the second person, though happy, is now romantically unavailable to the first person. Do you realise I may have to share a Nobel Prize with your booty call? You know what, I’m being ridiculous. But who cares what Penny thinks, Lesley is a terrific girl, she’s attractive, we like each other, she’s extremely intelligent. She’s not that intelligent. She fixed your equation. She got lucky. You don’t believe in luck. I don’t have to believe in it for her to be lucky. Regardless, I have a chance at a real relationship with Lesley, I’m not going to pass that up for some hypothetical future happiness with a woman who may or may not want me to be happy with a woman who is currently making me happy. Leonard? Yeah. I still don’t care. Hey, Lesley. Careful  Leonard, liquid nitrogen, 320 degrees below zero. Brrrr. Why are you smashing a flash frozen banana. Because I’ve got a bowl of Cheerios and I couldn’t find a knife. So anyway (puts arms around her) Hello. Uh, what are you doing? Just extending the intimacy. Do you want to slip over to the radiation lab and share a decontamination shower? Okay, uh, what exactly do you think’s going on between us? I’m not sure, but I think I’m about to discover how the banana felt. Listen, Leonard, neither of us are neuroscientists but we both understand the biochemistry of sex, I mean, dopamine in our brains is released across synapses causing pleasure. You stick electrodes in a rat’s brain, give him an orgasm button, he’ll push that thing until he starves to death. Who wouldn’t? Well, the only difference between us and a rat is that you can’t stick an electrode in our hypothalamus. That’s where you come in. Yeah, well, I’m just glad to be a part of it. So what happens now? Well, I don’t know about your sex drive, but I’m probably good till New Years. Oh. Okay. Thank you. Thank you! You want to make plans for New Years. Woah, Leonard, please, you’re smothering me. Sorry. Hey, look, it’s Doctor Stud! Doctor what? The blogosphere is a-buzzing with news of you and Lesley Winkle making eine kleine bang-bang music. Wha… how did it get on the internet? I put it there. Well, how did you know about it? A little bird told us. Apparently you are a magnificent beast. Well, that part’s true! You know, I think I may have misjudged this restaurant. No kidding. I won’t go out on a limb, but I think we may be looking at my new Tuesday hamburger. Your old Tuesday hamburger will be so broken hearted. Way ahead of you. I was thinking of moving Big Boy to Thursdays, and just dropping Soup Plantation. Really? Yeah, the name always confused me anyway, Soup Plantation. You can’t grow soup. So, how’s everything. Terrific, you’ll be happy to know that I plan to come here every Tuesday night for the foreseeable future. Really, oh yay! Who do I speak to about permanently reserving this table? Um, I don’t know, a psychiatrist? So hey, how are things with you and Lesley? Oh, to be honest, I don’t think it’s going to work out. Oh, oh that’s too bad. Well hey, don’t worry, I’m sure there is someone out there who is just right for you. (Walks away smiling). Well what did she mean by that? Was that just a generic platitude or was that a subtle bid for attention? You know why this hamburger surpasses the Big Boy? This is a single decker hamburger whereas the Big Boy is a double decker. This has a much more satisfying meat to bun to condiment ratio. Are you even listening to me? Of course I’m listening. Blah blah, hopeless Penny delusion, blah blah blah. Okay then. You know, you can grow the ingredients for soup. (Sheldon nods).</td>\n",
              "      <td>1-5</td>\n",
              "    </tr>\n",
              "  </tbody>\n",
              "</table>\n",
              "</div>\n",
              "      <button class=\"colab-df-convert\" onclick=\"convertToInteractive('df-bc14e48c-d3e1-4474-b0d1-f32a541d76a7')\"\n",
              "              title=\"Convert this dataframe to an interactive table.\"\n",
              "              style=\"display:none;\">\n",
              "        \n",
              "  <svg xmlns=\"http://www.w3.org/2000/svg\" height=\"24px\"viewBox=\"0 0 24 24\"\n",
              "       width=\"24px\">\n",
              "    <path d=\"M0 0h24v24H0V0z\" fill=\"none\"/>\n",
              "    <path d=\"M18.56 5.44l.94 2.06.94-2.06 2.06-.94-2.06-.94-.94-2.06-.94 2.06-2.06.94zm-11 1L8.5 8.5l.94-2.06 2.06-.94-2.06-.94L8.5 2.5l-.94 2.06-2.06.94zm10 10l.94 2.06.94-2.06 2.06-.94-2.06-.94-.94-2.06-.94 2.06-2.06.94z\"/><path d=\"M17.41 7.96l-1.37-1.37c-.4-.4-.92-.59-1.43-.59-.52 0-1.04.2-1.43.59L10.3 9.45l-7.72 7.72c-.78.78-.78 2.05 0 2.83L4 21.41c.39.39.9.59 1.41.59.51 0 1.02-.2 1.41-.59l7.78-7.78 2.81-2.81c.8-.78.8-2.07 0-2.86zM5.41 20L4 18.59l7.72-7.72 1.47 1.35L5.41 20z\"/>\n",
              "  </svg>\n",
              "      </button>\n",
              "      \n",
              "  <style>\n",
              "    .colab-df-container {\n",
              "      display:flex;\n",
              "      flex-wrap:wrap;\n",
              "      gap: 12px;\n",
              "    }\n",
              "\n",
              "    .colab-df-convert {\n",
              "      background-color: #E8F0FE;\n",
              "      border: none;\n",
              "      border-radius: 50%;\n",
              "      cursor: pointer;\n",
              "      display: none;\n",
              "      fill: #1967D2;\n",
              "      height: 32px;\n",
              "      padding: 0 0 0 0;\n",
              "      width: 32px;\n",
              "    }\n",
              "\n",
              "    .colab-df-convert:hover {\n",
              "      background-color: #E2EBFA;\n",
              "      box-shadow: 0px 1px 2px rgba(60, 64, 67, 0.3), 0px 1px 3px 1px rgba(60, 64, 67, 0.15);\n",
              "      fill: #174EA6;\n",
              "    }\n",
              "\n",
              "    [theme=dark] .colab-df-convert {\n",
              "      background-color: #3B4455;\n",
              "      fill: #D2E3FC;\n",
              "    }\n",
              "\n",
              "    [theme=dark] .colab-df-convert:hover {\n",
              "      background-color: #434B5C;\n",
              "      box-shadow: 0px 1px 3px 1px rgba(0, 0, 0, 0.15);\n",
              "      filter: drop-shadow(0px 1px 2px rgba(0, 0, 0, 0.3));\n",
              "      fill: #FFFFFF;\n",
              "    }\n",
              "  </style>\n",
              "\n",
              "      <script>\n",
              "        const buttonEl =\n",
              "          document.querySelector('#df-bc14e48c-d3e1-4474-b0d1-f32a541d76a7 button.colab-df-convert');\n",
              "        buttonEl.style.display =\n",
              "          google.colab.kernel.accessAllowed ? 'block' : 'none';\n",
              "\n",
              "        async function convertToInteractive(key) {\n",
              "          const element = document.querySelector('#df-bc14e48c-d3e1-4474-b0d1-f32a541d76a7');\n",
              "          const dataTable =\n",
              "            await google.colab.kernel.invokeFunction('convertToInteractive',\n",
              "                                                     [key], {});\n",
              "          if (!dataTable) return;\n",
              "\n",
              "          const docLinkHtml = 'Like what you see? Visit the ' +\n",
              "            '<a target=\"_blank\" href=https://colab.research.google.com/notebooks/data_table.ipynb>data table notebook</a>'\n",
              "            + ' to learn more about interactive tables.';\n",
              "          element.innerHTML = '';\n",
              "          dataTable['output_type'] = 'display_data';\n",
              "          await google.colab.output.renderOutput(dataTable, element);\n",
              "          const docLink = document.createElement('div');\n",
              "          docLink.innerHTML = docLinkHtml;\n",
              "          element.appendChild(docLink);\n",
              "        }\n",
              "      </script>\n",
              "    </div>\n",
              "  </div>\n",
              "  "
            ],
            "text/plain": [
              "                                                                                                                                                                                                                                                                                                                                                                                                                                                                                                                                                                                                                                                                                                                                                                                                                                                                                                                                                                                                                                                                                                                                                                                                                                                                                                                                                                                                                                                                                                                                                                                                                                                                                                                                                                                                                                                                                                                                                                                                                                                                                                                                                                                                                                                                                                                                                                                                                                                                                                                                                                                                                                                                                                                                                                                                                                                                                                                                                                                                                                                                                                                                                                                                                                                                                                                                                                                                                                                                                                                                                                                                                                                                                                                                                                                                                                                                                                                                                                                                                                                                                                                                                                                                                                                                                                                                                                                                                                                                                                                                                                                                                                                                                                                                                                                                                                                                                                                                                                                                                                                                                                                                                                                                                                                                                                                                                                                                                                                                                                                                                                                                                                                                                                                                                                                                                                                                                                                                                                                                                                                                                                                                                                                                                                                                                                                                                                                                                                                                                                                                                                                                                                                                                                                                                                                                                                                                                                                                                                                                                                                                                                                                                                                                                                                                                                                                                                                                                                                                                                                                                                                                                                                                                                                                                                                                                                                                                                                                                                                                                                                                                                                                                                                                                                                                                                                                                                                                                                                                                                                                                                                                                                                                                                                                                                                                                                                                                                                                                                                                                                                                                                                                                                                                                                                                                                                                                                                                                                                                                                                                                                                                                                                                                                                                                                                                                                                                                                                                                                                                                                                                                                                                                                                                                                                                                                                                                                                                                                                                                                                                                                                                                                                                                                                                                                                                                                                                                                                                                                                                                                                                                                                                                                                                                                                                                                                                                                                                                                                                                                                                                                                                                                                                                                                                                                                                                                                                                                                                                                                                                                                                                                                                                                                                                                                                                                                                                                                                                                                                                                                                                                                                                                                                                                                                                                                                                                                                                                                                                                                                                                                                                                                                                                                                                                                                                                                                                                                                                                                                                                                                                                                                                                                                                                                                                                                                                                                                                                                                                                                                                                                                                                                                                                                                                                                                                                                                                                                                                                                                                                                                                                                                                                                                                                                                                                                                                                                                                                                                                                                                                                                                                                                                                                                                                                                                                                                                                                                                                                                                                                                                                                                                                                                                                                                                                                                                                                                                                                                                                                                                                                                                                                                                                                                                                                                                                                                                                                                                                                                                                                                                  line  \\\n",
              "0  So if a photon is directed through a plane with two slits in it and either slit is observed it will not go through both slits. If it’s unobserved it will, however, if it’s observed after it’s left the plane but before it hits its target, it will not have gone through both slits. Agreed, what’s your point? There’s no point, I just think it’s a good idea for a tee-shirt. Excuse me? Hang on. One across is Aegean, eight down is Nabakov, twenty-six across is MCM, fourteen down is… move your finger… phylum, which makes fourteen across Port-au-Prince. See, Papa Doc’s capital idea, that’s Port-au-Prince. Haiti. Can I help you? Yes. Um, is this the High IQ sperm bank? If you have to ask, maybe you shouldn’t be here. I think this is the place. Fill these out. Thank-you. We’ll be right back. Oh, take your time. I’ll just finish my crossword puzzle. Oh wait. Leonard, I don’t think I can do this. What, are you kidding? You’re a semi-pro. No. We are committing genetic fraud. There’s no guarantee that our sperm is going to generate high IQ offspring, think about that. I have a sister with the same basic DNA mix who hostesses at Fuddruckers. Sheldon, this was your idea. A little extra money to get fractional T1 bandwidth in the apartment. I know, and I do yearn for faster downloads, but there’s some poor woman is going to pin her hopes on my sperm, what if she winds up with a toddler who doesn’t know if he should use an integral or a differential to solve the area under a curve. I’m sure she’ll still love him. I wouldn’t. Well, what do you want to do? I want to leave. Okay. What’s the protocol for leaving? I don’t know, I’ve never reneged on a proffer of sperm before. Let’s try just walking out. Okay. Bye-bye See you. Are you still mad about the sperm bank? No. You want to hear an interesting thing about stairs? Not really. If the height of a single step is off by as little as two millimetres, most people will trip. I don’t care. Two millimetres? That doesn’t seem right. No, it’s true, I did a series of experiments when I was twelve, my father broke his clavicle. Is that why they sent you to boarding school? No, that was the result of my work with lasers. New neighbour? Evidently. Significant improvement over the old neighbour. Two hundred pound transvestite with a skin condition, yes she is. Oh, hi! Hi. Hi. Hi. Hi. Hi? We don’t mean to interrupt, we live across the hall. Oh, that’s nice. Oh… uh… no… we don’t live together… um… we live together but in separate, heterosexual bedrooms. Oh, okay, well, guess I’m your new neighbour, Penny. Leonard, Sheldon. Hi. Hi. Hi. Hi. Hi. Well, uh, oh, welcome to the building. Thankyou, maybe we can have coffee sometime. Oh, great. Great. Great. Great. Well, bye. Bye. Bye. Bye. Should we have invited her for lunch? No. We’re going to start Season Two of Battlestar Galactica. We already watched the Season Two DVDs. Not with commentary. I think we should be good neighbours, invite her over, make her feel welcome. We never invited Louis-slash-Louise over. Well, then that was wrong of us. We need to widen our circle. I have a very wide circle. I have 212 friends on myspace. Yes, and you’ve never met one of them. That’s the beauty of it. I’m going to invite her over. We’ll have a nice meal and chat. Chat? We don’t chat. At least not offline. Well it’s not difficult, you just listen to what she says and then you say something appropriate in response. To what end? Hi. Again. Hi. Hi. Hi. Hi. Anyway, um. We brought home Indian food. And, um. I know that moving can be stressful, and I find that when I’m undergoing stress, that good food and company can have a comforting effect. Also, curry is a natural laxative, and I don’t have to tell you that, uh, a clean colon is just one less thing to worry about. Leonard, I’m not expert here but I believe in the context of a luncheon invitation, you might want to skip the reference to bowel movements. Oh, you’re inviting me over to eat? Uh, yes. Oh, that’s so nice, I’d love to. Great. So, what do you guys do for fun around here? Well, today we tried masturbating for money. Okay, well, make yourself at home. Okay, thankyou. You’re very welcome. This looks like some serious stuff, Leonard, did you do this? Actually that’s my work. Wow. Yeah, well, it’s just some quantum mechanics, with a little string theory doodling around the edges. That part there, that’s just a joke, it’s a spoof of the Bourne-Oppenheimer approximation. So you’re like, one of those, beautiful mind genius guys. Yeah. This is really impressive. I have a board. If you like boards, this is my board. Holy smokes. If by holy smokes you mean a derivative restatement of the kind of stuff you can find scribbled on the wall of any men’s room at MIT, sure. What? Oh, come on. Who hasn’t seen this differential below “here I sit broken hearted?” At least I didn’t have to invent twenty-six dimensions just to make the math come out. I didn’t invent them, they’re there. In what universe? In all of them, that is the point. Uh, do you guys mind if I start? Um, Penny, that’s where I sit. So, sit next to me. No, I sit there. What’s the difference? What’s the difference? Here we go. In the winter that seat is close enough to the radiator to remain warm, and yet not so close as to cause perspiration. In the summer it’s directly in the path of a cross breeze created by open windows there, and there. It faces the television at an angle that is neither direct, thus discouraging conversation, nor so far wide to create a parallax distortion, I could go on, but I think I’ve made my point. Do you want me to move? Well. Just sit somewhere else. Fine. (Wanders in circles, looking lost.) Sheldon, sit!<br/> Aaah! Well this is nice. We don’t have a lot of company over. That’s not true. Koothrapali and Wolowitz come over all the time. Yes I now, but… Tuesday night we played Klingon boggle until one in the morning. Yes, I remember. I resent you saying we don’t have company. I’m sorry. That is an antisocial implication. I said I’m sorry. So, Klingon boggle? Yeah, it’s like regular boggle but, in Klingon. That’s probably enough about us, tell us about you. Um, me, okay, I’m Sagittarius, which probably tells you way more than you need to know. Yes, it tells us that you participate in the mass cultural delusion that the Sun’s apparent position relative to arbitrarily defined constellations and the time of your birth somehow effects your personality. Participate in the what? I think what Sheldon’s trying to say, is that Sagittarius wouldn’t have been our first guess. Oh, yeah, a lot of people think I’m a water sign. Okay, let’s see, what else, oh, I’m a vegetarian, oh, except for fish, and the occasional steak, I love steak. That’s interesting. Leonard can’t process corn. Wu-uh, do you have some sort of a job? Oh, yeah, I’m a waitress at the Cheesecake Factory. Oh, okay. I love cheesecake. You’re lactose intolerant. I don’t eat it, I just think it’s a good idea. Oh, anyways, I’m also writing a screenplay. It’s about this sensitive girl who comes to L.A. from Lincoln Nebraska to be an actress, and winds up a waitress at the Cheesecake Factory. So it’s based on your life? No, I’m from Omaha. Well, if that was a movie I would go see it. I know, right? Okay, let’s see, what else? Um, that’s about it. That’s the story of Penny. Well it sounds wonderful. It was. Until I fell in love with a jerk. What’s happening. I don’t know. Oh God, you know, four years I lived with him, four years, that’s like as long as High School. It took you four years to get through High School? Don’t. I just, I can’t believe I trusted him.<br/> Should I say something? I feel like I should say something. You? No, you’ll only make it worse. You want to know the most pathetic part? Even though I hate his lying, cheating guts, I still love him. Is that crazy? Yes. No, it’s not crazy it’s, uh, uh, it’s a paradox. And paradoxes are part of nature, think about light. Now if you look at Huygens, light is a wave, as confirmed by the double slit experiments, but then, along comes Albert Einstein and discovers that light behaves like particles too. Well, I didn’t make it worse. Oh, I’m so sorry, I’m such a mess, and on top of everything else I’m all gross from moving and my stupid shower doesn’t even work. Our shower works. Really? Would it be totally weird if I used it? Yes. No. No? No. No. It’s right down the hall. Thanks. You guys are really sweet.<br/> Well this is an interesting development. How so? It has been some time since we’ve had a woman take her clothes off in our apartment. That’s not true, remember at Thanksgiving my grandmother with Alzheimer’s had that episode. Point taken. It has been some time since we’ve had a woman take her clothes off after which we didn’t want to rip our eyes out. The worst part was watching her carve that turkey. So, what exactly are you trying to accomplish here? Excuse me? That woman in there’s not going to have sex with you. Well I’m not trying to have sex with her. Oh, good. Then you won’t be disappointed. What makes you think she wouldn’t have sex with me, I’m a male and she’s a female? Yes, but not of the same species. I’m not going to engage in hypotheticals here, I’m just trying to be a good neighbour. Oh, of course. That’s not to say that if a carnal relationship were to develop that I wouldn’t participate. However briefly. Do you think this possibility will be helped or hindered when she discovers your Luke Skywalker no-more-tears shampoo? It’s Darth Vader shampoo. (There is a knock on the door.) Luke Skywalker’s the conditioner.<br/> Wait till you see this. It’s fantastic. Unbelievable. See what? It’s a Stephen Hawking lecture from MIT in 1974. This is not a good time. It’s before he became a creepy computer voice That’s great, you guys have to go. Why? It’s just not a good time. Leonard has a lady over. Yeah, right, your grandmother back in town? No. And she’s not a lady, she’s just a new neighbour. Hang on, there really is a lady here? Uh-huh. And you want us out because you’re anticipating coitus? I’m not anticipating coitus. So she’s available for coitus? Can we please stop saying coitus? Technically that would be coitus interruptus. Hey, is there a trick to getting it to switch from tub to shower. Oh. Hi, sorry. Hello! Enchante Madamoiselle. Howard Wolowitz, Cal-Tech department of Applied Physics. You may be familiar with some of my work, it’s currently orbiting Jupiter’s largest moon taking high-resolution digital photographs. Penny. I work at the Cheesecake Factory. Come on, I’ll show you the trick with the shower. Bon douche. I’m sorry? It’s French for good shower. It’s a sentiment I can express in six languages. Save it for your blog, Howard. See-ka-tong-guay-jow. Uh, there it goes, it sticks, I’m sorry. Okay. Thanks. You’re welcome, oh, you’re going to step right, okay, I’ll…. Hey, Leonard? The hair products are Sheldon’s. Um, okay. Can I ask you a favour. A favour? Sure, you can ask me a favour, I would do you a favour for you. It’s okay if you say no. Oh, I’ll probably say yes. It’s just not the kind of thing you ask a guy you’ve just met. Wow. I really think we should examine the chain of causality here. Must we? Event A. A beautiful woman stands naked in our shower. Event B. We drive half way across town to retrieve a television set from the aforementioned woman’s ex-boyfriend. Query, on what plane of existence is there even a semi-rational link between these events? She asked me to do her a favour, Sheldon. Ah, yes, well that may be the proximal cause of our journey, but we both know it only exists in contradistinction to the higher level distal cause. Which is? You think with your penis. That’s a biological impossibility and you didn’t have to come. Oh, right, yes, I could have stayed behind and watched Wolowitz try to hit on Penny in Russian, Arabic and Farsi. Why can’t she get her own TV. Come on, you know how it is with break-ups. No I don’t. And neither do you. Wuh, I, I broke up with Joyce Kim. You did not break up with Joyce Kim, she defected to North Korea. To mend her broken heart. This situation is much less complicated. There’s some kind of dispute between Penny and her ex-boyfriend as to who gets custody of the TV. She just wanted to avoid having a scene with him. So we get to have a scene with him? No, Sheldon, there’s not going to be a scene. There’s two of us and one of him. Leonard, the two of us can’t even carry a TV. So, you guys work with Leonard and Sheldon at the University? Uh, I’m sorry, do you speak English? Oh, he speaks English, he just can’t speak to women. Really, why? He’s kind of a nerd. Juice box? I’ll do the talking. Yeah. Hi, I’m Leonard, this is Sheldon. Hello. What did I just…. Uh, we’re here to pick up Penny’s TV. Get lost. Okay, thanks for your time. We’re not going to give up just like that. Leonard, the TV is in the building, we’ve been denied access to the building, ergo we are done. Excuse me, if I were to give up at the first little hitch I never would have been able to identify the fingerprints of string theory in the aftermath of the big bang. My apologies. What’s your plan. It’s just a privilege to watch your mind at work. Come on, we have a combined IQ of 360, we should be able to figure out how to get into a stupid building. What do you think their combined IQ is? Just grab the door. This is it. (Knocks.) I’ll do the talking. Good thinking, I’ll just be the muscle. Yeah? I’m Leonard, this is Sheldon. From the intercom. How the hell did you get in the building? Oh. We’re scientists. Tell him about our IQ. Leonard. What? My mom bought me those pants. I’m sorry. You’re going to have to call her. Sheldon, I’m so sorry I dragged you through this. It’s okay. It wasn’t my first pantsing, and it won’t be my last. And you were right about my motives, I was hoping to establish a relationship with Penny that might have some day led to sex. Well you got me out of my pants. Anyway, I’ve learned my lesson. She’s out of my league, I’m done with her, I’ve got my work, one day I’ll win the Nobel Prize and then I’ll die alone. Don’t think like that, you’re not going to die alone. Thank you Sheldon, you’re a good friend. And you’re certainly not going to win a Nobel Prize. This is one of my favourite places to kick back after a quest, they have a great house ale. Wow, cool tiger. Yeah, I’ve had him since level ten. His name is Buttons. Anyway, if you had your own game character we could hang out, maybe go on a quest. Uh, sounds interesting. So you’ll think about it? Oh, I don’t think I’ll be able to stop thinking about it. Smooth. We’re home. Oh, my God, what happened? Well, your ex-boyfriend sends his regards and I think the rest is fairly self-explanatory. I’m so sorry, I really thought if you guys went instead of me he wouldn’t be such an ass. No, it was a valid hypothesis. That was a valid hypothesis? What is happening to you? Really, thank you so much for going and trying you’re, uh, you’re so terrific. Why don’t you put some clothes on, I’ll get my purse and dinner is on me, okay? Really? Great. Thank you. You’re not done with her, are you? Our babies will be smart and beautiful. Not to mention imaginary. Is Thai food okay with you Penny? Sure. We can’t have Thai food, we had Indian for lunch. So? They’re both curry based cuisines. So? They would be gastronomically redundant. I can see we’re going to have to spell out everything for this girl. Any ideas Raj? (He just looks at her with a worried expression.) Turn left on Lake Street and head up to Colorado. I know a wonderful little sushi bar that has karaoke. That sounds like fun. Baby, baby don’t get hooked on me. Uh, baby, baby don’t get hooked on me. I don’t know what your odds are in the world as a whole, but as far as the population of this car goes, you’re a veritable Mack Daddy.   \n",
              "1                                                                                                                                                                                                                                                                                                                                                                                                                                            There you go, Pad Thai, no peanuts. But does it have peanut oil? Uh, I’m not sure, everyone keep an eye on Howard in case he starts to swell up. Since it’s not bee season, you can have my epinephrine. Are there any chopsticks? You don’t need chopsticks, this is Thai food. Here we go. Thailand has had the fork since the latter half of the nineteenth century. Interestingly they don’t actually put the fork in their mouth, they use it to put the food on a spoon which then goes into their mouth. Ask him for a napkin, I dare you. (There is a knock on the door.) I’ll get it. Do I look puffy? I feel puffy. Hey Leonard. Oh, hi Penny. Am I interrupting. No. You’re not swelling, Howard. No, no, look at my fingers, they’re like Vienna sausages. Sounds like you have company. They’re not going anywhere. (Closes door, staying in hallway.) So, you’re coming home from work. That’s great. How was work. Well, you know, it’s the Cheesecake Factory. People order cheesecake, and I bring it to them. So, you sort of act as a carbohydrate delivery system. Yeah, call it whatever you want, I get minimum wage. Yeah, anyways, I was wondering if you could help me out with something, I was…. Yes. Oh. Okay, great, I’m having some furniture delivered tomorrow, and I may not be here, so…. (apartment door opens, Sheldon, Raj and Howard appear) Oh! Hel…hello! (speaks a phrase in Russian). I’m sorry? Haven’t you ever been told how beautiful you are in flawless Russian? No, I haven’t. Get used to it. Yeah, I probably won’t, but… Hey Sheldon. Hi. Hey Raj! (Raj looks uncomfortable) Still not talking to me, huh? Don’t take it personally, it’s his pathology, he can’t talk to women. He can’t talk to attractive women, or in your case a cheesecake–scented Goddess! So, there’s gonna be some furniture delivered? Yeah, yeah, if it gets here and I’m not here tomorrow could you just sign for it and have them put it in my apartment. Yeah, no problem. Great, here’s my spare key. Thank you. Penny, wait. Yeah? Um, if you don’t have any other plans, do you want to join us for Thai food and a Superman movie marathon? A marathon? Wow, how many Superman movies are there? You’re kidding, right? Yeah, I do like the one where Lois Lane falls from the helicopter and Superman swooshes down and catches her, which one was that? One. (Raj raises one finger). You realise that scene was rife with scientific inaccuracy. Yes, I know, men can’t fly. Oh no, let’s assume that they can. Lois Lane is falling, accelerating at an initial rate of 32 feet per second per second. Superman swoops down to save her by reaching out two arms of steel. Miss Lane, who is now travelling at approximately 120 miles per hour, hits them, and is immediately sliced into three equal pieces. Unless, Superman matches her speed and decelerates. In what space, sir, in what space? She’s two feet above the ground. Frankly, if he really loved her, he’d let her hit the pavement. It would be a more merciful death. Excuse me, your entire argument is predicated on the assumption that Superman’s flight is a feat of strength. Are you listening to yourself, it is well established that Superman’s flight is a feat of strength, it is an extension of his ability to leap tall buildings, an ability he derives from Earth’s yellow Sun. Yeah, and you don’t have a problem with that, how does he fly at night. Uh, a combination of the moon’s solar reflection and the energy storage capacity of Kryptonian skin cells. I’m just going to go wash up. I have 26 hundred comic books in there, I challenge you to find a single reference to Kryptonian skin cells. Challenge accepted. (Tries door.) We’re locked out. Also, the pretty girl left. Okay, her apartment’s on the fourth floor but the elevator’s broken so you’re going to have to (delivery man leaves) oh, you’re just going to be done, okay, cool, thanks. I guess we’ll just bring it up ourselves. I hardly think so. Why not? Well, we don’t have a dolly, or lifting belts, or any measurable upper body strength. We don’t need strength, we’re physicists. We are the intellectual descendents of Archimedes. Give me a fulcrum and a lever and I can move the Earth, it’s just a matter… (starts to move package) I don’t have this… I don’t have this I don’t have this. Archimedes would be so proud. Do you have any ideas? Yes, but they all involve a green lantern and a power ring. Easy, easy (package falls) Okay! Now we’ve got an inclined plane. The force required to lift is reduced by the sine of the angle of the stairs, call it thirty degrees, so about half. Exactly half. Exactly half. Let’s push. Okay, see, it’s moving, this is easy, all in the math. What’s your formula for the corner. What? Oh, okay, uh, okay, yeah, no problem, just come up here and help me pull and turn. Ah, gravity, thou art a heartless bitch. You do understand that our efforts here will in no way increase the odds of you having sexual congress with this woman? Men do things for women without expecting sex. Yeah, those are men who just had sex. I’m doing this to be a good neighbour. In any case, there’s no way it could lower the odds. Almost there, almost there, almost there. (Lets go of package, it starts to slip down) No we’re not, no we’re not, no we’re not. Watch your fingers. Watch your fingers. Oh God, my fingers! You okay? No, it hurt… (looking around) Great Caesar’s Ghost, look at this place? So Penny’s a little messy. A little messy? The Mandelbrot set of complex numbers is a little messy, this is chaos. Excuse me, explain to me an organisational system where a tray of flatware on a couch is valid. I’m just inferring that this is a couch, because the evidence suggests the coffee table’s having a tiny garage sale. Did it ever occur to you that not everyone has the compulsive need to sort, organise and label the entire world around them? No. Well they don’t. Hard as it may be for you to believe, most people don’t sort their breakfast cereal numerically by fibre content. Excuse me, but I think we’ve both found that helpful at times. Come on, we should go. Hang on. What are you doing? Straightening up. Sheldon, this is not your home. This is not anyone’s home, this is a swirling vortex of entropy. When the transvestite lived here, you didn’t care how he kept the place. Because it was immaculate, I mean, you open that man’s closet, it was left to right, evening gowns, cocktail dresses, then his police uniforms. What were you doing in his closet? I helped run some cable for a webcam. Hey guys. Oh, hey Penny, this just arrived, we just brought this up, just now. Great. Was it hard getting it up the stairs? (sucks in breath) No. No? No. No. Well, we’ll get out of your hair. Oh, great, thank you again (she throws her jacket over the back of the sofa). Penny, I just want you to know that, you don’t have to live like this. I’m here for you. What’s he talking about? It’s a joke. I don’t get it. Yeah, he didn’t tell it right. Sheldon? Sheldon? Hello? Sheldon! Sssshhhh! Penny’s sleeping. Are you insane, you can’t just break into a woman’s apartment in the middle of the night and clean. I had no choice. I couldn’t sleep knowing that just outside my bedroom was our living room, and just outside our living room was that hallway, and immediately adjacent to that hallway was… this. Do you realise that if Penny wakes up, there is no reasonable explanation as to why we’re here? I just gave you a reasonable explanation. No, no. You gave me an explanation, it’s reasonableness will be determined by a jury of your peers. Don’t be ridiculous. I have no peers. Sheldon, we have to get out of here. You might want to speak in a lower register. What? Evolution has made women sensitive to high pitched noises while they sleep, so that they’ll be roused by a crying baby. If you want to avoid waking her, speak in a lower register. That’s ridiculous. (Penny snores again.) No, (lowering his voice dramatically,) that’s ridiculous. Fine. I accept your premise, now please let’s go. I am not leaving until I’m done. O-o-o-oh! (Collapses against wall). If you have time to lean, you have time to clean. Oh, what the hell. Morning. Morning. I have to say, I slept splendidly. Granted, not long, but just deeply and well. I’m not surprised. A well known folk cure for insomnia is to break into your neighbour’s apartment and clean. Sarcasm? You think? Granted, my methods may have been somewhat unorthodox, but I think the end result will be a measurable enhancement of Penny’s quality of life. You know what, you’ve convinced me, maybe tonight we should sneak in and shampoo her carpet. You don’t think that crosses a line? Yes! For God’s sake, Sheldon, do I have to hold up a sarcasm sign every time I open my mouth. You have a sarcasm sign? No, I do not have a sarcasm sign. Do you want some cereal. I’m feeling so good today I’m going to choose from the low fibre end of the shelf. Hello, Honey Puffs. Son of a Bitch! Penny’s up. You sick, geeky bastards! How did she know it was us? I may have left a suggested organisational schematic for her bedroom closet. Leonard! God, this is going to be bad. Goodbye, Honey Puffs, hello Big Bran. You came into my apartment last night when I was sleeping? Yes, but, only to clean. Really more to organise, you’re not actually dirty, per se. Give me back my key. I’m very, very sorry. Do you understand how creepy this is. Oh, yes, we discussed it at length last night. In my apartment, while I was sleeping. And snoring. And that’s probably just a sinus infection, but it could be sleep apnoea, you might want to see an otolaryngologist. It’s a throat doctor. And what kind of doctor removes shoes from asses? Depending on the depth, that’s either a proctologist or a general surgeon. (Leonard holds up a sign reading “Sarcasm”) Oh! God! Okay, look, no Penny, I think what you’re feeling is perfectly valid, and maybe a little bit later today when you’re feeling a little bit less, for lack of a better word, violated, maybe we could talk about this some more. Stay away from me. Sure, that’s another way to go. Penny, Penny, just to clarify because there will be a discussion when you leave, is your objection solely to our presence in the apartment while you were sleeping, or do you also object to the imposition of a new organisational paradigm. (Penny stares in disbelief, then leaves.) Well that was a little non-responsive. You are going to march yourself over there right now and apologise. (Sheldon laughs.) What’s funny? That wasn’t sarcasm? No. Wooh, boy, you are all over the place this morning. (Knocks on Penny’s door.) I have a masters and two PhD’s, I should not have to do this. What? I am truly sorry for what happened last night, I take full responsibility. And I hope that it won’t colour your opinion of Leonard, who is not only a wonderful guy, but also, I hear, a gentle and thorough lover. (Penny closes door in his face.) I did what I could. Hey Raj. (Raj stands looking uncomfortable.) Hey, listen, I don’t know if you heard about what happened last night with Leonard and Sheldon, but I’m really upset about it, I mean they just, they let themselves into my place, and then they cleaned it, I mean can you even believe that? How weird is that? Ooh, she’s standing very close to me. Oh my, she does smell good. What is that, vanilla? You know, where I come from, someone comes into your house at night, you shoot, okay? And you don’t shoot to wound. I mean, alright, my sister shot her husband, but it was an accident, they were drunk. What was I saying? She’s so chatty. Maybe my parents are right. Maybe I’d be better off with an Indian girl. We’d have the same cultural background, and my wife would sing to my children the same lullabies my mother sang to me. It’s obvious that they meant well, but I’m just, I’m having a really rough time, like I said, I broke up with my boyfriend, and it’s just freaking me out. I mean, just because most of the men I’ve known in my life happen to be jerks, doesn’t mean I should just assume Leonard and Sheldon are. Right? She asked me a question. I should probably nod. (Does.) That’s exactly what I thought. Thank you for listening. You’re a doll. (She hugs him.) Oh-oh. Turn your pelvis. (Does.) Grab a napkin, homie. You just got served. It’s fine. You win. What’s his problem? His imaginary girlfriend broke up with him. Been there. Hello. Sorry I’m late. But I was in the hallway, chatting up Penny. Really? You? Rajesh Koothrapali, spoke to Penny? Actually, I was less the chatter than the chattee. What did she say? Is she still mad at me? Well, she was upset at first, but, probably because her sister shot somebody. Then there was something about you and… then she hugged me. She hugged you? How did she hug you? (Raj hugs Howard.) Is that her perfume I smell? intoxicating, isn’t it? Hi. Oh. What’s going on? Um, here’s the thing. (Reads from note.) Penny. Just as Oppenheimer came to regret his contributions to the first atomic bomb, so too I regret my participation in what was, at the very least, an error in judgement. The hallmark of the great human experiment is the willingness to recognise one’s mistakes. Some mistakes, such as Madame Curie’s discovery of Radium turned out to have great scientific potential even though she would later die a slow, painful death from radiation poisoning. Another example, from the field of ebola research…. Leonard. Yeah. We’re okay. (Kisses him on cheek. Closes door. Leonard looks happy, walks back across hallway and straight into the apartment door.) Six two inch dowels. Check. One package, Phillips head screws. Check. Guys, seriously, I grew up on a farm, okay, I rebuilt a tractor engine when I was like twelve, I think I can put together a cheap Swedish media centre. No, please, we insist, it’s the least we can do considering. Considering what? How great this place looks? Oh boy, I was afraid of this. What? These instructions are a pictographic representation of the least imaginative way to assemble these components. This right here is why Sweden has no space program. Well, uh, it looked pretty good in the store. It is an inefficient design, for example Penny has a flat screen TV, which means all the space behind it is wasted. We could put her stereo back there. And control it how? Run an infra-red repeater, photocell here, emitter here, easy peasy. Good point, how you gonna cool it? Hey guys, I got this. Hang on Penny. How about fans, here and here? Also inefficient, and might be loud. How about liquid coolant? Maybe a little aquarium pump here, run some quarter inch PVC… Guys, this is actually really simple. Hold on, honey, men at work. The PVC comes down here, maybe a little corrugated sheet metal as a radiator here. Oh, really, show me where we put a drip tray, a sluice and an overflow reservoir? And if water is involved we’re going to have to ground the crap out of the thing. Guys, it’s hot in here, I think I’ll just take off all my clothes. Oh, I’ve got it. How about if we replace panels A, B and F and crossbar H with aircraft grade aluminium. Right, then the entire thing’s one big heat sink. Perfect, Leonard, why don’t you and Sheldon go down to the junk yard and pick up about six square metres of scrap aluminium, Raj and I will run down to my lab and get the oxy-acetaline torch. Meet back here in an hour? Done. Got it. (They all leave). Okay, this place does look pretty good. Robert Cohen &amp; Dave Goetsch Chuck Lorre &amp; Bill Prady   \n",
              "2                                                                                                                                                                                                                                                                                                                                                                                                                                                                                                                                                                                                                                                       Alright, just a few more feet, and…. here we are gentlemen, the Gates of Elzebub. Good lord! Oooh. Don’t panic, this is what the last 97 hours have been about. Stay frosty, there’s a horde of armed goblins on the other side of that gate guarding the Sword of Azeroth. Warriors, unsheathe your weapons, magic wielders raise your wands. Lock and load. Raj, blow up the gates. Blowing the gates. Control, shift, B! Oh, my God, so many goblins! Don’t just stand there, slash and move, slash and move. Stay in formation. Leonard, you’ve got one on your tail. That’s alright, my tail’s prehensile, I’ll swat him off. I’ve got him Leonard. Tonight I spice my meat with goblin blood! Raj, no, it’s a trap, they’re flanking us! Oooh, he’s got me. Sheldon, he’s got Raj, use your sleath spell. Sheldon! Sheldon! I’ve got the Sword of Azeroth! Forget the sword, Sheldon, help Raj. There is no more Sheldon, I am the Swordmaster! Leonard look out! Dammit man, we’re dying here. Goodbye, peasants. The bastard teleported. He’s selling the Sword of Azeroth on ebay. You betrayed us for money, who are you? I’m a rogue knight elf, don’t you people read character descriptions? Wait, wait, wait, somebody just clicked “buy it now.” I am the Swordmaster! Wooh, I’m all sweaty, anybody want to log on to second life and go swimming, I just built a virtual pool. No, I can’t look at you or your avatar right now. Sounds like your neighbour’s home. Excuse me. Don’t forget the mail you took accidentally on purpose so you’d have an excuse to talk to her. Oh, right, right right right right. Stealing snail mail, very old school, I like it. Penny, the mailman did it again, he… (looks up to see Penny kissing a hunky man) Oh! Sorry. Um, no, hi Leonard, this is Doug, Doug, this is my neighbour Leonard. What’s up bro. Not much. Bro. Is, is everything okay. Uh, yeah, uh, I just, I got your mail again, here. Thank you, I’ve got to talk to that mailman. Oh no, that’s probably not such a good idea. Civil servants have a documented propensity to, you know, snap. Okay, well, thank you, again. No problem. Bye. Oh, and, bye, bro! (Returns to apartment). Penny for your thoughts. What’s the matter. No, I’m fine. Penny’s fine, the guy she’s kissing is really fine and… Kissing, what kind of kissing? Cheeks? Lips? Chaste? French? What is wrong with you? I’m a romantic. Please don’t tell me that your hopeless infatuation is devolving into pointless jealousy. No, I’m not jealous, I’m just a little concerned for her. I didn’t like the look of the guy that she was with. Because he looked better than you? Yeah. He was kinda dreamy. Well, at least now you can retrieve the black box from the twisted smouldering wreckage that was once your fantasy of dating her, and analyse the data so that you don’t crash into geek mountain again. I disagree, love is not a sprint, it’s a marathon. A relentless pursuit that only ends when she falls into your arms. Or hits you with the pepper spray. Well, I’m done with Penny. I’m going to be more realistic and go after someone my own speed. Like who? I don’t know. Olivia Geiger? The dietician at the cafeteria with the limp and the lazy eye? Yeah. Well, I don’t think you have a shot there. I have noticed that Lesley Winkle recently started shaving her legs. Now, given that winter is coming one can only assume that she is signalling sexual availability. I don’t know, you guys work in the same lab. So? There are pitfalls, trust me, I know. When it comes to sexual harassment law I’m… a bit of a self-taught expert. Look, Howard, if I were to ask Lesley Winkle out it would just be for dinner, I’m not going to walk into the lab, ask her to strip naked and dance for me. Oh, then you’re probably okay. Hello Lesley. Hi Leonard. Lesley I would like to propose an experiment. Goggles, Leonard. Right. Lesley, I would like to propose an experiment. Hang on. I’m trying to see how long it takes a five hundred kilowatt oxygen iodine laser to heat up my cup o’ noodles. Pfff, I’ve done it, about two seconds, 2.6 for minestrone. Anyway, I was thinking more of a bio-social exploration with a neuro-chemical overlay. Wait, are you asking me out? I was going to characterise it as the modification of our colleague/friendship paradigm, with the addition of a date-like component. But we don’t need to quibble over terminology. What sort of experiment would you propose? There is a generally accepted pattern in this area, I would pick you up, take you to a restaurant, then we would see a movie, probably a romantic comedy featuring the talents of Hugh Grant or Sandra Bullock. Interesting. And would you agree that the primary way we would evaluate either the success or failure of the date would be based on the bio-chemical reaction during the goodnight kiss. Heartrate, pheromones, etc, yes. Well, why don’t we just stipulate that the date goes well and move to the key variable. You mean, kiss you now? Yes. Can you define the parameters of the kiss? Closed mouth but romantic. Mint? Thank you. (Takes mint). Shall I count down from three? No, I think it needs to be spontaneous. What do you think. You proposed the experiment, I think you should present your findings first. Fair enough. On the plus side, it was a good kiss, reasonable technique, no extraneous spittle. On the other hand, no arousal. None? None. Ah. Well, thank you for your time. Thank you. None at all? Sheldon, if you were a robot, and I knew and you didn’t, would you want me to tell you? That depends. When I learn that I’m a robot, will I be able to handle it? Maybe, although the history of science-fiction is not on your side. Uh, let me ask you this. When I learn that I’m a robot, would I be bound by Asimov’s three laws of robotics? You might be bound by them right now. That’s true. Have you ever harmed a human being, or through inaction allowed a human being to come to harm? Of course not. Have you ever harmed yourself, or allowed yourself to be harmed except in cases where a human being would have been endangered? Well, no. I smell robot. Hey, what’s going on. The internet’s been down for half an hour. Also, Sheldon may be a robot. So, how did it go with Lesley? Oh, we tried kissing, but the earth didn’t move. I mean any more than the 383 miles that it was going to move anyway. Oh, I’ve seen that look before. This is just going to be two weeks of moping and tedious emo songs, and calling me to come down to pet stores to look at cats. I don’t know if I can take it. You could power down. Well, as usual, Wolowitz has the solution. I happen to know a place where there are plenty of eligible women, and Leonard could have his pick. Remember the Latin hips. Shoulders stay still, and we sway. One two three. Five six seven. I think Mrs Tishman’s got her eye on you. I’ve been there, you’re in for a treat. Oh, good lord. You don’t know me, you don’t wear my chains… God, that’s a good song. If you’re compiling a mix CD for a double suicide. (Leonard is taking supplies out of a bag) Oh, I hope that scratching post is for you. I know what you’re thinking, I’ve taken your asthma into account. There’s a feline geneticist in San Diego who has developed the cutest little hypo-allergenic calicos. Leonard, listen to me… I’ve been thinking about names, I’m kind of torn between Einstein, Newton and Sergeant Fuzzyboots. Leonard, do you really think you can satisfy your need for a relationship with a genetically altered cat? Maybe, if it’s a cute little cuddly cat. Oh, come on, Leonard! This is obviously about Penny. It doesn’t matter. The woman’s not interested in me, the woman rejected me. Okay, look, I think that you have as much of a chance of having a sexual relationship with Penny as the Hubble Telescope does of discovering at the centre of every black hole is a little man with a flashlight searching for a circuit breaker. Nevertheless, I do feel obligated to point out to you that she did no reject you. You did not ask her out. You’re right. I didn’t ask her out, I should ask her out. No. No, now that was not my point. My point was, don’t buy a cat. No, but you’re right. I should march over there and ask her out. Oh, goody, we’re getting a cat. Ah, hey Leonard. Good afternoon Penny, so hi, hey. Uh… I was wondering if you had plans for dinner. Uh, do you mean dinner tonight? There is an inherent ambiguity in the word dinner. Technically it refers to the largest meal of the day whenever it is consumed, so, to clarify here, by dinner I mean supper. Supper? Or dinner. I was thinking six thirty, if you can go, or a different time. Uh, six thirty’s great. Really? Great! Yeah, I like hanging out with you guys. Us guys? You know, Sheldon, Howard, Raj, who all’s coming? They…. might all be there. Or a subset of them might be there, uh, algebraically speaking there are too many unknowns, for example Sheldon had Quizznos for lunch, sometimes he finds that filling, other times he doesn’t, it’s no fault of Quizznos, they have a varied menu. Okay, whatever, it sounds like fun. Great. Did we say a time? Six thirty. And that’s still good for you. It’s fine. Cos it’s not carved in stone. No, six thirty’s great. I’ll get my chisel. Why? To… carve the… okay, I’ll see you six thirty. How do I look? Could you be more specific? Can you tell I’m perspiring a little? No. The dark crescent-shaped patterns under your arms conceal it nicely. What time is your date? Six thirty. Perfect, that gives you two hours and fifteen minutes for that dense molecular cloud of Aramis to dissipate. Is it too much? Not if you’re a rugby team. By the way, if it should ever come up, you didn’t join us because you stuffed yourself with a chicken carbonara sub at Quizznos. Why would I join you? No reason. Oh, you know what, maybe this isn’t such a good idea. Oh, no, no, no, well now, there’s always the possibility that alcohol and poor judgement on her part might lead to a nice romantic evening. You’re right, alcohol, poor judgement, it could go well. Of course, there’s the other possibility that this date kicks off a rather unpleasant six months of the two of you passing awkwardly in the hall until one of you breaks down and moves to another zip code. You could have stopped at “it could go well.” If I could of, I would of. I mean, I’m a perfectly nice guy. There’s no reason we couldn’t go to the restaurant and have a lovely dinner. Maybe take a walk afterwards, talk about things we have in common, “you love pottery? I love pottery!” You know, there’s a pause, we both know what’s happening, I lean in, we kiss, it’s a little tentative at first but then I realise, she’s kissing me back, and she’s biting my lower lip, you know, she wants me, this thing is going the distance, we’re going to have sex! Oh God! Oh, my God! Is the sex starting now? I’m having a panic attack. Oh, okay, well then, calm down. If I could calm down I wouldn’t be having a panic attack, that’s why they call it a panic attack. Alright, alright, well, just, sit down, yes, sit down, now close your eyes. Why? Just do it. Okay. Now try to increase your alpha-wave activity. What? It’s a bio-feedback technique, it’s relaxation through brain-wave manipulation, I read a paper about it in the Journal of American Neuroscience, it was a little sparsely sourced but I think the basic science is valid, I probably have it here somewhere. Oh, who am I kidding, I can’t go through with this, you need to call her and cancel. Me? Yes. What should I tell her. I don’t know. Tell her I’m sick. Okay. Not the kind of illness that will make her want to come over and take care of me, but nothing so critical that she’ll feel uncomfortable going out with me in the future if I want to try this again. Got it. So I’m assuming nothing venereal. I’ll just tell her that you had a routine colonoscopy and haven’t quite bounced back. Give me the phone. But I thought you wanted to cancel? I can’t because if I don’t show up she’ll still be expecting you. Why would she be expecting me? Stop asking me all these questions, I need to take another shower. So are the rest of the guys meeting us here? Oh, yeah, no. Turns out that Raj and Howard had to work, and Sheldon had a colonoscopy and he hasn’t quite bounced back yet. Ooh, my uncle just had a colonoscopy. You’re kidding, well, then, that’s something we have in common. How? We both have people in our lives who… want to nip intestinal polyps in the bud. So, what’s new in the world of physics? Nothing. Really, nothing? Well, with the exception of string theory, not much has happened since the 1930’s, and you can’t prove string theory, at best you can say “hey, look, my idea has an internal logical consistency.” Ah. Well I’m sure things will pick up. What’s new at the Cheesecake Factory? Oh, uh, not much. We do have a chocolate key lime that’s moving pretty well. Good. Good. And what about your, uh, hallway friend. Doug? Oh, yeah, I dunno, I mean, he’s nice and funny, but… Can I get you started with some drinks? No, (waves her away) You were saying, but… I’d like a drink. Just say the but thing about Doug and then I’ll get her back. Okay, well, you know, it’s just me. I’m still getting over this break-up with Kurt, and this thing with Doug would be just rebound sex. Ugh, don’t get me started on rebound sex. It’s just, it’s my pattern. I break up, then I find some cute guy, and then it’s just thirty six meaningless of… well, you know. I’m not sure that I do. Um, is that one thirty-six hour experience, or is it thirty six hours spread out over say, one… glorious summer. No, it’s usually over a weekend, and trust me, you do not feel good after it. Well, chafing, right? Emotionally. Of course, yeah, emotional chafing. Hey, do you want to see something cool? (Penny nods.) I can make this olive go into this glass without touching it. How? Physics. (He places the glass over the olive and spins it until the olive gets caught up on the side). Wow, centrifugal force! Actually, it’s centripetal force, which is an inward force generated by the glass acting on the olive. (The olive drops.) Excuse me. (Leonard disappears under table.)Now, if you were riding on the olive, you’d be in a non-inertial reference frame, and would (he bangs his head on the underside of the table.) Are you okay? Yeah, I’m okay. Did you spill ketchup? No. I’m not okay. Are you sure you don’t want to go to the emergency room? No, no, I’m okay, it’s stopped bleeding. I know, but you did throw up. Isn’t that a sign of a concussion? Yes, but I get car sick too, so… Okay. Sorry about your car, by the way. Oh, no, it’s fine, you got most of it out the window. The poor guy on the bike. I had a nice time. Yeah, me too. Um, good night. (Leonard turns across hallway.) Leonard? Yeah. Was this supposed to be a date? This? No. No, of course not, this was just you and me hanging out with a bunch of guys who didn’t show up, because of work and a colonoscopy. Okay, I was just checking. When I take a girl out on a date, and I do, she knows she’s been dated. Capital D. Bold face, underline, like Day-ted. I think I might have a little concussion, I’m going to go lay down for a while, good night. So, how was your date? Awesome! Score one for liquor and poor judgement. Bill Prady &amp; Steven Molaro Chuck Lorre   \n",
              "3                                                                                                                                                                                                                                                                                                                                                                                                                                                                                                                                                                                                                                                                                                                                                                                                                                                                                                                                                                                                                                                                                                                                                                                                                                                                                                                                                                                                                                                                                                                                                    I’ve been thinking about time travel again. Why, did you hit a roadblock with invisibility? Put it on the back burner. Anyway, it occurs to me, if I ever did perfect a time machine, I’d just go into the past and give it to myself, thus eliminating the need for me to invent it in the first place. Interesting. Yeah, it really takes the pressure off. Sounds like a breakthrough, should I call the science magazines and tell them to hold the front cover? (Exiting the apartment.) It’s time travel, Leonard, I will have already done that. Then I guess congratulations are in order. No, congratulations will have been in order. You know, I’m not going to enjoy this party. I know, I’m familiar with you. At the last department party, Dr Finkleday cornered me and talked about spelunking for 45 minutes. Yes, I was there. You know what’s interesting about caves, Leonard? What? Nothing. Well then we’ll avoid Finkleday, we’ll meet the new department head, congratulate him, shake his hand and go. How’s this? Pleased to meet you, Dr Gablehouser. How fortunate for you that the University has chosen to hire you, despite the fact that you’ve done no original research in 25 years, and instead have written a series of popular books that reduce the great concepts of science to a series of anecdotes, each one dumbed down to accommodate the duration of an average bowel movement. Mahalo. Mahalo’s a nice touch. Do you know there are only eight consonants in the Hawaiian language. Interesting, you should lead with that. Oh, God, Look at this buffet. I love America. You don’t have buffets in India? Of course, but it’s all Indian food. You can’t find a bagel in Mumbai to save your life. Schmear me. Well here’s an interesting turn of events. What. (Sees Howard entering with a statuesque blonde) Howard brought a date? A more plausible explanation is that his work in robotics has made an amazing leap forward. Hey, what up, science bitches? May I introduce my special lady friend, Summer. (Puts arm around her.) I already told you, touching’s extra. Right. Sorry. Here comes our new boss, be polite. Hi fellas, Eric Gablehouser. Howard Wolowitz. Howard, nice to meet you, and you are? An actual real scientist. (To Leonard) How was that? I can’t believe he fired me. Well, you did call him a glorified high-school science teacher whose last successful experiment was lighting his own farts. In my defence, I prefaced that by saying “with all due respect.” Morning Morning. You’re making eggs for breakfast? This isn’t breakfast, it’s an experiment. Huh? Cos it looks a lot like breakfast. I finally have the time to test my hypothesis, about the separation of the water molecules from the egg proteins, and its impact vis-a-vis taste. Sounds yummy. I look forward to your work with bacon. As do I. You know, I’m sure if you just apologised to Gablehauser he would give you your job back. I don’t want my job back. I’ve spent the last three and a half years staring at greaseboards full of equations. Before that I spent four years working on my thesis. Before that I was in college, and before that, I was in the fifth grade. This is my first day off in decades, and I’m going to savour it. Okay. I’ll let you get back to fixing your eggs. I’m not just fixing my eggs, I’m fixing everyone’s eggs. And we all thank you. Use new eggs. (There is a knock on the door). Hi, hey. I’m running out to the market, do you guys need anything? Oh, well this would be one of those circumstances that people unfamiliar with the law of large numbers would call a coincidence. I’m sorry? I need eggs. Four dozen should suffice. Four dozen? Yes, and evenly distributed amongst brown, white, free range, large, extra-large and jumbo. Okay, one more time? Never mind, you won’t get it right, I’d better come with you. Oh, yay! How come you didn’t go into work today. I’m taking a sabbatical, because I won’t kow-tow to mediocre minds. So you got canned, huh? Theoretical physicists do not get canned. But yeah. Well, maybe it’s all for the best, you know I always say, when one door closes, another one opens. No it doesn’t. Not unless the two doors are connected by relays, or there are motion sensors involved. No, no, I meant… Or the first door closing causes a change of air pressure that acts upon the second door. Never mind. Slow down. Slow down, please slow down. We’re fine. Look, you’re not leaving yourself enough space between cars. Oh, sure I am. No, no. Let me do the math for you, this car weighs let’s say 4,000lb, now add say 140 for me, 120 for you. 120? Oh, I’m sorry, did I insult you? Is your body mass somehow tied into your self worth? Well, yeah. Interesting. Anyway, that gives us a total weight of, let’s say, 4,400lb. Let’s say 4,390. Fine. We’re travelling forward at, good Lord, 51 miles an hour. Now let’s assume that your brakes are new and the callipers are aligned, still, by the time we come to a stop, we’ll be occupying the same space as that Buick in front of us, an impossibility that nature will quickly resolve into death, mutilation and… oh look, they built a new put-put course. This is great. Look at me, out in the real world of ordinary people, just living their ordinary, colourless, workaday lives. Thank you. No, thank you. And thank you, ordinary person. Hey, you want to hear an interesting thing about tomatoes. Uh, no, no not really. Listen, didn’t you say you needed some eggs. Uh, yes, but anyone who knows anything about the dynamics of bacterial growth knows to pick up their refrigerated foods on the way out of the supermarket. Oh, okay, well maybe you should start heading on out then. No, this is fun. Oh, the thing about tomatoes, and I think you’ll really enjoy this, is, they’re shelved with the vegetables, but they’re technically a fruit. Interesting. Isn’t it? No, I mean what you find enjoyable. Oh boy. What now? Well, there’s some value to taking a multivitamin, but the human body can only absorb so much, what you’re buying here are the ingredients for very expensive urine. Well, maybe that’s what I was going for. Well then you’ll want some manganese. That was fun. Maybe tomorrow we can go to one of those big warehouse stores. Oh, I don’t know Sheldon, it’s going to take me a while to recover from all the fun I had today. Are you sure. There are a lot of advantages to buying in bulk. For example, I noticed that you purchase your tampons one month’s supply at a time. What? Well think about it, it’s a product that doesn’t spoil, and you’re going to be needing them for at least the next thirty years. You want me to buy thirty years worth of tampons? Well, thirty, thirty five, hey, when did your mother go into menopause? Okay, I’m not talking about this with you. Oh, Penny, this is a natural human process, and we’re talking about statistically significant savings. Now, if you assume 15 tampons per cycle and a 28 day cycle, are you fairly regular? (Penny shuts door in his face.) Okay, no warehouse store, but we’re still on for put-put golf, right? Hey, I just ran into Penny, she seemed upset about something. I think it’s her time of the month. I marked the calendar for future reference. What’s with the fish? It’s an experiment. What happened to your scrambled egg research? Oh, that was a dead end. Scrambled eggs are as good as they’re ever going to be. So… fish. I read an article about Japanese scientists, who inserted DNA from luminous jellyfish into other animals, and I thought hey, fish nightlights. Fish nightlights. It’s a billion dollar idea. Shhhhh! Mum’s the word. Sheldon, are you sure you don’t want to just apologise to Gablehauser and get your job back. Oh, no, no, no. No, I’ve too much to do. Like luminous fish. Shhhhh! Right… I didn’t…. That’s just the beginning. I also have an idea for a bulk mail-order feminine hygiene company. Oh, glow in the dark tampons! Leonard, we’re going to be rich. Thank you for coming on such short notice. You did the right thing calling. I didn’t know what else to do, he’s lost all focus, every day he’s got a new obsession. (They enter the apartment. Sheldon is weaving on a loom. He is wrapped in a poncho.) This is a particularly disturbing one. Mommy. Hi baby. You called my mother? Oh, you got yourself a loom, how nice. Thank you. Honey, why did you get a loom? I was working with luminous fish, and I thought, hey, loom! Mom, what are you doing here? Leonard called me. I know, but why? Because one of the great minds of the twenty-first century is raising glow-in-the-dark fish and weaving sarapes. This is not a sarape. This is a poncho. A sarape is open at the sides, a poncho is closed, this is a poncho, and neither is a reason to call someone’s mother. Really, when was the last time you left the house. I went to the market with Penny. That was three weeks ago. Well then buckle up, in the next four to eight days she’s going to get very crabby. Sweetheart, your little friend is concerned about you. Yes, well I’m not a child, I’m a grown man capable of living my life as I see fit. And I certainly don’t need someone telling on me to my mother. Where are you going? To my room, and no-one’s allowed in. He gets his temper from his daddy. Oh. He’s got my eyes. I see. All that science stuff, that comes from Jesus. Sheldon? Your mum made dinner. I’m not hungry. Oh, Leonard, don’t trouble yourself, he’s stubborn. He may stay in there ‘til the Rapture. Are we so sure that’s a bad thing? I’ll tell ya, I love the boy to death, but he has been difficult since he fell out of me at the K-Mart. Excuse me for being so bold, but I now see where Sheldon gets his smouldering good looks. Oh, honey that ain’t going to work, but you keep trying. (To Raj) I made chicken, I hope that isn’t one of the animals that you people think is magic? You know, we have an Indian gentleman at our church, a Dr Patel, it’s a beautiful story, the lord spoke to him, and moved him to give us all 20% off on lasic, you know, those that needed it. That is a lovely story, um, are we going to do anything about Sheldon? Oh, we will, you have to take your time with Sheldon. His father, God rest his soul, used to say to me, Mary, you have to take your time with Sheldon. Sounds like a wise man. Oh, not so wise, he was trying to fight a bobcat for some licquorish. So, everybody grab a plate, and a pretty place mat that Shelly wove. Has Shelly ever freaked out like this before. Oh, all the time, I remember one summer when he was thirteen, he built a small nuclear reactor in the shed and told everybody he was going to provide free electricity for the whole town, well the only problem was he had no, whatchacall, fissionable materials. Anyway, when he went on the internets to get some, a man from the government came by and sat him down real gentle and told him it’s against the law to have yellow cake uranium in a shed. What happened? Well, the poor boy had a fit, locked himself in his room and built a sonic death ray. A death ray? Well, that’s what he called it, didn’t even slow down the neighbour kids. It pissed our dog off to no end. You know, you two make a cute couple. No, we’re not, we’re not, not a couple, two singles, like those individually wrapped slices of cheese that…. are friends. Did I pluck a nerve there? Oh yeah. Okay. Alright everybody, it’s time to eat. (Everybody begins to do so) Oh Lord, we thank you for this meal, all your bounty, and we pray that you help Sheldon get back on his rocker. (To Raj and Howard) Now after a moment of silent meditation I’m going to end with “In Jesus’ Name” but you two don’t feel any obligation to join in. Unless, of course, the holy spirit moves you. Oh my God, this is the best cobbler I’ve ever had. It was always Sheldon’ s favourite. You know what the secret ingredient is? Love? Lard. Hey, look who’s come out…. Shhh! You’ll spook him. He’s like a baby deer, you gotta let him come to you. This is ridiculous. Dammit, Sheldon, snap out of it. You’re a physicist, you belong at the University doing research, not hiding in your room. (Sheldon scuttles away) You don’t hunt, do you? Good morning, snicker-doodle. Morning. Oh, well that looks awful fancy, what is that? It’s my idea of what DNA would look like in a silicon based life form. But intelligently designed by a creator, right? What do you want, mom? You know how your daddy used to say that you can only fish for so long before you got to throw a stick of dynamite in the water? Yeah. Well, I’m done fishing. (Throwing a pair of trousers on the bed) You put those on. What for? Because you’re going to go down to your office, you’re going to apologise to your boss, and get your job back. No. I’m sorry, did I start that sentence with the words “if it please your highness?” I’m not going to apologise, I didn’t say anything that wasn’t true. Now you listen here, I have been telling you since you were four years old, it’s okay to be smarter than everybody but you can’t go around pointing it out. Why not? Because people don’t like it. Remember all the ass-kickings you got from the neighbour kids? Now let’s get cracking. Shower, shirt, shoes, and let’s shove off. (Exits) Wouldn’t have been any ass-kickings if that stupid death ray had worked. Problem solved. Really? That’s impressive. Leonard, the Lord never gives us more than we can handle. Thankfully he blessed me with two other children who are dumb as soup. Excuse me, Dr Gablehouser, are you busy? Well, actually…. Sheldon, he’s just doodling, get in here. Dr Gablehouser. Dr Cooper. Let’s go, baby, we’re losing daylight. Um, as you know, several weeks ago in our first encounter we may have gotten off on the wrong foot, when I called you an idiot. And I just wanted to say that I was wrong. To point it out. I’m sorry, we haven’t been introduced. Dr Eric Gablehouser. Mary Cooper, Sheldon’s mom. Now that’s impossible, you must have had him when you were a teenager. Oh, aren’t you sweet, his father’s dead. Recently? Long enough. Please. Sheldon, shouldn’t you be working? Okay. Hey, how did it go? I got my job back. Really? What happened? I’m not quite sure. It involves a part of the human experience that has always eluded me. That narrows it down. I’m very proud of you honey, you showed a lot of courage today. Thanks, mom. Mom? Mmm-hmm? Is Dr Gablehouser going to be my new daddy? We’ll see. Sleep tight. David Litt &amp; Lee Aronsohn Chuck Lorre &amp; Bill Prady   \n",
              "4                                                                                                                                                                                                                                                                                                                                                                                                                                                                                                                                                                                                                                                                                                                                                                                                                                                                                                                                                                                                                                                                                                                                                                                                                                                                                                                                                                                                                                                                                                                                                                                                                                                                                                                                                                                                                                                                                                                                                                                                                                                                                                                                                                                                                                                                                                                                                                                                                                                                                                                                                                                                                                                                                                  Alright, I’m moving my infantry division, augmented by a battalion of Orcs from Lord of the Rings, we flank the Tennessee Volunteers, and the North once again wins the Battle of Gettysburg. Not so fast, remember the South still has two infantry divisions, plus Superman and Godzilla. No, no, no, no, Orcs are magic, Superman is vulnerable to magic, not to mention, you already lost Godzilla to the Illinois Cavalry and Hulk. Why don’t you just have Robert E. Lee charge the line with Shiva and Ganesh. Hi, you guys ready to order? Hang on, honey. Shiva and Ganesh? The Hindu Gods against the entire Union army? And Orcs! I’ll be back. Excuse me, Ganesh is the remover of obstacles, and Shiva is the destroyer. When the smoke clears, Abraham Lincoln will be speaking Hindi and drinking mint juleps. Alright, my boss says you either have to order, or leave and never come back. What do you recommend for someone who worked up a man-sized appetite from a morning of weight training and cardio-funk? A shower. I’ll take the heart smart platter. Alright, thank you, and Sheldon. We don’t eat here, I don’t know what’s good. Well, it’s all good. Statistically unlikely. Just get a hamburger, you like hamburgers. I like the hamburgers where we usually have hamburgers, you can’t make the assumption that I’ll like the hamburgers here. I’m sorry. Give him a hamburger. Uh, which one, the Classic Burger, the Ranch House Burger, the Barbecue Burger or the Kobe burger? Can’t we just go to Big Boy? They only have one burger. The Big Boy. The Barbecue Burger is like the Big Boy. Excuse me, in a world that already includes the Big Boy, why would I settle for something like a Big Boy? Because you are not at Big Boy! Fine, I’ll have the Barbecue Burger. Make it two. Waitresses don’t yell at you at Big Boy. Hey Leonard, hi guys. Hey Lesley. I didn’t know you ate here. We don’t. This is a disturbing aberration. Lesley, this is Penny, she lives across the hall from Sheldon and me. And walks in quiet beauty like the night. Howard, I’ve asked you not to do that. Lesley and I do research together at the University. Oh, wow, a girl scientist. Yep, come for the breasts, stay for the brains. So, I’m glad I ran into you, the physics department string quartet needs a new cellist. What happened to Elliot Wong? He switched over to high energy radiation research, had a little mishap, and now the other guys are uncomfortable sitting next to him. So, are you in? Yeah, sure, why not. Great, we rehearse on Tuesdays at your place. Why at my place? Yeah, the department of energy said our regular space is kind of a hot zone. Nice meeting you. Yeah, you too. Leonard, I didn’t know you played the cello? Yeah, my parents felt that naming me Leonard and putting me in advanced placement classes wasn’t getting me beaten up enough. If you’re into music, I happen to be a human beatbox. Really? (Howard performs some of the worst beatboxing imaginable.) I’m actually not that into music. So hey, your friend’s really cute, anything going on with you two. Lesley? No, no-oh, what are you kidding? He asked her out once, it was an embarrassing failure. Thank you Sheldon. Oh, I’m sorry, was that supposed to be a secret? Oh, that’s too bad, you guys would make a cute couple. Oh dear. What’s the matter? She didn’t take my order. How can she take your order when you’re too neurotic to talk to her. Nevertheless, this will be reflected in her tip. What did Penny mean, you’d make a cute couple? Well I assume she meant that the two of you together would constitute a couple that others might consider cute. An alternate, and somewhat less likely interpretation, is that you could manufacture one. As in, oh look, Leonard and Lesley made Mr and Mrs Goldfarb, aren’t they adorable. If Penny didn’t know that Lesley had already turned me down then that would unambiguously mean that she, Penny, thought that I should her, Lesley, out, indicating that she, Penny, had no interest in me asking her, Penny, out. But because she did know that I had asked Lesley out and that she, Lesley, had turned me down then she, Penny, could be offering consolation. That’s too bad, you would have made a cute couple. But while thinking, good, Leonard remains available. You’re a lucky man, Leonard. How so? You’re talking to one of the three men in the Western hemisphere capable of following that train of thought. Well, what do you think. I said I could follow it, I didn’t say I cared. I admire your fingering. Thank you. Maybe some time you can try that on my instrument. Goodnight guys, good job. Thanks. See you next week. That was fun, Lesley, thanks for including me. You’re welcome. If you’re up for it we could practise that middle section again. Uh, sure, why not. Just so we’re clear, you understand that me hanging back to practise with you is a pretext for letting you know that I’m sexually available. Really? Yeah, I’m good to go. I thought you weren’t interested in me. That was before I saw you handling that beautiful piece of wood between your legs. You mean my cello? No, I mean the obvious crude double entendre. I’m seducing you. No kidding? What can I say, I’m a passionate and impulsive woman. So how about it? Gee, uh… Is it the waitress? Penny? What about her? Well, I thought I saw your pupils dilate when you looked at her, which, unless you’re a heroin addict, points to sexual attraction. Well, I did have a poppy seed bagel for breakfast, which could give a positive urine test for opiates but certainly not dilate my pupils, so I guess there’s no point in bringing it up. You and the waitress then? No. No, there’s nothing going on between Penny and me. So, you’re open to a sexual relationship? Yeah. Yeah, I guess I am. Good. Yeah, yeah it is good. Did you want to start now? Why don’t we finish the section first. Oh. Okay. A little musical foreplay. Terrific. I’m good, I’m good to go. Me too. (Exit in direction of bedrooms.) Oh, hey Sheldon, what’s going on? I need your opinion on a matter of semiotics. I’m sorry? Semiotics. The study of signs and symbols, it’s a branch of philosophy related to linguistics. Okay, sweetie, I know you think you’re explaining yourself, but you’re really not. Just come with me. Well? Well what? What does it mean? Oh, come on, you went to college. Yes, but I was eleven. Alright, look, a tie on the doorknob usually means someone doesn’t want to be disturbed because they’re, you know, getting busy. So you’re saying Leonard has a girl in there. Well, either that or he’s lost his tie rack and gotten really into Bryan Adams. Oh Leonard, you magnificent beast. We really shouldn’t be standing here. This is very awkward. Oh, come on, you know, Leonard’s had girls over before, right? Oh, yes, but there’s usually planning, courtship and advance notice. Last time I was able to book a cruise to the Arctic to see a solar eclipse. Wait, you had to leave the state because your roommate was having sex? I didn’t have to, the dates just happened to coincide. So, do you know who’s in there? Well, there’s Leonard. (Picking up violin case) And he’s either with Lesley Winkle or a 1930’s gangster. Hmmm. Good for him. Good for Leonard. Okay, night. No, no, wait, hold on. What’s the matter? I don’t know what the protocol is here. Do I stay, do I leave? Do I wait to greet them with a refreshing beverage? Gee, Sheldon, you’re asking the wrong girl. I’m usually on the other side of the tie. Hi, Leonard. It’s me, Sheldon. In the living room. I just, I wanted you to know I saw the tie. Message received. You’re welcome. You carry on. Give my best to Lesley. Big boy! (Wakes up, looks at watch, wraps self in blanket, walks towards kitchen) Someone touched my board. Oh God, my board. Leonard! Leonard! Hey, what’s the matter? My equations, someone’s tampered with my equations. Are you sure? Of course I’m sure. Look at the beta-function of quantum chrono-dynamics, the sign’s been changed. Oh yeah. But doesn’t that fix the problem you’ve been having? Are you insane? Are you out of your mind? Are you…. hey look, that fixes the problem I’ve been having. You’re welcome. You did this? Yeah, I noticed it when I got up to get a glass of water, so I fixed it, now you can show that quarks are asymptotically free at high energies. Pretty cool, huh? Cool? Listen, I got to hit the lab. Thanks for a great night. Thank you, I’ll see you at work. Uh-duh, hold on, hold on! What? Who told you you could touch my board? No-one. I don’t come into your house and touch your board. There are no incorrect equations on my board. Oh, that is so… so… I’m sorry, I’ve got to run, if you come up with an adjective, text me. (Leaves). Inconsiderate, that is the adjective, inconsiderate. You can stare at your board all day Sheldon, she’s still going to be right. I’m not staring, I’m mulling. Oh, hey Leonard. Oh, hi. So, how’s it going? Pretty good. Just pretty good, I’d think you were doing very good. Pretty, very, there’s really no objective scale for delineating variations of good, why do you ask? Well, a little bird told me that you and Lesley hooked up last night. Sheldon! I’m coming. So, is it serious, do you like her? Wuh, I don’t…. th-th-th-that’s really two different questions, uh, I’m not…. Sheldon, we have to go! Boy, you’re wound awfully tight for a man who just had sexual intercourse. Alright, well, I’ll talk to you later, but, I am so happy for you Leonard. Thank you. What did she mean, she’s happy for me? Is she happy because I’m seeing someone, or is she happy because she thinks that I’m happy, because anyone who cared for someone would want them to be happy, even if the reason for their happiness made the first person unhappy. You know, because the second person, though happy, is now romantically unavailable to the first person. Do you realise I may have to share a Nobel Prize with your booty call? You know what, I’m being ridiculous. But who cares what Penny thinks, Lesley is a terrific girl, she’s attractive, we like each other, she’s extremely intelligent. She’s not that intelligent. She fixed your equation. She got lucky. You don’t believe in luck. I don’t have to believe in it for her to be lucky. Regardless, I have a chance at a real relationship with Lesley, I’m not going to pass that up for some hypothetical future happiness with a woman who may or may not want me to be happy with a woman who is currently making me happy. Leonard? Yeah. I still don’t care. Hey, Lesley. Careful  Leonard, liquid nitrogen, 320 degrees below zero. Brrrr. Why are you smashing a flash frozen banana. Because I’ve got a bowl of Cheerios and I couldn’t find a knife. So anyway (puts arms around her) Hello. Uh, what are you doing? Just extending the intimacy. Do you want to slip over to the radiation lab and share a decontamination shower? Okay, uh, what exactly do you think’s going on between us? I’m not sure, but I think I’m about to discover how the banana felt. Listen, Leonard, neither of us are neuroscientists but we both understand the biochemistry of sex, I mean, dopamine in our brains is released across synapses causing pleasure. You stick electrodes in a rat’s brain, give him an orgasm button, he’ll push that thing until he starves to death. Who wouldn’t? Well, the only difference between us and a rat is that you can’t stick an electrode in our hypothalamus. That’s where you come in. Yeah, well, I’m just glad to be a part of it. So what happens now? Well, I don’t know about your sex drive, but I’m probably good till New Years. Oh. Okay. Thank you. Thank you! You want to make plans for New Years. Woah, Leonard, please, you’re smothering me. Sorry. Hey, look, it’s Doctor Stud! Doctor what? The blogosphere is a-buzzing with news of you and Lesley Winkle making eine kleine bang-bang music. Wha… how did it get on the internet? I put it there. Well, how did you know about it? A little bird told us. Apparently you are a magnificent beast. Well, that part’s true! You know, I think I may have misjudged this restaurant. No kidding. I won’t go out on a limb, but I think we may be looking at my new Tuesday hamburger. Your old Tuesday hamburger will be so broken hearted. Way ahead of you. I was thinking of moving Big Boy to Thursdays, and just dropping Soup Plantation. Really? Yeah, the name always confused me anyway, Soup Plantation. You can’t grow soup. So, how’s everything. Terrific, you’ll be happy to know that I plan to come here every Tuesday night for the foreseeable future. Really, oh yay! Who do I speak to about permanently reserving this table? Um, I don’t know, a psychiatrist? So hey, how are things with you and Lesley? Oh, to be honest, I don’t think it’s going to work out. Oh, oh that’s too bad. Well hey, don’t worry, I’m sure there is someone out there who is just right for you. (Walks away smiling). Well what did she mean by that? Was that just a generic platitude or was that a subtle bid for attention? You know why this hamburger surpasses the Big Boy? This is a single decker hamburger whereas the Big Boy is a double decker. This has a much more satisfying meat to bun to condiment ratio. Are you even listening to me? Of course I’m listening. Blah blah, hopeless Penny delusion, blah blah blah. Okay then. You know, you can grow the ingredients for soup. (Sheldon nods).   \n",
              "\n",
              "  episode_id  \n",
              "0        1-1  \n",
              "1        1-2  \n",
              "2        1-3  \n",
              "3        1-4  \n",
              "4        1-5  "
            ]
          },
          "metadata": {},
          "execution_count": 468
        }
      ]
    },
    {
      "cell_type": "markdown",
      "source": [
        "### Grouping by lines and character"
      ],
      "metadata": {
        "id": "RLKU9i6z2Yxt"
      }
    },
    {
      "cell_type": "code",
      "source": [
        ""
      ],
      "metadata": {
        "id": "MgLAgTb1z5Z_"
      },
      "execution_count": 468,
      "outputs": []
    },
    {
      "cell_type": "code",
      "source": [
        "character_episode = raw.copy()\n",
        "\n",
        "#turn numerical for sorting purposes\n",
        "character_episode[['season', 'episode_number']] = character_episode[['season', 'episode_number']].astype('int')\n",
        "\n",
        "#groupby season-episode-character and sort\n",
        "character_episode= character_episode.groupby(['season', 'episode_number', 'character'])['line'].apply(' '.join).reset_index()\n",
        "character_episode =character_episode.sort_values(['season', 'episode_number'])\n",
        "\n",
        "#create key and drop redundant \n",
        "character_episode['episode_id'] = (character_episode['season']).astype('str') + \"-\" + (character_episode['episode_number']).astype('str')\n",
        "character_episode = character_episode.drop(['season', 'episode_number'], axis=1)\n",
        "\n",
        "character_episode.head(2)"
      ],
      "metadata": {
        "colab": {
          "base_uri": "https://localhost:8080/",
          "height": 243
        },
        "id": "7W22DnTJzrin",
        "outputId": "0b74a16d-70ad-4b7d-daff-3cef072a6fa2"
      },
      "execution_count": 469,
      "outputs": [
        {
          "output_type": "execute_result",
          "data": {
            "text/html": [
              "\n",
              "  <div id=\"df-cf74887f-5389-4a9d-a551-ec98b1e655dc\">\n",
              "    <div class=\"colab-df-container\">\n",
              "      <div>\n",
              "<style scoped>\n",
              "    .dataframe tbody tr th:only-of-type {\n",
              "        vertical-align: middle;\n",
              "    }\n",
              "\n",
              "    .dataframe tbody tr th {\n",
              "        vertical-align: top;\n",
              "    }\n",
              "\n",
              "    .dataframe thead th {\n",
              "        text-align: right;\n",
              "    }\n",
              "</style>\n",
              "<table border=\"1\" class=\"dataframe\">\n",
              "  <thead>\n",
              "    <tr style=\"text-align: right;\">\n",
              "      <th></th>\n",
              "      <th>character</th>\n",
              "      <th>line</th>\n",
              "      <th>episode_id</th>\n",
              "    </tr>\n",
              "  </thead>\n",
              "  <tbody>\n",
              "    <tr>\n",
              "      <th>0</th>\n",
              "      <td>Enormous man</td>\n",
              "      <td>Yeah?</td>\n",
              "      <td>1-1</td>\n",
              "    </tr>\n",
              "    <tr>\n",
              "      <th>1</th>\n",
              "      <td>Howard</td>\n",
              "      <td>Wait till you see this. It’s a Stephen Hawking lecture from MIT in 1974. It’s before he became a creepy computer voice Yeah, right, your grandmother back in town? Hang on, there really is a lady here? And you want us out because you’re anticipating coitus? So she’s available for coitus? Enchante Madamoiselle. Howard Wolowitz, Cal-Tech department of Applied Physics. You may be familiar with some of my work, it’s currently orbiting Jupiter’s largest moon taking high-resolution digital photographs. Bon douche. It’s French for good shower. It’s a sentiment I can express in six languages. See-ka-tong-guay-jow. Oh, he speaks English, he just can’t speak to women. He’s kind of a nerd. Juice box? This is one of my favourite places to kick back after a quest, they have a great house ale. Yeah, I’ve had him since level ten. His name is Buttons. Anyway, if you had your own game character we could hang out, maybe go on a quest. So you’ll think about it? Turn left on Lake Street and head up to Colorado. I know a wonderful little sushi bar that has karaoke. Baby, baby don’t get hooked on me. Uh, baby, baby don’t get hooked on me.</td>\n",
              "      <td>1-1</td>\n",
              "    </tr>\n",
              "  </tbody>\n",
              "</table>\n",
              "</div>\n",
              "      <button class=\"colab-df-convert\" onclick=\"convertToInteractive('df-cf74887f-5389-4a9d-a551-ec98b1e655dc')\"\n",
              "              title=\"Convert this dataframe to an interactive table.\"\n",
              "              style=\"display:none;\">\n",
              "        \n",
              "  <svg xmlns=\"http://www.w3.org/2000/svg\" height=\"24px\"viewBox=\"0 0 24 24\"\n",
              "       width=\"24px\">\n",
              "    <path d=\"M0 0h24v24H0V0z\" fill=\"none\"/>\n",
              "    <path d=\"M18.56 5.44l.94 2.06.94-2.06 2.06-.94-2.06-.94-.94-2.06-.94 2.06-2.06.94zm-11 1L8.5 8.5l.94-2.06 2.06-.94-2.06-.94L8.5 2.5l-.94 2.06-2.06.94zm10 10l.94 2.06.94-2.06 2.06-.94-2.06-.94-.94-2.06-.94 2.06-2.06.94z\"/><path d=\"M17.41 7.96l-1.37-1.37c-.4-.4-.92-.59-1.43-.59-.52 0-1.04.2-1.43.59L10.3 9.45l-7.72 7.72c-.78.78-.78 2.05 0 2.83L4 21.41c.39.39.9.59 1.41.59.51 0 1.02-.2 1.41-.59l7.78-7.78 2.81-2.81c.8-.78.8-2.07 0-2.86zM5.41 20L4 18.59l7.72-7.72 1.47 1.35L5.41 20z\"/>\n",
              "  </svg>\n",
              "      </button>\n",
              "      \n",
              "  <style>\n",
              "    .colab-df-container {\n",
              "      display:flex;\n",
              "      flex-wrap:wrap;\n",
              "      gap: 12px;\n",
              "    }\n",
              "\n",
              "    .colab-df-convert {\n",
              "      background-color: #E8F0FE;\n",
              "      border: none;\n",
              "      border-radius: 50%;\n",
              "      cursor: pointer;\n",
              "      display: none;\n",
              "      fill: #1967D2;\n",
              "      height: 32px;\n",
              "      padding: 0 0 0 0;\n",
              "      width: 32px;\n",
              "    }\n",
              "\n",
              "    .colab-df-convert:hover {\n",
              "      background-color: #E2EBFA;\n",
              "      box-shadow: 0px 1px 2px rgba(60, 64, 67, 0.3), 0px 1px 3px 1px rgba(60, 64, 67, 0.15);\n",
              "      fill: #174EA6;\n",
              "    }\n",
              "\n",
              "    [theme=dark] .colab-df-convert {\n",
              "      background-color: #3B4455;\n",
              "      fill: #D2E3FC;\n",
              "    }\n",
              "\n",
              "    [theme=dark] .colab-df-convert:hover {\n",
              "      background-color: #434B5C;\n",
              "      box-shadow: 0px 1px 3px 1px rgba(0, 0, 0, 0.15);\n",
              "      filter: drop-shadow(0px 1px 2px rgba(0, 0, 0, 0.3));\n",
              "      fill: #FFFFFF;\n",
              "    }\n",
              "  </style>\n",
              "\n",
              "      <script>\n",
              "        const buttonEl =\n",
              "          document.querySelector('#df-cf74887f-5389-4a9d-a551-ec98b1e655dc button.colab-df-convert');\n",
              "        buttonEl.style.display =\n",
              "          google.colab.kernel.accessAllowed ? 'block' : 'none';\n",
              "\n",
              "        async function convertToInteractive(key) {\n",
              "          const element = document.querySelector('#df-cf74887f-5389-4a9d-a551-ec98b1e655dc');\n",
              "          const dataTable =\n",
              "            await google.colab.kernel.invokeFunction('convertToInteractive',\n",
              "                                                     [key], {});\n",
              "          if (!dataTable) return;\n",
              "\n",
              "          const docLinkHtml = 'Like what you see? Visit the ' +\n",
              "            '<a target=\"_blank\" href=https://colab.research.google.com/notebooks/data_table.ipynb>data table notebook</a>'\n",
              "            + ' to learn more about interactive tables.';\n",
              "          element.innerHTML = '';\n",
              "          dataTable['output_type'] = 'display_data';\n",
              "          await google.colab.output.renderOutput(dataTable, element);\n",
              "          const docLink = document.createElement('div');\n",
              "          docLink.innerHTML = docLinkHtml;\n",
              "          element.appendChild(docLink);\n",
              "        }\n",
              "      </script>\n",
              "    </div>\n",
              "  </div>\n",
              "  "
            ],
            "text/plain": [
              "      character  \\\n",
              "0  Enormous man   \n",
              "1        Howard   \n",
              "\n",
              "                                                                                                                                                                                                                                                                                                                                                                                                                                                                                                                                                                                                                                                                                                                                                                                                                                                                                                                                                                                                                                                                                                                                                                            line  \\\n",
              "0                                                                                                                                                                                                                                                                                                                                                                                                                                                                                                                                                                                                                                                                                                                                                                                                                                                                                                                                                                                                                                                                                                                                                                          Yeah?   \n",
              "1  Wait till you see this. It’s a Stephen Hawking lecture from MIT in 1974. It’s before he became a creepy computer voice Yeah, right, your grandmother back in town? Hang on, there really is a lady here? And you want us out because you’re anticipating coitus? So she’s available for coitus? Enchante Madamoiselle. Howard Wolowitz, Cal-Tech department of Applied Physics. You may be familiar with some of my work, it’s currently orbiting Jupiter’s largest moon taking high-resolution digital photographs. Bon douche. It’s French for good shower. It’s a sentiment I can express in six languages. See-ka-tong-guay-jow. Oh, he speaks English, he just can’t speak to women. He’s kind of a nerd. Juice box? This is one of my favourite places to kick back after a quest, they have a great house ale. Yeah, I’ve had him since level ten. His name is Buttons. Anyway, if you had your own game character we could hang out, maybe go on a quest. So you’ll think about it? Turn left on Lake Street and head up to Colorado. I know a wonderful little sushi bar that has karaoke. Baby, baby don’t get hooked on me. Uh, baby, baby don’t get hooked on me.   \n",
              "\n",
              "  episode_id  \n",
              "0        1-1  \n",
              "1        1-1  "
            ]
          },
          "metadata": {},
          "execution_count": 469
        }
      ]
    },
    {
      "cell_type": "markdown",
      "source": [
        "### Extracting a single line"
      ],
      "metadata": {
        "id": "40S9Elig20c_"
      }
    },
    {
      "cell_type": "code",
      "source": [
        ""
      ],
      "metadata": {
        "id": "kM4-PDiq1nmK"
      },
      "execution_count": 469,
      "outputs": []
    },
    {
      "cell_type": "code",
      "source": [
        "#pd.set_option('display.max_colwidth', None)\n",
        "penny_series = raw[(raw['episode_id']=='1-1') & (raw['character']=='Penny')]['line']\n",
        "penny_list = penny_series.tolist()\n",
        "penny_list"
      ],
      "metadata": {
        "colab": {
          "base_uri": "https://localhost:8080/"
        },
        "id": "wLssb52Jx7ey",
        "outputId": "a30af39a-14a6-460a-f9e8-184ebc066288"
      },
      "execution_count": 470,
      "outputs": [
        {
          "output_type": "execute_result",
          "data": {
            "text/plain": [
              "['Oh, hi!',\n",
              " 'Hi?',\n",
              " 'Oh, that’s nice.',\n",
              " 'Oh, okay, well, guess I’m your new neighbour, Penny.',\n",
              " 'Hi.',\n",
              " 'Hi.',\n",
              " 'Thankyou, maybe we can have coffee sometime.',\n",
              " 'Great.',\n",
              " 'Bye.',\n",
              " 'Hi.',\n",
              " 'Hi.',\n",
              " 'Oh, you’re inviting me over to eat?',\n",
              " 'Oh, that’s so nice, I’d love to.',\n",
              " 'So, what do you guys do for fun around here?',\n",
              " 'Okay, thankyou.',\n",
              " 'This looks like some serious stuff, Leonard, did you do this?',\n",
              " 'Wow.',\n",
              " 'So you’re like, one of those, beautiful mind genius guys.',\n",
              " 'This is really impressive.',\n",
              " 'Holy smokes.',\n",
              " 'Uh, do you guys mind if I start?',\n",
              " 'So, sit next to me.',\n",
              " 'What’s the difference?',\n",
              " 'Do you want me to move?',\n",
              " 'So, Klingon boggle?',\n",
              " 'Um, me, okay, I’m Sagittarius, which probably tells you way more than you need to know.',\n",
              " 'Participate in the what?',\n",
              " 'Oh, yeah, a lot of people think I’m a water sign. Okay, let’s see, what else, oh, I’m a vegetarian, oh, except for fish, and the occasional steak, I love steak.',\n",
              " 'Oh, yeah, I’m a waitress at the Cheesecake Factory.',\n",
              " 'Oh, anyways, I’m also writing a screenplay. It’s about this sensitive girl who comes to L.A. from Lincoln Nebraska to be an actress, and winds up a waitress at the Cheesecake Factory.',\n",
              " 'No, I’m from Omaha.',\n",
              " 'I know, right? Okay, let’s see, what else? Um, that’s about it. That’s the story of Penny.',\n",
              " 'It was. Until I fell in love with a jerk.',\n",
              " 'Oh God, you know, four years I lived with him, four years, that’s like as long as High School.',\n",
              " 'I just, I can’t believe I trusted him.<br/>',\n",
              " 'You want to know the most pathetic part? Even though I hate his lying, cheating guts, I still love him. Is that crazy?',\n",
              " 'Oh, I’m so sorry, I’m such a mess, and on top of everything else I’m all gross from moving and my stupid shower doesn’t even work.',\n",
              " 'Really? Would it be totally weird if I used it?',\n",
              " 'Thanks. You guys are really sweet.<br/>',\n",
              " 'Hey, is there a trick to getting it to switch from tub to shower. Oh. Hi, sorry. Hello!',\n",
              " 'Penny. I work at the Cheesecake Factory.',\n",
              " 'I’m sorry?',\n",
              " 'Okay. Thanks.',\n",
              " 'Hey, Leonard?',\n",
              " 'Um, okay. Can I ask you a favour.',\n",
              " 'It’s okay if you say no.',\n",
              " 'It’s just not the kind of thing you ask a guy you’ve just met.',\n",
              " 'So, you guys work with Leonard and Sheldon at the University?',\n",
              " 'Uh, I’m sorry, do you speak English?',\n",
              " 'Really, why?',\n",
              " 'Wow, cool tiger.',\n",
              " 'Uh, sounds interesting.',\n",
              " 'Oh, I don’t think I’ll be able to stop thinking about it.',\n",
              " 'Oh, my God, what happened?',\n",
              " 'I’m so sorry, I really thought if you guys went instead of me he wouldn’t be such an ass.',\n",
              " 'Really, thank you so much for going and trying you’re, uh, you’re so terrific. Why don’t you put some clothes on, I’ll get my purse and dinner is on me, okay?',\n",
              " 'Sure.',\n",
              " 'So?',\n",
              " 'So?',\n",
              " 'Any ideas Raj? (He just looks at her with a worried expression.)',\n",
              " 'That sounds like fun.']"
            ]
          },
          "metadata": {},
          "execution_count": 470
        }
      ]
    },
    {
      "cell_type": "code",
      "source": [
        ""
      ],
      "metadata": {
        "id": "_S7Mmp6e1lQJ"
      },
      "execution_count": 470,
      "outputs": []
    },
    {
      "cell_type": "code",
      "source": [
        ""
      ],
      "metadata": {
        "id": "9byqQKjkyGXR"
      },
      "execution_count": 470,
      "outputs": []
    }
  ]
}