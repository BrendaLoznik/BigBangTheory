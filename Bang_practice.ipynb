{
  "nbformat": 4,
  "nbformat_minor": 0,
  "metadata": {
    "colab": {
      "name": "Bang_practice.ipynb",
      "provenance": [],
      "toc_visible": true,
      "mount_file_id": "1oRzakWdb28hZF-LouqyjwKgyDGYvE6G6",
      "authorship_tag": "ABX9TyNISHVQctW3gjctNx6R4mEy",
      "include_colab_link": true
    },
    "kernelspec": {
      "name": "python3",
      "display_name": "Python 3"
    },
    "language_info": {
      "name": "python"
    }
  },
  "cells": [
    {
      "cell_type": "markdown",
      "metadata": {
        "id": "view-in-github",
        "colab_type": "text"
      },
      "source": [
        "<a href=\"https://colab.research.google.com/github/BrendaLoznik/BigBangTheory/blob/main/Bang_practice.ipynb\" target=\"_parent\"><img src=\"https://colab.research.google.com/assets/colab-badge.svg\" alt=\"Open In Colab\"/></a>"
      ]
    },
    {
      "cell_type": "markdown",
      "source": [
        "# **1 Housekeeping**"
      ],
      "metadata": {
        "id": "96m5eCcM3uy6"
      }
    },
    {
      "cell_type": "markdown",
      "source": [
        "### **1.1 Load libraries**"
      ],
      "metadata": {
        "id": "m7CPZA-k3u7P"
      }
    },
    {
      "cell_type": "code",
      "source": [
        "pip install polyglot"
      ],
      "metadata": {
        "colab": {
          "base_uri": "https://localhost:8080/"
        },
        "id": "LSypIYeU5OoU",
        "outputId": "55de9c6e-3fa6-4ae1-dd47-dbf3bf1683fb"
      },
      "execution_count": 83,
      "outputs": [
        {
          "output_type": "stream",
          "name": "stdout",
          "text": [
            "Requirement already satisfied: polyglot in /usr/local/lib/python3.7/dist-packages (16.7.4)\n"
          ]
        }
      ]
    },
    {
      "cell_type": "code",
      "source": [
        "import nltk\n",
        "nltk.download('punkt')\n",
        "nltk.download('stopwords')\n",
        "nltk.download('wordnet')\n",
        "nltk.download('averaged_perceptron_tagger')\n",
        "nltk.download('maxent_ne_chunker')\n",
        "nltk.download('words')\n"
      ],
      "metadata": {
        "id": "vy9ITdQ0IzmK"
      },
      "execution_count": null,
      "outputs": []
    },
    {
      "cell_type": "code",
      "source": [
        "#run line below to dlownlaod thebdium and large language packages that give errors when you try to import them otherwise\n",
        "#install --> new runtime --> re-run"
      ],
      "metadata": {
        "id": "aoZ0BGK6toUi"
      },
      "execution_count": 85,
      "outputs": []
    },
    {
      "cell_type": "code",
      "source": [
        "!python -m spacy download en_core_web_md"
      ],
      "metadata": {
        "id": "EzEEh3W9tkZC"
      },
      "execution_count": null,
      "outputs": []
    },
    {
      "cell_type": "code",
      "source": [
        "#basic libraries\n",
        "import numpy as np\n",
        "import pandas as pd\n",
        "import matplotlib.pyplot as plt\n",
        "%matplotlib inline\n",
        "import seaborn as sns\n",
        "import re\n",
        "\n",
        "pd.set_option(\"display.max_columns\", 100)\n",
        "pd.set_option(\"display.max_rows\", 200)\n",
        "\n",
        "#toekanization\n",
        "from nltk.tokenize import word_tokenize\n",
        "from nltk.tokenize import sent_tokenize\n",
        "from nltk.tokenize import regexp_tokenize\n",
        "from nltk.tokenize import TweetTokenizer\n",
        "from collections import Counter\n",
        "\n",
        "#preprocessing\n",
        "from nltk.corpus import stopwords\n",
        "from nltk.stem import WordNetLemmatizer\n",
        "\n",
        "#gensim\n",
        "from gensim.corpora.dictionary import Dictionary\n",
        "from collections import defaultdict\n",
        "import itertools   \n",
        "from gensim.models.tfidfmodel import TfidfModel\n",
        "\n",
        "#spacy\n",
        "import spacy\n",
        "nlp = spacy.load('en')\n",
        "from spacy.matcher import Matcher, PhraseMatcher\n",
        "from spacy.tokens import Span\n",
        "import random\n",
        "\n",
        "#polyglot\n",
        "#from polyglot.text import Text, Word\n",
        "\n",
        "#ml\n",
        "from sklearn.feature_extraction.text import CountVectorizer\n",
        "from sklearn.model_selection import train_test_split\n",
        "from sklearn.feature_extraction.text import TfidfVectorizer\n",
        "from sklearn.naive_bayes import MultinomialNB #works wel with countvectorizer (less well for floats created by tfidf)\n",
        "from sklearn import metrics\n",
        "\n",
        "#sentiment\n",
        "from textblob import TextBlob\n",
        "from wordcloud import WordCloud\n"
      ],
      "metadata": {
        "id": "h0CWKSwz3x9a"
      },
      "execution_count": 214,
      "outputs": []
    },
    {
      "cell_type": "markdown",
      "source": [
        "### ***1.2 Load data***"
      ],
      "metadata": {
        "id": "jgUNZULo33gh"
      }
    },
    {
      "cell_type": "code",
      "source": [
        "from google.colab import drive \n",
        "drive.mount('/content/gdrive')"
      ],
      "metadata": {
        "colab": {
          "base_uri": "https://localhost:8080/"
        },
        "id": "WCRvHgl03yLR",
        "outputId": "17fe2723-74f8-4270-b281-3a4780f8f884"
      },
      "execution_count": 88,
      "outputs": [
        {
          "output_type": "stream",
          "name": "stdout",
          "text": [
            "Drive already mounted at /content/gdrive; to attempt to forcibly remount, call drive.mount(\"/content/gdrive\", force_remount=True).\n"
          ]
        }
      ]
    },
    {
      "cell_type": "markdown",
      "source": [
        "**One line per paragraph per episode**"
      ],
      "metadata": {
        "id": "osnnmz2A7hu8"
      }
    },
    {
      "cell_type": "code",
      "source": [
        "#df: one line per paragraph\n",
        "df= pd.read_csv('/content/gdrive/MyDrive/Kaggle/Bigbang/cleaned_episodes2.csv', sep = '|')\n",
        "df.head()"
      ],
      "metadata": {
        "colab": {
          "base_uri": "https://localhost:8080/",
          "height": 943
        },
        "id": "l9Y22-V035oZ",
        "outputId": "ea6f0b16-ce8f-4fc2-a0af-4614381ed27c"
      },
      "execution_count": 89,
      "outputs": [
        {
          "output_type": "execute_result",
          "data": {
            "text/html": [
              "\n",
              "  <div id=\"df-83395edb-db27-47ad-94e9-1cf169e96f89\">\n",
              "    <div class=\"colab-df-container\">\n",
              "      <div>\n",
              "<style scoped>\n",
              "    .dataframe tbody tr th:only-of-type {\n",
              "        vertical-align: middle;\n",
              "    }\n",
              "\n",
              "    .dataframe tbody tr th {\n",
              "        vertical-align: top;\n",
              "    }\n",
              "\n",
              "    .dataframe thead th {\n",
              "        text-align: right;\n",
              "    }\n",
              "</style>\n",
              "<table border=\"1\" class=\"dataframe\">\n",
              "  <thead>\n",
              "    <tr style=\"text-align: right;\">\n",
              "      <th></th>\n",
              "      <th>episode_nr</th>\n",
              "      <th>season</th>\n",
              "      <th>season_episode</th>\n",
              "      <th>episode_id</th>\n",
              "      <th>episode_name</th>\n",
              "      <th>character</th>\n",
              "      <th>location</th>\n",
              "      <th>line</th>\n",
              "      <th>line_id</th>\n",
              "    </tr>\n",
              "  </thead>\n",
              "  <tbody>\n",
              "    <tr>\n",
              "      <th>0</th>\n",
              "      <td>1</td>\n",
              "      <td>1</td>\n",
              "      <td>1</td>\n",
              "      <td>1-1</td>\n",
              "      <td>Pilot Episode</td>\n",
              "      <td>Sheldon</td>\n",
              "      <td>A corridor at a sperm bank.</td>\n",
              "      <td>So if a photon is directed through a plane with two slits in it and either slit is observed it will not go through both slits. If it’s unobserved it will, however, if it’s observed after it’s left the plane but before it hits its target, it will not have gone through both slits.</td>\n",
              "      <td>1</td>\n",
              "    </tr>\n",
              "    <tr>\n",
              "      <th>1</th>\n",
              "      <td>1</td>\n",
              "      <td>1</td>\n",
              "      <td>1</td>\n",
              "      <td>1-1</td>\n",
              "      <td>Pilot Episode</td>\n",
              "      <td>Leonard</td>\n",
              "      <td>A corridor at a sperm bank.</td>\n",
              "      <td>Agreed, what’s your point?</td>\n",
              "      <td>2</td>\n",
              "    </tr>\n",
              "    <tr>\n",
              "      <th>2</th>\n",
              "      <td>1</td>\n",
              "      <td>1</td>\n",
              "      <td>1</td>\n",
              "      <td>1-1</td>\n",
              "      <td>Pilot Episode</td>\n",
              "      <td>Sheldon</td>\n",
              "      <td>A corridor at a sperm bank.</td>\n",
              "      <td>There’s no point, I just think it’s a good idea for a tee-shirt.</td>\n",
              "      <td>3</td>\n",
              "    </tr>\n",
              "    <tr>\n",
              "      <th>3</th>\n",
              "      <td>1</td>\n",
              "      <td>1</td>\n",
              "      <td>1</td>\n",
              "      <td>1-1</td>\n",
              "      <td>Pilot Episode</td>\n",
              "      <td>Leonard</td>\n",
              "      <td>A corridor at a sperm bank.</td>\n",
              "      <td>Excuse me?</td>\n",
              "      <td>4</td>\n",
              "    </tr>\n",
              "    <tr>\n",
              "      <th>4</th>\n",
              "      <td>1</td>\n",
              "      <td>1</td>\n",
              "      <td>1</td>\n",
              "      <td>1-1</td>\n",
              "      <td>Pilot Episode</td>\n",
              "      <td>Receptionist</td>\n",
              "      <td>A corridor at a sperm bank.</td>\n",
              "      <td>Hang on.</td>\n",
              "      <td>5</td>\n",
              "    </tr>\n",
              "  </tbody>\n",
              "</table>\n",
              "</div>\n",
              "      <button class=\"colab-df-convert\" onclick=\"convertToInteractive('df-83395edb-db27-47ad-94e9-1cf169e96f89')\"\n",
              "              title=\"Convert this dataframe to an interactive table.\"\n",
              "              style=\"display:none;\">\n",
              "        \n",
              "  <svg xmlns=\"http://www.w3.org/2000/svg\" height=\"24px\"viewBox=\"0 0 24 24\"\n",
              "       width=\"24px\">\n",
              "    <path d=\"M0 0h24v24H0V0z\" fill=\"none\"/>\n",
              "    <path d=\"M18.56 5.44l.94 2.06.94-2.06 2.06-.94-2.06-.94-.94-2.06-.94 2.06-2.06.94zm-11 1L8.5 8.5l.94-2.06 2.06-.94-2.06-.94L8.5 2.5l-.94 2.06-2.06.94zm10 10l.94 2.06.94-2.06 2.06-.94-2.06-.94-.94-2.06-.94 2.06-2.06.94z\"/><path d=\"M17.41 7.96l-1.37-1.37c-.4-.4-.92-.59-1.43-.59-.52 0-1.04.2-1.43.59L10.3 9.45l-7.72 7.72c-.78.78-.78 2.05 0 2.83L4 21.41c.39.39.9.59 1.41.59.51 0 1.02-.2 1.41-.59l7.78-7.78 2.81-2.81c.8-.78.8-2.07 0-2.86zM5.41 20L4 18.59l7.72-7.72 1.47 1.35L5.41 20z\"/>\n",
              "  </svg>\n",
              "      </button>\n",
              "      \n",
              "  <style>\n",
              "    .colab-df-container {\n",
              "      display:flex;\n",
              "      flex-wrap:wrap;\n",
              "      gap: 12px;\n",
              "    }\n",
              "\n",
              "    .colab-df-convert {\n",
              "      background-color: #E8F0FE;\n",
              "      border: none;\n",
              "      border-radius: 50%;\n",
              "      cursor: pointer;\n",
              "      display: none;\n",
              "      fill: #1967D2;\n",
              "      height: 32px;\n",
              "      padding: 0 0 0 0;\n",
              "      width: 32px;\n",
              "    }\n",
              "\n",
              "    .colab-df-convert:hover {\n",
              "      background-color: #E2EBFA;\n",
              "      box-shadow: 0px 1px 2px rgba(60, 64, 67, 0.3), 0px 1px 3px 1px rgba(60, 64, 67, 0.15);\n",
              "      fill: #174EA6;\n",
              "    }\n",
              "\n",
              "    [theme=dark] .colab-df-convert {\n",
              "      background-color: #3B4455;\n",
              "      fill: #D2E3FC;\n",
              "    }\n",
              "\n",
              "    [theme=dark] .colab-df-convert:hover {\n",
              "      background-color: #434B5C;\n",
              "      box-shadow: 0px 1px 3px 1px rgba(0, 0, 0, 0.15);\n",
              "      filter: drop-shadow(0px 1px 2px rgba(0, 0, 0, 0.3));\n",
              "      fill: #FFFFFF;\n",
              "    }\n",
              "  </style>\n",
              "\n",
              "      <script>\n",
              "        const buttonEl =\n",
              "          document.querySelector('#df-83395edb-db27-47ad-94e9-1cf169e96f89 button.colab-df-convert');\n",
              "        buttonEl.style.display =\n",
              "          google.colab.kernel.accessAllowed ? 'block' : 'none';\n",
              "\n",
              "        async function convertToInteractive(key) {\n",
              "          const element = document.querySelector('#df-83395edb-db27-47ad-94e9-1cf169e96f89');\n",
              "          const dataTable =\n",
              "            await google.colab.kernel.invokeFunction('convertToInteractive',\n",
              "                                                     [key], {});\n",
              "          if (!dataTable) return;\n",
              "\n",
              "          const docLinkHtml = 'Like what you see? Visit the ' +\n",
              "            '<a target=\"_blank\" href=https://colab.research.google.com/notebooks/data_table.ipynb>data table notebook</a>'\n",
              "            + ' to learn more about interactive tables.';\n",
              "          element.innerHTML = '';\n",
              "          dataTable['output_type'] = 'display_data';\n",
              "          await google.colab.output.renderOutput(dataTable, element);\n",
              "          const docLink = document.createElement('div');\n",
              "          docLink.innerHTML = docLinkHtml;\n",
              "          element.appendChild(docLink);\n",
              "        }\n",
              "      </script>\n",
              "    </div>\n",
              "  </div>\n",
              "  "
            ],
            "text/plain": [
              "   episode_nr  season  season_episode episode_id    episode_name  \\\n",
              "0           1       1               1        1-1  Pilot Episode    \n",
              "1           1       1               1        1-1  Pilot Episode    \n",
              "2           1       1               1        1-1  Pilot Episode    \n",
              "3           1       1               1        1-1  Pilot Episode    \n",
              "4           1       1               1        1-1  Pilot Episode    \n",
              "\n",
              "      character                     location  \\\n",
              "0       Sheldon  A corridor at a sperm bank.   \n",
              "1       Leonard  A corridor at a sperm bank.   \n",
              "2       Sheldon  A corridor at a sperm bank.   \n",
              "3       Leonard  A corridor at a sperm bank.   \n",
              "4  Receptionist  A corridor at a sperm bank.   \n",
              "\n",
              "                                                                                                                                                                                                                                                                                      line  \\\n",
              "0  So if a photon is directed through a plane with two slits in it and either slit is observed it will not go through both slits. If it’s unobserved it will, however, if it’s observed after it’s left the plane but before it hits its target, it will not have gone through both slits.   \n",
              "1                                                                                                                                                                                                                                                               Agreed, what’s your point?   \n",
              "2                                                                                                                                                                                                                         There’s no point, I just think it’s a good idea for a tee-shirt.   \n",
              "3                                                                                                                                                                                                                                                                               Excuse me?   \n",
              "4                                                                                                                                                                                                                                                                                 Hang on.   \n",
              "\n",
              "   line_id  \n",
              "0        1  \n",
              "1        2  \n",
              "2        3  \n",
              "3        4  \n",
              "4        5  "
            ]
          },
          "metadata": {},
          "execution_count": 89
        }
      ]
    },
    {
      "cell_type": "markdown",
      "source": [
        "**Lines by main character per episode**"
      ],
      "metadata": {
        "id": "ZD2OIZeA5Df1"
      }
    },
    {
      "cell_type": "code",
      "source": [
        "#df: record for the main characters per episode\n",
        "episode = pd.read_csv('/content/gdrive/MyDrive/Kaggle/Bigbang/lines_main_characters2.csv')\n",
        "episode = episode.sort_values(['episode_id', 'character'])\n",
        "episode.head(2)"
      ],
      "metadata": {
        "colab": {
          "base_uri": "https://localhost:8080/",
          "height": 1000
        },
        "id": "R-TdIItn7TvT",
        "outputId": "08553d92-4c91-4ebd-ae04-99e96f458a05"
      },
      "execution_count": 90,
      "outputs": [
        {
          "output_type": "execute_result",
          "data": {
            "text/html": [
              "\n",
              "  <div id=\"df-1c9bfc23-e7d9-4fa2-a1b7-7e30d90d2d5d\">\n",
              "    <div class=\"colab-df-container\">\n",
              "      <div>\n",
              "<style scoped>\n",
              "    .dataframe tbody tr th:only-of-type {\n",
              "        vertical-align: middle;\n",
              "    }\n",
              "\n",
              "    .dataframe tbody tr th {\n",
              "        vertical-align: top;\n",
              "    }\n",
              "\n",
              "    .dataframe thead th {\n",
              "        text-align: right;\n",
              "    }\n",
              "</style>\n",
              "<table border=\"1\" class=\"dataframe\">\n",
              "  <thead>\n",
              "    <tr style=\"text-align: right;\">\n",
              "      <th></th>\n",
              "      <th>episode_id</th>\n",
              "      <th>character</th>\n",
              "      <th>line</th>\n",
              "    </tr>\n",
              "  </thead>\n",
              "  <tbody>\n",
              "    <tr>\n",
              "      <th>0</th>\n",
              "      <td>1-1</td>\n",
              "      <td>Howard</td>\n",
              "      <td>Wait till you see this. It’s a Stephen Hawking lecture from MIT in 1974. It’s before he became a creepy computer voice Yeah, right, your grandmother back in town? Hang on, there really is a lady here? And you want us out because you’re anticipating coitus? So she’s available for coitus? Enchante Madamoiselle. Howard Wolowitz, Cal-Tech department of Applied Physics. You may be familiar with some of my work, it’s currently orbiting Jupiter’s largest moon taking high-resolution digital photographs. Bon douche. It’s French for good shower. It’s a sentiment I can express in six languages. See-ka-tong-guay-jow. Oh, he speaks English, he just can’t speak to women. He’s kind of a nerd. Juice box? This is one of my favourite places to kick back after a quest, they have a great house ale. Yeah, I’ve had him since level ten. His name is Buttons. Anyway, if you had your own game character we could hang out, maybe go on a quest. So you’ll think about it? Turn left on Lake Street and head up to Colorado. I know a wonderful little sushi bar that has karaoke. Baby, baby don’t get hooked on me. Uh, baby, baby don’t get hooked on me.</td>\n",
              "    </tr>\n",
              "    <tr>\n",
              "      <th>1</th>\n",
              "      <td>1-1</td>\n",
              "      <td>Leonard</td>\n",
              "      <td>Agreed, what’s your point? Excuse me? One across is Aegean, eight down is Nabakov, twenty-six across is MCM, fourteen down is… move your finger… phylum, which makes fourteen across Port-au-Prince. See, Papa Doc’s capital idea, that’s Port-au-Prince. Haiti. Yes. Um, is this the High IQ sperm bank? Thank-you. We’ll be right back. What, are you kidding? You’re a semi-pro. Sheldon, this was your idea. A little extra money to get fractional T1 bandwidth in the apartment. I’m sure she’ll still love him. Well, what do you want to do? Okay. I don’t know, I’ve never reneged on a proffer of sperm before. Okay. See you. No. Not really. I don’t care. Two millimetres? That doesn’t seem right. Is that why they sent you to boarding school? New neighbour? Significant improvement over the old neighbour. Hi. Hi. We don’t mean to interrupt, we live across the hall. Oh… uh… no… we don’t live together… um… we live together but in separate, heterosexual bedrooms. Leonard, Sheldon. Hi. Hi. Well, uh, oh, welcome to the building. Oh, great. Great. Well, bye. Bye. Should we have invited her for lunch? We already watched the Season Two DVDs. I think we should be good neighbours, invite her over, make her feel welcome. Well, then that was wrong of us. We need to widen our circle. Yes, and you’ve never met one of them. I’m going to invite her over. We’ll have a nice meal and chat. Well it’s not difficult, you just listen to what she says and then you say something appropriate in response. Hi. Again. Hi. Anyway, um. We brought home Indian food. And, um. I know that moving can be stressful, and I find that when I’m undergoing stress, that good food and company can have a comforting effect. Also, curry is a natural laxative, and I don’t have to tell you that, uh, a clean colon is just one less thing to worry about. Uh, yes. Great. Okay, well, make yourself at home. You’re very welcome. I have a board. If you like boards, this is my board. What? At least I didn’t have to invent twenty-six dimensions just to make the math come out. In what universe? Here we go. Just sit somewhere else. Sheldon, sit!&lt;br/&gt; Well this is nice. We don’t have a lot of company over. Yes I now, but… Yes, I remember. I’m sorry. I said I’m sorry. Yeah, it’s like regular boggle but, in Klingon. That’s probably enough about us, tell us about you. I think what Sheldon’s trying to say, is that Sagittarius wouldn’t have been our first guess. Wu-uh, do you have some sort of a job? Oh, okay. I love cheesecake. I don’t eat it, I just think it’s a good idea. So it’s based on your life? Well, if that was a movie I would go see it. Well it sounds wonderful. I don’t know. Don’t. Should I say something? I feel like I should say something. No, it’s not crazy it’s, uh, uh, it’s a paradox. And paradoxes are part of nature, think about light. Now if you look at Huygens, light is a wave, as confirmed by the double slit experiments, but then, along comes Albert Einstein and discovers that light behaves like particles too. Well, I didn’t make it worse. Our shower works. No. No. It’s right down the hall. How so? That’s not true, remember at Thanksgiving my grandmother with Alzheimer’s had that episode. The worst part was watching her carve that turkey. Excuse me? Well I’m not trying to have sex with her. What makes you think she wouldn’t have sex with me, I’m a male and she’s a female? I’m not going to engage in hypotheticals here, I’m just trying to be a good neighbour. That’s not to say that if a carnal relationship were to develop that I wouldn’t participate. However briefly. It’s Darth Vader shampoo. (There is a knock on the door.) Luke Skywalker’s the conditioner.&lt;br/&gt; See what? This is not a good time. That’s great, you guys have to go. It’s just not a good time. No. And she’s not a lady, she’s just a new neighbour. Uh-huh. I’m not anticipating coitus. Can we please stop saying coitus? Come on, I’ll show you the trick with the shower. Save it for your blog, Howard. Uh, there it goes, it sticks, I’m sorry. You’re welcome, oh, you’re going to step right, okay, I’ll…. The hair products are Sheldon’s. A favour? Sure, you can ask me a favour, I would do you a favour for you. Oh, I’ll probably say yes. Wow. Must we? She asked me to do her a favour, Sheldon. Which is? That’s a biological impossibility and you didn’t have to come. Come on, you know how it is with break-ups. Wuh, I, I broke up with Joyce Kim. To mend her broken heart. This situation is much less complicated. There’s some kind of dispute between Penny and her ex-boyfriend as to who gets custody of the TV. She just wanted to avoid having a scene with him. No, Sheldon, there’s not going to be a scene. There’s two of us and one of him. I’ll do the talking. Hi, I’m Leonard, this is Sheldon. What did I just…. Uh, we’re here to pick up Penny’s TV. We’re not going to give up just like that. Excuse me, if I were to give up at the first little hitch I never would have been able to identify the fingerprints of string theory in the aftermath of the big bang. Come on, we have a combined IQ of 360, we should be able to figure out how to get into a stupid building. Just grab the door. This is it. (Knocks.) I’ll do the talking. I’m Leonard, this is Sheldon. Oh. We’re scientists. What? I’m sorry. Sheldon, I’m so sorry I dragged you through this. And you were right about my motives, I was hoping to establish a relationship with Penny that might have some day led to sex. Anyway, I’ve learned my lesson. She’s out of my league, I’m done with her, I’ve got my work, one day I’ll win the Nobel Prize and then I’ll die alone. Thank you Sheldon, you’re a good friend. We’re home. Well, your ex-boyfriend sends his regards and I think the rest is fairly self-explanatory. No, it was a valid hypothesis. Really? Great. Our babies will be smart and beautiful. Is Thai food okay with you Penny?</td>\n",
              "    </tr>\n",
              "  </tbody>\n",
              "</table>\n",
              "</div>\n",
              "      <button class=\"colab-df-convert\" onclick=\"convertToInteractive('df-1c9bfc23-e7d9-4fa2-a1b7-7e30d90d2d5d')\"\n",
              "              title=\"Convert this dataframe to an interactive table.\"\n",
              "              style=\"display:none;\">\n",
              "        \n",
              "  <svg xmlns=\"http://www.w3.org/2000/svg\" height=\"24px\"viewBox=\"0 0 24 24\"\n",
              "       width=\"24px\">\n",
              "    <path d=\"M0 0h24v24H0V0z\" fill=\"none\"/>\n",
              "    <path d=\"M18.56 5.44l.94 2.06.94-2.06 2.06-.94-2.06-.94-.94-2.06-.94 2.06-2.06.94zm-11 1L8.5 8.5l.94-2.06 2.06-.94-2.06-.94L8.5 2.5l-.94 2.06-2.06.94zm10 10l.94 2.06.94-2.06 2.06-.94-2.06-.94-.94-2.06-.94 2.06-2.06.94z\"/><path d=\"M17.41 7.96l-1.37-1.37c-.4-.4-.92-.59-1.43-.59-.52 0-1.04.2-1.43.59L10.3 9.45l-7.72 7.72c-.78.78-.78 2.05 0 2.83L4 21.41c.39.39.9.59 1.41.59.51 0 1.02-.2 1.41-.59l7.78-7.78 2.81-2.81c.8-.78.8-2.07 0-2.86zM5.41 20L4 18.59l7.72-7.72 1.47 1.35L5.41 20z\"/>\n",
              "  </svg>\n",
              "      </button>\n",
              "      \n",
              "  <style>\n",
              "    .colab-df-container {\n",
              "      display:flex;\n",
              "      flex-wrap:wrap;\n",
              "      gap: 12px;\n",
              "    }\n",
              "\n",
              "    .colab-df-convert {\n",
              "      background-color: #E8F0FE;\n",
              "      border: none;\n",
              "      border-radius: 50%;\n",
              "      cursor: pointer;\n",
              "      display: none;\n",
              "      fill: #1967D2;\n",
              "      height: 32px;\n",
              "      padding: 0 0 0 0;\n",
              "      width: 32px;\n",
              "    }\n",
              "\n",
              "    .colab-df-convert:hover {\n",
              "      background-color: #E2EBFA;\n",
              "      box-shadow: 0px 1px 2px rgba(60, 64, 67, 0.3), 0px 1px 3px 1px rgba(60, 64, 67, 0.15);\n",
              "      fill: #174EA6;\n",
              "    }\n",
              "\n",
              "    [theme=dark] .colab-df-convert {\n",
              "      background-color: #3B4455;\n",
              "      fill: #D2E3FC;\n",
              "    }\n",
              "\n",
              "    [theme=dark] .colab-df-convert:hover {\n",
              "      background-color: #434B5C;\n",
              "      box-shadow: 0px 1px 3px 1px rgba(0, 0, 0, 0.15);\n",
              "      filter: drop-shadow(0px 1px 2px rgba(0, 0, 0, 0.3));\n",
              "      fill: #FFFFFF;\n",
              "    }\n",
              "  </style>\n",
              "\n",
              "      <script>\n",
              "        const buttonEl =\n",
              "          document.querySelector('#df-1c9bfc23-e7d9-4fa2-a1b7-7e30d90d2d5d button.colab-df-convert');\n",
              "        buttonEl.style.display =\n",
              "          google.colab.kernel.accessAllowed ? 'block' : 'none';\n",
              "\n",
              "        async function convertToInteractive(key) {\n",
              "          const element = document.querySelector('#df-1c9bfc23-e7d9-4fa2-a1b7-7e30d90d2d5d');\n",
              "          const dataTable =\n",
              "            await google.colab.kernel.invokeFunction('convertToInteractive',\n",
              "                                                     [key], {});\n",
              "          if (!dataTable) return;\n",
              "\n",
              "          const docLinkHtml = 'Like what you see? Visit the ' +\n",
              "            '<a target=\"_blank\" href=https://colab.research.google.com/notebooks/data_table.ipynb>data table notebook</a>'\n",
              "            + ' to learn more about interactive tables.';\n",
              "          element.innerHTML = '';\n",
              "          dataTable['output_type'] = 'display_data';\n",
              "          await google.colab.output.renderOutput(dataTable, element);\n",
              "          const docLink = document.createElement('div');\n",
              "          docLink.innerHTML = docLinkHtml;\n",
              "          element.appendChild(docLink);\n",
              "        }\n",
              "      </script>\n",
              "    </div>\n",
              "  </div>\n",
              "  "
            ],
            "text/plain": [
              "  episode_id character  \\\n",
              "0        1-1    Howard   \n",
              "1        1-1   Leonard   \n",
              "\n",
              "                                                                                                                                                                                                                                                                                                                                                                                                                                                                                                                                                                                                                                                                                                                                                                                                                                                                                                                                                                                                                                                                                                                                                                                                                                                                                                                                                                                                                                                                                                                                                                                                                                                                                                                                                                                                                                                                                                                                                                                                                                                                                                                                                                                                                                                                                                                                                                                                                                                                                                                                                                                                                                                                                                                                                                                                                                                                                                                                                                                                                                                                                                                                                                                                                                                                                                                                                                                                                                                                                                                                                                                                                                                                                                                                                                                                                                                                                                                                                                                                                                                                                                                                                                                                                                                                                                                                                                                                                                                                                                                                                                                                                                                                                                                                                                                                                                                                                                                                                                                                                                                                                                                                                                                                                                                                                                                                                                                                                                                                                                                                                                                                                                                                                                                                                                                                                                                                                                                                                                                                                                                                                           line  \n",
              "0                                                                                                                                                                                                                                                                                                                                                                                                                                                                                                                                                                                                                                                                                                                                                                                                                                                                                                                                                                                                                                                                                                                                                                                                                                                                                                                                                                                                                                                                                                                                                                                                                                                                                                                                                                                                                                                                                                                                                                                                                                                                                                                                                                                                                                                                                                                                                                                                                                                                                                                                                                                                                                                                                                                                                                                                                                                                                                                                                                                                                                                                                                                                                                                                                                                                                                                                                                                                                                                                                                                                                                                                                                                                                                                                                                                                                                                                                                                                                                                                                                                                                                                                                                                                                                                                                                                                                                                                                                                                                                                                                                                                                                                                                                                                                                                                                                                                                                                 Wait till you see this. It’s a Stephen Hawking lecture from MIT in 1974. It’s before he became a creepy computer voice Yeah, right, your grandmother back in town? Hang on, there really is a lady here? And you want us out because you’re anticipating coitus? So she’s available for coitus? Enchante Madamoiselle. Howard Wolowitz, Cal-Tech department of Applied Physics. You may be familiar with some of my work, it’s currently orbiting Jupiter’s largest moon taking high-resolution digital photographs. Bon douche. It’s French for good shower. It’s a sentiment I can express in six languages. See-ka-tong-guay-jow. Oh, he speaks English, he just can’t speak to women. He’s kind of a nerd. Juice box? This is one of my favourite places to kick back after a quest, they have a great house ale. Yeah, I’ve had him since level ten. His name is Buttons. Anyway, if you had your own game character we could hang out, maybe go on a quest. So you’ll think about it? Turn left on Lake Street and head up to Colorado. I know a wonderful little sushi bar that has karaoke. Baby, baby don’t get hooked on me. Uh, baby, baby don’t get hooked on me.  \n",
              "1  Agreed, what’s your point? Excuse me? One across is Aegean, eight down is Nabakov, twenty-six across is MCM, fourteen down is… move your finger… phylum, which makes fourteen across Port-au-Prince. See, Papa Doc’s capital idea, that’s Port-au-Prince. Haiti. Yes. Um, is this the High IQ sperm bank? Thank-you. We’ll be right back. What, are you kidding? You’re a semi-pro. Sheldon, this was your idea. A little extra money to get fractional T1 bandwidth in the apartment. I’m sure she’ll still love him. Well, what do you want to do? Okay. I don’t know, I’ve never reneged on a proffer of sperm before. Okay. See you. No. Not really. I don’t care. Two millimetres? That doesn’t seem right. Is that why they sent you to boarding school? New neighbour? Significant improvement over the old neighbour. Hi. Hi. We don’t mean to interrupt, we live across the hall. Oh… uh… no… we don’t live together… um… we live together but in separate, heterosexual bedrooms. Leonard, Sheldon. Hi. Hi. Well, uh, oh, welcome to the building. Oh, great. Great. Well, bye. Bye. Should we have invited her for lunch? We already watched the Season Two DVDs. I think we should be good neighbours, invite her over, make her feel welcome. Well, then that was wrong of us. We need to widen our circle. Yes, and you’ve never met one of them. I’m going to invite her over. We’ll have a nice meal and chat. Well it’s not difficult, you just listen to what she says and then you say something appropriate in response. Hi. Again. Hi. Anyway, um. We brought home Indian food. And, um. I know that moving can be stressful, and I find that when I’m undergoing stress, that good food and company can have a comforting effect. Also, curry is a natural laxative, and I don’t have to tell you that, uh, a clean colon is just one less thing to worry about. Uh, yes. Great. Okay, well, make yourself at home. You’re very welcome. I have a board. If you like boards, this is my board. What? At least I didn’t have to invent twenty-six dimensions just to make the math come out. In what universe? Here we go. Just sit somewhere else. Sheldon, sit!<br/> Well this is nice. We don’t have a lot of company over. Yes I now, but… Yes, I remember. I’m sorry. I said I’m sorry. Yeah, it’s like regular boggle but, in Klingon. That’s probably enough about us, tell us about you. I think what Sheldon’s trying to say, is that Sagittarius wouldn’t have been our first guess. Wu-uh, do you have some sort of a job? Oh, okay. I love cheesecake. I don’t eat it, I just think it’s a good idea. So it’s based on your life? Well, if that was a movie I would go see it. Well it sounds wonderful. I don’t know. Don’t. Should I say something? I feel like I should say something. No, it’s not crazy it’s, uh, uh, it’s a paradox. And paradoxes are part of nature, think about light. Now if you look at Huygens, light is a wave, as confirmed by the double slit experiments, but then, along comes Albert Einstein and discovers that light behaves like particles too. Well, I didn’t make it worse. Our shower works. No. No. It’s right down the hall. How so? That’s not true, remember at Thanksgiving my grandmother with Alzheimer’s had that episode. The worst part was watching her carve that turkey. Excuse me? Well I’m not trying to have sex with her. What makes you think she wouldn’t have sex with me, I’m a male and she’s a female? I’m not going to engage in hypotheticals here, I’m just trying to be a good neighbour. That’s not to say that if a carnal relationship were to develop that I wouldn’t participate. However briefly. It’s Darth Vader shampoo. (There is a knock on the door.) Luke Skywalker’s the conditioner.<br/> See what? This is not a good time. That’s great, you guys have to go. It’s just not a good time. No. And she’s not a lady, she’s just a new neighbour. Uh-huh. I’m not anticipating coitus. Can we please stop saying coitus? Come on, I’ll show you the trick with the shower. Save it for your blog, Howard. Uh, there it goes, it sticks, I’m sorry. You’re welcome, oh, you’re going to step right, okay, I’ll…. The hair products are Sheldon’s. A favour? Sure, you can ask me a favour, I would do you a favour for you. Oh, I’ll probably say yes. Wow. Must we? She asked me to do her a favour, Sheldon. Which is? That’s a biological impossibility and you didn’t have to come. Come on, you know how it is with break-ups. Wuh, I, I broke up with Joyce Kim. To mend her broken heart. This situation is much less complicated. There’s some kind of dispute between Penny and her ex-boyfriend as to who gets custody of the TV. She just wanted to avoid having a scene with him. No, Sheldon, there’s not going to be a scene. There’s two of us and one of him. I’ll do the talking. Hi, I’m Leonard, this is Sheldon. What did I just…. Uh, we’re here to pick up Penny’s TV. We’re not going to give up just like that. Excuse me, if I were to give up at the first little hitch I never would have been able to identify the fingerprints of string theory in the aftermath of the big bang. Come on, we have a combined IQ of 360, we should be able to figure out how to get into a stupid building. Just grab the door. This is it. (Knocks.) I’ll do the talking. I’m Leonard, this is Sheldon. Oh. We’re scientists. What? I’m sorry. Sheldon, I’m so sorry I dragged you through this. And you were right about my motives, I was hoping to establish a relationship with Penny that might have some day led to sex. Anyway, I’ve learned my lesson. She’s out of my league, I’m done with her, I’ve got my work, one day I’ll win the Nobel Prize and then I’ll die alone. Thank you Sheldon, you’re a good friend. We’re home. Well, your ex-boyfriend sends his regards and I think the rest is fairly self-explanatory. No, it was a valid hypothesis. Really? Great. Our babies will be smart and beautiful. Is Thai food okay with you Penny?  "
            ]
          },
          "metadata": {},
          "execution_count": 90
        }
      ]
    },
    {
      "cell_type": "code",
      "source": [
        ""
      ],
      "metadata": {
        "id": "S0TeFeFLg1sZ"
      },
      "execution_count": 90,
      "outputs": []
    },
    {
      "cell_type": "code",
      "source": [
        "#see a little bit more information\n",
        "pd.set_option('display.max_colwidth', None)"
      ],
      "metadata": {
        "id": "V8y9L42TFOvL"
      },
      "execution_count": 91,
      "outputs": []
    },
    {
      "cell_type": "code",
      "source": [
        "#create a list of the lines of Penny in episode 1 of season 1\n",
        "penny_series = episode[(episode['episode_id']== '1-1') & (episode['character']=='Penny')]['line']\n",
        "penny_list = penny_series.tolist()\n",
        "penny_string = penny_series.to_string(index=False)\n",
        "penny_string"
      ],
      "metadata": {
        "colab": {
          "base_uri": "https://localhost:8080/",
          "height": 202
        },
        "id": "8rrKP5wC_OAI",
        "outputId": "40f4e422-4759-430e-94c6-ca6b2e2494b0"
      },
      "execution_count": 92,
      "outputs": [
        {
          "output_type": "execute_result",
          "data": {
            "application/vnd.google.colaboratory.intrinsic+json": {
              "type": "string"
            },
            "text/plain": [
              "' Oh, hi! Hi? Oh, that’s nice. Oh, okay, well, guess I’m your new neighbour, Penny. Hi. Hi. Thankyou, maybe we can have coffee sometime. Great. Bye. Hi. Hi. Oh, you’re inviting me over to eat? Oh, that’s so nice, I’d love to. So, what do you guys do for fun around here? Okay, thankyou. This looks like some serious stuff, Leonard, did you do this? Wow. So you’re like, one of those, beautiful mind genius guys. This is really impressive. Holy smokes. Uh, do you guys mind if I start? So, sit next to me. What’s the difference? Do you want me to move? So, Klingon boggle? Um, me, okay, I’m Sagittarius, which probably tells you way more than you need to know. Participate in the what? Oh, yeah, a lot of people think I’m a water sign. Okay, let’s see, what else, oh, I’m a vegetarian, oh, except for fish, and the occasional steak, I love steak. Oh, yeah, I’m a waitress at the Cheesecake Factory. Oh, anyways, I’m also writing a screenplay. It’s about this sensitive girl who comes to L.A. from Lincoln Nebraska to be an actress, and winds up a waitress at the Cheesecake Factory. No, I’m from Omaha. I know, right? Okay, let’s see, what else? Um, that’s about it. That’s the story of Penny. It was. Until I fell in love with a jerk. Oh God, you know, four years I lived with him, four years, that’s like as long as High School. I just, I can’t believe I trusted him.<br/> You want to know the most pathetic part? Even though I hate his lying, cheating guts, I still love him. Is that crazy? Oh, I’m so sorry, I’m such a mess, and on top of everything else I’m all gross from moving and my stupid shower doesn’t even work. Really? Would it be totally weird if I used it? Thanks. You guys are really sweet.<br/> Hey, is there a trick to getting it to switch from tub to shower. Oh. Hi, sorry. Hello! Penny. I work at the Cheesecake Factory. I’m sorry? Okay. Thanks. Hey, Leonard? Um, okay. Can I ask you a favour. It’s okay if you say no. It’s just not the kind of thing you ask a guy you’ve just met. So, you guys work with Leonard and Sheldon at the University? Uh, I’m sorry, do you speak English? Really, why? Wow, cool tiger. Uh, sounds interesting. Oh, I don’t think I’ll be able to stop thinking about it. Oh, my God, what happened? I’m so sorry, I really thought if you guys went instead of me he wouldn’t be such an ass. Really, thank you so much for going and trying you’re, uh, you’re so terrific. Why don’t you put some clothes on, I’ll get my purse and dinner is on me, okay? Sure. So? So? Any ideas Raj? (He just looks at her with a worried expression.) That sounds like fun.'"
            ]
          },
          "metadata": {},
          "execution_count": 92
        }
      ]
    },
    {
      "cell_type": "markdown",
      "source": [
        "# **2 NLP introduction**"
      ],
      "metadata": {
        "id": "MUnlAIGw_1ss"
      }
    },
    {
      "cell_type": "markdown",
      "source": [
        "### **2.1 Regular expressions**"
      ],
      "metadata": {
        "id": "bHpIbRcM_5gU"
      }
    },
    {
      "cell_type": "markdown",
      "source": [
        "* \\w+: matches word\n",
        "* \\d: matches digit\n",
        "* \\s: matches space\n",
        "* .*: matches wildcard (any letter or symbol)\n",
        "* +or* : greedy matches (repeats of letters or patterns)\n",
        "* \\S: matches NOT a space\n",
        "* [a-z]: matches lowercase group\n",
        "\n",
        "\n",
        "---\n",
        "\n",
        "* split: split a string on regex\n",
        "* findall: find all patterns in a string\n",
        "* search: search for a pattern: go to entire string and find match \n",
        "* match: match an entire string or substring based on pattern: match string from the beginning"
      ],
      "metadata": {
        "id": "9pgXImbsALHQ"
      }
    },
    {
      "cell_type": "code",
      "source": [
        "#split string on space\n",
        "pd.set_option('display.max_colwidth', None)\n",
        "word_list = re.split('\\s+', penny_string)\n",
        "word_list[0:10]"
      ],
      "metadata": {
        "colab": {
          "base_uri": "https://localhost:8080/"
        },
        "id": "V2dl7gL7_yA_",
        "outputId": "2f2b7c71-c2d1-4b93-d1cb-dbdc26b7f987"
      },
      "execution_count": 93,
      "outputs": [
        {
          "output_type": "execute_result",
          "data": {
            "text/plain": [
              "['', 'Oh,', 'hi!', 'Hi?', 'Oh,', 'that’s', 'nice.', 'Oh,', 'okay,', 'well,']"
            ]
          },
          "metadata": {},
          "execution_count": 93
        }
      ]
    },
    {
      "cell_type": "code",
      "source": [
        "#split on words\n",
        "word_list = re.findall('\\w+', penny_string)\n",
        "word_list[0:10]"
      ],
      "metadata": {
        "colab": {
          "base_uri": "https://localhost:8080/"
        },
        "id": "mWb6Wfxs6EQt",
        "outputId": "55408594-fb71-46a8-c113-3c2ac5e71126"
      },
      "execution_count": 94,
      "outputs": [
        {
          "output_type": "execute_result",
          "data": {
            "text/plain": [
              "['Oh', 'hi', 'Hi', 'Oh', 'that', 's', 'nice', 'Oh', 'okay', 'well']"
            ]
          },
          "metadata": {},
          "execution_count": 94
        }
      ]
    },
    {
      "cell_type": "code",
      "source": [
        "#split on sentence\n",
        "\n",
        "# Write a pattern to match sentence endings: sentence_endings\n",
        "sentence_endings = r\"[.?!]\"\n",
        "\n",
        "word_list = re.split(sentence_endings, penny_string)\n",
        "word_list[0:5]\n"
      ],
      "metadata": {
        "colab": {
          "base_uri": "https://localhost:8080/"
        },
        "id": "OrMru5GOB3Co",
        "outputId": "78acecab-f9ab-429f-dfed-2a9613c1c7cd"
      },
      "execution_count": 95,
      "outputs": [
        {
          "output_type": "execute_result",
          "data": {
            "text/plain": [
              "[' Oh, hi',\n",
              " ' Hi',\n",
              " ' Oh, that’s nice',\n",
              " ' Oh, okay, well, guess I’m your new neighbour, Penny',\n",
              " ' Hi']"
            ]
          },
          "metadata": {},
          "execution_count": 95
        }
      ]
    },
    {
      "cell_type": "code",
      "source": [
        "#find all captitalized words\n",
        "capitalized_words = r\"[A-Z]\\w+\"\n",
        "word_list = re.findall(capitalized_words , penny_string)\n",
        "word_list[0:10]\n"
      ],
      "metadata": {
        "colab": {
          "base_uri": "https://localhost:8080/"
        },
        "id": "LCuVoibLGnlp",
        "outputId": "c82ef44b-7799-488d-951b-38067d9a4ba8"
      },
      "execution_count": 96,
      "outputs": [
        {
          "output_type": "execute_result",
          "data": {
            "text/plain": [
              "['Oh', 'Hi', 'Oh', 'Oh', 'Penny', 'Hi', 'Hi', 'Thankyou', 'Great', 'Bye']"
            ]
          },
          "metadata": {},
          "execution_count": 96
        }
      ]
    },
    {
      "cell_type": "code",
      "source": [
        "#find all digits in string\n",
        "digits = r\"\\d+\"\n",
        "word_list = re.findall(digits , penny_string)\n",
        "word_list[0:10]\n"
      ],
      "metadata": {
        "colab": {
          "base_uri": "https://localhost:8080/"
        },
        "id": "F2xgGqVcGS-X",
        "outputId": "c9c4a177-b1c2-4083-d3dc-059c2a4594c8"
      },
      "execution_count": 97,
      "outputs": [
        {
          "output_type": "execute_result",
          "data": {
            "text/plain": [
              "[]"
            ]
          },
          "metadata": {},
          "execution_count": 97
        }
      ]
    },
    {
      "cell_type": "code",
      "source": [
        "#search for the first occurence of 'Penny' and print the start and end idnexes of the match\n",
        "match = re.search(\"Penny\", penny_string)\n",
        "print(match.start(), match.end())"
      ],
      "metadata": {
        "colab": {
          "base_uri": "https://localhost:8080/"
        },
        "id": "IjEo1-4DKUnn",
        "outputId": "ae4d80c8-64c3-440e-9840-0db82e7ab76b"
      },
      "execution_count": 98,
      "outputs": [
        {
          "output_type": "stream",
          "name": "stdout",
          "text": [
            "76 81\n"
          ]
        }
      ]
    },
    {
      "cell_type": "code",
      "source": [
        "#search for anything between brackets\n",
        "pattern1 = r\"\\(.*\\)\"\n",
        "print(re.search(pattern1, penny_string))"
      ],
      "metadata": {
        "colab": {
          "base_uri": "https://localhost:8080/"
        },
        "id": "4KRLWxXuKn5P",
        "outputId": "6f3ff369-6a7c-4fbf-8104-c72a2c3762d7"
      },
      "execution_count": 99,
      "outputs": [
        {
          "output_type": "stream",
          "name": "stdout",
          "text": [
            "<re.Match object; span=(2517, 2566), match='(He just looks at her with a worried expression.)>\n"
          ]
        }
      ]
    },
    {
      "cell_type": "code",
      "source": [
        "#write a pattern to match would match 'Character:\" and 'Soldier #1: )\n",
        "pattern2 = r\"[\\w\\s]+:\"\n",
        "print(re.search(pattern2, penny_string))"
      ],
      "metadata": {
        "colab": {
          "base_uri": "https://localhost:8080/"
        },
        "id": "qdDOs_voKgCQ",
        "outputId": "b2d61a7a-f2e3-445c-8741-5d3b86bfe712"
      },
      "execution_count": 100,
      "outputs": [
        {
          "output_type": "stream",
          "name": "stdout",
          "text": [
            "None\n"
          ]
        }
      ]
    },
    {
      "cell_type": "markdown",
      "source": [
        "### **2.2 Tokenization**"
      ],
      "metadata": {
        "id": "C-KkKKFYHHS2"
      }
    },
    {
      "cell_type": "markdown",
      "source": [
        "* turn a string or document into tokens (smaller chunks)\n",
        "* e.g. breaking words or sentences, seperating puncuation, all hastags in a tweet\n",
        "* nltk library is commonly used\n",
        "* used to match common words, removing unwanted tokens (e.g. repeated words), derrive meaning from text"
      ],
      "metadata": {
        "id": "o6PM9TecHRPA"
      }
    },
    {
      "cell_type": "code",
      "source": [
        "#tokenize string to sentences\n",
        "sentences = sent_tokenize(penny_string)\n",
        "sentences[0:10]"
      ],
      "metadata": {
        "colab": {
          "base_uri": "https://localhost:8080/"
        },
        "id": "usiJW1XBG-SW",
        "outputId": "464edff6-5aeb-46e4-d391-7a51e63851cb"
      },
      "execution_count": 101,
      "outputs": [
        {
          "output_type": "execute_result",
          "data": {
            "text/plain": [
              "[' Oh, hi!',\n",
              " 'Hi?',\n",
              " 'Oh, that’s nice.',\n",
              " 'Oh, okay, well, guess I’m your new neighbour, Penny.',\n",
              " 'Hi.',\n",
              " 'Hi.',\n",
              " 'Thankyou, maybe we can have coffee sometime.',\n",
              " 'Great.',\n",
              " 'Bye.',\n",
              " 'Hi.']"
            ]
          },
          "metadata": {},
          "execution_count": 101
        }
      ]
    },
    {
      "cell_type": "code",
      "source": [
        "#tokenize string to words and characters (note the difference)\n",
        "tokenized_sent = word_tokenize(penny_string)\n",
        "tokenized_sent[0:10]"
      ],
      "metadata": {
        "colab": {
          "base_uri": "https://localhost:8080/"
        },
        "id": "xrGWH_32Img7",
        "outputId": "0b7ed157-4607-4446-a563-7cf398885538"
      },
      "execution_count": 102,
      "outputs": [
        {
          "output_type": "execute_result",
          "data": {
            "text/plain": [
              "['Oh', ',', 'hi', '!', 'Hi', '?', 'Oh', ',', 'that', '’']"
            ]
          },
          "metadata": {},
          "execution_count": 102
        }
      ]
    },
    {
      "cell_type": "code",
      "source": [
        "#use 'set' to only return the unique items in a list\n",
        "unique = set(tokenized_sent)\n",
        "print(unique)"
      ],
      "metadata": {
        "colab": {
          "base_uri": "https://localhost:8080/"
        },
        "id": "Yr0IAKOzJHOu",
        "outputId": "fa45b0e1-0818-4a0c-ce9e-4f83304a93f1"
      },
      "execution_count": 103,
      "outputs": [
        {
          "output_type": "stream",
          "name": "stdout",
          "text": [
            "{'let', 'God', 'doesn', 'no', 'is', 'do', 'those', 'my', 'thought', 'mess', 'Hey', 'Can', '.', 're', 'about', 'jerk', 'Until', 'else', 'sorry', 'Great', 'getting', 't', 'lying', 'than', 'going', 'sit', 'everything', 'girl', 'an', 'as', 'trusted', 'though', 'cool', 'No', 'Why', 'some', 'years', 'Do', 'actress', 'crazy', 'okay', 'Okay', 'He', 'coffee', 'Thankyou', 'people', 'ass', 'if', 'went', 'new', 'Hi', 'impressive', 'to', 'd', 's', 'really', 'eat', 'Hello', 'Omaha', 'move', 'except', 'lived', 'used', 'one', 'waitress', 'switch', 'sounds', 'much', 'ideas', 'her', 'also', 'what', 'around', 'cheating', 'mind', 'br/', 'favour', 'think', 'shower', 'don', 'nice', 'Even', 'lot', 'even', 'guess', 'on', 'four', 'moving', 'of', 'speak', 'well', 'water', 'such', 'happened', 'thankyou', 'from', 'trying', 'hi', 'neighbour', '>', 'hate', 'want', 'thing', 'vegetarian', 'comes', 'This', 'Would', 'are', 'know', 'Sheldon', '!', 'guy', 'why', 'yeah', 'probably', 'Is', 'Uh', '(', 'him.', 'anyways', 'guts', 'wouldn', 'still', 'L.A.', 'I', 'not', 'difference', 'instead', 'part', 'Factory', 'inviting', 'stuff', 'fun', 'thinking', 'his', 'Wow', 'it', 'with', 'there', 'Cheesecake', 'uh', 've', 'worried', 'more', 'be', 'your', 'so', 'and', 'sign', 'Lincoln', 'writing', 'Thanks', 'in', 'Sagittarius', 'Participate', 'weird', 'for', 'interesting', 'this', 'way', 'High', 'So', 'beautiful', 'the', 'right', 'steak', 'able', 'he', 'Any', 'stupid', 'screenplay', 'put', 'that', 'over', 'stop', 'can', 'here', 'It', '?', 'looks', 'fell', 'thank', 'terrific', 'What', 'genius', 'need', 'up', 'occasional', 'ask', 'smokes', 'gross', 'clothes', 'work', 'me', ',', 'winds', 'say', 'University', 'Klingon', 'trick', 'Raj', 'Bye', 'Um', 'll', 'like', 'top', 'sometime', 'a', 'oh', 'story', 'You', 'kind', 'love', 'we', 'guys', 'maybe', 'have', 'all', 'at', 'boggle', 'you', 'serious', 'sensitive', 'Oh', 'was', 'see', 'sweet.', 'him', 'fish', 'just', 'totally', 'met', 'which', 'who', '<', 'dinner', 'long', 'School', 'Leonard', 'Penny', 'pathetic', ')', 'start', 'most', 'purse', 'That', 'm', 'did', 'Really', 'get', 'Holy', 'English', 'Sure', 'Nebraska', '’', 'next', 'expression', 'tiger', 'believe', 'tells', 'tub'}\n"
          ]
        }
      ]
    },
    {
      "cell_type": "markdown",
      "source": [
        "**Advanced tokenization with Regex**"
      ],
      "metadata": {
        "id": "ao8hsPcPMaxs"
      }
    },
    {
      "cell_type": "code",
      "source": [
        "#find all digits and words, but no punctuation\n",
        "match_digits_and_word = ('(\\d+ | \\w+)')\n",
        "word_list = re.findall(match_digits_and_word , penny_string)\n",
        "word_list [0:10]"
      ],
      "metadata": {
        "colab": {
          "base_uri": "https://localhost:8080/"
        },
        "id": "6AbZfnPVMZ3a",
        "outputId": "6cff64d0-1d32-4f0d-83bb-95906697083b"
      },
      "execution_count": 104,
      "outputs": [
        {
          "output_type": "execute_result",
          "data": {
            "text/plain": [
              "[' Oh',\n",
              " ' hi',\n",
              " ' Hi',\n",
              " ' Oh',\n",
              " ' that',\n",
              " ' nice',\n",
              " ' Oh',\n",
              " ' okay',\n",
              " ' well',\n",
              " ' guess']"
            ]
          },
          "metadata": {},
          "execution_count": 104
        }
      ]
    },
    {
      "cell_type": "code",
      "source": [
        "#Define a regex pattern to find hashtags: \n",
        "pattern1 = r\"#\\w+\"\n",
        "hashtags = regexp_tokenize(penny_string, pattern1)  #note how you pass the pattern as the seccond argument\n",
        "print(hashtags)"
      ],
      "metadata": {
        "colab": {
          "base_uri": "https://localhost:8080/"
        },
        "id": "0agns1xjMuRH",
        "outputId": "df5c1686-4ef3-4440-b810-334146319399"
      },
      "execution_count": 105,
      "outputs": [
        {
          "output_type": "stream",
          "name": "stdout",
          "text": [
            "[]\n"
          ]
        }
      ]
    },
    {
      "cell_type": "code",
      "source": [
        "#Write a pattern that matches both mentions (@) and hashtags\n",
        "pattern2 = r\"([@|#]\\w+)\"\n",
        "mentions_hashtags = regexp_tokenize(penny_string, pattern2)\n",
        "print(mentions_hashtags)"
      ],
      "metadata": {
        "colab": {
          "base_uri": "https://localhost:8080/"
        },
        "id": "PhDHAt8bKIMi",
        "outputId": "f5b83bec-4c0b-4772-d8d9-c757fbf9a2be"
      },
      "execution_count": 106,
      "outputs": [
        {
          "output_type": "stream",
          "name": "stdout",
          "text": [
            "[]\n"
          ]
        }
      ]
    },
    {
      "cell_type": "code",
      "source": [
        "# Tokenize and print only capital words\n",
        "capital_words = r\"[A-ZÜ]\\w+\"\n",
        "print(regexp_tokenize(penny_string, capital_words))"
      ],
      "metadata": {
        "colab": {
          "base_uri": "https://localhost:8080/"
        },
        "id": "_mRBft64OXJS",
        "outputId": "0086995f-e5b0-4878-bd44-71da782509a1"
      },
      "execution_count": 107,
      "outputs": [
        {
          "output_type": "stream",
          "name": "stdout",
          "text": [
            "['Oh', 'Hi', 'Oh', 'Oh', 'Penny', 'Hi', 'Hi', 'Thankyou', 'Great', 'Bye', 'Hi', 'Hi', 'Oh', 'Oh', 'So', 'Okay', 'This', 'Leonard', 'Wow', 'So', 'This', 'Holy', 'Uh', 'So', 'What', 'Do', 'So', 'Klingon', 'Um', 'Sagittarius', 'Participate', 'Oh', 'Okay', 'Oh', 'Cheesecake', 'Factory', 'Oh', 'It', 'Lincoln', 'Nebraska', 'Cheesecake', 'Factory', 'No', 'Omaha', 'Okay', 'Um', 'That', 'Penny', 'It', 'Until', 'Oh', 'God', 'High', 'School', 'You', 'Even', 'Is', 'Oh', 'Really', 'Would', 'Thanks', 'You', 'Hey', 'Oh', 'Hi', 'Hello', 'Penny', 'Cheesecake', 'Factory', 'Okay', 'Thanks', 'Hey', 'Leonard', 'Um', 'Can', 'It', 'It', 'So', 'Leonard', 'Sheldon', 'University', 'Uh', 'English', 'Really', 'Wow', 'Uh', 'Oh', 'Oh', 'God', 'Really', 'Why', 'Sure', 'So', 'So', 'Any', 'Raj', 'He', 'That']\n"
          ]
        }
      ]
    },
    {
      "cell_type": "markdown",
      "source": [
        "#### **Charting with NLTK**"
      ],
      "metadata": {
        "id": "bORP0uxWOxcV"
      }
    },
    {
      "cell_type": "code",
      "source": [
        "sheldon_series = episode[(episode['episode_id']== '1-1') & (episode['character']=='Sheldon')]['line']\n",
        "sheldon_string = sheldon_series.to_string(index=False)\n"
      ],
      "metadata": {
        "id": "M5qGDfAKQFPu"
      },
      "execution_count": 108,
      "outputs": []
    },
    {
      "cell_type": "code",
      "source": [
        "words = word_tokenize(penny_string)\n",
        "word_lengths = [len(w) for w in words]\n",
        "plt.hist(word_lengths)\n",
        "plt.title('Penny word length')\n",
        "plt.show()"
      ],
      "metadata": {
        "colab": {
          "base_uri": "https://localhost:8080/",
          "height": 0
        },
        "id": "2U8cCUJqOl0J",
        "outputId": "595df2d9-fc8b-4fc3-d12e-868f2024810f"
      },
      "execution_count": 109,
      "outputs": [
        {
          "output_type": "display_data",
          "data": {
            "image/png": "[encoded data removed]",
            "text/plain": [
              "<Figure size 432x288 with 1 Axes>"
            ]
          },
          "metadata": {
            "needs_background": "light"
          }
        }
      ]
    },
    {
      "cell_type": "code",
      "source": [
        "words = word_tokenize(sheldon_string)\n",
        "word_lengths = [len(w) for w in words]\n",
        "plt.hist(word_lengths)\n",
        "plt.title('Sheldon word length')\n",
        "plt.show()"
      ],
      "metadata": {
        "colab": {
          "base_uri": "https://localhost:8080/",
          "height": 0
        },
        "id": "dViMCbr1P4n_",
        "outputId": "d7a97f5f-5587-4f6e-8496-d8c083903aec"
      },
      "execution_count": 110,
      "outputs": [
        {
          "output_type": "display_data",
          "data": {
            "image/png": "[encoded data removed]",
            "text/plain": [
              "<Figure size 432x288 with 1 Axes>"
            ]
          },
          "metadata": {
            "needs_background": "light"
          }
        }
      ]
    },
    {
      "cell_type": "markdown",
      "source": [
        "### **2.3 Topic identification**"
      ],
      "metadata": {
        "id": "tBxDex5XSbFo"
      }
    },
    {
      "cell_type": "markdown",
      "source": [
        "* bag of words: finding topics in a text\n",
        "* create tokens, count them up --> more frequent a word is, the more important it might be\n",
        "* can help identify significant words in a text"
      ],
      "metadata": {
        "id": "Jg_Mv9w4TGcr"
      }
    },
    {
      "cell_type": "code",
      "source": [
        "# print 10 most common words\n",
        "\n",
        "#create token and lowercase it\n",
        "words = word_tokenize(penny_string)     #use:  re.findall(match_digits_and_word , penny_string)  instead, to exclude punctuation\n",
        "lower_words = [t.lower() for t in words]\n",
        "\n",
        "#count the words\n",
        "word_count = Counter(lower_words)\n",
        "print(word_count.most_common(10))"
      ],
      "metadata": {
        "colab": {
          "base_uri": "https://localhost:8080/"
        },
        "id": "gQxQBXroQOfQ",
        "outputId": "ec2bb9fc-028c-4b02-a9cb-c7766e866c49"
      },
      "execution_count": 111,
      "outputs": [
        {
          "output_type": "stream",
          "name": "stdout",
          "text": [
            "[(',', 72), ('.', 50), ('’', 37), ('i', 31), ('?', 25), ('you', 22), ('oh', 15), ('m', 13), ('to', 12), ('so', 12)]\n"
          ]
        }
      ]
    },
    {
      "cell_type": "markdown",
      "source": [
        "#### **Text preprocessing**"
      ],
      "metadata": {
        "id": "xCDhBi_PVDPf"
      }
    },
    {
      "cell_type": "markdown",
      "source": [
        "* tokenization to create a bag of words\n",
        "* lowercasing\n",
        "* lemmatization (shorten words to their root)\n",
        "* removing stop owrds, punctuation, or unwanted tokens"
      ],
      "metadata": {
        "id": "wiTwXLGKVOVP"
      }
    },
    {
      "cell_type": "code",
      "source": [
        "#tokenize\n",
        "words = word_tokenize(penny_string)\n",
        "\n",
        "#lowercase\n",
        "lower_words = [t.lower() for t in words]\n",
        "\n",
        "#only retain alphabetic words\n",
        "alpha_only = [ w for w in lower_words if w.isalpha()]\n",
        "\n",
        "#remove stop words\n",
        "no_stops = [ w for w in alpha_only if w not in stopwords.words('english')]\n",
        "\n",
        "#lemmatize\n",
        "wordnet_lemmatizer = WordNetLemmatizer()\n",
        "lemmatized = [wordnet_lemmatizer.lemmatize(t) for t in no_stops]\n",
        "\n",
        "# Create the bag-of-words: bow\n",
        "bow = Counter(lemmatized)\n",
        "\n",
        "# Print the 10 most common tokens\n",
        "print(bow.most_common(10))"
      ],
      "metadata": {
        "colab": {
          "base_uri": "https://localhost:8080/"
        },
        "id": "rnlK3jpSWt1i",
        "outputId": "4942af0d-0279-4fdd-f167-ff4595fbafd7"
      },
      "execution_count": 112,
      "outputs": [
        {
          "output_type": "stream",
          "name": "stdout",
          "text": [
            "[('oh', 15), ('okay', 9), ('hi', 7), ('guy', 7), ('really', 6), ('sorry', 5), ('love', 4), ('like', 4), ('uh', 4), ('know', 4)]\n"
          ]
        }
      ]
    },
    {
      "cell_type": "code",
      "source": [
        ""
      ],
      "metadata": {
        "id": "5weysN_haHzJ"
      },
      "execution_count": 112,
      "outputs": []
    },
    {
      "cell_type": "markdown",
      "source": [
        "#### **Gensim library**"
      ],
      "metadata": {
        "id": "cAIpuYZpYqvi"
      }
    },
    {
      "cell_type": "markdown",
      "source": [
        "* popular open-source NLP library\n",
        "* building document or word vectors\n",
        "  - multi-dimensional representation of word\n",
        "  - see relationships among words in a document\n",
        "  - e.g. Spain is to Madrid as Italiy is to Rome\n",
        "* performing topic identifciation and document comparison\n",
        "* Corpus is a set of text used to perform NLP tasks\n",
        "  - pre-processed text\n",
        "  - pass tokenized to the Dictionariy class\n",
        "  - create Gensim corpus (bag of word documents)."
      ],
      "metadata": {
        "id": "h8MSFaAWYzls"
      }
    },
    {
      "cell_type": "code",
      "source": [
        "# this library needs a list of documents (very basic without any pre-processing)\n",
        "episode_list_list = episode.copy()\n",
        "\n",
        "#create a list of each sentence\n",
        "def preprocessing(text):\n",
        "     return word_tokenize(text)  #or use sent_tokenize\n",
        "\n",
        "episode_list_list ['list_of_lines'] = episode_list_list ['line'].apply(preprocessing)\n",
        "\n",
        "#turn into a list of lists \n",
        "#dialogue_list = episode_list_list['list_of_lines'].tolist()"
      ],
      "metadata": {
        "id": "v9pPw1i5qHav"
      },
      "execution_count": 113,
      "outputs": []
    },
    {
      "cell_type": "code",
      "source": [
        ""
      ],
      "metadata": {
        "id": "ejrn1nZs89ro"
      },
      "execution_count": 113,
      "outputs": []
    },
    {
      "cell_type": "code",
      "source": [
        "#Pre-process episode so that it can be used in Gensim \n",
        "episode_list_list = episode.copy()\n",
        "\n",
        "\n",
        "#step 1: pre-process the text\n",
        "episode_list_list['cleaned_text']  = ''\n",
        "\n",
        "def preprocess (text):\n",
        "  doc = nlp(text, disable =['ner', 'parser'])\n",
        "  lemmas = [token.lemma_ for token in doc]\n",
        "  a_lemmas = [lemma for lemma in lemmas if lemma.isalpha()]\n",
        "  lowercase = [t.lower() for t in a_lemmas]\n",
        "  no_stops = [w for w in lowercase if w not in stopwords.words('english')]\n",
        "  return ' '.join(no_stops)\n",
        "\n",
        "#apply function\n",
        "episode_list_list['cleaned_text'] =episode_list_list['line'].apply(preprocess)\n",
        "\n",
        "\n",
        "# this library needs a list of documents: easiest way of doing this is to apply a tokenizer\n",
        "#create a list of each sentence\n",
        "def preprocessing(text):\n",
        "     return word_tokenize(text)  #or use sent_tokenize\n",
        "#apply function\n",
        "episode_list_list['list_of_lines'] = episode_list_list['cleaned_text'].apply(preprocessing)\n",
        "\n",
        "#turn into a list of lists \n",
        "dialogue_list = episode_list_list['list_of_lines'].tolist()\n",
        "\n",
        "episode_list_list.head(2)\n",
        "#episode_list_list.to_csv('episode_list_of_list.csv') #this is old version\n"
      ],
      "metadata": {
        "colab": {
          "base_uri": "https://localhost:8080/",
          "height": 1000
        },
        "id": "As7LEPIS9Rvj",
        "outputId": "daeedfd2-1514-4612-ada2-9707cfe34314"
      },
      "execution_count": 114,
      "outputs": [
        {
          "output_type": "execute_result",
          "data": {
            "text/html": [
              "\n",
              "  <div id=\"df-792371d4-18cd-466d-bdf0-223c372bc972\">\n",
              "    <div class=\"colab-df-container\">\n",
              "      <div>\n",
              "<style scoped>\n",
              "    .dataframe tbody tr th:only-of-type {\n",
              "        vertical-align: middle;\n",
              "    }\n",
              "\n",
              "    .dataframe tbody tr th {\n",
              "        vertical-align: top;\n",
              "    }\n",
              "\n",
              "    .dataframe thead th {\n",
              "        text-align: right;\n",
              "    }\n",
              "</style>\n",
              "<table border=\"1\" class=\"dataframe\">\n",
              "  <thead>\n",
              "    <tr style=\"text-align: right;\">\n",
              "      <th></th>\n",
              "      <th>episode_id</th>\n",
              "      <th>character</th>\n",
              "      <th>line</th>\n",
              "      <th>cleaned_text</th>\n",
              "      <th>list_of_lines</th>\n",
              "    </tr>\n",
              "  </thead>\n",
              "  <tbody>\n",
              "    <tr>\n",
              "      <th>0</th>\n",
              "      <td>1-1</td>\n",
              "      <td>Howard</td>\n",
              "      <td>Wait till you see this. It’s a Stephen Hawking lecture from MIT in 1974. It’s before he became a creepy computer voice Yeah, right, your grandmother back in town? Hang on, there really is a lady here? And you want us out because you’re anticipating coitus? So she’s available for coitus? Enchante Madamoiselle. Howard Wolowitz, Cal-Tech department of Applied Physics. You may be familiar with some of my work, it’s currently orbiting Jupiter’s largest moon taking high-resolution digital photographs. Bon douche. It’s French for good shower. It’s a sentiment I can express in six languages. See-ka-tong-guay-jow. Oh, he speaks English, he just can’t speak to women. He’s kind of a nerd. Juice box? This is one of my favourite places to kick back after a quest, they have a great house ale. Yeah, I’ve had him since level ten. His name is Buttons. Anyway, if you had your own game character we could hang out, maybe go on a quest. So you’ll think about it? Turn left on Lake Street and head up to Colorado. I know a wonderful little sushi bar that has karaoke. Baby, baby don’t get hooked on me. Uh, baby, baby don’t get hooked on me.</td>\n",
              "      <td>wait till see stephen hawking lecture mit become creepy computer voice yeah right grandmother back town hang really lady want anticipate coitus available coitus enchante madamoiselle howard wolowitz cal tech department applied physics may familiar work currently orbit jupiter large moon take high resolution digital photograph bon douche french good shower sentiment express six language see ka tong guay jow oh speak english speak woman kind nerd juice box one favourite place kick back quest great house ale yeah since level ten name button anyway game character could hang maybe go quest think turn leave lake street head colorado know wonderful little sushi bar karaoke baby baby get hooked uh baby baby get hooked</td>\n",
              "      <td>[wait, till, see, stephen, hawking, lecture, mit, become, creepy, computer, voice, yeah, right, grandmother, back, town, hang, really, lady, want, anticipate, coitus, available, coitus, enchante, madamoiselle, howard, wolowitz, cal, tech, department, applied, physics, may, familiar, work, currently, orbit, jupiter, large, moon, take, high, resolution, digital, photograph, bon, douche, french, good, shower, sentiment, express, six, language, see, ka, tong, guay, jow, oh, speak, english, speak, woman, kind, nerd, juice, box, one, favourite, place, kick, back, quest, great, house, ale, yeah, since, level, ten, name, button, anyway, game, character, could, hang, maybe, go, quest, think, turn, leave, lake, street, head, colorado, know, ...]</td>\n",
              "    </tr>\n",
              "    <tr>\n",
              "      <th>1</th>\n",
              "      <td>1-1</td>\n",
              "      <td>Leonard</td>\n",
              "      <td>Agreed, what’s your point? Excuse me? One across is Aegean, eight down is Nabakov, twenty-six across is MCM, fourteen down is… move your finger… phylum, which makes fourteen across Port-au-Prince. See, Papa Doc’s capital idea, that’s Port-au-Prince. Haiti. Yes. Um, is this the High IQ sperm bank? Thank-you. We’ll be right back. What, are you kidding? You’re a semi-pro. Sheldon, this was your idea. A little extra money to get fractional T1 bandwidth in the apartment. I’m sure she’ll still love him. Well, what do you want to do? Okay. I don’t know, I’ve never reneged on a proffer of sperm before. Okay. See you. No. Not really. I don’t care. Two millimetres? That doesn’t seem right. Is that why they sent you to boarding school? New neighbour? Significant improvement over the old neighbour. Hi. Hi. We don’t mean to interrupt, we live across the hall. Oh… uh… no… we don’t live together… um… we live together but in separate, heterosexual bedrooms. Leonard, Sheldon. Hi. Hi. Well, uh, oh, welcome to the building. Oh, great. Great. Well, bye. Bye. Should we have invited her for lunch? We already watched the Season Two DVDs. I think we should be good neighbours, invite her over, make her feel welcome. Well, then that was wrong of us. We need to widen our circle. Yes, and you’ve never met one of them. I’m going to invite her over. We’ll have a nice meal and chat. Well it’s not difficult, you just listen to what she says and then you say something appropriate in response. Hi. Again. Hi. Anyway, um. We brought home Indian food. And, um. I know that moving can be stressful, and I find that when I’m undergoing stress, that good food and company can have a comforting effect. Also, curry is a natural laxative, and I don’t have to tell you that, uh, a clean colon is just one less thing to worry about. Uh, yes. Great. Okay, well, make yourself at home. You’re very welcome. I have a board. If you like boards, this is my board. What? At least I didn’t have to invent twenty-six dimensions just to make the math come out. In what universe? Here we go. Just sit somewhere else. Sheldon, sit!&lt;br/&gt; Well this is nice. We don’t have a lot of company over. Yes I now, but… Yes, I remember. I’m sorry. I said I’m sorry. Yeah, it’s like regular boggle but, in Klingon. That’s probably enough about us, tell us about you. I think what Sheldon’s trying to say, is that Sagittarius wouldn’t have been our first guess. Wu-uh, do you have some sort of a job? Oh, okay. I love cheesecake. I don’t eat it, I just think it’s a good idea. So it’s based on your life? Well, if that was a movie I would go see it. Well it sounds wonderful. I don’t know. Don’t. Should I say something? I feel like I should say something. No, it’s not crazy it’s, uh, uh, it’s a paradox. And paradoxes are part of nature, think about light. Now if you look at Huygens, light is a wave, as confirmed by the double slit experiments, but then, along comes Albert Einstein and discovers that light behaves like particles too. Well, I didn’t make it worse. Our shower works. No. No. It’s right down the hall. How so? That’s not true, remember at Thanksgiving my grandmother with Alzheimer’s had that episode. The worst part was watching her carve that turkey. Excuse me? Well I’m not trying to have sex with her. What makes you think she wouldn’t have sex with me, I’m a male and she’s a female? I’m not going to engage in hypotheticals here, I’m just trying to be a good neighbour. That’s not to say that if a carnal relationship were to develop that I wouldn’t participate. However briefly. It’s Darth Vader shampoo. (There is a knock on the door.) Luke Skywalker’s the conditioner.&lt;br/&gt; See what? This is not a good time. That’s great, you guys have to go. It’s just not a good time. No. And she’s not a lady, she’s just a new neighbour. Uh-huh. I’m not anticipating coitus. Can we please stop saying coitus? Come on, I’ll show you the trick with the shower. Save it for your blog, Howard. Uh, there it goes, it sticks, I’m sorry. You’re welcome, oh, you’re going to step right, okay, I’ll…. The hair products are Sheldon’s. A favour? Sure, you can ask me a favour, I would do you a favour for you. Oh, I’ll probably say yes. Wow. Must we? She asked me to do her a favour, Sheldon. Which is? That’s a biological impossibility and you didn’t have to come. Come on, you know how it is with break-ups. Wuh, I, I broke up with Joyce Kim. To mend her broken heart. This situation is much less complicated. There’s some kind of dispute between Penny and her ex-boyfriend as to who gets custody of the TV. She just wanted to avoid having a scene with him. No, Sheldon, there’s not going to be a scene. There’s two of us and one of him. I’ll do the talking. Hi, I’m Leonard, this is Sheldon. What did I just…. Uh, we’re here to pick up Penny’s TV. We’re not going to give up just like that. Excuse me, if I were to give up at the first little hitch I never would have been able to identify the fingerprints of string theory in the aftermath of the big bang. Come on, we have a combined IQ of 360, we should be able to figure out how to get into a stupid building. Just grab the door. This is it. (Knocks.) I’ll do the talking. I’m Leonard, this is Sheldon. Oh. We’re scientists. What? I’m sorry. Sheldon, I’m so sorry I dragged you through this. And you were right about my motives, I was hoping to establish a relationship with Penny that might have some day led to sex. Anyway, I’ve learned my lesson. She’s out of my league, I’m done with her, I’ve got my work, one day I’ll win the Nobel Prize and then I’ll die alone. Thank you Sheldon, you’re a good friend. We’re home. Well, your ex-boyfriend sends his regards and I think the rest is fairly self-explanatory. No, it was a valid hypothesis. Really? Great. Our babies will be smart and beautiful. Is Thai food okay with you Penny?</td>\n",
              "      <td>agree point excuse one across aegean eight nabakov twenty six across mcm fourteen move finger phylum make fourteen across port au prince see papa doc capital idea port au prince haiti yes um high iq sperm bank thank right back kid semi pro sheldon idea little extra money get fractional bandwidth apartment sure still love well want okay know never renege proffer sperm okay see really care two millimetre seem right send board school new neighbour significant improvement old neighbour hi hi mean interrupt live across hall oh uh live together um live together separate heterosexual bedroom leonard sheldon hi hi well uh oh welcome building oh great great well bye bye invite lunch already watch season two dvd think good neighbour invite make feel welcome well wrong need widen circle yes never meet one go invite nice meal chat well difficult listen say say something appropriate response hi hi anyway um bring home indian food um know move stressful find undergo stress good food company comforting effect also curry natural laxative tell uh clean colon one less thing worry uh yes great okay well make home welcome board like board board least invent twenty six dimension make math come universe go sit somewhere else sheldon well nice lot company yes yes remember sorry say sorry yeah like regular boggle klingon probably enough tell think sheldon try say sagittarius would first guess wu uh sort job oh okay love cheesecake eat think good idea base life well movie would go see well sound wonderful know say something feel like say something crazy uh uh paradox paradox part nature think light look huygens light wave confirm double slit experiment along come albert einstein discover light behave like particle well make bad shower work right hall true remember thanksgiving grandmother alzheimer episode bad part watch carve turkey excuse well try sex make think would sex male female go engage hypothetical try good neighbour say carnal relationship develop would participate however briefly darth vader shampoo knock door luke skywalker see good time great guy go good time lady new neighbour uh huh anticipate coitus please stop say coitus come show trick shower save blog howard uh go stick sorry welcome oh go step right okay hair product sheldon favour sure ask favour would favour oh probably say yes wow must ask favour sheldon biological impossibility come come know break wuh break joyce kim mend broken heart situation much less complicated kind dispute penny ex boyfriend get custody tv want avoid scene sheldon go scene two one talking hi leonard sheldon uh pick penny tv go give like excuse give first little hitch never would able identify fingerprint stre theory aftermath big bang come combine iq able figure get stupid building grab door knocks talking leonard sheldon oh scientist sorry sheldon sorry drag right motive hope establish relationship penny may day lead sex anyway learn lesson league get work one day win nobel prize die alone thank sheldon good friend home well ex boyfriend send regard think rest fairly self explanatory valid hypothesis really great baby smart beautiful thai food okay penny</td>\n",
              "      <td>[agree, point, excuse, one, across, aegean, eight, nabakov, twenty, six, across, mcm, fourteen, move, finger, phylum, make, fourteen, across, port, au, prince, see, papa, doc, capital, idea, port, au, prince, haiti, yes, um, high, iq, sperm, bank, thank, right, back, kid, semi, pro, sheldon, idea, little, extra, money, get, fractional, bandwidth, apartment, sure, still, love, well, want, okay, know, never, renege, proffer, sperm, okay, see, really, care, two, millimetre, seem, right, send, board, school, new, neighbour, significant, improvement, old, neighbour, hi, hi, mean, interrupt, live, across, hall, oh, uh, live, together, um, live, together, separate, heterosexual, bedroom, leonard, sheldon, hi, ...]</td>\n",
              "    </tr>\n",
              "  </tbody>\n",
              "</table>\n",
              "</div>\n",
              "      <button class=\"colab-df-convert\" onclick=\"convertToInteractive('df-792371d4-18cd-466d-bdf0-223c372bc972')\"\n",
              "              title=\"Convert this dataframe to an interactive table.\"\n",
              "              style=\"display:none;\">\n",
              "        \n",
              "  <svg xmlns=\"http://www.w3.org/2000/svg\" height=\"24px\"viewBox=\"0 0 24 24\"\n",
              "       width=\"24px\">\n",
              "    <path d=\"M0 0h24v24H0V0z\" fill=\"none\"/>\n",
              "    <path d=\"M18.56 5.44l.94 2.06.94-2.06 2.06-.94-2.06-.94-.94-2.06-.94 2.06-2.06.94zm-11 1L8.5 8.5l.94-2.06 2.06-.94-2.06-.94L8.5 2.5l-.94 2.06-2.06.94zm10 10l.94 2.06.94-2.06 2.06-.94-2.06-.94-.94-2.06-.94 2.06-2.06.94z\"/><path d=\"M17.41 7.96l-1.37-1.37c-.4-.4-.92-.59-1.43-.59-.52 0-1.04.2-1.43.59L10.3 9.45l-7.72 7.72c-.78.78-.78 2.05 0 2.83L4 21.41c.39.39.9.59 1.41.59.51 0 1.02-.2 1.41-.59l7.78-7.78 2.81-2.81c.8-.78.8-2.07 0-2.86zM5.41 20L4 18.59l7.72-7.72 1.47 1.35L5.41 20z\"/>\n",
              "  </svg>\n",
              "      </button>\n",
              "      \n",
              "  <style>\n",
              "    .colab-df-container {\n",
              "      display:flex;\n",
              "      flex-wrap:wrap;\n",
              "      gap: 12px;\n",
              "    }\n",
              "\n",
              "    .colab-df-convert {\n",
              "      background-color: #E8F0FE;\n",
              "      border: none;\n",
              "      border-radius: 50%;\n",
              "      cursor: pointer;\n",
              "      display: none;\n",
              "      fill: #1967D2;\n",
              "      height: 32px;\n",
              "      padding: 0 0 0 0;\n",
              "      width: 32px;\n",
              "    }\n",
              "\n",
              "    .colab-df-convert:hover {\n",
              "      background-color: #E2EBFA;\n",
              "      box-shadow: 0px 1px 2px rgba(60, 64, 67, 0.3), 0px 1px 3px 1px rgba(60, 64, 67, 0.15);\n",
              "      fill: #174EA6;\n",
              "    }\n",
              "\n",
              "    [theme=dark] .colab-df-convert {\n",
              "      background-color: #3B4455;\n",
              "      fill: #D2E3FC;\n",
              "    }\n",
              "\n",
              "    [theme=dark] .colab-df-convert:hover {\n",
              "      background-color: #434B5C;\n",
              "      box-shadow: 0px 1px 3px 1px rgba(0, 0, 0, 0.15);\n",
              "      filter: drop-shadow(0px 1px 2px rgba(0, 0, 0, 0.3));\n",
              "      fill: #FFFFFF;\n",
              "    }\n",
              "  </style>\n",
              "\n",
              "      <script>\n",
              "        const buttonEl =\n",
              "          document.querySelector('#df-792371d4-18cd-466d-bdf0-223c372bc972 button.colab-df-convert');\n",
              "        buttonEl.style.display =\n",
              "          google.colab.kernel.accessAllowed ? 'block' : 'none';\n",
              "\n",
              "        async function convertToInteractive(key) {\n",
              "          const element = document.querySelector('#df-792371d4-18cd-466d-bdf0-223c372bc972');\n",
              "          const dataTable =\n",
              "            await google.colab.kernel.invokeFunction('convertToInteractive',\n",
              "                                                     [key], {});\n",
              "          if (!dataTable) return;\n",
              "\n",
              "          const docLinkHtml = 'Like what you see? Visit the ' +\n",
              "            '<a target=\"_blank\" href=https://colab.research.google.com/notebooks/data_table.ipynb>data table notebook</a>'\n",
              "            + ' to learn more about interactive tables.';\n",
              "          element.innerHTML = '';\n",
              "          dataTable['output_type'] = 'display_data';\n",
              "          await google.colab.output.renderOutput(dataTable, element);\n",
              "          const docLink = document.createElement('div');\n",
              "          docLink.innerHTML = docLinkHtml;\n",
              "          element.appendChild(docLink);\n",
              "        }\n",
              "      </script>\n",
              "    </div>\n",
              "  </div>\n",
              "  "
            ],
            "text/plain": [
              "  episode_id character  \\\n",
              "0        1-1    Howard   \n",
              "1        1-1   Leonard   \n",
              "\n",
              "                                                                                                                                                                                                                                                                                                                                                                                                                                                                                                                                                                                                                                                                                                                                                                                                                                                                                                                                                                                                                                                                                                                                                                                                                                                                                                                                                                                                                                                                                                                                                                                                                                                                                                                                                                                                                                                                                                                                                                                                                                                                                                                                                                                                                                                                                                                                                                                                                                                                                                                                                                                                                                                                                                                                                                                                                                                                                                                                                                                                                                                                                                                                                                                                                                                                                                                                                                                                                                                                                                                                                                                                                                                                                                                                                                                                                                                                                                                                                                                                                                                                                                                                                                                                                                                                                                                                                                                                                                                                                                                                                                                                                                                                                                                                                                                                                                                                                                                                                                                                                                                                                                                                                                                                                                                                                                                                                                                                                                                                                                                                                                                                                                                                                                                                                                                                                                                                                                                                                                                                                                                                                           line  \\\n",
              "0                                                                                                                                                                                                                                                                                                                                                                                                                                                                                                                                                                                                                                                                                                                                                                                                                                                                                                                                                                                                                                                                                                                                                                                                                                                                                                                                                                                                                                                                                                                                                                                                                                                                                                                                                                                                                                                                                                                                                                                                                                                                                                                                                                                                                                                                                                                                                                                                                                                                                                                                                                                                                                                                                                                                                                                                                                                                                                                                                                                                                                                                                                                                                                                                                                                                                                                                                                                                                                                                                                                                                                                                                                                                                                                                                                                                                                                                                                                                                                                                                                                                                                                                                                                                                                                                                                                                                                                                                                                                                                                                                                                                                                                                                                                                                                                                                                                                                                                 Wait till you see this. It’s a Stephen Hawking lecture from MIT in 1974. It’s before he became a creepy computer voice Yeah, right, your grandmother back in town? Hang on, there really is a lady here? And you want us out because you’re anticipating coitus? So she’s available for coitus? Enchante Madamoiselle. Howard Wolowitz, Cal-Tech department of Applied Physics. You may be familiar with some of my work, it’s currently orbiting Jupiter’s largest moon taking high-resolution digital photographs. Bon douche. It’s French for good shower. It’s a sentiment I can express in six languages. See-ka-tong-guay-jow. Oh, he speaks English, he just can’t speak to women. He’s kind of a nerd. Juice box? This is one of my favourite places to kick back after a quest, they have a great house ale. Yeah, I’ve had him since level ten. His name is Buttons. Anyway, if you had your own game character we could hang out, maybe go on a quest. So you’ll think about it? Turn left on Lake Street and head up to Colorado. I know a wonderful little sushi bar that has karaoke. Baby, baby don’t get hooked on me. Uh, baby, baby don’t get hooked on me.   \n",
              "1  Agreed, what’s your point? Excuse me? One across is Aegean, eight down is Nabakov, twenty-six across is MCM, fourteen down is… move your finger… phylum, which makes fourteen across Port-au-Prince. See, Papa Doc’s capital idea, that’s Port-au-Prince. Haiti. Yes. Um, is this the High IQ sperm bank? Thank-you. We’ll be right back. What, are you kidding? You’re a semi-pro. Sheldon, this was your idea. A little extra money to get fractional T1 bandwidth in the apartment. I’m sure she’ll still love him. Well, what do you want to do? Okay. I don’t know, I’ve never reneged on a proffer of sperm before. Okay. See you. No. Not really. I don’t care. Two millimetres? That doesn’t seem right. Is that why they sent you to boarding school? New neighbour? Significant improvement over the old neighbour. Hi. Hi. We don’t mean to interrupt, we live across the hall. Oh… uh… no… we don’t live together… um… we live together but in separate, heterosexual bedrooms. Leonard, Sheldon. Hi. Hi. Well, uh, oh, welcome to the building. Oh, great. Great. Well, bye. Bye. Should we have invited her for lunch? We already watched the Season Two DVDs. I think we should be good neighbours, invite her over, make her feel welcome. Well, then that was wrong of us. We need to widen our circle. Yes, and you’ve never met one of them. I’m going to invite her over. We’ll have a nice meal and chat. Well it’s not difficult, you just listen to what she says and then you say something appropriate in response. Hi. Again. Hi. Anyway, um. We brought home Indian food. And, um. I know that moving can be stressful, and I find that when I’m undergoing stress, that good food and company can have a comforting effect. Also, curry is a natural laxative, and I don’t have to tell you that, uh, a clean colon is just one less thing to worry about. Uh, yes. Great. Okay, well, make yourself at home. You’re very welcome. I have a board. If you like boards, this is my board. What? At least I didn’t have to invent twenty-six dimensions just to make the math come out. In what universe? Here we go. Just sit somewhere else. Sheldon, sit!<br/> Well this is nice. We don’t have a lot of company over. Yes I now, but… Yes, I remember. I’m sorry. I said I’m sorry. Yeah, it’s like regular boggle but, in Klingon. That’s probably enough about us, tell us about you. I think what Sheldon’s trying to say, is that Sagittarius wouldn’t have been our first guess. Wu-uh, do you have some sort of a job? Oh, okay. I love cheesecake. I don’t eat it, I just think it’s a good idea. So it’s based on your life? Well, if that was a movie I would go see it. Well it sounds wonderful. I don’t know. Don’t. Should I say something? I feel like I should say something. No, it’s not crazy it’s, uh, uh, it’s a paradox. And paradoxes are part of nature, think about light. Now if you look at Huygens, light is a wave, as confirmed by the double slit experiments, but then, along comes Albert Einstein and discovers that light behaves like particles too. Well, I didn’t make it worse. Our shower works. No. No. It’s right down the hall. How so? That’s not true, remember at Thanksgiving my grandmother with Alzheimer’s had that episode. The worst part was watching her carve that turkey. Excuse me? Well I’m not trying to have sex with her. What makes you think she wouldn’t have sex with me, I’m a male and she’s a female? I’m not going to engage in hypotheticals here, I’m just trying to be a good neighbour. That’s not to say that if a carnal relationship were to develop that I wouldn’t participate. However briefly. It’s Darth Vader shampoo. (There is a knock on the door.) Luke Skywalker’s the conditioner.<br/> See what? This is not a good time. That’s great, you guys have to go. It’s just not a good time. No. And she’s not a lady, she’s just a new neighbour. Uh-huh. I’m not anticipating coitus. Can we please stop saying coitus? Come on, I’ll show you the trick with the shower. Save it for your blog, Howard. Uh, there it goes, it sticks, I’m sorry. You’re welcome, oh, you’re going to step right, okay, I’ll…. The hair products are Sheldon’s. A favour? Sure, you can ask me a favour, I would do you a favour for you. Oh, I’ll probably say yes. Wow. Must we? She asked me to do her a favour, Sheldon. Which is? That’s a biological impossibility and you didn’t have to come. Come on, you know how it is with break-ups. Wuh, I, I broke up with Joyce Kim. To mend her broken heart. This situation is much less complicated. There’s some kind of dispute between Penny and her ex-boyfriend as to who gets custody of the TV. She just wanted to avoid having a scene with him. No, Sheldon, there’s not going to be a scene. There’s two of us and one of him. I’ll do the talking. Hi, I’m Leonard, this is Sheldon. What did I just…. Uh, we’re here to pick up Penny’s TV. We’re not going to give up just like that. Excuse me, if I were to give up at the first little hitch I never would have been able to identify the fingerprints of string theory in the aftermath of the big bang. Come on, we have a combined IQ of 360, we should be able to figure out how to get into a stupid building. Just grab the door. This is it. (Knocks.) I’ll do the talking. I’m Leonard, this is Sheldon. Oh. We’re scientists. What? I’m sorry. Sheldon, I’m so sorry I dragged you through this. And you were right about my motives, I was hoping to establish a relationship with Penny that might have some day led to sex. Anyway, I’ve learned my lesson. She’s out of my league, I’m done with her, I’ve got my work, one day I’ll win the Nobel Prize and then I’ll die alone. Thank you Sheldon, you’re a good friend. We’re home. Well, your ex-boyfriend sends his regards and I think the rest is fairly self-explanatory. No, it was a valid hypothesis. Really? Great. Our babies will be smart and beautiful. Is Thai food okay with you Penny?   \n",
              "\n",
              "                                                                                                                                                                                                                                                                                                                                                                                                                                                                                                                                                                                                                                                                                                                                                                                                                                                                                                                                                                                                                                                                                                                                                                                                                                                                                                                                                                                                                                                                                                                                                                                                                                                                                                                                                                                                                                                                                                                                                                                                                                                                                                                                                                                                                                                                                                                                                                                                                                                                                                                                                                                                                                                                                                                                                                                                                                                                                                                                                                                                                                                                                                                                                                                                                                                      cleaned_text  \\\n",
              "0                                                                                                                                                                                                                                                                                                                                                                                                                                                                                                                                                                                                                                                                                                                                                                                                                                                                                                                                                                                                                                                                                                                                                                                                                                                                                                                                                                                                                                                                                                                                                                                                                                                                                                                                                                                                                                                                                                                                                                                                                                                                                                                                                                                                                                                                                                                                                                                                                                                                                                                  wait till see stephen hawking lecture mit become creepy computer voice yeah right grandmother back town hang really lady want anticipate coitus available coitus enchante madamoiselle howard wolowitz cal tech department applied physics may familiar work currently orbit jupiter large moon take high resolution digital photograph bon douche french good shower sentiment express six language see ka tong guay jow oh speak english speak woman kind nerd juice box one favourite place kick back quest great house ale yeah since level ten name button anyway game character could hang maybe go quest think turn leave lake street head colorado know wonderful little sushi bar karaoke baby baby get hooked uh baby baby get hooked   \n",
              "1  agree point excuse one across aegean eight nabakov twenty six across mcm fourteen move finger phylum make fourteen across port au prince see papa doc capital idea port au prince haiti yes um high iq sperm bank thank right back kid semi pro sheldon idea little extra money get fractional bandwidth apartment sure still love well want okay know never renege proffer sperm okay see really care two millimetre seem right send board school new neighbour significant improvement old neighbour hi hi mean interrupt live across hall oh uh live together um live together separate heterosexual bedroom leonard sheldon hi hi well uh oh welcome building oh great great well bye bye invite lunch already watch season two dvd think good neighbour invite make feel welcome well wrong need widen circle yes never meet one go invite nice meal chat well difficult listen say say something appropriate response hi hi anyway um bring home indian food um know move stressful find undergo stress good food company comforting effect also curry natural laxative tell uh clean colon one less thing worry uh yes great okay well make home welcome board like board board least invent twenty six dimension make math come universe go sit somewhere else sheldon well nice lot company yes yes remember sorry say sorry yeah like regular boggle klingon probably enough tell think sheldon try say sagittarius would first guess wu uh sort job oh okay love cheesecake eat think good idea base life well movie would go see well sound wonderful know say something feel like say something crazy uh uh paradox paradox part nature think light look huygens light wave confirm double slit experiment along come albert einstein discover light behave like particle well make bad shower work right hall true remember thanksgiving grandmother alzheimer episode bad part watch carve turkey excuse well try sex make think would sex male female go engage hypothetical try good neighbour say carnal relationship develop would participate however briefly darth vader shampoo knock door luke skywalker see good time great guy go good time lady new neighbour uh huh anticipate coitus please stop say coitus come show trick shower save blog howard uh go stick sorry welcome oh go step right okay hair product sheldon favour sure ask favour would favour oh probably say yes wow must ask favour sheldon biological impossibility come come know break wuh break joyce kim mend broken heart situation much less complicated kind dispute penny ex boyfriend get custody tv want avoid scene sheldon go scene two one talking hi leonard sheldon uh pick penny tv go give like excuse give first little hitch never would able identify fingerprint stre theory aftermath big bang come combine iq able figure get stupid building grab door knocks talking leonard sheldon oh scientist sorry sheldon sorry drag right motive hope establish relationship penny may day lead sex anyway learn lesson league get work one day win nobel prize die alone thank sheldon good friend home well ex boyfriend send regard think rest fairly self explanatory valid hypothesis really great baby smart beautiful thai food okay penny   \n",
              "\n",
              "                                                                                                                                                                                                                                                                                                                                                                                                                                                                                                                                                                                                                                                                                                                                                               list_of_lines  \n",
              "0  [wait, till, see, stephen, hawking, lecture, mit, become, creepy, computer, voice, yeah, right, grandmother, back, town, hang, really, lady, want, anticipate, coitus, available, coitus, enchante, madamoiselle, howard, wolowitz, cal, tech, department, applied, physics, may, familiar, work, currently, orbit, jupiter, large, moon, take, high, resolution, digital, photograph, bon, douche, french, good, shower, sentiment, express, six, language, see, ka, tong, guay, jow, oh, speak, english, speak, woman, kind, nerd, juice, box, one, favourite, place, kick, back, quest, great, house, ale, yeah, since, level, ten, name, button, anyway, game, character, could, hang, maybe, go, quest, think, turn, leave, lake, street, head, colorado, know, ...]  \n",
              "1                               [agree, point, excuse, one, across, aegean, eight, nabakov, twenty, six, across, mcm, fourteen, move, finger, phylum, make, fourteen, across, port, au, prince, see, papa, doc, capital, idea, port, au, prince, haiti, yes, um, high, iq, sperm, bank, thank, right, back, kid, semi, pro, sheldon, idea, little, extra, money, get, fractional, bandwidth, apartment, sure, still, love, well, want, okay, know, never, renege, proffer, sperm, okay, see, really, care, two, millimetre, seem, right, send, board, school, new, neighbour, significant, improvement, old, neighbour, hi, hi, mean, interrupt, live, across, hall, oh, uh, live, together, um, live, together, separate, heterosexual, bedroom, leonard, sheldon, hi, ...]  "
            ]
          },
          "metadata": {},
          "execution_count": 114
        }
      ]
    },
    {
      "cell_type": "code",
      "source": [
        "#episode_list_list.to_csv('episode_list_of_list2.csv') "
      ],
      "metadata": {
        "id": "bfarV3I2G_td"
      },
      "execution_count": 115,
      "outputs": []
    },
    {
      "cell_type": "code",
      "source": [
        "# Create a Dictionary from the articles\n",
        "dictionary = Dictionary(dialogue_list)\n",
        "\n",
        "# Select the id for \"computer\": computer_id\n",
        "computer_id = dictionary.token2id.get(\"computer\")\n",
        "print(dictionary.get(computer_id))\n",
        "\n",
        "\n",
        "#Create a MmCorpus: corpus\n",
        "corpus = [dictionary.doc2bow(dialogue) for dialogue in dialogue_list]\n",
        "\n",
        "# Print the first 10 word ids with their frequency counts from the fifth document\n",
        "print(corpus[1][:10])"
      ],
      "metadata": {
        "colab": {
          "base_uri": "https://localhost:8080/"
        },
        "id": "p2ge9uU4nDIy",
        "outputId": "f03187c1-b93a-426d-8a7d-6d01483610d4"
      },
      "execution_count": 116,
      "outputs": [
        {
          "output_type": "stream",
          "name": "stdout",
          "text": [
            "computer\n",
            "[(1, 1), (2, 2), (5, 1), (6, 1), (14, 2), (30, 4), (31, 9), (32, 7), (33, 1), (34, 5)]\n"
          ]
        }
      ]
    },
    {
      "cell_type": "code",
      "source": [
        "#top 10 words in a given document (document here is a dialogue of one caracter in a given episode)\n",
        "#here: line of Howard in episode 1\n",
        "\n",
        "# Save the first document: doc\n",
        "doc = corpus[0]\n",
        "\n",
        "# Sort the doc for frequency: bow_doc\n",
        "bow_doc = sorted(doc, key=lambda w: w[1], reverse=True)\n",
        "\n",
        "# Print the top 5 words of the document alongside the count\n",
        "for word_id, word_count in bow_doc[:10]:\n",
        "    print(dictionary.get(word_id), word_count)"
      ],
      "metadata": {
        "colab": {
          "base_uri": "https://localhost:8080/"
        },
        "id": "a03-oP_Ibi-r",
        "outputId": "51f2bcc8-d2fb-4799-ddda-672becdd73af"
      },
      "execution_count": 117,
      "outputs": [
        {
          "output_type": "stream",
          "name": "stdout",
          "text": [
            "baby 4\n",
            "back 2\n",
            "coitus 2\n",
            "get 2\n",
            "hang 2\n",
            "hooked 2\n",
            "quest 2\n",
            "see 2\n",
            "speak 2\n",
            "yeah 2\n"
          ]
        }
      ]
    },
    {
      "cell_type": "code",
      "source": [
        "#top 10 most common words in entire corpus (= all dialogues)\n",
        "\n",
        "# Create the defaultdict: total_word_count\n",
        "total_word_count = defaultdict(int)\n",
        "for word_id, word_count in itertools.chain.from_iterable(corpus):\n",
        "    total_word_count[word_id] += word_count\n",
        "\n",
        "# Create a sorted list from the defaultdict: sorted_word_count \n",
        "sorted_word_count = sorted(total_word_count.items(), key=lambda w: w[1], reverse=True) \n",
        "\n",
        "# Print the top 5 words across all documents alongside the count\n",
        "for word_id, word_count in sorted_word_count[:10]:\n",
        "    print(dictionary.get(word_id), word_count)"
      ],
      "metadata": {
        "colab": {
          "base_uri": "https://localhost:8080/"
        },
        "id": "Dek1-EJHoSLG",
        "outputId": "ae292118-d7e1-4190-f4e3-74af680e757d"
      },
      "execution_count": 118,
      "outputs": [
        {
          "output_type": "stream",
          "name": "stdout",
          "text": [
            "go 5416\n",
            "oh 4328\n",
            "get 4122\n",
            "know 3965\n",
            "well 3495\n",
            "like 2920\n",
            "would 2639\n",
            "okay 2586\n",
            "think 2503\n",
            "yeah 2372\n"
          ]
        }
      ]
    },
    {
      "cell_type": "markdown",
      "source": [
        "**TF-IDF with Gensim**"
      ],
      "metadata": {
        "id": "UaqFbJcDr2Kx"
      }
    },
    {
      "cell_type": "markdown",
      "source": [
        "* Tf-idf = term frequency - inverse document frequency\n",
        "* helps you determine the most importan words in each document in a corpus\n",
        "* common words should be down-weighted in importance\n",
        "* ensures that most common words don't show up as key --> keep doucment specific frequent words weighted high\n",
        "\n",
        "\n",
        "---\n",
        "\n",
        "* words get low weight if a word occurs often in the document.\n",
        "* wordts get low weight if it occurs in many of the documents.\n",
        "\n",
        "* weights can help you determine good topics and key words for a corpus with shared vocabulary. "
      ],
      "metadata": {
        "id": "Q-hAIw66r2RE"
      }
    },
    {
      "cell_type": "code",
      "source": [
        "episode_list_list.head(6)"
      ],
      "metadata": {
        "colab": {
          "base_uri": "https://localhost:8080/",
          "height": 1000
        },
        "id": "kqmzqLeCH0zz",
        "outputId": "c6522186-e36b-4cbd-9b7d-83a25ed00639"
      },
      "execution_count": 119,
      "outputs": [
        {
          "output_type": "execute_result",
          "data": {
            "text/html": [
              "\n",
              "  <div id=\"df-12fe2e62-8202-41f7-baa3-bf8bb778192f\">\n",
              "    <div class=\"colab-df-container\">\n",
              "      <div>\n",
              "<style scoped>\n",
              "    .dataframe tbody tr th:only-of-type {\n",
              "        vertical-align: middle;\n",
              "    }\n",
              "\n",
              "    .dataframe tbody tr th {\n",
              "        vertical-align: top;\n",
              "    }\n",
              "\n",
              "    .dataframe thead th {\n",
              "        text-align: right;\n",
              "    }\n",
              "</style>\n",
              "<table border=\"1\" class=\"dataframe\">\n",
              "  <thead>\n",
              "    <tr style=\"text-align: right;\">\n",
              "      <th></th>\n",
              "      <th>episode_id</th>\n",
              "      <th>character</th>\n",
              "      <th>line</th>\n",
              "      <th>cleaned_text</th>\n",
              "      <th>list_of_lines</th>\n",
              "    </tr>\n",
              "  </thead>\n",
              "  <tbody>\n",
              "    <tr>\n",
              "      <th>0</th>\n",
              "      <td>1-1</td>\n",
              "      <td>Howard</td>\n",
              "      <td>Wait till you see this. It’s a Stephen Hawking lecture from MIT in 1974. It’s before he became a creepy computer voice Yeah, right, your grandmother back in town? Hang on, there really is a lady here? And you want us out because you’re anticipating coitus? So she’s available for coitus? Enchante Madamoiselle. Howard Wolowitz, Cal-Tech department of Applied Physics. You may be familiar with some of my work, it’s currently orbiting Jupiter’s largest moon taking high-resolution digital photographs. Bon douche. It’s French for good shower. It’s a sentiment I can express in six languages. See-ka-tong-guay-jow. Oh, he speaks English, he just can’t speak to women. He’s kind of a nerd. Juice box? This is one of my favourite places to kick back after a quest, they have a great house ale. Yeah, I’ve had him since level ten. His name is Buttons. Anyway, if you had your own game character we could hang out, maybe go on a quest. So you’ll think about it? Turn left on Lake Street and head up to Colorado. I know a wonderful little sushi bar that has karaoke. Baby, baby don’t get hooked on me. Uh, baby, baby don’t get hooked on me.</td>\n",
              "      <td>wait till see stephen hawking lecture mit become creepy computer voice yeah right grandmother back town hang really lady want anticipate coitus available coitus enchante madamoiselle howard wolowitz cal tech department applied physics may familiar work currently orbit jupiter large moon take high resolution digital photograph bon douche french good shower sentiment express six language see ka tong guay jow oh speak english speak woman kind nerd juice box one favourite place kick back quest great house ale yeah since level ten name button anyway game character could hang maybe go quest think turn leave lake street head colorado know wonderful little sushi bar karaoke baby baby get hooked uh baby baby get hooked</td>\n",
              "      <td>[wait, till, see, stephen, hawking, lecture, mit, become, creepy, computer, voice, yeah, right, grandmother, back, town, hang, really, lady, want, anticipate, coitus, available, coitus, enchante, madamoiselle, howard, wolowitz, cal, tech, department, applied, physics, may, familiar, work, currently, orbit, jupiter, large, moon, take, high, resolution, digital, photograph, bon, douche, french, good, shower, sentiment, express, six, language, see, ka, tong, guay, jow, oh, speak, english, speak, woman, kind, nerd, juice, box, one, favourite, place, kick, back, quest, great, house, ale, yeah, since, level, ten, name, button, anyway, game, character, could, hang, maybe, go, quest, think, turn, leave, lake, street, head, colorado, know, ...]</td>\n",
              "    </tr>\n",
              "    <tr>\n",
              "      <th>1</th>\n",
              "      <td>1-1</td>\n",
              "      <td>Leonard</td>\n",
              "      <td>Agreed, what’s your point? Excuse me? One across is Aegean, eight down is Nabakov, twenty-six across is MCM, fourteen down is… move your finger… phylum, which makes fourteen across Port-au-Prince. See, Papa Doc’s capital idea, that’s Port-au-Prince. Haiti. Yes. Um, is this the High IQ sperm bank? Thank-you. We’ll be right back. What, are you kidding? You’re a semi-pro. Sheldon, this was your idea. A little extra money to get fractional T1 bandwidth in the apartment. I’m sure she’ll still love him. Well, what do you want to do? Okay. I don’t know, I’ve never reneged on a proffer of sperm before. Okay. See you. No. Not really. I don’t care. Two millimetres? That doesn’t seem right. Is that why they sent you to boarding school? New neighbour? Significant improvement over the old neighbour. Hi. Hi. We don’t mean to interrupt, we live across the hall. Oh… uh… no… we don’t live together… um… we live together but in separate, heterosexual bedrooms. Leonard, Sheldon. Hi. Hi. Well, uh, oh, welcome to the building. Oh, great. Great. Well, bye. Bye. Should we have invited her for lunch? We already watched the Season Two DVDs. I think we should be good neighbours, invite her over, make her feel welcome. Well, then that was wrong of us. We need to widen our circle. Yes, and you’ve never met one of them. I’m going to invite her over. We’ll have a nice meal and chat. Well it’s not difficult, you just listen to what she says and then you say something appropriate in response. Hi. Again. Hi. Anyway, um. We brought home Indian food. And, um. I know that moving can be stressful, and I find that when I’m undergoing stress, that good food and company can have a comforting effect. Also, curry is a natural laxative, and I don’t have to tell you that, uh, a clean colon is just one less thing to worry about. Uh, yes. Great. Okay, well, make yourself at home. You’re very welcome. I have a board. If you like boards, this is my board. What? At least I didn’t have to invent twenty-six dimensions just to make the math come out. In what universe? Here we go. Just sit somewhere else. Sheldon, sit!&lt;br/&gt; Well this is nice. We don’t have a lot of company over. Yes I now, but… Yes, I remember. I’m sorry. I said I’m sorry. Yeah, it’s like regular boggle but, in Klingon. That’s probably enough about us, tell us about you. I think what Sheldon’s trying to say, is that Sagittarius wouldn’t have been our first guess. Wu-uh, do you have some sort of a job? Oh, okay. I love cheesecake. I don’t eat it, I just think it’s a good idea. So it’s based on your life? Well, if that was a movie I would go see it. Well it sounds wonderful. I don’t know. Don’t. Should I say something? I feel like I should say something. No, it’s not crazy it’s, uh, uh, it’s a paradox. And paradoxes are part of nature, think about light. Now if you look at Huygens, light is a wave, as confirmed by the double slit experiments, but then, along comes Albert Einstein and discovers that light behaves like particles too. Well, I didn’t make it worse. Our shower works. No. No. It’s right down the hall. How so? That’s not true, remember at Thanksgiving my grandmother with Alzheimer’s had that episode. The worst part was watching her carve that turkey. Excuse me? Well I’m not trying to have sex with her. What makes you think she wouldn’t have sex with me, I’m a male and she’s a female? I’m not going to engage in hypotheticals here, I’m just trying to be a good neighbour. That’s not to say that if a carnal relationship were to develop that I wouldn’t participate. However briefly. It’s Darth Vader shampoo. (There is a knock on the door.) Luke Skywalker’s the conditioner.&lt;br/&gt; See what? This is not a good time. That’s great, you guys have to go. It’s just not a good time. No. And she’s not a lady, she’s just a new neighbour. Uh-huh. I’m not anticipating coitus. Can we please stop saying coitus? Come on, I’ll show you the trick with the shower. Save it for your blog, Howard. Uh, there it goes, it sticks, I’m sorry. You’re welcome, oh, you’re going to step right, okay, I’ll…. The hair products are Sheldon’s. A favour? Sure, you can ask me a favour, I would do you a favour for you. Oh, I’ll probably say yes. Wow. Must we? She asked me to do her a favour, Sheldon. Which is? That’s a biological impossibility and you didn’t have to come. Come on, you know how it is with break-ups. Wuh, I, I broke up with Joyce Kim. To mend her broken heart. This situation is much less complicated. There’s some kind of dispute between Penny and her ex-boyfriend as to who gets custody of the TV. She just wanted to avoid having a scene with him. No, Sheldon, there’s not going to be a scene. There’s two of us and one of him. I’ll do the talking. Hi, I’m Leonard, this is Sheldon. What did I just…. Uh, we’re here to pick up Penny’s TV. We’re not going to give up just like that. Excuse me, if I were to give up at the first little hitch I never would have been able to identify the fingerprints of string theory in the aftermath of the big bang. Come on, we have a combined IQ of 360, we should be able to figure out how to get into a stupid building. Just grab the door. This is it. (Knocks.) I’ll do the talking. I’m Leonard, this is Sheldon. Oh. We’re scientists. What? I’m sorry. Sheldon, I’m so sorry I dragged you through this. And you were right about my motives, I was hoping to establish a relationship with Penny that might have some day led to sex. Anyway, I’ve learned my lesson. She’s out of my league, I’m done with her, I’ve got my work, one day I’ll win the Nobel Prize and then I’ll die alone. Thank you Sheldon, you’re a good friend. We’re home. Well, your ex-boyfriend sends his regards and I think the rest is fairly self-explanatory. No, it was a valid hypothesis. Really? Great. Our babies will be smart and beautiful. Is Thai food okay with you Penny?</td>\n",
              "      <td>agree point excuse one across aegean eight nabakov twenty six across mcm fourteen move finger phylum make fourteen across port au prince see papa doc capital idea port au prince haiti yes um high iq sperm bank thank right back kid semi pro sheldon idea little extra money get fractional bandwidth apartment sure still love well want okay know never renege proffer sperm okay see really care two millimetre seem right send board school new neighbour significant improvement old neighbour hi hi mean interrupt live across hall oh uh live together um live together separate heterosexual bedroom leonard sheldon hi hi well uh oh welcome building oh great great well bye bye invite lunch already watch season two dvd think good neighbour invite make feel welcome well wrong need widen circle yes never meet one go invite nice meal chat well difficult listen say say something appropriate response hi hi anyway um bring home indian food um know move stressful find undergo stress good food company comforting effect also curry natural laxative tell uh clean colon one less thing worry uh yes great okay well make home welcome board like board board least invent twenty six dimension make math come universe go sit somewhere else sheldon well nice lot company yes yes remember sorry say sorry yeah like regular boggle klingon probably enough tell think sheldon try say sagittarius would first guess wu uh sort job oh okay love cheesecake eat think good idea base life well movie would go see well sound wonderful know say something feel like say something crazy uh uh paradox paradox part nature think light look huygens light wave confirm double slit experiment along come albert einstein discover light behave like particle well make bad shower work right hall true remember thanksgiving grandmother alzheimer episode bad part watch carve turkey excuse well try sex make think would sex male female go engage hypothetical try good neighbour say carnal relationship develop would participate however briefly darth vader shampoo knock door luke skywalker see good time great guy go good time lady new neighbour uh huh anticipate coitus please stop say coitus come show trick shower save blog howard uh go stick sorry welcome oh go step right okay hair product sheldon favour sure ask favour would favour oh probably say yes wow must ask favour sheldon biological impossibility come come know break wuh break joyce kim mend broken heart situation much less complicated kind dispute penny ex boyfriend get custody tv want avoid scene sheldon go scene two one talking hi leonard sheldon uh pick penny tv go give like excuse give first little hitch never would able identify fingerprint stre theory aftermath big bang come combine iq able figure get stupid building grab door knocks talking leonard sheldon oh scientist sorry sheldon sorry drag right motive hope establish relationship penny may day lead sex anyway learn lesson league get work one day win nobel prize die alone thank sheldon good friend home well ex boyfriend send regard think rest fairly self explanatory valid hypothesis really great baby smart beautiful thai food okay penny</td>\n",
              "      <td>[agree, point, excuse, one, across, aegean, eight, nabakov, twenty, six, across, mcm, fourteen, move, finger, phylum, make, fourteen, across, port, au, prince, see, papa, doc, capital, idea, port, au, prince, haiti, yes, um, high, iq, sperm, bank, thank, right, back, kid, semi, pro, sheldon, idea, little, extra, money, get, fractional, bandwidth, apartment, sure, still, love, well, want, okay, know, never, renege, proffer, sperm, okay, see, really, care, two, millimetre, seem, right, send, board, school, new, neighbour, significant, improvement, old, neighbour, hi, hi, mean, interrupt, live, across, hall, oh, uh, live, together, um, live, together, separate, heterosexual, bedroom, leonard, sheldon, hi, ...]</td>\n",
              "    </tr>\n",
              "    <tr>\n",
              "      <th>2</th>\n",
              "      <td>1-1</td>\n",
              "      <td>Other</td>\n",
              "      <td>Hang on. Can I help you? If you have to ask, maybe you shouldn’t be here. Fill these out. Oh, take your time. I’ll just finish my crossword puzzle. Oh wait. Yeah. Get lost. Yeah? How the hell did you get in the building?</td>\n",
              "      <td>hang help ask maybe fill oh take time finish crossword puzzle oh wait yeah get lose yeah hell get building</td>\n",
              "      <td>[hang, help, ask, maybe, fill, oh, take, time, finish, crossword, puzzle, oh, wait, yeah, get, lose, yeah, hell, get, building]</td>\n",
              "    </tr>\n",
              "    <tr>\n",
              "      <th>3</th>\n",
              "      <td>1-1</td>\n",
              "      <td>Penny</td>\n",
              "      <td>Oh, hi! Hi? Oh, that’s nice. Oh, okay, well, guess I’m your new neighbour, Penny. Hi. Hi. Thankyou, maybe we can have coffee sometime. Great. Bye. Hi. Hi. Oh, you’re inviting me over to eat? Oh, that’s so nice, I’d love to. So, what do you guys do for fun around here? Okay, thankyou. This looks like some serious stuff, Leonard, did you do this? Wow. So you’re like, one of those, beautiful mind genius guys. This is really impressive. Holy smokes. Uh, do you guys mind if I start? So, sit next to me. What’s the difference? Do you want me to move? So, Klingon boggle? Um, me, okay, I’m Sagittarius, which probably tells you way more than you need to know. Participate in the what? Oh, yeah, a lot of people think I’m a water sign. Okay, let’s see, what else, oh, I’m a vegetarian, oh, except for fish, and the occasional steak, I love steak. Oh, yeah, I’m a waitress at the Cheesecake Factory. Oh, anyways, I’m also writing a screenplay. It’s about this sensitive girl who comes to L.A. from Lincoln Nebraska to be an actress, and winds up a waitress at the Cheesecake Factory. No, I’m from Omaha. I know, right? Okay, let’s see, what else? Um, that’s about it. That’s the story of Penny. It was. Until I fell in love with a jerk. Oh God, you know, four years I lived with him, four years, that’s like as long as High School. I just, I can’t believe I trusted him.&lt;br/&gt; You want to know the most pathetic part? Even though I hate his lying, cheating guts, I still love him. Is that crazy? Oh, I’m so sorry, I’m such a mess, and on top of everything else I’m all gross from moving and my stupid shower doesn’t even work. Really? Would it be totally weird if I used it? Thanks. You guys are really sweet.&lt;br/&gt; Hey, is there a trick to getting it to switch from tub to shower. Oh. Hi, sorry. Hello! Penny. I work at the Cheesecake Factory. I’m sorry? Okay. Thanks. Hey, Leonard? Um, okay. Can I ask you a favour. It’s okay if you say no. It’s just not the kind of thing you ask a guy you’ve just met. So, you guys work with Leonard and Sheldon at the University? Uh, I’m sorry, do you speak English? Really, why? Wow, cool tiger. Uh, sounds interesting. Oh, I don’t think I’ll be able to stop thinking about it. Oh, my God, what happened? I’m so sorry, I really thought if you guys went instead of me he wouldn’t be such an ass. Really, thank you so much for going and trying you’re, uh, you’re so terrific. Why don’t you put some clothes on, I’ll get my purse and dinner is on me, okay? Sure. So? So? Any ideas Raj? (He just looks at her with a worried expression.) That sounds like fun.</td>\n",
              "      <td>oh hi hi oh nice oh okay well guess new neighbour penny hi hi thankyou maybe coffee sometime great bye hi hi oh invite eat oh nice would love guy fun around okay thankyou look like serious stuff leonard wow like one beautiful mind genius guy really impressive holy smoke uh guy mind start sit next difference want move klingon boggle um okay sagittarius probably tell way need know participate oh yeah lot people think water sign okay let see else oh vegetarian oh except fish occasional steak love steak oh yeah waitress cheesecake factory oh anyways also write screenplay sensitive girl come lincoln nebraska actress wind waitress cheesecake factory omaha know right okay let see else um story penny fall love jerk oh god know four year live four year like long high school believe trust want know pathetic part even though hate lying cheat gut still love crazy oh sorry mess top everything else gross move stupid shower even work really would totally weird use thank guy really hey trick get switch tub shower oh hi sorry hello penny work cheesecake factory sorry okay thank hey leonard um okay ask favour okay say kind thing ask guy meet guy work leonard sheldon university uh sorry speak english really wow cool tiger uh sound interesting oh think able stop think oh god happen sorry really think guy go instead would ass really thank much go try uh terrific put clothe get purse dinner okay sure idea raj look worried expression sound like fun</td>\n",
              "      <td>[oh, hi, hi, oh, nice, oh, okay, well, guess, new, neighbour, penny, hi, hi, thankyou, maybe, coffee, sometime, great, bye, hi, hi, oh, invite, eat, oh, nice, would, love, guy, fun, around, okay, thankyou, look, like, serious, stuff, leonard, wow, like, one, beautiful, mind, genius, guy, really, impressive, holy, smoke, uh, guy, mind, start, sit, next, difference, want, move, klingon, boggle, um, okay, sagittarius, probably, tell, way, need, know, participate, oh, yeah, lot, people, think, water, sign, okay, let, see, else, oh, vegetarian, oh, except, fish, occasional, steak, love, steak, oh, yeah, waitress, cheesecake, factory, oh, anyways, also, write, screenplay, ...]</td>\n",
              "    </tr>\n",
              "    <tr>\n",
              "      <th>4</th>\n",
              "      <td>1-1</td>\n",
              "      <td>Raj</td>\n",
              "      <td>It’s fantastic. Unbelievable. Why? Smooth.</td>\n",
              "      <td>fantastic unbelievable smooth</td>\n",
              "      <td>[fantastic, unbelievable, smooth]</td>\n",
              "    </tr>\n",
              "    <tr>\n",
              "      <th>5</th>\n",
              "      <td>1-1</td>\n",
              "      <td>Sheldon</td>\n",
              "      <td>So if a photon is directed through a plane with two slits in it and either slit is observed it will not go through both slits. If it’s unobserved it will, however, if it’s observed after it’s left the plane but before it hits its target, it will not have gone through both slits. There’s no point, I just think it’s a good idea for a tee-shirt. I think this is the place. Leonard, I don’t think I can do this. No. We are committing genetic fraud. There’s no guarantee that our sperm is going to generate high IQ offspring, think about that. I have a sister with the same basic DNA mix who hostesses at Fuddruckers. I know, and I do yearn for faster downloads, but there’s some poor woman is going to pin her hopes on my sperm, what if she winds up with a toddler who doesn’t know if he should use an integral or a differential to solve the area under a curve. I wouldn’t. I want to leave. What’s the protocol for leaving? Let’s try just walking out. Bye-bye Are you still mad about the sperm bank? You want to hear an interesting thing about stairs? If the height of a single step is off by as little as two millimetres, most people will trip. No, it’s true, I did a series of experiments when I was twelve, my father broke his clavicle. No, that was the result of my work with lasers. Evidently. Two hundred pound transvestite with a skin condition, yes she is. Hi. Hi. Hi. Great. Bye. No. We’re going to start Season Two of Battlestar Galactica. Not with commentary. We never invited Louis-slash-Louise over. I have a very wide circle. I have 212 friends on myspace. That’s the beauty of it. Chat? We don’t chat. At least not offline. To what end? Hi. Leonard, I’m not expert here but I believe in the context of a luncheon invitation, you might want to skip the reference to bowel movements. Well, today we tried masturbating for money. Actually that’s my work. Yeah, well, it’s just some quantum mechanics, with a little string theory doodling around the edges. That part there, that’s just a joke, it’s a spoof of the Bourne-Oppenheimer approximation. Yeah. If by holy smokes you mean a derivative restatement of the kind of stuff you can find scribbled on the wall of any men’s room at MIT, sure. Oh, come on. Who hasn’t seen this differential below “here I sit broken hearted?” I didn’t invent them, they’re there. In all of them, that is the point. Um, Penny, that’s where I sit. No, I sit there. What’s the difference? In the winter that seat is close enough to the radiator to remain warm, and yet not so close as to cause perspiration. In the summer it’s directly in the path of a cross breeze created by open windows there, and there. It faces the television at an angle that is neither direct, thus discouraging conversation, nor so far wide to create a parallax distortion, I could go on, but I think I’ve made my point. Well. Fine. (Wanders in circles, looking lost.) Aaah! That’s not true. Koothrapali and Wolowitz come over all the time. Tuesday night we played Klingon boggle until one in the morning. I resent you saying we don’t have company. That is an antisocial implication. Yes, it tells us that you participate in the mass cultural delusion that the Sun’s apparent position relative to arbitrarily defined constellations and the time of your birth somehow effects your personality. That’s interesting. Leonard can’t process corn. You’re lactose intolerant. What’s happening. It took you four years to get through High School? You? No, you’ll only make it worse. Yes. Yes. No? No. Well this is an interesting development. It has been some time since we’ve had a woman take her clothes off in our apartment. Point taken. It has been some time since we’ve had a woman take her clothes off after which we didn’t want to rip our eyes out. So, what exactly are you trying to accomplish here? That woman in there’s not going to have sex with you. Oh, good. Then you won’t be disappointed. Yes, but not of the same species. Oh, of course. Do you think this possibility will be helped or hindered when she discovers your Luke Skywalker no-more-tears shampoo? Leonard has a lady over. Technically that would be coitus interruptus. I really think we should examine the chain of causality here. Event A. A beautiful woman stands naked in our shower. Event B. We drive half way across town to retrieve a television set from the aforementioned woman’s ex-boyfriend. Query, on what plane of existence is there even a semi-rational link between these events? Ah, yes, well that may be the proximal cause of our journey, but we both know it only exists in contradistinction to the higher level distal cause. You think with your penis. Oh, right, yes, I could have stayed behind and watched Wolowitz try to hit on Penny in Russian, Arabic and Farsi. Why can’t she get her own TV. No I don’t. And neither do you. You did not break up with Joyce Kim, she defected to North Korea. So we get to have a scene with him? Leonard, the two of us can’t even carry a TV. Hello. Okay, thanks for your time. Leonard, the TV is in the building, we’ve been denied access to the building, ergo we are done. My apologies. What’s your plan. It’s just a privilege to watch your mind at work. What do you think their combined IQ is? Good thinking, I’ll just be the muscle. From the intercom. Tell him about our IQ. Leonard. My mom bought me those pants. You’re going to have to call her. It’s okay. It wasn’t my first pantsing, and it won’t be my last. Well you got me out of my pants. Don’t think like that, you’re not going to die alone. And you’re certainly not going to win a Nobel Prize. That was a valid hypothesis? What is happening to you? Thank you. You’re not done with her, are you? Not to mention imaginary. We can’t have Thai food, we had Indian for lunch. They’re both curry based cuisines. They would be gastronomically redundant. I can see we’re going to have to spell out everything for this girl. I don’t know what your odds are in the world as a whole, but as far as the population of this car goes, you’re a veritable Mack Daddy.</td>\n",
              "      <td>photon direct plane two slit either slit observe go slit unobserved however observe leave plane hit target go slit point think good idea tee shirt think place leonard think commit genetic fraud guarantee sperm go generate high iq offspring think sister basic dna mix hostesse fuddrucker know yearn fast download poor woman go pin hope sperm wind toddler know use integral differential solve area curve would want leave protocol leave let try walk bye bye still mad sperm bank want hear interesting thing stair height single step little two millimetre people trip true series experiment twelve father break clavicle result work laser evidently two hundred pound transvestite skin condition yes hi hi hi great bye go start season two battlestar galactica commentary never invite louis slash louise wide circle friend myspace beauty chat chat least offline end hi leonard expert believe context luncheon invitation may want skip reference bowel movement well today try masturbate money actually work yeah well quantum mechanic little string theory doodle around edge part joke spoof bourne oppenheimer approximation yeah holy smoke mean derivative restatement kind stuff find scribble wall man room mit sure oh come see differential sit break hearted invent point um penny sit sit difference winter seat close enough radiator remain warm yet close cause perspiration summer directly path cross breeze create open window face television angle neither direct thus discourage conversation far wide create parallax distortion could go think make point well fine wander circle look lose aaah true koothrapali wolowitz come time tuesday night play klingon boggle one morning resent say company antisocial implication yes tell participate mass cultural delusion sun apparent position relative arbitrarily define constellation time birth somehow effect personality interesting leonard process corn lactose intolerant happen take four year get high school make bad yes yes well interesting development time since woman take clothe apartment point take time since woman take clothe want rip eye exactly try accomplish woman go sex oh good disappoint yes specie oh course think possibility help hinder discover luke skywalker tear shampoo leonard lady technically would coitus interruptus really think examine chain causality event beautiful woman stand naked shower event drive half way across town retrieve television set aforementioned woman ex boyfriend query plane existence even semi rational link event ah yes well may proximal cause journey know exist contradistinction high level distal cause think penis oh right yes could stay behind watch wolowitz try hit penny russian arabic farsi get tv neither break joyce kim defect north korea get scene leonard two even carry tv hello okay thank time leonard tv building deny access building ergo apology plan privilege watch mind work think combine iq good thinking muscle intercom tell iq leonard mom buy pant go call okay first pantsing last well get pant think like go die alone certainly go win nobel prize valid hypothesis happen thank mention imaginary thai food indian lunch curry base cuisine would gastronomically redundant see go spell everything girl know odd world whole far population car go veritable mack daddy</td>\n",
              "      <td>[photon, direct, plane, two, slit, either, slit, observe, go, slit, unobserved, however, observe, leave, plane, hit, target, go, slit, point, think, good, idea, tee, shirt, think, place, leonard, think, commit, genetic, fraud, guarantee, sperm, go, generate, high, iq, offspring, think, sister, basic, dna, mix, hostesse, fuddrucker, know, yearn, fast, download, poor, woman, go, pin, hope, sperm, wind, toddler, know, use, integral, differential, solve, area, curve, would, want, leave, protocol, leave, let, try, walk, bye, bye, still, mad, sperm, bank, want, hear, interesting, thing, stair, height, single, step, little, two, millimetre, people, trip, true, series, experiment, twelve, father, break, clavicle, result, ...]</td>\n",
              "    </tr>\n",
              "  </tbody>\n",
              "</table>\n",
              "</div>\n",
              "      <button class=\"colab-df-convert\" onclick=\"convertToInteractive('df-12fe2e62-8202-41f7-baa3-bf8bb778192f')\"\n",
              "              title=\"Convert this dataframe to an interactive table.\"\n",
              "              style=\"display:none;\">\n",
              "        \n",
              "  <svg xmlns=\"http://www.w3.org/2000/svg\" height=\"24px\"viewBox=\"0 0 24 24\"\n",
              "       width=\"24px\">\n",
              "    <path d=\"M0 0h24v24H0V0z\" fill=\"none\"/>\n",
              "    <path d=\"M18.56 5.44l.94 2.06.94-2.06 2.06-.94-2.06-.94-.94-2.06-.94 2.06-2.06.94zm-11 1L8.5 8.5l.94-2.06 2.06-.94-2.06-.94L8.5 2.5l-.94 2.06-2.06.94zm10 10l.94 2.06.94-2.06 2.06-.94-2.06-.94-.94-2.06-.94 2.06-2.06.94z\"/><path d=\"M17.41 7.96l-1.37-1.37c-.4-.4-.92-.59-1.43-.59-.52 0-1.04.2-1.43.59L10.3 9.45l-7.72 7.72c-.78.78-.78 2.05 0 2.83L4 21.41c.39.39.9.59 1.41.59.51 0 1.02-.2 1.41-.59l7.78-7.78 2.81-2.81c.8-.78.8-2.07 0-2.86zM5.41 20L4 18.59l7.72-7.72 1.47 1.35L5.41 20z\"/>\n",
              "  </svg>\n",
              "      </button>\n",
              "      \n",
              "  <style>\n",
              "    .colab-df-container {\n",
              "      display:flex;\n",
              "      flex-wrap:wrap;\n",
              "      gap: 12px;\n",
              "    }\n",
              "\n",
              "    .colab-df-convert {\n",
              "      background-color: #E8F0FE;\n",
              "      border: none;\n",
              "      border-radius: 50%;\n",
              "      cursor: pointer;\n",
              "      display: none;\n",
              "      fill: #1967D2;\n",
              "      height: 32px;\n",
              "      padding: 0 0 0 0;\n",
              "      width: 32px;\n",
              "    }\n",
              "\n",
              "    .colab-df-convert:hover {\n",
              "      background-color: #E2EBFA;\n",
              "      box-shadow: 0px 1px 2px rgba(60, 64, 67, 0.3), 0px 1px 3px 1px rgba(60, 64, 67, 0.15);\n",
              "      fill: #174EA6;\n",
              "    }\n",
              "\n",
              "    [theme=dark] .colab-df-convert {\n",
              "      background-color: #3B4455;\n",
              "      fill: #D2E3FC;\n",
              "    }\n",
              "\n",
              "    [theme=dark] .colab-df-convert:hover {\n",
              "      background-color: #434B5C;\n",
              "      box-shadow: 0px 1px 3px 1px rgba(0, 0, 0, 0.15);\n",
              "      filter: drop-shadow(0px 1px 2px rgba(0, 0, 0, 0.3));\n",
              "      fill: #FFFFFF;\n",
              "    }\n",
              "  </style>\n",
              "\n",
              "      <script>\n",
              "        const buttonEl =\n",
              "          document.querySelector('#df-12fe2e62-8202-41f7-baa3-bf8bb778192f button.colab-df-convert');\n",
              "        buttonEl.style.display =\n",
              "          google.colab.kernel.accessAllowed ? 'block' : 'none';\n",
              "\n",
              "        async function convertToInteractive(key) {\n",
              "          const element = document.querySelector('#df-12fe2e62-8202-41f7-baa3-bf8bb778192f');\n",
              "          const dataTable =\n",
              "            await google.colab.kernel.invokeFunction('convertToInteractive',\n",
              "                                                     [key], {});\n",
              "          if (!dataTable) return;\n",
              "\n",
              "          const docLinkHtml = 'Like what you see? Visit the ' +\n",
              "            '<a target=\"_blank\" href=https://colab.research.google.com/notebooks/data_table.ipynb>data table notebook</a>'\n",
              "            + ' to learn more about interactive tables.';\n",
              "          element.innerHTML = '';\n",
              "          dataTable['output_type'] = 'display_data';\n",
              "          await google.colab.output.renderOutput(dataTable, element);\n",
              "          const docLink = document.createElement('div');\n",
              "          docLink.innerHTML = docLinkHtml;\n",
              "          element.appendChild(docLink);\n",
              "        }\n",
              "      </script>\n",
              "    </div>\n",
              "  </div>\n",
              "  "
            ],
            "text/plain": [
              "  episode_id character  \\\n",
              "0        1-1    Howard   \n",
              "1        1-1   Leonard   \n",
              "2        1-1     Other   \n",
              "3        1-1     Penny   \n",
              "4        1-1       Raj   \n",
              "5        1-1   Sheldon   \n",
              "\n",
              "                                                                                                                                                                                                                                                                                                                                                                                                                                                                                                                                                                                                                                                                                                                                                                                                                                                                                                                                                                                                                                                                                                                                                                                                                                                                                                                                                                                                                                                                                                                                                                                                                                                                                                                                                                                                                                                                                                                                                                                                                                                                                                                                                                                                                                                                                                                                                                                                                                                                                                                                                                                                                                                                                                                                                                                                                                                                                                                                                                                                                                                                                                                                                                                                                                                                                                                                                                                                                                                                                                                                                                                                                                                                                                                                                                                                                                                                                                                                                                                                                                                                                                                                                                                                                                                                                                                                                                                                                                                                                                                                                                                                                                                                                                                                                                                                                                                                                                                                                                                                                                                                                                                                                                                                                                                                                                                                                                                                                                                                                                                                                                                                                                                                                                                                                                                                                                                                                                                                                                                                                                                                                                                                                                                                                                                                                   line  \\\n",
              "0                                                                                                                                                                                                                                                                                                                                                                                                                                                                                                                                                                                                                                                                                                                                                                                                                                                                                                                                                                                                                                                                                                                                                                                                                                                                                                                                                                                                                                                                                                                                                                                                                                                                                                                                                                                                                                                                                                                                                                                                                                                                                                                                                                                                                                                                                                                                                                                                                                                                                                                                                                                                                                                                                                                                                                                                                                                                                                                                                                                                                                                                                                                                                                                                                                                                                                                                                                                                                                                                                                                                                                                                                                                                                                                                                                                                                                                                                                                                                                                                                                                                                                                                                                                                                                                                                                                                                                                                                                                                                                                                                                                                                                                                                                                                                                                                                                                                                                                                                                                                                                                                                                         Wait till you see this. It’s a Stephen Hawking lecture from MIT in 1974. It’s before he became a creepy computer voice Yeah, right, your grandmother back in town? Hang on, there really is a lady here? And you want us out because you’re anticipating coitus? So she’s available for coitus? Enchante Madamoiselle. Howard Wolowitz, Cal-Tech department of Applied Physics. You may be familiar with some of my work, it’s currently orbiting Jupiter’s largest moon taking high-resolution digital photographs. Bon douche. It’s French for good shower. It’s a sentiment I can express in six languages. See-ka-tong-guay-jow. Oh, he speaks English, he just can’t speak to women. He’s kind of a nerd. Juice box? This is one of my favourite places to kick back after a quest, they have a great house ale. Yeah, I’ve had him since level ten. His name is Buttons. Anyway, if you had your own game character we could hang out, maybe go on a quest. So you’ll think about it? Turn left on Lake Street and head up to Colorado. I know a wonderful little sushi bar that has karaoke. Baby, baby don’t get hooked on me. Uh, baby, baby don’t get hooked on me.   \n",
              "1                                                                                                                                                                                          Agreed, what’s your point? Excuse me? One across is Aegean, eight down is Nabakov, twenty-six across is MCM, fourteen down is… move your finger… phylum, which makes fourteen across Port-au-Prince. See, Papa Doc’s capital idea, that’s Port-au-Prince. Haiti. Yes. Um, is this the High IQ sperm bank? Thank-you. We’ll be right back. What, are you kidding? You’re a semi-pro. Sheldon, this was your idea. A little extra money to get fractional T1 bandwidth in the apartment. I’m sure she’ll still love him. Well, what do you want to do? Okay. I don’t know, I’ve never reneged on a proffer of sperm before. Okay. See you. No. Not really. I don’t care. Two millimetres? That doesn’t seem right. Is that why they sent you to boarding school? New neighbour? Significant improvement over the old neighbour. Hi. Hi. We don’t mean to interrupt, we live across the hall. Oh… uh… no… we don’t live together… um… we live together but in separate, heterosexual bedrooms. Leonard, Sheldon. Hi. Hi. Well, uh, oh, welcome to the building. Oh, great. Great. Well, bye. Bye. Should we have invited her for lunch? We already watched the Season Two DVDs. I think we should be good neighbours, invite her over, make her feel welcome. Well, then that was wrong of us. We need to widen our circle. Yes, and you’ve never met one of them. I’m going to invite her over. We’ll have a nice meal and chat. Well it’s not difficult, you just listen to what she says and then you say something appropriate in response. Hi. Again. Hi. Anyway, um. We brought home Indian food. And, um. I know that moving can be stressful, and I find that when I’m undergoing stress, that good food and company can have a comforting effect. Also, curry is a natural laxative, and I don’t have to tell you that, uh, a clean colon is just one less thing to worry about. Uh, yes. Great. Okay, well, make yourself at home. You’re very welcome. I have a board. If you like boards, this is my board. What? At least I didn’t have to invent twenty-six dimensions just to make the math come out. In what universe? Here we go. Just sit somewhere else. Sheldon, sit!<br/> Well this is nice. We don’t have a lot of company over. Yes I now, but… Yes, I remember. I’m sorry. I said I’m sorry. Yeah, it’s like regular boggle but, in Klingon. That’s probably enough about us, tell us about you. I think what Sheldon’s trying to say, is that Sagittarius wouldn’t have been our first guess. Wu-uh, do you have some sort of a job? Oh, okay. I love cheesecake. I don’t eat it, I just think it’s a good idea. So it’s based on your life? Well, if that was a movie I would go see it. Well it sounds wonderful. I don’t know. Don’t. Should I say something? I feel like I should say something. No, it’s not crazy it’s, uh, uh, it’s a paradox. And paradoxes are part of nature, think about light. Now if you look at Huygens, light is a wave, as confirmed by the double slit experiments, but then, along comes Albert Einstein and discovers that light behaves like particles too. Well, I didn’t make it worse. Our shower works. No. No. It’s right down the hall. How so? That’s not true, remember at Thanksgiving my grandmother with Alzheimer’s had that episode. The worst part was watching her carve that turkey. Excuse me? Well I’m not trying to have sex with her. What makes you think she wouldn’t have sex with me, I’m a male and she’s a female? I’m not going to engage in hypotheticals here, I’m just trying to be a good neighbour. That’s not to say that if a carnal relationship were to develop that I wouldn’t participate. However briefly. It’s Darth Vader shampoo. (There is a knock on the door.) Luke Skywalker’s the conditioner.<br/> See what? This is not a good time. That’s great, you guys have to go. It’s just not a good time. No. And she’s not a lady, she’s just a new neighbour. Uh-huh. I’m not anticipating coitus. Can we please stop saying coitus? Come on, I’ll show you the trick with the shower. Save it for your blog, Howard. Uh, there it goes, it sticks, I’m sorry. You’re welcome, oh, you’re going to step right, okay, I’ll…. The hair products are Sheldon’s. A favour? Sure, you can ask me a favour, I would do you a favour for you. Oh, I’ll probably say yes. Wow. Must we? She asked me to do her a favour, Sheldon. Which is? That’s a biological impossibility and you didn’t have to come. Come on, you know how it is with break-ups. Wuh, I, I broke up with Joyce Kim. To mend her broken heart. This situation is much less complicated. There’s some kind of dispute between Penny and her ex-boyfriend as to who gets custody of the TV. She just wanted to avoid having a scene with him. No, Sheldon, there’s not going to be a scene. There’s two of us and one of him. I’ll do the talking. Hi, I’m Leonard, this is Sheldon. What did I just…. Uh, we’re here to pick up Penny’s TV. We’re not going to give up just like that. Excuse me, if I were to give up at the first little hitch I never would have been able to identify the fingerprints of string theory in the aftermath of the big bang. Come on, we have a combined IQ of 360, we should be able to figure out how to get into a stupid building. Just grab the door. This is it. (Knocks.) I’ll do the talking. I’m Leonard, this is Sheldon. Oh. We’re scientists. What? I’m sorry. Sheldon, I’m so sorry I dragged you through this. And you were right about my motives, I was hoping to establish a relationship with Penny that might have some day led to sex. Anyway, I’ve learned my lesson. She’s out of my league, I’m done with her, I’ve got my work, one day I’ll win the Nobel Prize and then I’ll die alone. Thank you Sheldon, you’re a good friend. We’re home. Well, your ex-boyfriend sends his regards and I think the rest is fairly self-explanatory. No, it was a valid hypothesis. Really? Great. Our babies will be smart and beautiful. Is Thai food okay with you Penny?   \n",
              "2                                                                                                                                                                                                                                                                                                                                                                                                                                                                                                                                                                                                                                                                                                                                                                                                                                                                                                                                                                                                                                                                                                                                                                                                                                                                                                                                                                                                                                                                                                                                                                                                                                                                                                                                                                                                                                                                                                                                                                                                                                                                                                                                                                                                                                                                                                                                                                                                                                                                                                                                                                                                                                                                                                                                                                                                                                                                                                                                                                                                                                                                                                                                                                                                                                                                                                                                                                                                                                                                                                                                                                                                                                                                                                                                                                                                                                                                                                                                                                                                                                                                                                                                                                                                                                                                                                                                                                                                                                                                                                                                                                                                                                                                                                                                                                                                                                                                                                                                                                                                                                                                                                                                                                                                                                                                                                                                                                                                                                                                                                                                                                                                                                                                                                                                                                                                                                                                                                                                                                                                                                                          Hang on. Can I help you? If you have to ask, maybe you shouldn’t be here. Fill these out. Oh, take your time. I’ll just finish my crossword puzzle. Oh wait. Yeah. Get lost. Yeah? How the hell did you get in the building?   \n",
              "3                                                                                                                                                                                                                                                                                                                                                                                                                                                                                                                                                                                                                                                                                                                                                                                                                                                                                                                                                                                                                                                                                                                                                                                                                                                                                                                                                                                                                                                                                                                                                                                                                                                                                                                                                                                                                                                                                                                                                                                                                                                                                                                                                                                                                                                                                                                                                                                                                                                                                                                                                                                                                                                                                                                                                                                                                                                                                                                                                                                                                                                                                                                                                                                                                                                                                                                                                                                                                                                                                                                                                                                           Oh, hi! Hi? Oh, that’s nice. Oh, okay, well, guess I’m your new neighbour, Penny. Hi. Hi. Thankyou, maybe we can have coffee sometime. Great. Bye. Hi. Hi. Oh, you’re inviting me over to eat? Oh, that’s so nice, I’d love to. So, what do you guys do for fun around here? Okay, thankyou. This looks like some serious stuff, Leonard, did you do this? Wow. So you’re like, one of those, beautiful mind genius guys. This is really impressive. Holy smokes. Uh, do you guys mind if I start? So, sit next to me. What’s the difference? Do you want me to move? So, Klingon boggle? Um, me, okay, I’m Sagittarius, which probably tells you way more than you need to know. Participate in the what? Oh, yeah, a lot of people think I’m a water sign. Okay, let’s see, what else, oh, I’m a vegetarian, oh, except for fish, and the occasional steak, I love steak. Oh, yeah, I’m a waitress at the Cheesecake Factory. Oh, anyways, I’m also writing a screenplay. It’s about this sensitive girl who comes to L.A. from Lincoln Nebraska to be an actress, and winds up a waitress at the Cheesecake Factory. No, I’m from Omaha. I know, right? Okay, let’s see, what else? Um, that’s about it. That’s the story of Penny. It was. Until I fell in love with a jerk. Oh God, you know, four years I lived with him, four years, that’s like as long as High School. I just, I can’t believe I trusted him.<br/> You want to know the most pathetic part? Even though I hate his lying, cheating guts, I still love him. Is that crazy? Oh, I’m so sorry, I’m such a mess, and on top of everything else I’m all gross from moving and my stupid shower doesn’t even work. Really? Would it be totally weird if I used it? Thanks. You guys are really sweet.<br/> Hey, is there a trick to getting it to switch from tub to shower. Oh. Hi, sorry. Hello! Penny. I work at the Cheesecake Factory. I’m sorry? Okay. Thanks. Hey, Leonard? Um, okay. Can I ask you a favour. It’s okay if you say no. It’s just not the kind of thing you ask a guy you’ve just met. So, you guys work with Leonard and Sheldon at the University? Uh, I’m sorry, do you speak English? Really, why? Wow, cool tiger. Uh, sounds interesting. Oh, I don’t think I’ll be able to stop thinking about it. Oh, my God, what happened? I’m so sorry, I really thought if you guys went instead of me he wouldn’t be such an ass. Really, thank you so much for going and trying you’re, uh, you’re so terrific. Why don’t you put some clothes on, I’ll get my purse and dinner is on me, okay? Sure. So? So? Any ideas Raj? (He just looks at her with a worried expression.) That sounds like fun.   \n",
              "4                                                                                                                                                                                                                                                                                                                                                                                                                                                                                                                                                                                                                                                                                                                                                                                                                                                                                                                                                                                                                                                                                                                                                                                                                                                                                                                                                                                                                                                                                                                                                                                                                                                                                                                                                                                                                                                                                                                                                                                                                                                                                                                                                                                                                                                                                                                                                                                                                                                                                                                                                                                                                                                                                                                                                                                                                                                                                                                                                                                                                                                                                                                                                                                                                                                                                                                                                                                                                                                                                                                                                                                                                                                                                                                                                                                                                                                                                                                                                                                                                                                                                                                                                                                                                                                                                                                                                                                                                                                                                                                                                                                                                                                                                                                                                                                                                                                                                                                                                                                                                                                                                                                                                                                                                                                                                                                                                                                                                                                                                                                                                                                                                                                                                                                                                                                                                                                                                                                                                                                                                                                                                                                                                                                                                                            It’s fantastic. Unbelievable. Why? Smooth.   \n",
              "5  So if a photon is directed through a plane with two slits in it and either slit is observed it will not go through both slits. If it’s unobserved it will, however, if it’s observed after it’s left the plane but before it hits its target, it will not have gone through both slits. There’s no point, I just think it’s a good idea for a tee-shirt. I think this is the place. Leonard, I don’t think I can do this. No. We are committing genetic fraud. There’s no guarantee that our sperm is going to generate high IQ offspring, think about that. I have a sister with the same basic DNA mix who hostesses at Fuddruckers. I know, and I do yearn for faster downloads, but there’s some poor woman is going to pin her hopes on my sperm, what if she winds up with a toddler who doesn’t know if he should use an integral or a differential to solve the area under a curve. I wouldn’t. I want to leave. What’s the protocol for leaving? Let’s try just walking out. Bye-bye Are you still mad about the sperm bank? You want to hear an interesting thing about stairs? If the height of a single step is off by as little as two millimetres, most people will trip. No, it’s true, I did a series of experiments when I was twelve, my father broke his clavicle. No, that was the result of my work with lasers. Evidently. Two hundred pound transvestite with a skin condition, yes she is. Hi. Hi. Hi. Great. Bye. No. We’re going to start Season Two of Battlestar Galactica. Not with commentary. We never invited Louis-slash-Louise over. I have a very wide circle. I have 212 friends on myspace. That’s the beauty of it. Chat? We don’t chat. At least not offline. To what end? Hi. Leonard, I’m not expert here but I believe in the context of a luncheon invitation, you might want to skip the reference to bowel movements. Well, today we tried masturbating for money. Actually that’s my work. Yeah, well, it’s just some quantum mechanics, with a little string theory doodling around the edges. That part there, that’s just a joke, it’s a spoof of the Bourne-Oppenheimer approximation. Yeah. If by holy smokes you mean a derivative restatement of the kind of stuff you can find scribbled on the wall of any men’s room at MIT, sure. Oh, come on. Who hasn’t seen this differential below “here I sit broken hearted?” I didn’t invent them, they’re there. In all of them, that is the point. Um, Penny, that’s where I sit. No, I sit there. What’s the difference? In the winter that seat is close enough to the radiator to remain warm, and yet not so close as to cause perspiration. In the summer it’s directly in the path of a cross breeze created by open windows there, and there. It faces the television at an angle that is neither direct, thus discouraging conversation, nor so far wide to create a parallax distortion, I could go on, but I think I’ve made my point. Well. Fine. (Wanders in circles, looking lost.) Aaah! That’s not true. Koothrapali and Wolowitz come over all the time. Tuesday night we played Klingon boggle until one in the morning. I resent you saying we don’t have company. That is an antisocial implication. Yes, it tells us that you participate in the mass cultural delusion that the Sun’s apparent position relative to arbitrarily defined constellations and the time of your birth somehow effects your personality. That’s interesting. Leonard can’t process corn. You’re lactose intolerant. What’s happening. It took you four years to get through High School? You? No, you’ll only make it worse. Yes. Yes. No? No. Well this is an interesting development. It has been some time since we’ve had a woman take her clothes off in our apartment. Point taken. It has been some time since we’ve had a woman take her clothes off after which we didn’t want to rip our eyes out. So, what exactly are you trying to accomplish here? That woman in there’s not going to have sex with you. Oh, good. Then you won’t be disappointed. Yes, but not of the same species. Oh, of course. Do you think this possibility will be helped or hindered when she discovers your Luke Skywalker no-more-tears shampoo? Leonard has a lady over. Technically that would be coitus interruptus. I really think we should examine the chain of causality here. Event A. A beautiful woman stands naked in our shower. Event B. We drive half way across town to retrieve a television set from the aforementioned woman’s ex-boyfriend. Query, on what plane of existence is there even a semi-rational link between these events? Ah, yes, well that may be the proximal cause of our journey, but we both know it only exists in contradistinction to the higher level distal cause. You think with your penis. Oh, right, yes, I could have stayed behind and watched Wolowitz try to hit on Penny in Russian, Arabic and Farsi. Why can’t she get her own TV. No I don’t. And neither do you. You did not break up with Joyce Kim, she defected to North Korea. So we get to have a scene with him? Leonard, the two of us can’t even carry a TV. Hello. Okay, thanks for your time. Leonard, the TV is in the building, we’ve been denied access to the building, ergo we are done. My apologies. What’s your plan. It’s just a privilege to watch your mind at work. What do you think their combined IQ is? Good thinking, I’ll just be the muscle. From the intercom. Tell him about our IQ. Leonard. My mom bought me those pants. You’re going to have to call her. It’s okay. It wasn’t my first pantsing, and it won’t be my last. Well you got me out of my pants. Don’t think like that, you’re not going to die alone. And you’re certainly not going to win a Nobel Prize. That was a valid hypothesis? What is happening to you? Thank you. You’re not done with her, are you? Not to mention imaginary. We can’t have Thai food, we had Indian for lunch. They’re both curry based cuisines. They would be gastronomically redundant. I can see we’re going to have to spell out everything for this girl. I don’t know what your odds are in the world as a whole, but as far as the population of this car goes, you’re a veritable Mack Daddy.   \n",
              "\n",
              "                                                                                                                                                                                                                                                                                                                                                                                                                                                                                                                                                                                                                                                                                                                                                                                                                                                                                                                                                                                                                                                                                                                                                                                                                                                                                                                                                                                                                                                                                                                                                                                                                                                                                                                                                                                                                                                                                                                                                                                                                                                                                                                                                                                                                                                                                                                                                                                                                                                                                                                                                                                                                                                                                                                                                                                                                                                                                                                                                                                                                                                                                                                                                                                                                                                                                                                                                                                       cleaned_text  \\\n",
              "0                                                                                                                                                                                                                                                                                                                                                                                                                                                                                                                                                                                                                                                                                                                                                                                                                                                                                                                                                                                                                                                                                                                                                                                                                                                                                                                                                                                                                                                                                                                                                                                                                                                                                                                                                                                                                                                                                                                                                                                                                                                                                                                                                                                                                                                                                                                                                                                                                                                                                                                                                                                                                                                   wait till see stephen hawking lecture mit become creepy computer voice yeah right grandmother back town hang really lady want anticipate coitus available coitus enchante madamoiselle howard wolowitz cal tech department applied physics may familiar work currently orbit jupiter large moon take high resolution digital photograph bon douche french good shower sentiment express six language see ka tong guay jow oh speak english speak woman kind nerd juice box one favourite place kick back quest great house ale yeah since level ten name button anyway game character could hang maybe go quest think turn leave lake street head colorado know wonderful little sushi bar karaoke baby baby get hooked uh baby baby get hooked   \n",
              "1                                                                                                                                   agree point excuse one across aegean eight nabakov twenty six across mcm fourteen move finger phylum make fourteen across port au prince see papa doc capital idea port au prince haiti yes um high iq sperm bank thank right back kid semi pro sheldon idea little extra money get fractional bandwidth apartment sure still love well want okay know never renege proffer sperm okay see really care two millimetre seem right send board school new neighbour significant improvement old neighbour hi hi mean interrupt live across hall oh uh live together um live together separate heterosexual bedroom leonard sheldon hi hi well uh oh welcome building oh great great well bye bye invite lunch already watch season two dvd think good neighbour invite make feel welcome well wrong need widen circle yes never meet one go invite nice meal chat well difficult listen say say something appropriate response hi hi anyway um bring home indian food um know move stressful find undergo stress good food company comforting effect also curry natural laxative tell uh clean colon one less thing worry uh yes great okay well make home welcome board like board board least invent twenty six dimension make math come universe go sit somewhere else sheldon well nice lot company yes yes remember sorry say sorry yeah like regular boggle klingon probably enough tell think sheldon try say sagittarius would first guess wu uh sort job oh okay love cheesecake eat think good idea base life well movie would go see well sound wonderful know say something feel like say something crazy uh uh paradox paradox part nature think light look huygens light wave confirm double slit experiment along come albert einstein discover light behave like particle well make bad shower work right hall true remember thanksgiving grandmother alzheimer episode bad part watch carve turkey excuse well try sex make think would sex male female go engage hypothetical try good neighbour say carnal relationship develop would participate however briefly darth vader shampoo knock door luke skywalker see good time great guy go good time lady new neighbour uh huh anticipate coitus please stop say coitus come show trick shower save blog howard uh go stick sorry welcome oh go step right okay hair product sheldon favour sure ask favour would favour oh probably say yes wow must ask favour sheldon biological impossibility come come know break wuh break joyce kim mend broken heart situation much less complicated kind dispute penny ex boyfriend get custody tv want avoid scene sheldon go scene two one talking hi leonard sheldon uh pick penny tv go give like excuse give first little hitch never would able identify fingerprint stre theory aftermath big bang come combine iq able figure get stupid building grab door knocks talking leonard sheldon oh scientist sorry sheldon sorry drag right motive hope establish relationship penny may day lead sex anyway learn lesson league get work one day win nobel prize die alone thank sheldon good friend home well ex boyfriend send regard think rest fairly self explanatory valid hypothesis really great baby smart beautiful thai food okay penny   \n",
              "2                                                                                                                                                                                                                                                                                                                                                                                                                                                                                                                                                                                                                                                                                                                                                                                                                                                                                                                                                                                                                                                                                                                                                                                                                                                                                                                                                                                                                                                                                                                                                                                                                                                                                                                                                                                                                                                                                                                                                                                                                                                                                                                                                                                                                                                                                                                                                                                                                                                                                                                                                                                                                                                                                                                                                                                                                                                                                                                                                                                                                                                                                                                                                                                                                                                                                        hang help ask maybe fill oh take time finish crossword puzzle oh wait yeah get lose yeah hell get building   \n",
              "3                                                                                                                                                                                                                                                                                                                                                                                                                                                                                                                                                                                                                                                                                                                                                                                                                                                                                                                                                                                                                                                                                                                                                                                                                                                                                                                                                                                                                                                                                                                                                                                                                                                                                                                                                                                                                                                                                         oh hi hi oh nice oh okay well guess new neighbour penny hi hi thankyou maybe coffee sometime great bye hi hi oh invite eat oh nice would love guy fun around okay thankyou look like serious stuff leonard wow like one beautiful mind genius guy really impressive holy smoke uh guy mind start sit next difference want move klingon boggle um okay sagittarius probably tell way need know participate oh yeah lot people think water sign okay let see else oh vegetarian oh except fish occasional steak love steak oh yeah waitress cheesecake factory oh anyways also write screenplay sensitive girl come lincoln nebraska actress wind waitress cheesecake factory omaha know right okay let see else um story penny fall love jerk oh god know four year live four year like long high school believe trust want know pathetic part even though hate lying cheat gut still love crazy oh sorry mess top everything else gross move stupid shower even work really would totally weird use thank guy really hey trick get switch tub shower oh hi sorry hello penny work cheesecake factory sorry okay thank hey leonard um okay ask favour okay say kind thing ask guy meet guy work leonard sheldon university uh sorry speak english really wow cool tiger uh sound interesting oh think able stop think oh god happen sorry really think guy go instead would ass really thank much go try uh terrific put clothe get purse dinner okay sure idea raj look worried expression sound like fun   \n",
              "4                                                                                                                                                                                                                                                                                                                                                                                                                                                                                                                                                                                                                                                                                                                                                                                                                                                                                                                                                                                                                                                                                                                                                                                                                                                                                                                                                                                                                                                                                                                                                                                                                                                                                                                                                                                                                                                                                                                                                                                                                                                                                                                                                                                                                                                                                                                                                                                                                                                                                                                                                                                                                                                                                                                                                                                                                                                                                                                                                                                                                                                                                                                                                                                                                                                                                                                                                                     fantastic unbelievable smooth   \n",
              "5  photon direct plane two slit either slit observe go slit unobserved however observe leave plane hit target go slit point think good idea tee shirt think place leonard think commit genetic fraud guarantee sperm go generate high iq offspring think sister basic dna mix hostesse fuddrucker know yearn fast download poor woman go pin hope sperm wind toddler know use integral differential solve area curve would want leave protocol leave let try walk bye bye still mad sperm bank want hear interesting thing stair height single step little two millimetre people trip true series experiment twelve father break clavicle result work laser evidently two hundred pound transvestite skin condition yes hi hi hi great bye go start season two battlestar galactica commentary never invite louis slash louise wide circle friend myspace beauty chat chat least offline end hi leonard expert believe context luncheon invitation may want skip reference bowel movement well today try masturbate money actually work yeah well quantum mechanic little string theory doodle around edge part joke spoof bourne oppenheimer approximation yeah holy smoke mean derivative restatement kind stuff find scribble wall man room mit sure oh come see differential sit break hearted invent point um penny sit sit difference winter seat close enough radiator remain warm yet close cause perspiration summer directly path cross breeze create open window face television angle neither direct thus discourage conversation far wide create parallax distortion could go think make point well fine wander circle look lose aaah true koothrapali wolowitz come time tuesday night play klingon boggle one morning resent say company antisocial implication yes tell participate mass cultural delusion sun apparent position relative arbitrarily define constellation time birth somehow effect personality interesting leonard process corn lactose intolerant happen take four year get high school make bad yes yes well interesting development time since woman take clothe apartment point take time since woman take clothe want rip eye exactly try accomplish woman go sex oh good disappoint yes specie oh course think possibility help hinder discover luke skywalker tear shampoo leonard lady technically would coitus interruptus really think examine chain causality event beautiful woman stand naked shower event drive half way across town retrieve television set aforementioned woman ex boyfriend query plane existence even semi rational link event ah yes well may proximal cause journey know exist contradistinction high level distal cause think penis oh right yes could stay behind watch wolowitz try hit penny russian arabic farsi get tv neither break joyce kim defect north korea get scene leonard two even carry tv hello okay thank time leonard tv building deny access building ergo apology plan privilege watch mind work think combine iq good thinking muscle intercom tell iq leonard mom buy pant go call okay first pantsing last well get pant think like go die alone certainly go win nobel prize valid hypothesis happen thank mention imaginary thai food indian lunch curry base cuisine would gastronomically redundant see go spell everything girl know odd world whole far population car go veritable mack daddy   \n",
              "\n",
              "                                                                                                                                                                                                                                                                                                                                                                                                                                                                                                                                                                                                                                                                                                                                                               list_of_lines  \n",
              "0  [wait, till, see, stephen, hawking, lecture, mit, become, creepy, computer, voice, yeah, right, grandmother, back, town, hang, really, lady, want, anticipate, coitus, available, coitus, enchante, madamoiselle, howard, wolowitz, cal, tech, department, applied, physics, may, familiar, work, currently, orbit, jupiter, large, moon, take, high, resolution, digital, photograph, bon, douche, french, good, shower, sentiment, express, six, language, see, ka, tong, guay, jow, oh, speak, english, speak, woman, kind, nerd, juice, box, one, favourite, place, kick, back, quest, great, house, ale, yeah, since, level, ten, name, button, anyway, game, character, could, hang, maybe, go, quest, think, turn, leave, lake, street, head, colorado, know, ...]  \n",
              "1                               [agree, point, excuse, one, across, aegean, eight, nabakov, twenty, six, across, mcm, fourteen, move, finger, phylum, make, fourteen, across, port, au, prince, see, papa, doc, capital, idea, port, au, prince, haiti, yes, um, high, iq, sperm, bank, thank, right, back, kid, semi, pro, sheldon, idea, little, extra, money, get, fractional, bandwidth, apartment, sure, still, love, well, want, okay, know, never, renege, proffer, sperm, okay, see, really, care, two, millimetre, seem, right, send, board, school, new, neighbour, significant, improvement, old, neighbour, hi, hi, mean, interrupt, live, across, hall, oh, uh, live, together, um, live, together, separate, heterosexual, bedroom, leonard, sheldon, hi, ...]  \n",
              "2                                                                                                                                                                                                                                                                                                                                                                                                                                                                                                                                                                                                                                            [hang, help, ask, maybe, fill, oh, take, time, finish, crossword, puzzle, oh, wait, yeah, get, lose, yeah, hell, get, building]  \n",
              "3                                                                    [oh, hi, hi, oh, nice, oh, okay, well, guess, new, neighbour, penny, hi, hi, thankyou, maybe, coffee, sometime, great, bye, hi, hi, oh, invite, eat, oh, nice, would, love, guy, fun, around, okay, thankyou, look, like, serious, stuff, leonard, wow, like, one, beautiful, mind, genius, guy, really, impressive, holy, smoke, uh, guy, mind, start, sit, next, difference, want, move, klingon, boggle, um, okay, sagittarius, probably, tell, way, need, know, participate, oh, yeah, lot, people, think, water, sign, okay, let, see, else, oh, vegetarian, oh, except, fish, occasional, steak, love, steak, oh, yeah, waitress, cheesecake, factory, oh, anyways, also, write, screenplay, ...]  \n",
              "4                                                                                                                                                                                                                                                                                                                                                                                                                                                                                                                                                                                                                                                                                                                                          [fantastic, unbelievable, smooth]  \n",
              "5                    [photon, direct, plane, two, slit, either, slit, observe, go, slit, unobserved, however, observe, leave, plane, hit, target, go, slit, point, think, good, idea, tee, shirt, think, place, leonard, think, commit, genetic, fraud, guarantee, sperm, go, generate, high, iq, offspring, think, sister, basic, dna, mix, hostesse, fuddrucker, know, yearn, fast, download, poor, woman, go, pin, hope, sperm, wind, toddler, know, use, integral, differential, solve, area, curve, would, want, leave, protocol, leave, let, try, walk, bye, bye, still, mad, sperm, bank, want, hear, interesting, thing, stair, height, single, step, little, two, millimetre, people, trip, true, series, experiment, twelve, father, break, clavicle, result, ...]  "
            ]
          },
          "metadata": {},
          "execution_count": 119
        }
      ]
    },
    {
      "cell_type": "code",
      "source": [
        "\n",
        "# Create a new TfidfModel using the corpus: tfidf\n",
        "tfidf = TfidfModel(corpus)\n",
        "\n",
        "# Save the first document: doc (this is Howard in episode 1)\n",
        "doc = corpus[0]\n",
        "\n",
        "# Calculate the tfidf weights of doc: tfidf_weights\n",
        "tfidf_weights = tfidf[doc]\n",
        "\n",
        "# Print the first five weights\n",
        "print(tfidf_weights[:5])\n",
        "print()\n",
        "\n",
        "# Sort the weights from highest to lowest: sorted_tfidf_weights\n",
        "sorted_tfidf_weights = sorted(tfidf_weights, key=lambda w: w[1], reverse=True)\n",
        "\n",
        "# Print the top 5 weighted words\n",
        "for term_id, weight in sorted_tfidf_weights[:10]:\n",
        "    print(dictionary.get(term_id), weight)"
      ],
      "metadata": {
        "colab": {
          "base_uri": "https://localhost:8080/"
        },
        "id": "JSYz6C_duC5n",
        "outputId": "85d4795f-e39e-489f-93d0-1e9298ca7c5c"
      },
      "execution_count": 120,
      "outputs": [
        {
          "output_type": "stream",
          "name": "stdout",
          "text": [
            "[(0, 0.14099489291881892), (1, 0.13158941696142376), (2, 0.05321396206114465), (3, 0.14766818431112544), (4, 0.09204478815285448)]\n",
            "\n",
            "hooked 0.28198978583763784\n",
            "quest 0.22386970721743304\n",
            "baby 0.20723066953974623\n",
            "enchante 0.17315242761822225\n",
            "guay 0.17315242761822225\n",
            "jow 0.17315242761822225\n",
            "madamoiselle 0.17315242761822225\n",
            "tong 0.17315242761822225\n",
            "coitus 0.1729012206032394\n",
            "jupiter 0.1570736602685206\n"
          ]
        }
      ]
    },
    {
      "cell_type": "markdown",
      "source": [
        "### **2.4 Named entity recognition**"
      ],
      "metadata": {
        "id": "X64E0IZ6xpOc"
      }
    },
    {
      "cell_type": "markdown",
      "source": [
        "* used to identify imortan nemed entities in the text (people, places ,organizatgions, dates, etc.)\n",
        "* can be used alongisde topic identification\n",
        "* used to answer who, what, when, where questions\n"
      ],
      "metadata": {
        "id": "c43lRci5xwsG"
      }
    },
    {
      "cell_type": "code",
      "source": [
        ""
      ],
      "metadata": {
        "id": "HOALnsA5xdhj"
      },
      "execution_count": 120,
      "outputs": []
    },
    {
      "cell_type": "code",
      "source": [
        "#Named entity recognition (rough, below is nicer)\n",
        "\n",
        "#tokenize and tag\n",
        "words = nltk.word_tokenize(penny_string)\n",
        "tagged_sentence = nltk.pos_tag(words)\n",
        "\n",
        "#pass tagged sentence in nltk chunk function: returns sentence as a tree\n",
        "print(nltk.ne_chunk(tagged_sentence[0:20]))"
      ],
      "metadata": {
        "colab": {
          "base_uri": "https://localhost:8080/"
        },
        "id": "uAFpj-UNxddE",
        "outputId": "da4588d0-3069-4117-ac94-4146010bdac9"
      },
      "execution_count": 121,
      "outputs": [
        {
          "output_type": "stream",
          "name": "stdout",
          "text": [
            "(S\n",
            "  Oh/UH\n",
            "  ,/,\n",
            "  hi/JJ\n",
            "  !/.\n",
            "  Hi/NNP\n",
            "  ?/.\n",
            "  Oh/UH\n",
            "  ,/,\n",
            "  that/IN\n",
            "  ’/NNP\n",
            "  s/VBD\n",
            "  nice/JJ\n",
            "  ./.\n",
            "  Oh/UH\n",
            "  ,/,\n",
            "  okay/JJ\n",
            "  ,/,\n",
            "  well/RB\n",
            "  ,/,\n",
            "  guess/NN)\n"
          ]
        }
      ]
    },
    {
      "cell_type": "code",
      "source": [
        "# Tokenize the article into sentences: sentences\n",
        "sentences = nltk.sent_tokenize(penny_string)\n",
        "\n",
        "# Tokenize each sentence into words: token_sentences\n",
        "token_sentences = [nltk.word_tokenize(sent) for sent in sentences]\n",
        "\n",
        "# Tag each tokenized sentence into parts of speech: pos_sentences\n",
        "pos_sentences = [nltk.pos_tag(sent) for sent in token_sentences] \n",
        "\n",
        "# Create the named entity chunks: chunked_sentences\n",
        "chunked_sentences = nltk.ne_chunk_sents(pos_sentences, binary=True)\n",
        "\n",
        "# Test for stems of the tree with 'NE' tags\n",
        "for sent in chunked_sentences:\n",
        "    for chunk in sent:\n",
        "        if hasattr(chunk, \"label\") and chunk.label() == \"NE\":\n",
        "            print(chunk[0:10])"
      ],
      "metadata": {
        "colab": {
          "base_uri": "https://localhost:8080/"
        },
        "id": "kEf24mAi0L0u",
        "outputId": "512925e1-966f-4277-9422-6d9c9cdefaeb"
      },
      "execution_count": 122,
      "outputs": [
        {
          "output_type": "stream",
          "name": "stdout",
          "text": [
            "[('Penny', 'NNP')]\n",
            "[('Thankyou', 'NNP')]\n",
            "[('Great', 'NNP')]\n",
            "[('Bye', 'NNP')]\n",
            "[('Okay', 'NNP')]\n",
            "[('Leonard', 'NNP')]\n",
            "[('Wow', 'NNP')]\n",
            "[('Holy', 'NNP')]\n",
            "[('Uh', 'NNP')]\n",
            "[('Klingon', 'NNP')]\n",
            "[('Um', 'NNP')]\n",
            "[('Okay', 'NNP')]\n",
            "[('Cheesecake', 'NNP'), ('Factory', 'NNP')]\n",
            "[('Lincoln', 'NNP'), ('Nebraska', 'NNP')]\n",
            "[('Cheesecake', 'NNP'), ('Factory', 'NNP')]\n",
            "[('No', 'DT')]\n",
            "[('Omaha', 'NNP')]\n",
            "[('Okay', 'NNP')]\n",
            "[('Um', 'NNP')]\n",
            "[('Penny', 'NNP')]\n",
            "[('High', 'JJ'), ('School', 'NNP')]\n",
            "[('Hi', 'NNP')]\n",
            "[('Hello', 'NN')]\n",
            "[('Penny', 'NNP')]\n",
            "[('Cheesecake', 'NNP'), ('Factory', 'NNP')]\n",
            "[('Okay', 'NNP')]\n",
            "[('Hey', 'NNP')]\n",
            "[('Leonard', 'NNP')]\n",
            "[('Um', 'NNP')]\n",
            "[('Leonard', 'NNP')]\n",
            "[('Sheldon', 'NNP')]\n",
            "[('University', 'NNP')]\n",
            "[('Uh', 'NNP')]\n",
            "[('English', 'NNP')]\n",
            "[('Wow', 'NNP')]\n",
            "[('Uh', 'NNP')]\n"
          ]
        }
      ]
    },
    {
      "cell_type": "code",
      "source": [
        "#doesnt work :(\n",
        "\n",
        "# Create the defaultdict: ner_categories\n",
        "ner_categories = defaultdict(int)\n",
        "\n",
        "# Create the nested for loop\n",
        "for sent in chunked_sentences:\n",
        "    for chunk in sent:\n",
        "        if hasattr(chunk, 'label'):\n",
        "            ner_categories[chunk.label()] += 1\n",
        "            \n",
        "# Create a list from the dictionary keys for the chart labels: labels\n",
        "labels = list(ner_categories.keys())\n",
        "labels\n",
        "# ['ORGANIZATION', 'GPE', 'PERSON', 'LOCATION', 'FACILITY']\n",
        "\n",
        "# Create a list of the values: values\n",
        "values = [ner_categories.get(v) for v in labels]\n",
        "\n",
        "# Create the pie chart\n",
        "plt.pie(values, labels=labels, autopct='%1.1f%%', startangle=140)\n",
        "\n",
        "# Display the chart\n",
        "plt.show()"
      ],
      "metadata": {
        "colab": {
          "base_uri": "https://localhost:8080/",
          "height": 247
        },
        "id": "LN_pLFuy0xjI",
        "outputId": "29fbcd6a-b833-4c66-b3f2-5d8c98dfe684"
      },
      "execution_count": 123,
      "outputs": [
        {
          "output_type": "display_data",
          "data": {
            "image/png": "[encoded data removed]",
            "text/plain": [
              "<Figure size 432x288 with 1 Axes>"
            ]
          },
          "metadata": {}
        }
      ]
    },
    {
      "cell_type": "markdown",
      "source": [
        "### **2.5 Spacy**"
      ],
      "metadata": {
        "id": "HpuIlegL2KwO"
      }
    },
    {
      "cell_type": "markdown",
      "source": [
        "* similar to gensim, but differnt implementations\n",
        "focus on creating NLP pipelines to generate models and corpora\n",
        "* uses different entity types compared to nltk\n",
        "* has informal language corpora (useful for finidng entities in TWeets and chats)"
      ],
      "metadata": {
        "id": "ymm6nMiO2Paz"
      }
    },
    {
      "cell_type": "code",
      "source": [
        "\n",
        "#instantiate the English model\n",
        "nlp = spacy.load('en')\n",
        "\n",
        "#create a new document\n",
        "doc = nlp(penny_string)\n",
        "\n",
        "#find entities\n",
        "entities = doc.ents\n",
        "entities[0:10]"
      ],
      "metadata": {
        "colab": {
          "base_uri": "https://localhost:8080/"
        },
        "id": "PuwOoe0S0-GD",
        "outputId": "764c31e9-b3d0-45e5-c8f1-c2062703459a"
      },
      "execution_count": 124,
      "outputs": [
        {
          "output_type": "execute_result",
          "data": {
            "text/plain": [
              "(Penny,\n",
              " Leonard,\n",
              " one,\n",
              " Klingon,\n",
              " the Cheesecake Factory,\n",
              " L.A.,\n",
              " Lincoln Nebraska,\n",
              " the Cheesecake Factory,\n",
              " Omaha,\n",
              " Penny)"
            ]
          },
          "metadata": {},
          "execution_count": 124
        }
      ]
    },
    {
      "cell_type": "code",
      "source": [
        "#print the label of the first entity\n",
        "print(doc.ents[0], doc.ents[0].label_)\n",
        "print()\n",
        "\n",
        "# Print all of the found entities and their labels\n",
        "for ent in doc.ents:\n",
        "    print(ent.label_, ent.text)\n"
      ],
      "metadata": {
        "colab": {
          "base_uri": "https://localhost:8080/"
        },
        "id": "unkOV0Ya0xfU",
        "outputId": "464695b0-a9a0-4e37-aa31-c68abc540c56"
      },
      "execution_count": 125,
      "outputs": [
        {
          "output_type": "stream",
          "name": "stdout",
          "text": [
            "Penny PERSON\n",
            "\n",
            "PERSON Penny\n",
            "PERSON Leonard\n",
            "CARDINAL one\n",
            "GPE Klingon\n",
            "FAC the Cheesecake Factory\n",
            "GPE L.A.\n",
            "ORG Lincoln Nebraska\n",
            "FAC the Cheesecake Factory\n",
            "GPE Omaha\n",
            "PERSON Penny\n",
            "DATE four years\n",
            "DATE four years\n",
            "PERSON Penny\n",
            "FAC the Cheesecake Factory\n",
            "PERSON Leonard\n",
            "PERSON Leonard\n",
            "PERSON Sheldon\n",
            "LANGUAGE English\n",
            "PERSON Raj\n"
          ]
        }
      ]
    },
    {
      "cell_type": "markdown",
      "source": [
        "**Polyglot (multilingual)**"
      ],
      "metadata": {
        "id": "gc5XHPeL4qZS"
      }
    },
    {
      "cell_type": "markdown",
      "source": [
        "* NLP library which uses word verctors (like Gensim and Spacy)\n",
        "* Polyglot supports more than 130 languages, so it is useful for translating texts."
      ],
      "metadata": {
        "id": "rijeGxko4sA2"
      }
    },
    {
      "cell_type": "markdown",
      "source": [
        "### **2.5 Modelling with NLP**"
      ],
      "metadata": {
        "id": "OyXmpVSK632n"
      }
    },
    {
      "cell_type": "code",
      "source": [
        "df.head()"
      ],
      "metadata": {
        "colab": {
          "base_uri": "https://localhost:8080/",
          "height": 0
        },
        "id": "OWx-G_2uJ1Ze",
        "outputId": "4d032978-00a7-4abf-da59-d2b6049fcaaf"
      },
      "execution_count": 126,
      "outputs": [
        {
          "output_type": "execute_result",
          "data": {
            "text/html": [
              "\n",
              "  <div id=\"df-c2fcc4db-2016-456c-8cd0-0e17271a8b09\">\n",
              "    <div class=\"colab-df-container\">\n",
              "      <div>\n",
              "<style scoped>\n",
              "    .dataframe tbody tr th:only-of-type {\n",
              "        vertical-align: middle;\n",
              "    }\n",
              "\n",
              "    .dataframe tbody tr th {\n",
              "        vertical-align: top;\n",
              "    }\n",
              "\n",
              "    .dataframe thead th {\n",
              "        text-align: right;\n",
              "    }\n",
              "</style>\n",
              "<table border=\"1\" class=\"dataframe\">\n",
              "  <thead>\n",
              "    <tr style=\"text-align: right;\">\n",
              "      <th></th>\n",
              "      <th>episode_nr</th>\n",
              "      <th>season</th>\n",
              "      <th>season_episode</th>\n",
              "      <th>episode_id</th>\n",
              "      <th>episode_name</th>\n",
              "      <th>character</th>\n",
              "      <th>location</th>\n",
              "      <th>line</th>\n",
              "      <th>line_id</th>\n",
              "    </tr>\n",
              "  </thead>\n",
              "  <tbody>\n",
              "    <tr>\n",
              "      <th>0</th>\n",
              "      <td>1</td>\n",
              "      <td>1</td>\n",
              "      <td>1</td>\n",
              "      <td>1-1</td>\n",
              "      <td>Pilot Episode</td>\n",
              "      <td>Sheldon</td>\n",
              "      <td>A corridor at a sperm bank.</td>\n",
              "      <td>So if a photon is directed through a plane with two slits in it and either slit is observed it will not go through both slits. If it’s unobserved it will, however, if it’s observed after it’s left the plane but before it hits its target, it will not have gone through both slits.</td>\n",
              "      <td>1</td>\n",
              "    </tr>\n",
              "    <tr>\n",
              "      <th>1</th>\n",
              "      <td>1</td>\n",
              "      <td>1</td>\n",
              "      <td>1</td>\n",
              "      <td>1-1</td>\n",
              "      <td>Pilot Episode</td>\n",
              "      <td>Leonard</td>\n",
              "      <td>A corridor at a sperm bank.</td>\n",
              "      <td>Agreed, what’s your point?</td>\n",
              "      <td>2</td>\n",
              "    </tr>\n",
              "    <tr>\n",
              "      <th>2</th>\n",
              "      <td>1</td>\n",
              "      <td>1</td>\n",
              "      <td>1</td>\n",
              "      <td>1-1</td>\n",
              "      <td>Pilot Episode</td>\n",
              "      <td>Sheldon</td>\n",
              "      <td>A corridor at a sperm bank.</td>\n",
              "      <td>There’s no point, I just think it’s a good idea for a tee-shirt.</td>\n",
              "      <td>3</td>\n",
              "    </tr>\n",
              "    <tr>\n",
              "      <th>3</th>\n",
              "      <td>1</td>\n",
              "      <td>1</td>\n",
              "      <td>1</td>\n",
              "      <td>1-1</td>\n",
              "      <td>Pilot Episode</td>\n",
              "      <td>Leonard</td>\n",
              "      <td>A corridor at a sperm bank.</td>\n",
              "      <td>Excuse me?</td>\n",
              "      <td>4</td>\n",
              "    </tr>\n",
              "    <tr>\n",
              "      <th>4</th>\n",
              "      <td>1</td>\n",
              "      <td>1</td>\n",
              "      <td>1</td>\n",
              "      <td>1-1</td>\n",
              "      <td>Pilot Episode</td>\n",
              "      <td>Receptionist</td>\n",
              "      <td>A corridor at a sperm bank.</td>\n",
              "      <td>Hang on.</td>\n",
              "      <td>5</td>\n",
              "    </tr>\n",
              "  </tbody>\n",
              "</table>\n",
              "</div>\n",
              "      <button class=\"colab-df-convert\" onclick=\"convertToInteractive('df-c2fcc4db-2016-456c-8cd0-0e17271a8b09')\"\n",
              "              title=\"Convert this dataframe to an interactive table.\"\n",
              "              style=\"display:none;\">\n",
              "        \n",
              "  <svg xmlns=\"http://www.w3.org/2000/svg\" height=\"24px\"viewBox=\"0 0 24 24\"\n",
              "       width=\"24px\">\n",
              "    <path d=\"M0 0h24v24H0V0z\" fill=\"none\"/>\n",
              "    <path d=\"M18.56 5.44l.94 2.06.94-2.06 2.06-.94-2.06-.94-.94-2.06-.94 2.06-2.06.94zm-11 1L8.5 8.5l.94-2.06 2.06-.94-2.06-.94L8.5 2.5l-.94 2.06-2.06.94zm10 10l.94 2.06.94-2.06 2.06-.94-2.06-.94-.94-2.06-.94 2.06-2.06.94z\"/><path d=\"M17.41 7.96l-1.37-1.37c-.4-.4-.92-.59-1.43-.59-.52 0-1.04.2-1.43.59L10.3 9.45l-7.72 7.72c-.78.78-.78 2.05 0 2.83L4 21.41c.39.39.9.59 1.41.59.51 0 1.02-.2 1.41-.59l7.78-7.78 2.81-2.81c.8-.78.8-2.07 0-2.86zM5.41 20L4 18.59l7.72-7.72 1.47 1.35L5.41 20z\"/>\n",
              "  </svg>\n",
              "      </button>\n",
              "      \n",
              "  <style>\n",
              "    .colab-df-container {\n",
              "      display:flex;\n",
              "      flex-wrap:wrap;\n",
              "      gap: 12px;\n",
              "    }\n",
              "\n",
              "    .colab-df-convert {\n",
              "      background-color: #E8F0FE;\n",
              "      border: none;\n",
              "      border-radius: 50%;\n",
              "      cursor: pointer;\n",
              "      display: none;\n",
              "      fill: #1967D2;\n",
              "      height: 32px;\n",
              "      padding: 0 0 0 0;\n",
              "      width: 32px;\n",
              "    }\n",
              "\n",
              "    .colab-df-convert:hover {\n",
              "      background-color: #E2EBFA;\n",
              "      box-shadow: 0px 1px 2px rgba(60, 64, 67, 0.3), 0px 1px 3px 1px rgba(60, 64, 67, 0.15);\n",
              "      fill: #174EA6;\n",
              "    }\n",
              "\n",
              "    [theme=dark] .colab-df-convert {\n",
              "      background-color: #3B4455;\n",
              "      fill: #D2E3FC;\n",
              "    }\n",
              "\n",
              "    [theme=dark] .colab-df-convert:hover {\n",
              "      background-color: #434B5C;\n",
              "      box-shadow: 0px 1px 3px 1px rgba(0, 0, 0, 0.15);\n",
              "      filter: drop-shadow(0px 1px 2px rgba(0, 0, 0, 0.3));\n",
              "      fill: #FFFFFF;\n",
              "    }\n",
              "  </style>\n",
              "\n",
              "      <script>\n",
              "        const buttonEl =\n",
              "          document.querySelector('#df-c2fcc4db-2016-456c-8cd0-0e17271a8b09 button.colab-df-convert');\n",
              "        buttonEl.style.display =\n",
              "          google.colab.kernel.accessAllowed ? 'block' : 'none';\n",
              "\n",
              "        async function convertToInteractive(key) {\n",
              "          const element = document.querySelector('#df-c2fcc4db-2016-456c-8cd0-0e17271a8b09');\n",
              "          const dataTable =\n",
              "            await google.colab.kernel.invokeFunction('convertToInteractive',\n",
              "                                                     [key], {});\n",
              "          if (!dataTable) return;\n",
              "\n",
              "          const docLinkHtml = 'Like what you see? Visit the ' +\n",
              "            '<a target=\"_blank\" href=https://colab.research.google.com/notebooks/data_table.ipynb>data table notebook</a>'\n",
              "            + ' to learn more about interactive tables.';\n",
              "          element.innerHTML = '';\n",
              "          dataTable['output_type'] = 'display_data';\n",
              "          await google.colab.output.renderOutput(dataTable, element);\n",
              "          const docLink = document.createElement('div');\n",
              "          docLink.innerHTML = docLinkHtml;\n",
              "          element.appendChild(docLink);\n",
              "        }\n",
              "      </script>\n",
              "    </div>\n",
              "  </div>\n",
              "  "
            ],
            "text/plain": [
              "   episode_nr  season  season_episode episode_id    episode_name  \\\n",
              "0           1       1               1        1-1  Pilot Episode    \n",
              "1           1       1               1        1-1  Pilot Episode    \n",
              "2           1       1               1        1-1  Pilot Episode    \n",
              "3           1       1               1        1-1  Pilot Episode    \n",
              "4           1       1               1        1-1  Pilot Episode    \n",
              "\n",
              "      character                     location  \\\n",
              "0       Sheldon  A corridor at a sperm bank.   \n",
              "1       Leonard  A corridor at a sperm bank.   \n",
              "2       Sheldon  A corridor at a sperm bank.   \n",
              "3       Leonard  A corridor at a sperm bank.   \n",
              "4  Receptionist  A corridor at a sperm bank.   \n",
              "\n",
              "                                                                                                                                                                                                                                                                                      line  \\\n",
              "0  So if a photon is directed through a plane with two slits in it and either slit is observed it will not go through both slits. If it’s unobserved it will, however, if it’s observed after it’s left the plane but before it hits its target, it will not have gone through both slits.   \n",
              "1                                                                                                                                                                                                                                                               Agreed, what’s your point?   \n",
              "2                                                                                                                                                                                                                         There’s no point, I just think it’s a good idea for a tee-shirt.   \n",
              "3                                                                                                                                                                                                                                                                               Excuse me?   \n",
              "4                                                                                                                                                                                                                                                                                 Hang on.   \n",
              "\n",
              "   line_id  \n",
              "0        1  \n",
              "1        2  \n",
              "2        3  \n",
              "3        4  \n",
              "4        5  "
            ]
          },
          "metadata": {},
          "execution_count": 126
        }
      ]
    },
    {
      "cell_type": "code",
      "source": [
        "#BAG OF WORDS (text is not pre-processed)\n",
        "#create a copy of the dataset, drop empty records, and only include the 4 main characters\n",
        "df2 = df.copy()\n",
        "df2 = df2.dropna()\n",
        "\n",
        "mains = ['Sheldon',  'Penny']\n",
        "df2 = df2[df2['character'].isin(mains)]\n",
        "\n",
        "#define labels\n",
        "y = df2['character']\n",
        "X = df2['line']\n",
        "\n",
        "#split data\n",
        "X_train, X_test, y_train, y_test = train_test_split(X, y, test_size=0.3, random_state = 42)\n",
        "\n",
        "#create count vectorizer (similar to gensim corpus) = bag of words + remove stop words\n",
        "count_vectorizer = CountVectorizer(stop_words='english')\n",
        "\n",
        "#transform training data to create bag of words\n",
        "count_train = count_vectorizer.fit_transform(X_train.values)\n",
        "count_test = count_vectorizer.transform(X_test.values)\n",
        "\n",
        "# Print the first 10 features of the count_vectorizer (??!)\n",
        "print(count_vectorizer.get_feature_names_out()[:10])\n",
        "\n",
        "#fit model\n",
        "#Naive BAyes is often used for NLP classification because of its'basis in probability\n",
        "# given a particular piece of data, how likely is a particular?\n",
        "# how likely given a spaceship, how likely is the series to be sci-fi?\n",
        "nb_classifier = MultinomialNB()\n",
        "nb_classifier.fit(count_train, y_train)\n",
        "pred = nb_classifier.predict(count_test)\n",
        "\n",
        "#evaluate\n",
        "metrics.accuracy_score(y_test, pred)"
      ],
      "metadata": {
        "colab": {
          "base_uri": "https://localhost:8080/"
        },
        "id": "HcBsauz35ikx",
        "outputId": "4b6a95b1-5ae8-44cf-89dd-daea40f2bed0"
      },
      "execution_count": 127,
      "outputs": [
        {
          "output_type": "stream",
          "name": "stdout",
          "text": [
            "['000' '000lb' '01100111' '0400' '06' '0700' '10' '100' '101' '102']\n"
          ]
        },
        {
          "output_type": "execute_result",
          "data": {
            "text/plain": [
              "0.7272101823185414"
            ]
          },
          "metadata": {},
          "execution_count": 127
        }
      ]
    },
    {
      "cell_type": "code",
      "source": [
        "#TFIDF (text is not pre-processed)\n",
        "#create a copy of the dataset, drop empty records, and only include the 4 main characters\n",
        "df2 = df.copy()\n",
        "df2 = df2.dropna()\n",
        "\n",
        "mains = ['Sheldon', 'Penny']\n",
        "df2 = df2[df2['character'].isin(mains)]\n",
        "\n",
        "#define labels\n",
        "y = df2['character']\n",
        "X = df2['line']\n",
        "\n",
        "# Initialize a TfidfVectorizer object: tfidf_vectorizer\n",
        "tfidf_vectorizer = TfidfVectorizer(stop_words='english', max_df=0.7)\n",
        "\n",
        "# Transform the training data: tfidf_train \n",
        "tfidf_train = tfidf_vectorizer.fit_transform(X_train)\n",
        "\n",
        "# Transform the test data: tfidf_test \n",
        "tfidf_test = tfidf_vectorizer.transform(X_test)\n",
        "\n",
        "# Print the first 10 features\n",
        "print(tfidf_vectorizer.get_feature_names_out()[:10])\n",
        "\n",
        "# Print the first 5 vectors of the tfidf training data\n",
        "print(tfidf_train.A[:5])\n",
        "\n",
        "#fit model\n",
        "nb_classifier = MultinomialNB()\n",
        "nb_classifier.fit(tfidf_train , y_train)\n",
        "pred = nb_classifier.predict(tfidf_test)\n",
        "\n",
        "#evaluate\n",
        "metrics.accuracy_score(y_test, pred)\n"
      ],
      "metadata": {
        "colab": {
          "base_uri": "https://localhost:8080/"
        },
        "id": "zwggichR0xSW",
        "outputId": "cdc0c752-a5b3-4eab-a7b6-fe7a1e73e5d5"
      },
      "execution_count": 128,
      "outputs": [
        {
          "output_type": "stream",
          "name": "stdout",
          "text": [
            "['000' '000lb' '01100111' '0400' '06' '0700' '10' '100' '101' '102']\n",
            "[[0. 0. 0. ... 0. 0. 0.]\n",
            " [0. 0. 0. ... 0. 0. 0.]\n",
            " [0. 0. 0. ... 0. 0. 0.]\n",
            " [0. 0. 0. ... 0. 0. 0.]\n",
            " [0. 0. 0. ... 0. 0. 0.]]\n"
          ]
        },
        {
          "output_type": "execute_result",
          "data": {
            "text/plain": [
              "0.7291021671826625"
            ]
          },
          "metadata": {},
          "execution_count": 128
        }
      ]
    },
    {
      "cell_type": "code",
      "source": [
        "#plot confusion matrix\n",
        "def confusion_matrix_plotter (y_test,y_pred):\n",
        "  fig, ax = plt.subplots(figsize=(8,5)) \n",
        "  data = metrics.confusion_matrix(y_test, y_pred)\n",
        "  df_cm = pd.DataFrame(data, columns=np.unique(y_test), index = np.unique(y_test))\n",
        "  ax = sns.heatmap(df_cm, cmap='Blues', fmt='g' ,annot=True,annot_kws={\"size\": 14})\n",
        "  ax.set_xlabel(\"Predicted\")\n",
        "  ax.set_ylabel (\"Actual\")\n",
        "  ax.set_xticklabels(ax.get_xticklabels(), rotation=45)\n",
        "  ax.set_yticklabels(ax.get_xticklabels(), rotation=0)\n",
        "\n",
        "confusion_matrix_plotter(y_test, pred)"
      ],
      "metadata": {
        "colab": {
          "base_uri": "https://localhost:8080/",
          "height": 0
        },
        "id": "SoM10eK_Q4iU",
        "outputId": "e52c48e1-65b3-4137-a910-c972ec4227f8"
      },
      "execution_count": 129,
      "outputs": [
        {
          "output_type": "display_data",
          "data": {
            "image/png": "[encoded data removed]",
            "text/plain": [
              "<Figure size 576x360 with 2 Axes>"
            ]
          },
          "metadata": {
            "needs_background": "light"
          }
        }
      ]
    },
    {
      "cell_type": "code",
      "source": [
        "# Get the class labels: class_labels\n",
        "class_labels = nb_classifier.classes_\n",
        "\n",
        "# Extract the features: feature_names\n",
        "feature_names = tfidf_vectorizer.get_feature_names_out()\n",
        "\n",
        "# Zip the feature names together with the coefficient array and sort by weights: feat_with_weights\n",
        "feat_with_weights = sorted(zip(nb_classifier.coef_[0], feature_names))\n",
        "\n",
        "# Print the first class label and the top 20 feat_with_weights entries (makes little sense without cleaning the data)\n",
        "print(class_labels[0], feat_with_weights[:20])\n",
        "\n",
        "# Print the second class label and the bottom 20 feat_with_weights entries\n",
        "print(class_labels[1], feat_with_weights[-20:])\n"
      ],
      "metadata": {
        "colab": {
          "base_uri": "https://localhost:8080/"
        },
        "id": "-EdXGHL8TMb6",
        "outputId": "ccfde366-25ae-4b87-9305-38cf4d993355"
      },
      "execution_count": 130,
      "outputs": [
        {
          "output_type": "stream",
          "name": "stdout",
          "text": [
            "Penny [(-10.329157073625595, '0400'), (-10.329157073625595, '11th'), (-10.329157073625595, '150'), (-10.329157073625595, '1619'), (-10.329157073625595, '1865'), (-10.329157073625595, '1am'), (-10.329157073625595, '20s'), (-10.329157073625595, '22'), (-10.329157073625595, '2a'), (-10.329157073625595, '30s'), (-10.329157073625595, '34'), (-10.329157073625595, '390'), (-10.329157073625595, '401k'), (-10.329157073625595, '58'), (-10.329157073625595, 'aaaaaaa'), (-10.329157073625595, 'abducted'), (-10.329157073625595, 'abs'), (-10.329157073625595, 'accents'), (-10.329157073625595, 'acne'), (-10.329157073625595, 'acoustics')]\n",
            "Sheldon [(-6.214702697173658, 'say'), (-6.136435490956541, 've'), (-6.108977547406329, 'thank'), (-6.080420122995037, 'want'), (-5.999194762273916, 'hello'), (-5.955587329340971, 'think'), (-5.945461906566187, 'did'), (-5.944211569208797, 'll'), (-5.938849416489132, 'good'), (-5.915301303890037, 'penny'), (-5.892947722135722, 'knock'), (-5.834718258817, 'just'), (-5.821100630454067, 'going'), (-5.7092058308199185, 'like'), (-5.671245090775127, 'right'), (-5.609762405150466, 'yes'), (-5.585106946066985, 'know'), (-5.527764030059586, 'leonard'), (-5.417544146250913, 'don'), (-5.251183005310116, 'oh')]\n"
          ]
        },
        {
          "output_type": "stream",
          "name": "stderr",
          "text": [
            "/usr/local/lib/python3.7/dist-packages/sklearn/utils/deprecation.py:103: FutureWarning: Attribute `coef_` was deprecated in version 0.24 and will be removed in 1.1 (renaming of 0.26).\n",
            "  warnings.warn(msg, category=FutureWarning)\n"
          ]
        }
      ]
    },
    {
      "cell_type": "markdown",
      "source": [
        "# **3  NLP Advanced - Spacy**"
      ],
      "metadata": {
        "id": "xAcyPKMvjau9"
      }
    },
    {
      "cell_type": "markdown",
      "source": [
        "* core is the language specific nlp object\n",
        "* contains the processing pipeline, including language-specific rules for tokenization\n",
        "* the nlp object produces a doc object, which you can use to access information\n",
        "* a doc consists of tokens, which can be words and punctuation"
      ],
      "metadata": {
        "id": "TdoZbRlXjvM7"
      }
    },
    {
      "cell_type": "markdown",
      "source": [
        "### **3.1 Finding words, phrases, names**"
      ],
      "metadata": {
        "id": "L0yD-AYrko-p"
      }
    },
    {
      "cell_type": "code",
      "source": [
        "#instantiate the English model\n",
        "nlp = spacy.load('en')\n",
        "\n",
        "#create a new document\n",
        "doc = nlp(penny_string)\n",
        "print(doc.text)\n",
        "print()\n",
        "\n",
        "#available token attributes in doc\n",
        "print('Index', [token.i for token in doc]) #index of token within doc\n",
        "print('Text', [token.text for token in doc]) #returns the text\n",
        "print('is_alpha', [token.is_alpha for token in doc]) \n",
        "print('is_punct', [token.is_punct for token in doc]) \n",
        "print('is_num', [token.like_num for token in doc]) \n"
      ],
      "metadata": {
        "colab": {
          "base_uri": "https://localhost:8080/"
        },
        "id": "5ZVqVtD1iccV",
        "outputId": "5c11a4ea-c0e1-414b-8b44-19bfb8e89a79"
      },
      "execution_count": 131,
      "outputs": [
        {
          "output_type": "stream",
          "name": "stdout",
          "text": [
            " Oh, hi! Hi? Oh, that’s nice. Oh, okay, well, guess I’m your new neighbour, Penny. Hi. Hi. Thankyou, maybe we can have coffee sometime. Great. Bye. Hi. Hi. Oh, you’re inviting me over to eat? Oh, that’s so nice, I’d love to. So, what do you guys do for fun around here? Okay, thankyou. This looks like some serious stuff, Leonard, did you do this? Wow. So you’re like, one of those, beautiful mind genius guys. This is really impressive. Holy smokes. Uh, do you guys mind if I start? So, sit next to me. What’s the difference? Do you want me to move? So, Klingon boggle? Um, me, okay, I’m Sagittarius, which probably tells you way more than you need to know. Participate in the what? Oh, yeah, a lot of people think I’m a water sign. Okay, let’s see, what else, oh, I’m a vegetarian, oh, except for fish, and the occasional steak, I love steak. Oh, yeah, I’m a waitress at the Cheesecake Factory. Oh, anyways, I’m also writing a screenplay. It’s about this sensitive girl who comes to L.A. from Lincoln Nebraska to be an actress, and winds up a waitress at the Cheesecake Factory. No, I’m from Omaha. I know, right? Okay, let’s see, what else? Um, that’s about it. That’s the story of Penny. It was. Until I fell in love with a jerk. Oh God, you know, four years I lived with him, four years, that’s like as long as High School. I just, I can’t believe I trusted him.<br/> You want to know the most pathetic part? Even though I hate his lying, cheating guts, I still love him. Is that crazy? Oh, I’m so sorry, I’m such a mess, and on top of everything else I’m all gross from moving and my stupid shower doesn’t even work. Really? Would it be totally weird if I used it? Thanks. You guys are really sweet.<br/> Hey, is there a trick to getting it to switch from tub to shower. Oh. Hi, sorry. Hello! Penny. I work at the Cheesecake Factory. I’m sorry? Okay. Thanks. Hey, Leonard? Um, okay. Can I ask you a favour. It’s okay if you say no. It’s just not the kind of thing you ask a guy you’ve just met. So, you guys work with Leonard and Sheldon at the University? Uh, I’m sorry, do you speak English? Really, why? Wow, cool tiger. Uh, sounds interesting. Oh, I don’t think I’ll be able to stop thinking about it. Oh, my God, what happened? I’m so sorry, I really thought if you guys went instead of me he wouldn’t be such an ass. Really, thank you so much for going and trying you’re, uh, you’re so terrific. Why don’t you put some clothes on, I’ll get my purse and dinner is on me, okay? Sure. So? So? Any ideas Raj? (He just looks at her with a worried expression.) That sounds like fun.\n",
            "\n",
            "Index [0, 1, 2, 3, 4, 5, 6, 7, 8, 9, 10, 11, 12, 13, 14, 15, 16, 17, 18, 19, 20, 21, 22, 23, 24, 25, 26, 27, 28, 29, 30, 31, 32, 33, 34, 35, 36, 37, 38, 39, 40, 41, 42, 43, 44, 45, 46, 47, 48, 49, 50, 51, 52, 53, 54, 55, 56, 57, 58, 59, 60, 61, 62, 63, 64, 65, 66, 67, 68, 69, 70, 71, 72, 73, 74, 75, 76, 77, 78, 79, 80, 81, 82, 83, 84, 85, 86, 87, 88, 89, 90, 91, 92, 93, 94, 95, 96, 97, 98, 99, 100, 101, 102, 103, 104, 105, 106, 107, 108, 109, 110, 111, 112, 113, 114, 115, 116, 117, 118, 119, 120, 121, 122, 123, 124, 125, 126, 127, 128, 129, 130, 131, 132, 133, 134, 135, 136, 137, 138, 139, 140, 141, 142, 143, 144, 145, 146, 147, 148, 149, 150, 151, 152, 153, 154, 155, 156, 157, 158, 159, 160, 161, 162, 163, 164, 165, 166, 167, 168, 169, 170, 171, 172, 173, 174, 175, 176, 177, 178, 179, 180, 181, 182, 183, 184, 185, 186, 187, 188, 189, 190, 191, 192, 193, 194, 195, 196, 197, 198, 199, 200, 201, 202, 203, 204, 205, 206, 207, 208, 209, 210, 211, 212, 213, 214, 215, 216, 217, 218, 219, 220, 221, 222, 223, 224, 225, 226, 227, 228, 229, 230, 231, 232, 233, 234, 235, 236, 237, 238, 239, 240, 241, 242, 243, 244, 245, 246, 247, 248, 249, 250, 251, 252, 253, 254, 255, 256, 257, 258, 259, 260, 261, 262, 263, 264, 265, 266, 267, 268, 269, 270, 271, 272, 273, 274, 275, 276, 277, 278, 279, 280, 281, 282, 283, 284, 285, 286, 287, 288, 289, 290, 291, 292, 293, 294, 295, 296, 297, 298, 299, 300, 301, 302, 303, 304, 305, 306, 307, 308, 309, 310, 311, 312, 313, 314, 315, 316, 317, 318, 319, 320, 321, 322, 323, 324, 325, 326, 327, 328, 329, 330, 331, 332, 333, 334, 335, 336, 337, 338, 339, 340, 341, 342, 343, 344, 345, 346, 347, 348, 349, 350, 351, 352, 353, 354, 355, 356, 357, 358, 359, 360, 361, 362, 363, 364, 365, 366, 367, 368, 369, 370, 371, 372, 373, 374, 375, 376, 377, 378, 379, 380, 381, 382, 383, 384, 385, 386, 387, 388, 389, 390, 391, 392, 393, 394, 395, 396, 397, 398, 399, 400, 401, 402, 403, 404, 405, 406, 407, 408, 409, 410, 411, 412, 413, 414, 415, 416, 417, 418, 419, 420, 421, 422, 423, 424, 425, 426, 427, 428, 429, 430, 431, 432, 433, 434, 435, 436, 437, 438, 439, 440, 441, 442, 443, 444, 445, 446, 447, 448, 449, 450, 451, 452, 453, 454, 455, 456, 457, 458, 459, 460, 461, 462, 463, 464, 465, 466, 467, 468, 469, 470, 471, 472, 473, 474, 475, 476, 477, 478, 479, 480, 481, 482, 483, 484, 485, 486, 487, 488, 489, 490, 491, 492, 493, 494, 495, 496, 497, 498, 499, 500, 501, 502, 503, 504, 505, 506, 507, 508, 509, 510, 511, 512, 513, 514, 515, 516, 517, 518, 519, 520, 521, 522, 523, 524, 525, 526, 527, 528, 529, 530, 531, 532, 533, 534, 535, 536, 537, 538, 539, 540, 541, 542, 543, 544, 545, 546, 547, 548, 549, 550, 551, 552, 553, 554, 555, 556, 557, 558, 559, 560, 561, 562, 563, 564, 565, 566, 567, 568, 569, 570, 571, 572, 573, 574, 575, 576, 577, 578, 579, 580, 581, 582, 583, 584, 585, 586, 587, 588, 589, 590, 591, 592, 593, 594, 595, 596, 597, 598, 599, 600, 601, 602, 603, 604, 605, 606, 607, 608, 609, 610, 611, 612, 613, 614, 615, 616, 617, 618, 619, 620, 621, 622, 623, 624, 625, 626, 627, 628, 629, 630, 631, 632, 633, 634, 635, 636, 637, 638, 639, 640, 641, 642, 643, 644, 645, 646, 647, 648, 649, 650, 651, 652, 653, 654, 655, 656, 657, 658, 659, 660, 661, 662, 663, 664, 665, 666, 667, 668, 669, 670, 671, 672, 673, 674, 675, 676, 677, 678, 679, 680, 681, 682, 683]\n",
            "Text [' ', 'Oh', ',', 'hi', '!', 'Hi', '?', 'Oh', ',', 'that', '’s', 'nice', '.', 'Oh', ',', 'okay', ',', 'well', ',', 'guess', 'I', '’m', 'your', 'new', 'neighbour', ',', 'Penny', '.', 'Hi', '.', 'Hi', '.', 'Thankyou', ',', 'maybe', 'we', 'can', 'have', 'coffee', 'sometime', '.', 'Great', '.', 'Bye', '.', 'Hi', '.', 'Hi', '.', 'Oh', ',', 'you', '’re', 'inviting', 'me', 'over', 'to', 'eat', '?', 'Oh', ',', 'that', '’s', 'so', 'nice', ',', 'I', '’d', 'love', 'to', '.', 'So', ',', 'what', 'do', 'you', 'guys', 'do', 'for', 'fun', 'around', 'here', '?', 'Okay', ',', 'thankyou', '.', 'This', 'looks', 'like', 'some', 'serious', 'stuff', ',', 'Leonard', ',', 'did', 'you', 'do', 'this', '?', 'Wow', '.', 'So', 'you', '’re', 'like', ',', 'one', 'of', 'those', ',', 'beautiful', 'mind', 'genius', 'guys', '.', 'This', 'is', 'really', 'impressive', '.', 'Holy', 'smokes', '.', 'Uh', ',', 'do', 'you', 'guys', 'mind', 'if', 'I', 'start', '?', 'So', ',', 'sit', 'next', 'to', 'me', '.', 'What', '’s', 'the', 'difference', '?', 'Do', 'you', 'want', 'me', 'to', 'move', '?', 'So', ',', 'Klingon', 'boggle', '?', 'Um', ',', 'me', ',', 'okay', ',', 'I', '’m', 'Sagittarius', ',', 'which', 'probably', 'tells', 'you', 'way', 'more', 'than', 'you', 'need', 'to', 'know', '.', 'Participate', 'in', 'the', 'what', '?', 'Oh', ',', 'yeah', ',', 'a', 'lot', 'of', 'people', 'think', 'I', '’m', 'a', 'water', 'sign', '.', 'Okay', ',', 'let', '’s', 'see', ',', 'what', 'else', ',', 'oh', ',', 'I', '’m', 'a', 'vegetarian', ',', 'oh', ',', 'except', 'for', 'fish', ',', 'and', 'the', 'occasional', 'steak', ',', 'I', 'love', 'steak', '.', 'Oh', ',', 'yeah', ',', 'I', '’m', 'a', 'waitress', 'at', 'the', 'Cheesecake', 'Factory', '.', 'Oh', ',', 'anyways', ',', 'I', '’m', 'also', 'writing', 'a', 'screenplay', '.', 'It', '’s', 'about', 'this', 'sensitive', 'girl', 'who', 'comes', 'to', 'L.A.', 'from', 'Lincoln', 'Nebraska', 'to', 'be', 'an', 'actress', ',', 'and', 'winds', 'up', 'a', 'waitress', 'at', 'the', 'Cheesecake', 'Factory', '.', 'No', ',', 'I', '’m', 'from', 'Omaha', '.', 'I', 'know', ',', 'right', '?', 'Okay', ',', 'let', '’s', 'see', ',', 'what', 'else', '?', 'Um', ',', 'that', '’s', 'about', 'it', '.', 'That', '’s', 'the', 'story', 'of', 'Penny', '.', 'It', 'was', '.', 'Until', 'I', 'fell', 'in', 'love', 'with', 'a', 'jerk', '.', 'Oh', 'God', ',', 'you', 'know', ',', 'four', 'years', 'I', 'lived', 'with', 'him', ',', 'four', 'years', ',', 'that', '’s', 'like', 'as', 'long', 'as', 'High', 'School', '.', 'I', 'just', ',', 'I', 'ca', 'n’t', 'believe', 'I', 'trusted', 'him.<br/', '>', 'You', 'want', 'to', 'know', 'the', 'most', 'pathetic', 'part', '?', 'Even', 'though', 'I', 'hate', 'his', 'lying', ',', 'cheating', 'guts', ',', 'I', 'still', 'love', 'him', '.', 'Is', 'that', 'crazy', '?', 'Oh', ',', 'I', '’m', 'so', 'sorry', ',', 'I', '’m', 'such', 'a', 'mess', ',', 'and', 'on', 'top', 'of', 'everything', 'else', 'I', '’m', 'all', 'gross', 'from', 'moving', 'and', 'my', 'stupid', 'shower', 'does', 'n’t', 'even', 'work', '.', 'Really', '?', 'Would', 'it', 'be', 'totally', 'weird', 'if', 'I', 'used', 'it', '?', 'Thanks', '.', 'You', 'guys', 'are', 'really', 'sweet.<br/', '>', 'Hey', ',', 'is', 'there', 'a', 'trick', 'to', 'getting', 'it', 'to', 'switch', 'from', 'tub', 'to', 'shower', '.', 'Oh', '.', 'Hi', ',', 'sorry', '.', 'Hello', '!', 'Penny', '.', 'I', 'work', 'at', 'the', 'Cheesecake', 'Factory', '.', 'I', '’m', 'sorry', '?', 'Okay', '.', 'Thanks', '.', 'Hey', ',', 'Leonard', '?', 'Um', ',', 'okay', '.', 'Can', 'I', 'ask', 'you', 'a', 'favour', '.', 'It', '’s', 'okay', 'if', 'you', 'say', 'no', '.', 'It', '’s', 'just', 'not', 'the', 'kind', 'of', 'thing', 'you', 'ask', 'a', 'guy', 'you', '’ve', 'just', 'met', '.', 'So', ',', 'you', 'guys', 'work', 'with', 'Leonard', 'and', 'Sheldon', 'at', 'the', 'University', '?', 'Uh', ',', 'I', '’m', 'sorry', ',', 'do', 'you', 'speak', 'English', '?', 'Really', ',', 'why', '?', 'Wow', ',', 'cool', 'tiger', '.', 'Uh', ',', 'sounds', 'interesting', '.', 'Oh', ',', 'I', 'do', 'n’t', 'think', 'I', '’ll', 'be', 'able', 'to', 'stop', 'thinking', 'about', 'it', '.', 'Oh', ',', 'my', 'God', ',', 'what', 'happened', '?', 'I', '’m', 'so', 'sorry', ',', 'I', 'really', 'thought', 'if', 'you', 'guys', 'went', 'instead', 'of', 'me', 'he', 'would', 'n’t', 'be', 'such', 'an', 'ass', '.', 'Really', ',', 'thank', 'you', 'so', 'much', 'for', 'going', 'and', 'trying', 'you', '’re', ',', 'uh', ',', 'you', '’re', 'so', 'terrific', '.', 'Why', 'do', 'n’t', 'you', 'put', 'some', 'clothes', 'on', ',', 'I', '’ll', 'get', 'my', 'purse', 'and', 'dinner', 'is', 'on', 'me', ',', 'okay', '?', 'Sure', '.', 'So', '?', 'So', '?', 'Any', 'ideas', 'Raj', '?', '(', 'He', 'just', 'looks', 'at', 'her', 'with', 'a', 'worried', 'expression', '.', ')', 'That', 'sounds', 'like', 'fun', '.']\n",
            "is_alpha [False, True, False, True, False, True, False, True, False, True, False, True, False, True, False, True, False, True, False, True, True, False, True, True, True, False, True, False, True, False, True, False, True, False, True, True, True, True, True, True, False, True, False, True, False, True, False, True, False, True, False, True, False, True, True, True, True, True, False, True, False, True, False, True, True, False, True, False, True, True, False, True, False, True, True, True, True, True, True, True, True, True, False, True, False, True, False, True, True, True, True, True, True, False, True, False, True, True, True, True, False, True, False, True, True, False, True, False, True, True, True, False, True, True, True, True, False, True, True, True, True, False, True, True, False, True, False, True, True, True, True, True, True, True, False, True, False, True, True, True, True, False, True, False, True, True, False, True, True, True, True, True, True, False, True, False, True, True, False, True, False, True, False, True, False, True, False, True, False, True, True, True, True, True, True, True, True, True, True, True, False, True, True, True, True, False, True, False, True, False, True, True, True, True, True, True, False, True, True, True, False, True, False, True, False, True, False, True, True, False, True, False, True, False, True, True, False, True, False, True, True, True, False, True, True, True, True, False, True, True, True, False, True, False, True, False, True, False, True, True, True, True, True, True, False, True, False, True, False, True, False, True, True, True, True, False, True, False, True, True, True, True, True, True, True, False, True, True, True, True, True, True, True, False, True, True, True, True, True, True, True, True, True, False, True, False, True, False, True, True, False, True, True, False, True, False, True, False, True, False, True, False, True, True, False, True, False, True, False, True, True, False, True, False, True, True, True, True, False, True, True, False, True, True, True, True, True, True, True, True, False, True, True, False, True, True, False, True, True, True, True, True, True, False, True, True, False, True, False, True, True, True, True, True, True, False, True, True, False, True, True, False, True, True, True, False, False, True, True, True, True, True, True, True, True, False, True, True, True, True, True, True, False, True, True, False, True, True, True, True, False, True, True, True, False, True, False, True, False, True, True, False, True, False, True, True, True, False, True, True, True, True, True, True, True, False, True, True, True, True, True, True, True, True, True, False, True, True, False, True, False, True, True, True, True, True, True, True, True, True, False, True, False, True, True, True, True, False, False, True, False, True, True, True, True, True, True, True, True, True, True, True, True, True, False, True, False, True, False, True, False, True, False, True, False, True, True, True, True, True, True, False, True, False, True, False, True, False, True, False, True, False, True, False, True, False, True, False, True, True, True, True, True, True, False, True, False, True, True, True, True, True, False, True, False, True, True, True, True, True, True, True, True, True, True, True, False, True, True, False, True, False, True, True, True, True, True, True, True, True, True, True, False, True, False, True, False, True, False, True, True, True, True, False, True, False, True, False, True, False, True, True, False, True, False, True, True, False, True, False, True, True, False, True, True, False, True, True, True, True, True, True, True, False, True, False, True, True, False, True, True, False, True, False, True, True, False, True, True, True, True, True, True, True, True, True, True, True, True, False, True, True, True, True, False, True, False, True, True, True, True, True, True, True, True, True, False, False, True, False, True, False, True, True, False, True, True, False, True, True, True, True, True, False, True, False, True, True, True, True, True, True, True, True, False, True, False, True, False, True, False, True, False, True, True, True, False, False, True, True, True, True, True, True, True, True, True, False, False, True, True, True, True, False]\n",
            "is_punct [False, False, True, False, True, False, True, False, True, False, False, False, True, False, True, False, True, False, True, False, False, False, False, False, False, True, False, True, False, True, False, True, False, True, False, False, False, False, False, False, True, False, True, False, True, False, True, False, True, False, True, False, False, False, False, False, False, False, True, False, True, False, False, False, False, True, False, False, False, False, True, False, True, False, False, False, False, False, False, False, False, False, True, False, True, False, True, False, False, False, False, False, False, True, False, True, False, False, False, False, True, False, True, False, False, False, False, True, False, False, False, True, False, False, False, False, True, False, False, False, False, True, False, False, True, False, True, False, False, False, False, False, False, False, True, False, True, False, False, False, False, True, False, False, False, False, True, False, False, False, False, False, False, True, False, True, False, False, True, False, True, False, True, False, True, False, False, False, True, False, False, False, False, False, False, False, False, False, False, False, True, False, False, False, False, True, False, True, False, True, False, False, False, False, False, False, False, False, False, False, True, False, True, False, False, False, True, False, False, True, False, True, False, False, False, False, True, False, True, False, False, False, True, False, False, False, False, True, False, False, False, True, False, True, False, True, False, False, False, False, False, False, False, False, True, False, True, False, True, False, False, False, False, False, False, True, False, False, False, False, False, False, False, False, False, False, False, False, False, False, False, False, False, True, False, False, False, False, False, False, False, False, False, True, False, True, False, False, False, False, True, False, False, True, False, True, False, True, False, False, False, True, False, False, True, False, True, False, False, False, False, True, False, False, False, False, False, False, True, False, False, True, False, False, False, False, False, False, False, False, True, False, False, True, False, False, True, False, False, False, False, False, False, True, False, False, True, False, False, False, False, False, False, False, False, True, False, False, True, False, False, False, False, False, False, False, False, False, False, False, False, False, False, False, False, True, False, False, False, False, False, False, True, False, False, True, False, False, False, False, True, False, False, False, True, False, True, False, False, False, False, True, False, False, False, False, False, True, False, False, False, False, False, False, False, False, False, False, False, False, False, False, False, False, False, False, False, False, True, False, True, False, False, False, False, False, False, False, False, False, True, False, True, False, False, False, False, False, False, False, True, False, False, False, False, False, False, False, False, False, False, False, False, False, True, False, True, False, True, False, True, False, True, False, True, False, False, False, False, False, False, True, False, False, False, True, False, True, False, True, False, True, False, True, False, True, False, True, False, False, False, False, False, False, True, False, False, False, False, False, False, False, True, False, False, False, False, False, False, False, False, False, False, False, False, False, False, False, False, True, False, True, False, False, False, False, False, False, False, False, False, False, True, False, True, False, False, False, True, False, False, False, False, True, False, True, False, True, False, True, False, False, True, False, True, False, False, True, False, True, False, False, False, False, False, False, False, False, False, False, False, False, False, True, False, True, False, False, True, False, False, True, False, False, False, False, True, False, False, False, False, False, False, False, False, False, False, False, False, False, False, False, False, False, True, False, True, False, False, False, False, False, False, False, False, False, False, True, False, True, False, False, False, False, True, False, False, False, False, False, False, False, False, True, False, False, False, False, False, False, False, False, False, False, True, False, True, False, True, False, True, False, True, False, False, False, True, True, False, False, False, False, False, False, False, False, False, True, True, False, False, False, False, True]\n",
            "is_num [False, False, False, False, False, False, False, False, False, False, False, False, False, False, False, False, False, False, False, False, False, False, False, False, False, False, False, False, False, False, False, False, False, False, False, False, False, False, False, False, False, False, False, False, False, False, False, False, False, False, False, False, False, False, False, False, False, False, False, False, False, False, False, False, False, False, False, False, False, False, False, False, False, False, False, False, False, False, False, False, False, False, False, False, False, False, False, False, False, False, False, False, False, False, False, False, False, False, False, False, False, False, False, False, False, False, False, False, True, False, False, False, False, False, False, False, False, False, False, False, False, False, False, False, False, False, False, False, False, False, False, False, False, False, False, False, False, False, False, False, False, False, False, False, False, False, False, False, False, False, False, False, False, False, False, False, False, False, False, False, False, False, False, False, False, False, False, False, False, False, False, False, False, False, False, False, False, False, False, False, False, False, False, False, False, False, False, False, False, False, False, False, False, False, False, False, False, False, False, False, False, False, False, False, False, False, False, False, False, False, False, False, False, False, False, False, False, False, False, False, False, False, False, False, False, False, False, False, False, False, False, False, False, False, False, False, False, False, False, False, False, False, False, False, False, False, False, False, False, False, False, False, False, False, False, False, False, False, False, False, False, False, False, False, False, False, False, False, False, False, False, False, False, False, False, False, False, False, False, False, False, False, False, False, False, False, False, False, False, False, False, False, False, False, False, False, False, False, False, False, False, False, False, False, False, False, False, False, False, False, False, False, False, False, False, False, False, False, False, False, False, False, False, False, False, False, False, False, False, False, False, False, False, False, False, False, False, True, False, False, False, False, False, False, True, False, False, False, False, False, False, False, False, False, False, False, False, False, False, False, False, False, False, False, False, False, False, False, False, False, False, False, False, False, False, False, False, False, False, False, False, False, False, False, False, False, False, False, False, False, False, False, False, False, False, False, False, False, False, False, False, False, False, False, False, False, False, False, False, False, False, False, False, False, False, False, False, False, False, False, False, False, False, False, False, False, False, False, False, False, False, False, False, False, False, False, False, False, False, False, False, False, False, False, False, False, False, False, False, False, False, False, False, False, False, False, False, False, False, False, False, False, False, False, False, False, False, False, False, False, False, False, False, False, False, False, False, False, False, False, False, False, False, False, False, False, False, False, False, False, False, False, False, False, False, False, False, False, False, False, False, False, False, False, False, False, False, False, False, False, False, False, False, False, False, False, False, False, False, False, False, False, False, False, False, False, False, False, False, False, False, False, False, False, False, False, False, False, False, False, False, False, False, False, False, False, False, False, False, False, False, False, False, False, False, False, False, False, False, False, False, False, False, False, False, False, False, False, False, False, False, False, False, False, False, False, False, False, False, False, False, False, False, False, False, False, False, False, False, False, False, False, False, False, False, False, False, False, False, False, False, False, False, False, False, False, False, False, False, False, False, False, False, False, False, False, False, False, False, False, False, False, False, False, False, False, False, False, False, False, False, False, False, False, False, False, False, False, False, False, False, False, False, False, False, False, False, False, False, False, False, False, False, False, False, False, False, False, False, False, False, False, False, False, False, False, False, False, False, False, False, False, False, False, False, False, False, False, False, False, False, False, False, False]\n"
          ]
        }
      ]
    },
    {
      "cell_type": "code",
      "source": [
        "#you can use indexing on the doc to return only part of the doc\n",
        "\n",
        "nlp = spacy.load('en')\n",
        "doc = nlp(penny_string)\n",
        "\n",
        "#print first token\n",
        "first_token = doc[1] #actual first token is an empty string\n",
        "print(first_token.text)\n",
        "token_range = doc[1:7] #actual first token is an empty string\n",
        "print(token_range)"
      ],
      "metadata": {
        "colab": {
          "base_uri": "https://localhost:8080/"
        },
        "id": "1Xbbxw23k7PP",
        "outputId": "1868375f-1630-45df-fd06-e2a2bcddc5e8"
      },
      "execution_count": 132,
      "outputs": [
        {
          "output_type": "stream",
          "name": "stdout",
          "text": [
            "Oh\n",
            "Oh, hi! Hi?\n"
          ]
        }
      ]
    },
    {
      "cell_type": "code",
      "source": [
        "#find texts in string using token attributes\n",
        "doc = nlp(\"In 1990, more than 60% of people in East Asia were in extreme poverty. Now less than 4% are.\")\n",
        "\n",
        "# Iterate over the tokens in the doc\n",
        "for token in doc:\n",
        "    # Check if the token resembles a number\n",
        "    if token.like_num:\n",
        "        # Get the next token in the document\n",
        "        next_token = doc[token.i + 1]\n",
        "        # Check if the next token's text equals '%'\n",
        "        if next_token.text == '%':\n",
        "          print('Percentage found:', token.text)"
      ],
      "metadata": {
        "colab": {
          "base_uri": "https://localhost:8080/"
        },
        "id": "o39wfO9gmLA-",
        "outputId": "ff9f1262-3f0d-4a8f-ff90-5f416e82f499"
      },
      "execution_count": 133,
      "outputs": [
        {
          "output_type": "stream",
          "name": "stdout",
          "text": [
            "Percentage found: 60\n",
            "Percentage found: 4\n"
          ]
        }
      ]
    },
    {
      "cell_type": "markdown",
      "source": [
        "### **3.2 Spacy - Part of speech tags**"
      ],
      "metadata": {
        "id": "e0oKvjCaqG81"
      }
    },
    {
      "cell_type": "markdown",
      "source": [
        "* enable Spacy to predict linguistic attributes (e.g. is it a name)\n",
        "* these models are trained on large labeled example texts, but can be updated with more examples to fine_tune it's predictions\n",
        "* Spacy has multiple model packages that you can download\n",
        "-- 'en_core_web_sm is small english models that is trained on web tests\n",
        "-- the package contains the binary weights that Spacy needs to make a prediction, vocabulary and meta information."
      ],
      "metadata": {
        "id": "31N_K5bzqLAI"
      }
    },
    {
      "cell_type": "code",
      "source": [
        "#use spacy's statistical models to predict the label of words\n",
        "\n",
        "nlp = spacy.load('en_core_web_sm')\n",
        "doc = nlp(penny_string)\n",
        "\n",
        "#only look at first 10 words\n",
        "short_tokens = doc[0:10]\n",
        "\n",
        "for token in short_tokens:\n",
        "  print(token.text, token.pos_) # return each token and the part-of-speech tag"
      ],
      "metadata": {
        "colab": {
          "base_uri": "https://localhost:8080/"
        },
        "id": "d3mpgqA2qYyv",
        "outputId": "51e8e326-54b6-4363-ea71-01c5982e3bbc"
      },
      "execution_count": 134,
      "outputs": [
        {
          "output_type": "stream",
          "name": "stdout",
          "text": [
            "  SPACE\n",
            "Oh INTJ\n",
            ", PUNCT\n",
            "hi INTJ\n",
            "! PUNCT\n",
            "Hi INTJ\n",
            "? PUNCT\n",
            "Oh INTJ\n",
            ", PUNCT\n",
            "that DET\n"
          ]
        }
      ]
    },
    {
      "cell_type": "code",
      "source": [
        "#you can also predict how words are related (e.g. are they the subject of the sentence)\n",
        "# head attribute returns the syntactic head token (the parent token the token is attached to)\n",
        "\n",
        "doc = nlp(penny_string)\n",
        "short_tokens = doc[0:10]\n",
        "\n",
        "for token in short_tokens:\n",
        "  print(token.text, token.pos_, token.dep_, token.head.text) # return each token and the part-of-speech tag"
      ],
      "metadata": {
        "colab": {
          "base_uri": "https://localhost:8080/"
        },
        "id": "hUBKID8pqt7Z",
        "outputId": "e0fcaecf-b72c-46a2-8d6f-705c5ec96c58"
      },
      "execution_count": 135,
      "outputs": [
        {
          "output_type": "stream",
          "name": "stdout",
          "text": [
            "  SPACE  Oh\n",
            "Oh INTJ intj hi\n",
            ", PUNCT punct hi\n",
            "hi INTJ ROOT hi\n",
            "! PUNCT punct hi\n",
            "Hi INTJ ROOT Hi\n",
            "? PUNCT punct Hi\n",
            "Oh INTJ intj that\n",
            ", PUNCT punct Oh\n",
            "that DET ROOT that\n"
          ]
        }
      ]
    },
    {
      "cell_type": "code",
      "source": [
        "#and for named entities\n",
        "\n",
        "for ent in doc.ents:\n",
        "  #print(ent.text, ent.label_)\n",
        "  ent_text = ent.text\n",
        "  ent_label = ent.label_\n",
        "  print('{:<30}{:<10}'.format(ent_text, ent_label))\n"
      ],
      "metadata": {
        "colab": {
          "base_uri": "https://localhost:8080/"
        },
        "id": "YlfT4-84sP4l",
        "outputId": "178d563e-45ba-447f-a4ea-ab2a3235912c"
      },
      "execution_count": 136,
      "outputs": [
        {
          "output_type": "stream",
          "name": "stdout",
          "text": [
            "Penny                         PERSON    \n",
            "Leonard                       PERSON    \n",
            "one                           CARDINAL  \n",
            "Klingon                       GPE       \n",
            "the Cheesecake Factory        FAC       \n",
            "L.A.                          GPE       \n",
            "Lincoln Nebraska              ORG       \n",
            "the Cheesecake Factory        FAC       \n",
            "Omaha                         GPE       \n",
            "Penny                         PERSON    \n",
            "four years                    DATE      \n",
            "four years                    DATE      \n",
            "Penny                         PERSON    \n",
            "the Cheesecake Factory        FAC       \n",
            "Leonard                       PERSON    \n",
            "Leonard                       PERSON    \n",
            "Sheldon                       PERSON    \n",
            "English                       LANGUAGE  \n",
            "Raj                           PERSON    \n"
          ]
        }
      ]
    },
    {
      "cell_type": "code",
      "source": [
        "#quickly check what a label means\n",
        "spacy.explain('GPE')"
      ],
      "metadata": {
        "colab": {
          "base_uri": "https://localhost:8080/",
          "height": 36
        },
        "id": "QElhmyHCvlco",
        "outputId": "3cf11915-a542-429f-bf2e-a1f85942485e"
      },
      "execution_count": 137,
      "outputs": [
        {
          "output_type": "execute_result",
          "data": {
            "application/vnd.google.colaboratory.intrinsic+json": {
              "type": "string"
            },
            "text/plain": [
              "'Countries, cities, states'"
            ]
          },
          "metadata": {},
          "execution_count": 137
        }
      ]
    },
    {
      "cell_type": "markdown",
      "source": [
        "* PERSON:      People, including fictional.\n",
        "* NORP:        Nationalities or religious or political groups.\n",
        "* FAC:         Buildings, airports, highways, bridges, etc.\n",
        "* ORG:         Companies, agencies, institutions, etc.\n",
        "* GPE:         Countries, cities, states.\n",
        "* LOC:         Non-GPE locations, mountain ranges, bodies of water.\n",
        "* PRODUCT:     Objects, vehicles, foods, etc. (Not services.)\n",
        "* EVENT:       Named hurricanes, battles, wars, sports events, etc.\n",
        "* WORK_OF_ART: Titles of books, songs, etc.\n",
        "* LAW:         Named documents made into laws.\n",
        "* LANGUAGE:    Any named language.\n",
        "* DATE:        Absolute or relative dates or periods.\n",
        "* TIME:        Times smaller than a day.\n",
        "* PERCENT:     Percentage, including ”%“.\n",
        "* MONEY:       Monetary values, including unit.\n",
        "* QUANTITY:    Measurements, as of weight or distance.\n",
        "* ORDINAL:     “first”, “second”, etc.\n",
        "* CARDINAL:    Numerals that do not fall under another type."
      ],
      "metadata": {
        "id": "tVQ7jM2JuriM"
      }
    },
    {
      "cell_type": "markdown",
      "source": [
        "### 3.3 Spacy matcher"
      ],
      "metadata": {
        "id": "hSdyR7c-yCjx"
      }
    },
    {
      "cell_type": "markdown",
      "source": [
        "* write rules to find words and phrases in text\n",
        "* comppared to regular expressions, spacy works with doc objects, not just strings. It is also more flexible.\n",
        "* you can also find words using the model's predictions (e.g. the noun 'duck' vs. the verb 'duck')\n",
        "\n",
        "\n",
        "---\n",
        "* match patterns are a list of dictionaries, one item per token.\n",
        "** {'ORTH': 'iPhone'} is an exact match for iPhone\n",
        "** {'LOWER': 'iphone'} matches lowercase form of iphone\n",
        "** {'LEMMA': 'buy'} matches items that contain the lemmatized version of buy \n",
        "** pattern = [{'TEXT': 'iOS'}, {'IS_DIGIT': True}] ((\"iOS 7\", \"iOS 11\", \"iOS 10\"))\n",
        "** Write a pattern that matches a form of \"download\" plus proper noun\n",
        "pattern = [{'LEMMA': 'download'}, {'POS': 'PROPN'}]\n",
        "** Write a pattern for adjective plus one or two nouns\n",
        "pattern = [{'POS': 'ADJ'}, {'POS': 'NOUN'}, {'POS': 'NOUN', 'OP': '?'}]\n",
        "\n"
      ],
      "metadata": {
        "id": "q8BnmJ8iyGMK"
      }
    },
    {
      "cell_type": "code",
      "source": [
        ""
      ],
      "metadata": {
        "id": "6LbZf6z0zf-m"
      },
      "execution_count": 137,
      "outputs": []
    },
    {
      "cell_type": "code",
      "source": [
        "#load model and create the nlp object\n",
        "nlp = spacy.load('en_core_web_sm')\n",
        "doc = nlp(penny_string)\n",
        "\n",
        "#initialize the matcher with shared vocabulary\n",
        "matcher = Matcher(nlp.vocab)\n",
        "\n",
        "#add a pattern to the matcher\n",
        "pattern = [{'LEMMA': 'speak'}, {'TEXT': 'English'}] \n",
        "matcher.add('Speak_pattern', None, pattern)  #second argument is an optinal callbakc\n",
        "\n",
        "#call matches on doc\n",
        "matches = matcher(doc)  #returns tuple with match:id, start_index and end index\n",
        "print(matches)\n",
        "\n",
        "print('Total matches found:', len(matches))\n",
        "print('Matches:', [doc[start:end].text for match_id, start, end in matches])"
      ],
      "metadata": {
        "colab": {
          "base_uri": "https://localhost:8080/"
        },
        "id": "8TIrMCN5s_HA",
        "outputId": "9594c1c9-a3d2-4699-eac5-551971e2b245"
      },
      "execution_count": 138,
      "outputs": [
        {
          "output_type": "stream",
          "name": "stdout",
          "text": [
            "[(8309639128054061621, 551, 553)]\n",
            "Total matches found: 1\n",
            "Matches: ['speak English']\n"
          ]
        }
      ]
    },
    {
      "cell_type": "code",
      "source": [
        "pattern = [{'LEMMA': 'love', 'POS': 'VERB'}, { 'POS': 'NOUN', 'OP': '?'}] #OPerator  is added to indicate to match 0 or 1 times, but more is possible\n",
        "matcher.add('love_pattern', None, pattern)  #second argument is an optinal callbakc\n",
        "matches = matcher(doc) \n",
        "print(matches)\n",
        "\n",
        "print('Matches:', [doc[start:end].text for match_id, start, end in matches])"
      ],
      "metadata": {
        "colab": {
          "base_uri": "https://localhost:8080/"
        },
        "id": "FgxTlb7XxwKE",
        "outputId": "5471ef1c-a397-4654-ecf7-88ff71664f16"
      },
      "execution_count": 139,
      "outputs": [
        {
          "output_type": "stream",
          "name": "stdout",
          "text": [
            "[(9434855986025066383, 68, 69), (9434855986025066383, 229, 230), (9434855986025066383, 229, 231), (9434855986025066383, 388, 389), (8309639128054061621, 551, 553)]\n",
            "Matches: ['love', 'love', 'love steak', 'love', 'speak English']\n"
          ]
        }
      ]
    },
    {
      "cell_type": "code",
      "source": [
        "#load model and create the nlp object\n",
        "nlp = spacy.load('en_core_web_sm')\n",
        "doc = nlp(penny_string)\n",
        "\n",
        "#initialize the matcher with shared vocabulary\n",
        "matcher = Matcher(nlp.vocab)\n",
        "\n",
        "#add a pattern to the matcher\n",
        "pattern = [{'POS': 'ADJ'}, {'POS': 'NOUN'}, {'POS': 'NOUN', 'OP': '?'}]\n",
        "matcher.add('newpattern', None, pattern)  #second argument is an optinal callbakc\n",
        "\n",
        "#call matches on doc\n",
        "matches = matcher(doc)  #returns tuple with match:id, start_index and end index\n",
        "#print(matches)\n",
        "\n",
        "print('Total matches found:', len(matches))\n",
        "print('Matches:', [doc[start:end].text for match_id, start, end in matches])\n"
      ],
      "metadata": {
        "colab": {
          "base_uri": "https://localhost:8080/"
        },
        "id": "niHpx-Ky4lku",
        "outputId": "db89ceaf-7d77-4b6d-d66f-61118edc3529"
      },
      "execution_count": 140,
      "outputs": [
        {
          "output_type": "stream",
          "name": "stdout",
          "text": [
            "Total matches found: 10\n",
            "Matches: ['new neighbour', 'serious stuff', 'beautiful mind', 'beautiful mind genius', 'occasional steak', 'sensitive girl', 'pathetic part', 'stupid shower', 'cool tiger', 'worried expression']\n"
          ]
        }
      ]
    },
    {
      "cell_type": "code",
      "source": [
        ""
      ],
      "metadata": {
        "id": "WATAWxMwnBpC"
      },
      "execution_count": 140,
      "outputs": []
    },
    {
      "cell_type": "markdown",
      "source": [
        "### 3.4 Spacy under the hood"
      ],
      "metadata": {
        "id": "ZejWtVDVjtE9"
      }
    },
    {
      "cell_type": "markdown",
      "source": [
        "* vocab: stores data across multiple documents\n",
        "* all strings are stored to hash values (a word is stored only once)\n",
        "* strings are stored once in the stringstore\n",
        "* lexemes are context-independent entries in the vocabulary \n",
        "\n",
        "\n",
        "\n",
        "---\n",
        "\n",
        "\n",
        "* a doc contains words in context (e.g. I love coffee), with their part of speech tegs and dependencies\n",
        "* each token refers to a lexeme, which knows the words hash id (e.g. love = 37020...)\n",
        "* to get the string representation of the word, the has can be looked up in the strongstore\n",
        "\n",
        "\n",
        "---\n",
        "\n",
        "**tips**\n",
        "* convert the doc as late as possible because f you do it early, you loose all relationships between the tokens."
      ],
      "metadata": {
        "id": "A08MKqfvkOPy"
      }
    },
    {
      "cell_type": "code",
      "source": [
        "#each word is saved using a hash\n",
        "\n",
        "#load model and create the nlp object\n",
        "nlp = spacy.load('en_core_web_sm')\n",
        "doc = nlp(penny_string)\n",
        "\n",
        "# Look up the hash for the word \"hello\"\n",
        "hello_hash = nlp.vocab.strings['hello']\n",
        "print(hello_hash)\n",
        "\n",
        "# Look up the hello_hash to get the string\n",
        "hello_string = nlp.vocab.strings[hello_hash]\n",
        "print(hello_string)\n",
        "\n",
        "print()\n",
        "lexeme = nlp.vocab['hello']\n",
        "print (lexeme.text, lexeme.orth, lexeme.is_alpha)"
      ],
      "metadata": {
        "colab": {
          "base_uri": "https://localhost:8080/"
        },
        "id": "xC2XfsA2kqBU",
        "outputId": "ebfc47a5-7db6-48db-b2b9-5076ab973690"
      },
      "execution_count": 141,
      "outputs": [
        {
          "output_type": "stream",
          "name": "stdout",
          "text": [
            "5983625672228268878\n",
            "hello\n",
            "\n",
            "hello 5983625672228268878 True\n"
          ]
        }
      ]
    },
    {
      "cell_type": "markdown",
      "source": [
        "### 3.5 Semantic similarity"
      ],
      "metadata": {
        "id": "IfszopSSrD73"
      }
    },
    {
      "cell_type": "markdown",
      "source": [
        "* compare two objects and predict how similarity they are (docs, spans or token)\n",
        "* similarity is expressed in a scale of 0 to 1\n",
        "* you need a model that has word vectors included, such as a medium or large model\n",
        "* if you want to use word vectors, always use the medium or large models, not the small model\n",
        "----\n",
        "* similarity is determined using word vectors (multi-demensional meaning representations of words)\n",
        "* generated using an algorithm that is similar to the Word2Vec that is often used to create wordvectors\n",
        "* doc and span ectors deffault to the average of token vectors, that is why short phrases are better than long documents with many irrelevant words\n",
        "* similarity can be used for many applications: recommendation systems, flagging duplicates etc.\n",
        "* there is no objective definition of similarity ('I like cats' and 'I hate cats' have a high similarity score, becuase they both express sentiment about cats, but there are contexts where you may want them to be very dissimilar"
      ],
      "metadata": {
        "id": "VVsQs5zvrJog"
      }
    },
    {
      "cell_type": "code",
      "source": [
        "#load a model with vectors\n",
        "nlp = spacy.load('en_core_web_md')\n",
        "\n",
        "#create a string for sheldon\n",
        "sheldon_series = episode[(episode['episode_id']== '1-1') & (episode['character']=='Sheldon')]['line']\n",
        "sheldon_string = sheldon_series.to_string(index=False)\n",
        "\n",
        "#create two documetns and create how similar they are\n",
        "doc1 = nlp(penny_string)\n",
        "doc2 = nlp(sheldon_string)\n",
        "print(doc1.similarity(doc2))"
      ],
      "metadata": {
        "colab": {
          "base_uri": "https://localhost:8080/"
        },
        "id": "zqSnKcOhrlJv",
        "outputId": "b4f2a560-bcc6-4e9f-cbc6-be33a6ec68d2"
      },
      "execution_count": 142,
      "outputs": [
        {
          "output_type": "stream",
          "name": "stdout",
          "text": [
            "0.9754445545646069\n"
          ]
        }
      ]
    },
    {
      "cell_type": "code",
      "source": [
        "#compare two docs - similarity is very objective\n",
        "doc1 = nlp(\"I like cats\")\n",
        "doc2 = nlp (\"I hate cats\")\n",
        "doc3 = nlp ('I like dogs')\n",
        "\n",
        "#print vector of the word 'I'\n",
        "i_vector = doc1[0].vector\n",
        "#print(i_vector)\n",
        "print()\n",
        "\n",
        "#print documents\n",
        "print(doc1.similarity(doc2))\n",
        "print(doc1.similarity(doc3))"
      ],
      "metadata": {
        "colab": {
          "base_uri": "https://localhost:8080/"
        },
        "id": "SJMZmyCDlX5q",
        "outputId": "c9e2d697-e48a-4433-e0f9-fcac97c27192"
      },
      "execution_count": 143,
      "outputs": [
        {
          "output_type": "stream",
          "name": "stdout",
          "text": [
            "\n",
            "0.9501447503553421\n",
            "0.957709143352323\n"
          ]
        }
      ]
    },
    {
      "cell_type": "code",
      "source": [
        ""
      ],
      "metadata": {
        "id": "GY2_-uhmz6QE"
      },
      "execution_count": 143,
      "outputs": []
    },
    {
      "cell_type": "markdown",
      "source": [
        "### 3.6 Combining statistical models and rules"
      ],
      "metadata": {
        "id": "oxdsNGqsyyFk"
      }
    },
    {
      "cell_type": "markdown",
      "source": [
        "**Statistical models**\n",
        "* applications that need to generalize based on examples\n",
        "* used for product names, person names, object relatonships\n",
        "* part-of-speech tagger, entity recognizer, dependency parser are some of the spacy features\n",
        "\n",
        "\n",
        "\n",
        "---\n",
        "**Rule-based systems**\n",
        "* handy where there is a finite number of examples you may want to find\n",
        "* e.g. countries f the world, cities, drug names, dog breeds\n",
        "* tokenizer, Matcher, PhraseMatcher as some of the examples here\n"
      ],
      "metadata": {
        "id": "bR64oydQy2K_"
      }
    },
    {
      "cell_type": "code",
      "source": [
        "#example of phrase matching\n",
        "\n",
        "#initailze phrasematcher with a vocabulary\n",
        "matcher = PhraseMatcher(nlp.vocab)\n",
        "\n",
        "#pass in a doc object as the pattern\n",
        "pattern = nlp('I’m')\n",
        "matcher.add('IAM', None, pattern)\n",
        "\n",
        "doc = nlp(penny_string)\n",
        "\n",
        "#iterate over the matches\n",
        "for match_id, start, end in matcher(doc):\n",
        "  #get the matched span\n",
        "  span = doc[start:end]\n",
        "  print('Matched span:', span.text)\n",
        "\n"
      ],
      "metadata": {
        "colab": {
          "base_uri": "https://localhost:8080/"
        },
        "id": "Aia4N2vNzHjV",
        "outputId": "e3bfd092-a85c-4313-8904-e58d5910125e"
      },
      "execution_count": 144,
      "outputs": [
        {
          "output_type": "stream",
          "name": "stdout",
          "text": [
            "Matched span: I’m\n",
            "Matched span: I’m\n",
            "Matched span: I’m\n",
            "Matched span: I’m\n",
            "Matched span: I’m\n",
            "Matched span: I’m\n",
            "Matched span: I’m\n",
            "Matched span: I’m\n",
            "Matched span: I’m\n",
            "Matched span: I’m\n",
            "Matched span: I’m\n",
            "Matched span: I’m\n",
            "Matched span: I’m\n"
          ]
        }
      ]
    },
    {
      "cell_type": "code",
      "source": [
        "#this is how you could match with matcher\n",
        "\n",
        "doc = nlp(penny_string)\n",
        "\n",
        "# Create the match patterns\n",
        "#pattern1 = [{'LOWER': 'amazon'}, {'IS_TITLE': True, 'POS': 'PROPN'}]\n",
        "#pattern2 = [{'LOWER': 'ad'}, {'TEXT': '-'}, {'LOWER': 'free'}, {'POS': 'NOUN'}]\n",
        "\n",
        "pattern1 = [{'LEMMA': 'speak'}, {'TEXT': 'English'}] \n",
        "pattern2 = [{'LEMMA': 'love'}, { 'POS': 'NOUN'}] \n",
        "\n",
        "# Initialize the Matcher and add the patterns\n",
        "matcher = Matcher(nlp.vocab)\n",
        "matcher.add('PATTERN1', None, pattern1)\n",
        "matcher.add('PATTERN2', None, pattern2)\n",
        "\n",
        "# Iterate over the matches\n",
        "for match_id, start, end in matcher(doc):\n",
        "  # Print pattern string name and text of matched span\n",
        "  print(doc.vocab.strings[match_id], doc[start:end].text)"
      ],
      "metadata": {
        "colab": {
          "base_uri": "https://localhost:8080/"
        },
        "id": "CTwjITcb1S0B",
        "outputId": "94cce1b3-ae4f-454c-d97d-dd55c33ed85f"
      },
      "execution_count": 145,
      "outputs": [
        {
          "output_type": "stream",
          "name": "stdout",
          "text": [
            "PATTERN2 love steak\n",
            "PATTERN1 speak English\n"
          ]
        }
      ]
    },
    {
      "cell_type": "code",
      "source": [
        "#this is how you use phrase matcher\n",
        "\n",
        "doc = nlp(penny_string)\n",
        "\n",
        "# Import the PhraseMatcher and initialize it\n",
        "matcher = PhraseMatcher(nlp.vocab)\n",
        "\n",
        "# Create pattern Doc objects and add them to the matcher\n",
        "# This is the faster version of: [nlp(name) for name in names]\n",
        "names = ['Penny', 'Sheldon', 'Leonard', 'Howard']  #phase matcher is useful when you have a finite list\n",
        "patterns = list(nlp.pipe(names ))\n",
        "matcher.add('NAME', None, *patterns)\n",
        "\n",
        "# Call the matcher on the test document and print the result\n",
        "matches = matcher(doc)\n",
        "print([doc[start:end] for match_id, start, end in matches])"
      ],
      "metadata": {
        "colab": {
          "base_uri": "https://localhost:8080/"
        },
        "id": "oohmWErI3OoB",
        "outputId": "ac3f6867-6b7e-4524-d574-20ef2f3f3092"
      },
      "execution_count": 146,
      "outputs": [
        {
          "output_type": "stream",
          "name": "stdout",
          "text": [
            "[Penny, Leonard, Penny, Penny, Leonard, Leonard, Sheldon]\n"
          ]
        }
      ]
    },
    {
      "cell_type": "code",
      "source": [
        "#above we used phraseMatcher to fines names in a text\n",
        "# you can run phrasematcher on a longer text, analyze the syntax, and update the document's entities with the matched countries\n",
        "\n",
        "# Iterate over the matches\n",
        "for match_id, start, end in matcher(doc):\n",
        "    # Create a Span with the label for \"PERSON   #the current matches are already classifier as persons, but if they werent, you could give them the right tag\n",
        "    span = Span(doc, start, end, label='PERSON')\n",
        "\n",
        "    # Overwrite the doc.ents and add the span\n",
        "    #doc.ents = list(doc.ents) + [span]\n",
        "\n",
        "    # Get the span's root head token\n",
        "    span_root_head = span.root.head\n",
        "    # Print the text of the span root's head token and the span text\n",
        "    print(span_root_head.text, '-->', span.text)\n",
        "    \n",
        "# Print the entities in the document\n",
        "#print([(ent.text, ent.label_) for ent in doc.ents if ent.label_ == 'PERSON'])\n"
      ],
      "metadata": {
        "colab": {
          "base_uri": "https://localhost:8080/"
        },
        "id": "anjmNxaS1SlT",
        "outputId": "ff29d7ac-94e2-47a2-e6fc-bcdffae7477b"
      },
      "execution_count": 147,
      "outputs": [
        {
          "output_type": "stream",
          "name": "stdout",
          "text": [
            "neighbour --> Penny\n",
            "do --> Leonard\n",
            "of --> Penny\n",
            "Penny --> Penny\n",
            "Hey --> Leonard\n",
            "with --> Leonard\n",
            "Leonard --> Sheldon\n"
          ]
        }
      ]
    },
    {
      "cell_type": "markdown",
      "source": [
        "### **3.7 Processing pipelines**"
      ],
      "metadata": {
        "id": "Cwco4coE8MV_"
      }
    },
    {
      "cell_type": "markdown",
      "source": [
        "* what happens when you call nlp on text?\n",
        "** tokenizer to turn text in doc opject\n",
        "** tagger: part of speech tagger\n",
        "** parser: adds token.head, token.dep etc.\n",
        "** ner: named entity recornizer \n",
        "** textcat: text classifier\n",
        "** result is the doc object\n",
        "\n",
        "* the spacy models contain the language, the pipeline components used by the model (e.g. tagger, parser, ner)\n",
        "\n",
        "\n",
        "\n",
        "---\n",
        "\n",
        "**custom pipeline components**\n",
        "\n",
        "* e.g. add your own metadeta to document ansd tokens\n",
        "** update built-in attributes like doc.ents\n",
        "** not for updating the pre-trained models and improving their predictions\n",
        "\n",
        "\n",
        "\n",
        "--\n",
        "\n",
        "\n"
      ],
      "metadata": {
        "id": "zGyrGu50Rxsb"
      }
    },
    {
      "cell_type": "code",
      "source": [
        ""
      ],
      "metadata": {
        "id": "ImZF8tSrcCvp"
      },
      "execution_count": null,
      "outputs": []
    },
    {
      "cell_type": "code",
      "source": [
        "# Load the en_core_web_sm model\n",
        "nlp = spacy.load('en_core_web_sm')\n",
        "\n",
        "# Print the names of the pipeline components\n",
        "print(nlp.pipe_names)\n",
        "\n",
        "# Print the full pipeline of (name, component) tuples\n",
        "print(nlp.pipeline)"
      ],
      "metadata": {
        "id": "v18LqnVFvTse",
        "colab": {
          "base_uri": "https://localhost:8080/"
        },
        "outputId": "72ceb0fd-1a98-4d98-a4ec-cae07ba5f97d"
      },
      "execution_count": 148,
      "outputs": [
        {
          "output_type": "stream",
          "name": "stdout",
          "text": [
            "['tagger', 'parser', 'ner']\n",
            "[('tagger', <spacy.pipeline.pipes.Tagger object at 0x7fce374dcc10>), ('parser', <spacy.pipeline.pipes.DependencyParser object at 0x7fce2ecbca60>), ('ner', <spacy.pipeline.pipes.EntityRecognizer object at 0x7fce11c1b600>)]\n"
          ]
        }
      ]
    },
    {
      "cell_type": "code",
      "source": [
        "#custom pipeline components\n",
        "\n",
        "#create nlp object\n",
        "nlp = spacy.load('en_core_web_sm')\n",
        "\n",
        "#define a custom components\n",
        "def custom_components(doc):\n",
        "  print(len(doc))\n",
        "  doc_length = len(doc)\n",
        "  print(\"This document is {} tokens long.\".format(doc_length))\n",
        "  return doc\n",
        "\n",
        "# add component first in the pipeline\n",
        "nlp.add_pipe(custom_components, first=True)\n",
        "\n",
        "#print pipeline components names\n",
        "print('Pipeline', nlp.pipe_names)\n",
        "\n",
        "#process text\n",
        "doc = nlp(\"Hello world!\")"
      ],
      "metadata": {
        "colab": {
          "base_uri": "https://localhost:8080/"
        },
        "id": "m_8u9gbMSlbx",
        "outputId": "5a0ec42e-c4ef-4def-e092-a2dbc70a2567"
      },
      "execution_count": 149,
      "outputs": [
        {
          "output_type": "stream",
          "name": "stdout",
          "text": [
            "Pipeline ['custom_components', 'tagger', 'parser', 'ner']\n",
            "3\n",
            "This document is 3 tokens long.\n"
          ]
        }
      ]
    },
    {
      "cell_type": "code",
      "source": [
        "#complex components\n",
        "\n",
        "\n",
        "# Import the PhraseMatcher and initialize it\n",
        "matcher = PhraseMatcher(nlp.vocab)\n",
        "names = ['dog', 'cat', 'horse', 'fish', 'Sagittarius']  #phase matcher is useful when you have a finite list\n",
        "patterns = list(nlp.pipe(names ))\n",
        "matcher.add('ANIMAL', None, *patterns)\n",
        "\n",
        "\n",
        "# Define the custom component that finds animal names in the document and adds the matched spands to the doc.ents\n",
        "def animal_component(doc):\n",
        "    # Apply the matcher to the doc\n",
        "    matches = matcher(doc)\n",
        "    # Create a Span for each match and assign the label 'ANIMAL'\n",
        "    spans = [Span(doc, start, end, label='ANIMAL')\n",
        "             for match_id, start, end in matches]\n",
        "    # Overwrite the doc.ents with the matched spans\n",
        "    doc.ents = spans\n",
        "    return doc\n",
        "\n",
        "# Add the component to the pipeline after the 'ner' component \n",
        "nlp.add_pipe(animal_component, after='ner')\n",
        "print(nlp.pipe_names)\n",
        "\n",
        "# Process the text and print the text and label for the doc.ents\n",
        "doc = nlp(\"I have a cat and a Golden Retriever\")\n",
        "print([(ent.text, ent.label_) for ent in doc.ents])"
      ],
      "metadata": {
        "colab": {
          "base_uri": "https://localhost:8080/"
        },
        "id": "pHfMoCxdXKXW",
        "outputId": "48d2524d-c986-4ba9-e3c2-75c3d390baaa"
      },
      "execution_count": 150,
      "outputs": [
        {
          "output_type": "stream",
          "name": "stdout",
          "text": [
            "1\n",
            "This document is 1 tokens long.\n",
            "1\n",
            "This document is 1 tokens long.\n",
            "1\n",
            "This document is 1 tokens long.\n",
            "1\n",
            "This document is 1 tokens long.\n",
            "1\n",
            "This document is 1 tokens long.\n",
            "['custom_components', 'tagger', 'parser', 'ner', 'animal_component']\n",
            "8\n",
            "This document is 8 tokens long.\n",
            "[('cat', 'ANIMAL')]\n"
          ]
        }
      ]
    },
    {
      "cell_type": "code",
      "source": [
        "# you could potentially use this to re-label the word 'saggitatirus' as animal\n",
        "doc = nlp(penny_string)\n",
        "\n",
        "print([(ent.text, ent.label_) for ent in doc.ents])"
      ],
      "metadata": {
        "colab": {
          "base_uri": "https://localhost:8080/"
        },
        "id": "K9aapUAgZHxo",
        "outputId": "8ba35024-ecc5-4ee8-b397-cb21e569026f"
      },
      "execution_count": 153,
      "outputs": [
        {
          "output_type": "stream",
          "name": "stdout",
          "text": [
            "684\n",
            "This document is 684 tokens long.\n",
            "[('Sagittarius', 'ANIMAL'), ('fish', 'ANIMAL')]\n"
          ]
        }
      ]
    },
    {
      "cell_type": "code",
      "source": [
        ""
      ],
      "metadata": {
        "id": "EWqJxebmeQrV"
      },
      "execution_count": null,
      "outputs": []
    },
    {
      "cell_type": "markdown",
      "source": [
        "### 3.8 Processing large volumes of text"
      ],
      "metadata": {
        "id": "gubuPjUfeNwo"
      }
    },
    {
      "cell_type": "markdown",
      "source": [
        "* nlp.pipe processes texts as a stream and yields doc objects\n",
        "* much faster than calling nlp on each text"
      ],
      "metadata": {
        "id": "Et4zOT0ceRAv"
      }
    },
    {
      "cell_type": "code",
      "source": [
        ""
      ],
      "metadata": {
        "id": "SkCEnKiNhgW7"
      },
      "execution_count": null,
      "outputs": []
    },
    {
      "cell_type": "code",
      "source": [
        "#spacy requires a list of strings\n",
        "episode_list_list = episode.copy()\n",
        "\n",
        "#step 1: pre-process the text\n",
        "episode_list_list['cleaned_text']  = ''\n",
        "\n",
        "#create nlp object\n",
        "nlp = spacy.load('en_core_web_sm')\n",
        "\n",
        "def preprocess (text):\n",
        "  doc = nlp(text, disable =['ner', 'parser'])\n",
        "  lemmas = [token.lemma_ for token in doc]\n",
        "  a_lemmas = [lemma for lemma in lemmas if lemma.isalpha()]\n",
        "  lowercase = [t.lower() for t in a_lemmas]\n",
        "  no_stops = [w for w in lowercase if w not in stopwords.words('english')]\n",
        "  return ' '.join(no_stops)\n",
        "\n",
        "#apply function\n",
        "episode_list_list['cleaned_text'] =episode_list_list['line'].apply(preprocess)\n",
        "\n",
        "#create a list of strings\n",
        "dialogue_list = episode_list_list['cleaned_text'].tolist()\n"
      ],
      "metadata": {
        "id": "-acnjkKqfnJg"
      },
      "execution_count": 165,
      "outputs": []
    },
    {
      "cell_type": "code",
      "source": [
        "\n",
        "dialogue_list [0:5]"
      ],
      "metadata": {
        "colab": {
          "base_uri": "https://localhost:8080/"
        },
        "id": "cZdxPVB3gc5w",
        "outputId": "0134b3d3-2300-43a7-8552-365cae7ee265"
      },
      "execution_count": 166,
      "outputs": [
        {
          "output_type": "execute_result",
          "data": {
            "text/plain": [
              "['wait till see stephen hawking lecture mit become creepy computer voice yeah right grandmother back town hang really lady want anticipate coitus available coitus enchante madamoiselle howard wolowitz cal tech department applied physics may familiar work currently orbit jupiter large moon take high resolution digital photograph bon douche french good shower sentiment express six language see ka tong guay jow oh speak english speak woman kind nerd juice box one favourite place kick back quest great house ale yeah since level ten name button anyway game character could hang maybe go quest think turn leave lake street head colorado know wonderful little sushi bar karaoke baby baby get hooked uh baby baby get hooked',\n",
              " 'agree point excuse one across aegean eight nabakov twenty six across mcm fourteen move finger phylum make fourteen across port au prince see papa doc capital idea port au prince haiti yes um high iq sperm bank thank right back kid semi pro sheldon idea little extra money get fractional bandwidth apartment sure still love well want okay know never renege proffer sperm okay see really care two millimetre seem right send board school new neighbour significant improvement old neighbour hi hi mean interrupt live across hall oh uh live together um live together separate heterosexual bedroom leonard sheldon hi hi well uh oh welcome building oh great great well bye bye invite lunch already watch season two dvd think good neighbour invite make feel welcome well wrong need widen circle yes never meet one go invite nice meal chat well difficult listen say say something appropriate response hi hi anyway um bring home indian food um know move stressful find undergo stress good food company comforting effect also curry natural laxative tell uh clean colon one less thing worry uh yes great okay well make home welcome board like board board least invent twenty six dimension make math come universe go sit somewhere else sheldon well nice lot company yes yes remember sorry say sorry yeah like regular boggle klingon probably enough tell think sheldon try say sagittarius would first guess wu uh sort job oh okay love cheesecake eat think good idea base life well movie would go see well sound wonderful know say something feel like say something crazy uh uh paradox paradox part nature think light look huygens light wave confirm double slit experiment along come albert einstein discover light behave like particle well make bad shower work right hall true remember thanksgiving grandmother alzheimer episode bad part watch carve turkey excuse well try sex make think would sex male female go engage hypothetical try good neighbour say carnal relationship develop would participate however briefly darth vader shampoo knock door luke skywalker see good time great guy go good time lady new neighbour uh huh anticipate coitus please stop say coitus come show trick shower save blog howard uh go stick sorry welcome oh go step right okay hair product sheldon favour sure ask favour would favour oh probably say yes wow must ask favour sheldon biological impossibility come come know break wuh break joyce kim mend broken heart situation much less complicated kind dispute penny ex boyfriend get custody tv want avoid scene sheldon go scene two one talking hi leonard sheldon uh pick penny tv go give like excuse give first little hitch never would able identify fingerprint stre theory aftermath big bang come combine iq able figure get stupid building grab door knocks talking leonard sheldon oh scientist sorry sheldon sorry drag right motive hope establish relationship penny may day lead sex anyway learn lesson league get work one day win nobel prize die alone thank sheldon good friend home well ex boyfriend send regard think rest fairly self explanatory valid hypothesis really great baby smart beautiful thai food okay penny',\n",
              " 'hang help ask maybe fill oh take time finish crossword puzzle oh wait yeah get lose yeah hell get building',\n",
              " 'oh hi hi oh nice oh okay well guess new neighbour penny hi hi thankyou maybe coffee sometime great bye hi hi oh invite eat oh nice would love guy fun around okay thankyou look like serious stuff leonard wow like one beautiful mind genius guy really impressive holy smoke uh guy mind start sit next difference want move klingon boggle um okay sagittarius probably tell way need know participate oh yeah lot people think water sign okay let see else oh vegetarian oh except fish occasional steak love steak oh yeah waitress cheesecake factory oh anyways also write screenplay sensitive girl come lincoln nebraska actress wind waitress cheesecake factory omaha know right okay let see else um story penny fall love jerk oh god know four year live four year like long high school believe trust want know pathetic part even though hate lying cheat gut still love crazy oh sorry mess top everything else gross move stupid shower even work really would totally weird use thank guy really hey trick get switch tub shower oh hi sorry hello penny work cheesecake factory sorry okay thank hey leonard um okay ask favour okay say kind thing ask guy meet guy work leonard sheldon university uh sorry speak english really wow cool tiger uh sound interesting oh think able stop think oh god happen sorry really think guy go instead would ass really thank much go try uh terrific put clothe get purse dinner okay sure idea raj look worried expression sound like fun',\n",
              " 'fantastic unbelievable smooth']"
            ]
          },
          "metadata": {},
          "execution_count": 166
        }
      ]
    },
    {
      "cell_type": "code",
      "source": [
        "# use nlp/pipe to process a list of text\n",
        "\n",
        "# Process the texts and print the adjectives\n",
        "for text in dialogue_list:\n",
        "    doc = nlp(text)\n",
        "    #print([token.text for token in doc if token.pos_ == 'ADJ'])\n",
        "    #this returns a list of adjectives\n",
        "    #['available', 'familiar', 'large', 'high', 'french', 'good', 'favourite', 'wonderful', 'little']\n",
        "    #['high', 'little', 'extra', 'fractional', 'bandwidth', 'new', 'significant', 'old', 'separate'....]\n",
        "\n",
        "# Process the texts and print the entities\n",
        "docs = list(nlp.pipe(dialogue_list))\n",
        "entities = [doc.ents for doc in docs]\n",
        "print(*entities[0:10])\n",
        "\n",
        "## Create a list of patterns for the PhraseMatcher\n",
        "people = ['bert', 'stuart', 'lady gaga', 'stephen hawking']\n",
        "patterns = list(nlp.pipe(people))"
      ],
      "metadata": {
        "colab": {
          "base_uri": "https://localhost:8080/"
        },
        "id": "7_wM00TpfLgx",
        "outputId": "1c035709-708b-4177-fb17-97eef3b26ad6"
      },
      "execution_count": 170,
      "outputs": [
        {
          "output_type": "stream",
          "name": "stdout",
          "text": [
            "(stephen hawking, mit, coitus, coitus, tech department, jupiter, douche french, six, english, one, ten, lake street, colorado) (eight nabakov, twenty six, fourteen, fourteen, papa doc capital, two, two, one, indian, one, welcome board like board board, twenty six, klingon, sheldon try, sagittarius, first, wu, albert einstein, thanksgiving, turkey, luke skywalker, coitus, coitus, favour sheldon, joyce kim, two, may day, one day, nobel prize, thai) (hang help,) (neighbour penny, one, klingon, vegetarian, lincoln, nebraska, cheesecake factory omaha, four year, four year, tub shower, english, raj) () (photon direct plane two, two, twelve, two hundred pound, two, today, quantum, mit, winter, summer, tuesday, night, klingon, one morning, four year, luke skywalker, coitus, half, penis, russian, arabic, farsi, joyce kim, north korea, two, first, nobel prize, imaginary thai, indian, mack) (farminfarmian, bogarde symposium quark, evening) (miles dyson, dyson, skynet kinky, sheldon, bin, sheldon, friday, friday, penny, sheldon, two morning, howard, howard, penny, sheldon murderer, first mate, last night, two) (morning, leo au contraire, year old, crib note denton texas navy, theatre physics, one, fourteen year old, philippines, navy, philippines, subic bay naval) (tonight, ou ooooo, tonight, wanna prowl night, sheldon reappear, mimi, one night, friday, huh howard, sheldon, sheldon, farmin farm, sheldon, america, last night)\n"
          ]
        }
      ]
    },
    {
      "cell_type": "code",
      "source": [
        ""
      ],
      "metadata": {
        "id": "77enfXZsk3ub"
      },
      "execution_count": null,
      "outputs": []
    },
    {
      "cell_type": "markdown",
      "source": [
        "### **3.9 Training a Spacy model**"
      ],
      "metadata": {
        "id": "yIj8b3aNky44"
      }
    },
    {
      "cell_type": "markdown",
      "source": [
        "* why update the model: make model more accurate by showing it examles to your domain... very useful for entity recognition\n",
        "* examples need to  come with context (e.g. 'iphone X is coming' but text witout entities are also important ( 'i need a new phone, any tips?')\n",
        "* to update an existing model, you can start with a few hundred to a few thoustand training examples. For a new category you need up to a million examples.\n",
        "* also include examples that the model previously predicted correctly because otherwise it might unlearn it"
      ],
      "metadata": {
        "id": "OKsc0NPyk5d0"
      }
    },
    {
      "cell_type": "code",
      "source": [
        "#creating training data\n",
        "\n",
        "# Two tokens whose lowercase forms match 'iphone' and 'x'\n",
        "#pattern1 = [{'LOWER': 'iphone'}, {'LOWER': 'x'}]\n",
        "pattern1 = [{'LEMMA': 'speak'}, {'TEXT': 'English'}] \n",
        "\n",
        "# Token whose lowercase form matches 'iphone' and an optional digit\n",
        "#pattern2 = [{'LOWER': 'iphone'}, {'IS_DIGIT': True, 'OP': '?'}]\n",
        "pattern2 = [{'LEMMA': 'love'}, { 'POS': 'NOUN'}] \n",
        "\n",
        "# Add patterns to the matcher\n",
        "# Initialize the Matcher and add the patterns\n",
        "matcher = Matcher(nlp.vocab)\n",
        "#matcher.add('PATTERN1', None, pattern1)\n",
        "#matcher.add('PATTERN2', None, pattern2)\n",
        "matcher.add('GADGET', None, pattern1, pattern2)  #gives an error but should work\n",
        " \n",
        "# Create a Doc object for each text in TEXTS\n",
        "for doc in nlp.pipe(dialogue_list):\n",
        "    # Find the matches in the doc\n",
        "    matches = matcher(doc)\n",
        "    \n",
        "    # Get a list of (start, end, label) tuples of matches in the text\n",
        "    entities = [(start, end, 'GADGET') for match_id, start, end in matches]\n",
        "    print(doc.text, entities) \n",
        "\n",
        "#create training data\n",
        "TRAINING_DATA = []\n",
        "\n",
        "# Create a Doc object for each text in TEXTS\n",
        "for doc in nlp.pipe(dialogue_list):\n",
        "    # Match on the doc and create a list of matched spans\n",
        "    spans = [doc[start:end] for match_id, start, end in matcher(doc)]\n",
        "    # Get (start character, end character, label) tuples of matches\n",
        "    entities = [(span.start_char, span.end_char, 'GADGET') for span in spans]\n",
        "    \n",
        "    # Format the matches as a (doc.text, entities) tuple\n",
        "    training_example = (doc.text, {'entities': entities})\n",
        "    # Append the example to the training data\n",
        "    TRAINING_DATA.append(training_example)\n",
        "    \n",
        "#print(*TRAINING_DATA, sep='\\n')    "
      ],
      "metadata": {
        "id": "zNXjzRh_fd2H"
      },
      "execution_count": null,
      "outputs": []
    },
    {
      "cell_type": "code",
      "source": [
        "#train the model\n",
        "for i in range (10):\n",
        "  #shuffle the training data\n",
        "  random.shuffle(TRAINING_DATA)\n",
        "  #create batches and iterate over tehm\n",
        "  for batch in spacy.util.minibatch(TRAINING_DATA):\n",
        "    #split the batch in texts and annotations\n",
        "    texts = [text for text, annotation in batch]\n",
        "    annotations = [annotation for text, annotation in batch]\n",
        "   #update the mode\n",
        "    #nlp.update(texts, annotations)\n",
        "#save the model\n",
        "#nlp.to_disk(path_to_model)"
      ],
      "metadata": {
        "id": "J7Z8BF4XnaeE"
      },
      "execution_count": null,
      "outputs": []
    },
    {
      "cell_type": "code",
      "source": [
        "#setting up new pipeline from scratch\n",
        "\n",
        "# Create a blank 'en' model\n",
        "nlp = spacy.blank('en')\n",
        "\n",
        "# Create a new entity recognizer and add it to the pipeline\n",
        "ner = nlp.create_pipe('ner')\n",
        "nlp.add_pipe(ner)\n",
        "\n",
        "# Add the label 'GADGET' to the entity recognizer\n",
        "ner.add_label('GADGET')\n",
        "\n",
        "# Start the training\n",
        "nlp.begin_training()\n",
        "\n",
        "# Loop for 10 iterations\n",
        "for itn in range(10):\n",
        "    # Shuffle the training data\n",
        "    random.shuffle(TRAINING_DATA)\n",
        "    losses = {}\n",
        "    \n",
        "    # Batch the examples and iterate over them\n",
        "    for batch in spacy.util.minibatch(TRAINING_DATA, size=2):\n",
        "        texts = [text for text, entities in batch]\n",
        "        annotations = [entities for text, entities in batch]\n",
        "        \n",
        "        # Update the model\n",
        "        #nlp.update(texts, annotations, losses=losses)\n",
        "        ##print(losses) #The numbers printed to the IPython shell represent the loss on each iteration, the amount of work left for the optimizer. "
      ],
      "metadata": {
        "id": "qKJI4ISgqQZf"
      },
      "execution_count": 185,
      "outputs": []
    },
    {
      "cell_type": "code",
      "source": [
        ""
      ],
      "metadata": {
        "id": "-ZRUz05exdZ0"
      },
      "execution_count": null,
      "outputs": []
    },
    {
      "cell_type": "markdown",
      "source": [
        "# **4 Sentiment analysis**"
      ],
      "metadata": {
        "id": "kxw7sULJtHaJ"
      }
    },
    {
      "cell_type": "markdown",
      "source": [
        "### 4.1 Rule vs machine sentiment"
      ],
      "metadata": {
        "id": "yh1xsiab4mcR"
      }
    },
    {
      "cell_type": "markdown",
      "source": [
        "* the process of understanding the opintion of an author about a subject.\n",
        "* three elements: \n",
        "-- opinion/emotions (positive, negative, joy, mad)\n",
        "-- subject of discussion (movie, product)\n",
        "-- opinion holder(entity) \n",
        "\n",
        "* used for social media monitoring (how do peeople talk about brand), customer service, product analytics, market research etc.\n",
        "\n",
        "\n",
        "\n",
        "---\n",
        "**levels of granularity**\n",
        "\n",
        "* document level (entire reivew)\n",
        "* sentence level\n",
        "* aspect level (different features of a single of a product)\n",
        "\n",
        "\n",
        "---\n",
        "\n",
        "\n",
        "\n",
        "**types of sentiment analysis algorithms**\n",
        "* *rule/lexicon-based*\n",
        "** predefined list of words with balance score (nice: +2, good: +1) --> model sums/averages the scores of each word for total balance (valence)\n",
        "** rely on manually crafted valance scores\n",
        "** fail at certain tasks because polarity of word can change with the context of the words\n",
        "** quite fast\n",
        "* *automated/machine leanring systems*\n",
        "** requires having labelled historical data\n",
        "** take a while to train\n",
        "** powerful\n"
      ],
      "metadata": {
        "id": "XJIPcJBttJTF"
      }
    },
    {
      "cell_type": "code",
      "source": [
        "#how many word has the longest dialogue\n",
        "print( max( df['line'].str.len()))\n",
        "print( min( df['line'].str.len()))"
      ],
      "metadata": {
        "colab": {
          "base_uri": "https://localhost:8080/"
        },
        "id": "0LlAM-quxuXa",
        "outputId": "334ffcdd-7823-4af8-9302-452e47a82529"
      },
      "execution_count": 194,
      "outputs": [
        {
          "output_type": "stream",
          "name": "stdout",
          "text": [
            "1071\n",
            "1\n"
          ]
        }
      ]
    },
    {
      "cell_type": "code",
      "source": [
        "#what is the valance (balance) of a sentence?\n",
        "\n",
        "#apply textblob object (contains some NLP processing )\n",
        "#polarity (positivity) is measured on scale of -1 to 1 \n",
        "#subjectivity is measured on scale of 0 to 1, where 0 is very objective (factual) and 1 very subjectiive (personal opinion)\n",
        "penny_blob= TextBlob(penny_string)\n",
        "print(\"Sentiment of Penny:\", penny_blob.sentiment )\n",
        "print()\n",
        "\n",
        "sheldon_blob = TextBlob(sheldon_string)\n",
        "print(\"Sentiment of Sheldon:\", sheldon_blob.sentiment )\n",
        "\n"
      ],
      "metadata": {
        "colab": {
          "base_uri": "https://localhost:8080/"
        },
        "id": "3rpHdQlZzDK1",
        "outputId": "3620fd16-9439-48dc-914a-ad6a1be70976"
      },
      "execution_count": 213,
      "outputs": [
        {
          "output_type": "stream",
          "name": "stdout",
          "text": [
            "Sentiment of Penny: Sentiment(polarity=0.1693345901410417, subjectivity=0.5856583112228274)\n",
            "\n",
            "Sentiment of Sheldon: Sentiment(polarity=0.11662585034013603, subjectivity=0.46127834467120193)\n"
          ]
        }
      ]
    },
    {
      "cell_type": "markdown",
      "source": [
        "### 4.2 word cloud"
      ],
      "metadata": {
        "id": "uocXCst84tAx"
      }
    },
    {
      "cell_type": "markdown",
      "source": [
        "** more common words are displayed bolder\n",
        "* pro: review essential, provide an overal sense of the text, easy to understan\n",
        "* downlside: can be confusing, large texts require pre-processing"
      ],
      "metadata": {
        "id": "pHuoEdCM48cq"
      }
    },
    {
      "cell_type": "code",
      "source": [
        "#create wordcloud:  type ?WordCloud for more arguments to add to the cloud function\n",
        "\n",
        "my_stopwords = ['uh', 'oh', 'hi']\n",
        "cloud_penny = WordCloud(background_color=\"white\", stopwords=my_stopwords).generate(penny_string)  \n",
        "\n",
        "#display\n",
        "plt.imshow(cloud_penny, interpolation = 'bilinear')\n",
        "plt.axis('off')\n",
        "plt.show()"
      ],
      "metadata": {
        "colab": {
          "base_uri": "https://localhost:8080/",
          "height": 197
        },
        "id": "PQGBGlRT2VgP",
        "outputId": "68a01e8e-84e6-40ad-9f52-55aeeb9cfad1"
      },
      "execution_count": 218,
      "outputs": [
        {
          "output_type": "display_data",
          "data": {
            "image/png": "[encoded data removed]",
            "text/plain": [
              "<Figure size 432x288 with 1 Axes>"
            ]
          },
          "metadata": {
            "needs_background": "light"
          }
        }
      ]
    },
    {
      "cell_type": "markdown",
      "source": [
        "### 4.3 Bag of words"
      ],
      "metadata": {
        "id": "a07vMXNy8qv5"
      }
    },
    {
      "cell_type": "code",
      "source": [
        ""
      ],
      "metadata": {
        "id": "EiajnAAs59oy"
      },
      "execution_count": null,
      "outputs": []
    }
  ]
}