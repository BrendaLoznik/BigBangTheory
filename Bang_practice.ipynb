{
  "nbformat": 4,
  "nbformat_minor": 0,
  "metadata": {
    "colab": {
      "name": "Bang_practice.ipynb",
      "provenance": [],
      "toc_visible": true,
      "mount_file_id": "1oRzakWdb28hZF-LouqyjwKgyDGYvE6G6",
      "authorship_tag": "ABX9TyP1LW43be+4nP78IBPn2WDE",
      "include_colab_link": true
    },
    "kernelspec": {
      "name": "python3",
      "display_name": "Python 3"
    },
    "language_info": {
      "name": "python"
    }
  },
  "cells": [
    {
      "cell_type": "markdown",
      "metadata": {
        "id": "view-in-github",
        "colab_type": "text"
      },
      "source": [
        "<a href=\"https://colab.research.google.com/github/BrendaLoznik/BigBangTheory/blob/main/Bang_practice.ipynb\" target=\"_parent\"><img src=\"https://colab.research.google.com/assets/colab-badge.svg\" alt=\"Open In Colab\"/></a>"
      ]
    },
    {
      "cell_type": "code",
      "execution_count": 1,
      "metadata": {
        "id": "nD7DvbrB3ZXo"
      },
      "outputs": [],
      "source": [
        ""
      ]
    },
    {
      "cell_type": "markdown",
      "source": [
        "# **1 Housekeeping**"
      ],
      "metadata": {
        "id": "96m5eCcM3uy6"
      }
    },
    {
      "cell_type": "markdown",
      "source": [
        "### **1.1 Load libraries**"
      ],
      "metadata": {
        "id": "m7CPZA-k3u7P"
      }
    },
    {
      "cell_type": "code",
      "source": [
        "pip install polyglot"
      ],
      "metadata": {
        "colab": {
          "base_uri": "https://localhost:8080/"
        },
        "id": "LSypIYeU5OoU",
        "outputId": "0fc0450e-b26b-456e-a537-2e9a428f7982"
      },
      "execution_count": 2,
      "outputs": [
        {
          "output_type": "stream",
          "name": "stdout",
          "text": [
            "Requirement already satisfied: polyglot in /usr/local/lib/python3.7/dist-packages (16.7.4)\n"
          ]
        }
      ]
    },
    {
      "cell_type": "code",
      "source": [
        "import nltk\n",
        "nltk.download('punkt')\n",
        "nltk.download('stopwords')\n",
        "nltk.download('wordnet')\n",
        "nltk.download('averaged_perceptron_tagger')\n",
        "nltk.download('maxent_ne_chunker')\n",
        "nltk.download('words')\n"
      ],
      "metadata": {
        "id": "vy9ITdQ0IzmK"
      },
      "execution_count": null,
      "outputs": []
    },
    {
      "cell_type": "code",
      "source": [
        "#run line below to dlownlaod thebdium and large language packages that give errors when you try to import them otherwise"
      ],
      "metadata": {
        "id": "aoZ0BGK6toUi"
      },
      "execution_count": 4,
      "outputs": []
    },
    {
      "cell_type": "code",
      "source": [
        "!python -m spacy download en_core_web_md"
      ],
      "metadata": {
        "colab": {
          "base_uri": "https://localhost:8080/"
        },
        "id": "EzEEh3W9tkZC",
        "outputId": "eb2f5e2b-0bdc-436f-b0ad-2372359731e4"
      },
      "execution_count": 1,
      "outputs": [
        {
          "output_type": "stream",
          "name": "stdout",
          "text": [
            "Collecting en_core_web_md==2.2.5\n",
            "  Downloading https://github.com/explosion/spacy-models/releases/download/en_core_web_md-2.2.5/en_core_web_md-2.2.5.tar.gz (96.4 MB)\n",
            "\u001b[K     |████████████████████████████████| 96.4 MB 2.2 MB/s \n",
            "\u001b[?25hRequirement already satisfied: spacy>=2.2.2 in /usr/local/lib/python3.7/dist-packages (from en_core_web_md==2.2.5) (2.2.4)\n",
            "Requirement already satisfied: catalogue<1.1.0,>=0.0.7 in /usr/local/lib/python3.7/dist-packages (from spacy>=2.2.2->en_core_web_md==2.2.5) (1.0.0)\n",
            "Requirement already satisfied: wasabi<1.1.0,>=0.4.0 in /usr/local/lib/python3.7/dist-packages (from spacy>=2.2.2->en_core_web_md==2.2.5) (0.8.2)\n",
            "Requirement already satisfied: blis<0.5.0,>=0.4.0 in /usr/local/lib/python3.7/dist-packages (from spacy>=2.2.2->en_core_web_md==2.2.5) (0.4.1)\n",
            "Requirement already satisfied: thinc==7.4.0 in /usr/local/lib/python3.7/dist-packages (from spacy>=2.2.2->en_core_web_md==2.2.5) (7.4.0)\n",
            "Requirement already satisfied: setuptools in /usr/local/lib/python3.7/dist-packages (from spacy>=2.2.2->en_core_web_md==2.2.5) (57.4.0)\n",
            "Requirement already satisfied: numpy>=1.15.0 in /usr/local/lib/python3.7/dist-packages (from spacy>=2.2.2->en_core_web_md==2.2.5) (1.19.5)\n",
            "Requirement already satisfied: cymem<2.1.0,>=2.0.2 in /usr/local/lib/python3.7/dist-packages (from spacy>=2.2.2->en_core_web_md==2.2.5) (2.0.6)\n",
            "Requirement already satisfied: plac<1.2.0,>=0.9.6 in /usr/local/lib/python3.7/dist-packages (from spacy>=2.2.2->en_core_web_md==2.2.5) (1.1.3)\n",
            "Requirement already satisfied: requests<3.0.0,>=2.13.0 in /usr/local/lib/python3.7/dist-packages (from spacy>=2.2.2->en_core_web_md==2.2.5) (2.23.0)\n",
            "Requirement already satisfied: preshed<3.1.0,>=3.0.2 in /usr/local/lib/python3.7/dist-packages (from spacy>=2.2.2->en_core_web_md==2.2.5) (3.0.6)\n",
            "Requirement already satisfied: murmurhash<1.1.0,>=0.28.0 in /usr/local/lib/python3.7/dist-packages (from spacy>=2.2.2->en_core_web_md==2.2.5) (1.0.6)\n",
            "Requirement already satisfied: tqdm<5.0.0,>=4.38.0 in /usr/local/lib/python3.7/dist-packages (from spacy>=2.2.2->en_core_web_md==2.2.5) (4.62.3)\n",
            "Requirement already satisfied: srsly<1.1.0,>=1.0.2 in /usr/local/lib/python3.7/dist-packages (from spacy>=2.2.2->en_core_web_md==2.2.5) (1.0.5)\n",
            "Requirement already satisfied: importlib-metadata>=0.20 in /usr/local/lib/python3.7/dist-packages (from catalogue<1.1.0,>=0.0.7->spacy>=2.2.2->en_core_web_md==2.2.5) (4.8.2)\n",
            "Requirement already satisfied: zipp>=0.5 in /usr/local/lib/python3.7/dist-packages (from importlib-metadata>=0.20->catalogue<1.1.0,>=0.0.7->spacy>=2.2.2->en_core_web_md==2.2.5) (3.6.0)\n",
            "Requirement already satisfied: typing-extensions>=3.6.4 in /usr/local/lib/python3.7/dist-packages (from importlib-metadata>=0.20->catalogue<1.1.0,>=0.0.7->spacy>=2.2.2->en_core_web_md==2.2.5) (3.10.0.2)\n",
            "Requirement already satisfied: chardet<4,>=3.0.2 in /usr/local/lib/python3.7/dist-packages (from requests<3.0.0,>=2.13.0->spacy>=2.2.2->en_core_web_md==2.2.5) (3.0.4)\n",
            "Requirement already satisfied: idna<3,>=2.5 in /usr/local/lib/python3.7/dist-packages (from requests<3.0.0,>=2.13.0->spacy>=2.2.2->en_core_web_md==2.2.5) (2.10)\n",
            "Requirement already satisfied: certifi>=2017.4.17 in /usr/local/lib/python3.7/dist-packages (from requests<3.0.0,>=2.13.0->spacy>=2.2.2->en_core_web_md==2.2.5) (2021.10.8)\n",
            "Requirement already satisfied: urllib3!=1.25.0,!=1.25.1,<1.26,>=1.21.1 in /usr/local/lib/python3.7/dist-packages (from requests<3.0.0,>=2.13.0->spacy>=2.2.2->en_core_web_md==2.2.5) (1.24.3)\n",
            "\u001b[38;5;2m✔ Download and installation successful\u001b[0m\n",
            "You can now load the model via spacy.load('en_core_web_md')\n"
          ]
        }
      ]
    },
    {
      "cell_type": "code",
      "source": [
        "#basic libraries\n",
        "import numpy as np\n",
        "import pandas as pd\n",
        "import matplotlib.pyplot as plt\n",
        "%matplotlib inline\n",
        "import seaborn as sns\n",
        "import re\n",
        "\n",
        "pd.set_option(\"display.max_columns\", 100)\n",
        "pd.set_option(\"display.max_rows\", 200)\n",
        "\n",
        "#toekanization\n",
        "from nltk.tokenize import word_tokenize\n",
        "from nltk.tokenize import sent_tokenize\n",
        "from nltk.tokenize import regexp_tokenize\n",
        "from nltk.tokenize import TweetTokenizer\n",
        "from collections import Counter\n",
        "\n",
        "#preprocessing\n",
        "from nltk.corpus import stopwords\n",
        "from nltk.stem import WordNetLemmatizer\n",
        "\n",
        "#gensim\n",
        "from gensim.corpora.dictionary import Dictionary\n",
        "from collections import defaultdict\n",
        "import itertools   \n",
        "from gensim.models.tfidfmodel import TfidfModel\n",
        "\n",
        "#spacy\n",
        "import spacy\n",
        "nlp = spacy.load('en')\n",
        "from spacy.matcher import Matcher, PhraseMatcher\n",
        "from spacy.tokens import Span\n",
        "\n",
        "#polyglot\n",
        "#from polyglot.text import Text, Word\n",
        "\n",
        "#ml\n",
        "from sklearn.feature_extraction.text import CountVectorizer\n",
        "from sklearn.model_selection import train_test_split\n",
        "from sklearn.feature_extraction.text import TfidfVectorizer\n",
        "from sklearn.naive_bayes import MultinomialNB #works wel with countvectorizer (less well for floats created by tfidf)\n",
        "from sklearn import metrics\n",
        "\n"
      ],
      "metadata": {
        "id": "h0CWKSwz3x9a"
      },
      "execution_count": 2,
      "outputs": []
    },
    {
      "cell_type": "markdown",
      "source": [
        "### ***1.2 Load data***"
      ],
      "metadata": {
        "id": "jgUNZULo33gh"
      }
    },
    {
      "cell_type": "code",
      "source": [
        "from google.colab import drive \n",
        "drive.mount('/content/gdrive')"
      ],
      "metadata": {
        "colab": {
          "base_uri": "https://localhost:8080/"
        },
        "id": "WCRvHgl03yLR",
        "outputId": "c4289797-88e4-497b-fcd0-8b5c364fac92"
      },
      "execution_count": 3,
      "outputs": [
        {
          "output_type": "stream",
          "name": "stdout",
          "text": [
            "Mounted at /content/gdrive\n"
          ]
        }
      ]
    },
    {
      "cell_type": "markdown",
      "source": [
        "**One line per paragraph per episode**"
      ],
      "metadata": {
        "id": "osnnmz2A7hu8"
      }
    },
    {
      "cell_type": "code",
      "source": [
        "#df: one line per paragraph\n",
        "df= pd.read_csv('/content/gdrive/MyDrive/Kaggle/Bigbang/cleaned_episodes2.csv', sep = '|')\n",
        "df.head()"
      ],
      "metadata": {
        "colab": {
          "base_uri": "https://localhost:8080/",
          "height": 206
        },
        "id": "l9Y22-V035oZ",
        "outputId": "5672ed4c-eb90-4a4e-eaa7-219ea6cb1fca"
      },
      "execution_count": 4,
      "outputs": [
        {
          "output_type": "execute_result",
          "data": {
            "text/html": [
              "\n",
              "  <div id=\"df-53225dbf-83b2-42df-8119-c0f4fce07023\">\n",
              "    <div class=\"colab-df-container\">\n",
              "      <div>\n",
              "<style scoped>\n",
              "    .dataframe tbody tr th:only-of-type {\n",
              "        vertical-align: middle;\n",
              "    }\n",
              "\n",
              "    .dataframe tbody tr th {\n",
              "        vertical-align: top;\n",
              "    }\n",
              "\n",
              "    .dataframe thead th {\n",
              "        text-align: right;\n",
              "    }\n",
              "</style>\n",
              "<table border=\"1\" class=\"dataframe\">\n",
              "  <thead>\n",
              "    <tr style=\"text-align: right;\">\n",
              "      <th></th>\n",
              "      <th>episode_nr</th>\n",
              "      <th>season</th>\n",
              "      <th>season_episode</th>\n",
              "      <th>episode_id</th>\n",
              "      <th>episode_name</th>\n",
              "      <th>character</th>\n",
              "      <th>location</th>\n",
              "      <th>line</th>\n",
              "      <th>line_id</th>\n",
              "    </tr>\n",
              "  </thead>\n",
              "  <tbody>\n",
              "    <tr>\n",
              "      <th>0</th>\n",
              "      <td>1</td>\n",
              "      <td>1</td>\n",
              "      <td>1</td>\n",
              "      <td>1-1</td>\n",
              "      <td>Pilot Episode</td>\n",
              "      <td>Sheldon</td>\n",
              "      <td>A corridor at a sperm bank.</td>\n",
              "      <td>So if a photon is directed through a plane wit...</td>\n",
              "      <td>1</td>\n",
              "    </tr>\n",
              "    <tr>\n",
              "      <th>1</th>\n",
              "      <td>1</td>\n",
              "      <td>1</td>\n",
              "      <td>1</td>\n",
              "      <td>1-1</td>\n",
              "      <td>Pilot Episode</td>\n",
              "      <td>Leonard</td>\n",
              "      <td>A corridor at a sperm bank.</td>\n",
              "      <td>Agreed, what’s your point?</td>\n",
              "      <td>2</td>\n",
              "    </tr>\n",
              "    <tr>\n",
              "      <th>2</th>\n",
              "      <td>1</td>\n",
              "      <td>1</td>\n",
              "      <td>1</td>\n",
              "      <td>1-1</td>\n",
              "      <td>Pilot Episode</td>\n",
              "      <td>Sheldon</td>\n",
              "      <td>A corridor at a sperm bank.</td>\n",
              "      <td>There’s no point, I just think it’s a good ide...</td>\n",
              "      <td>3</td>\n",
              "    </tr>\n",
              "    <tr>\n",
              "      <th>3</th>\n",
              "      <td>1</td>\n",
              "      <td>1</td>\n",
              "      <td>1</td>\n",
              "      <td>1-1</td>\n",
              "      <td>Pilot Episode</td>\n",
              "      <td>Leonard</td>\n",
              "      <td>A corridor at a sperm bank.</td>\n",
              "      <td>Excuse me?</td>\n",
              "      <td>4</td>\n",
              "    </tr>\n",
              "    <tr>\n",
              "      <th>4</th>\n",
              "      <td>1</td>\n",
              "      <td>1</td>\n",
              "      <td>1</td>\n",
              "      <td>1-1</td>\n",
              "      <td>Pilot Episode</td>\n",
              "      <td>Receptionist</td>\n",
              "      <td>A corridor at a sperm bank.</td>\n",
              "      <td>Hang on.</td>\n",
              "      <td>5</td>\n",
              "    </tr>\n",
              "  </tbody>\n",
              "</table>\n",
              "</div>\n",
              "      <button class=\"colab-df-convert\" onclick=\"convertToInteractive('df-53225dbf-83b2-42df-8119-c0f4fce07023')\"\n",
              "              title=\"Convert this dataframe to an interactive table.\"\n",
              "              style=\"display:none;\">\n",
              "        \n",
              "  <svg xmlns=\"http://www.w3.org/2000/svg\" height=\"24px\"viewBox=\"0 0 24 24\"\n",
              "       width=\"24px\">\n",
              "    <path d=\"M0 0h24v24H0V0z\" fill=\"none\"/>\n",
              "    <path d=\"M18.56 5.44l.94 2.06.94-2.06 2.06-.94-2.06-.94-.94-2.06-.94 2.06-2.06.94zm-11 1L8.5 8.5l.94-2.06 2.06-.94-2.06-.94L8.5 2.5l-.94 2.06-2.06.94zm10 10l.94 2.06.94-2.06 2.06-.94-2.06-.94-.94-2.06-.94 2.06-2.06.94z\"/><path d=\"M17.41 7.96l-1.37-1.37c-.4-.4-.92-.59-1.43-.59-.52 0-1.04.2-1.43.59L10.3 9.45l-7.72 7.72c-.78.78-.78 2.05 0 2.83L4 21.41c.39.39.9.59 1.41.59.51 0 1.02-.2 1.41-.59l7.78-7.78 2.81-2.81c.8-.78.8-2.07 0-2.86zM5.41 20L4 18.59l7.72-7.72 1.47 1.35L5.41 20z\"/>\n",
              "  </svg>\n",
              "      </button>\n",
              "      \n",
              "  <style>\n",
              "    .colab-df-container {\n",
              "      display:flex;\n",
              "      flex-wrap:wrap;\n",
              "      gap: 12px;\n",
              "    }\n",
              "\n",
              "    .colab-df-convert {\n",
              "      background-color: #E8F0FE;\n",
              "      border: none;\n",
              "      border-radius: 50%;\n",
              "      cursor: pointer;\n",
              "      display: none;\n",
              "      fill: #1967D2;\n",
              "      height: 32px;\n",
              "      padding: 0 0 0 0;\n",
              "      width: 32px;\n",
              "    }\n",
              "\n",
              "    .colab-df-convert:hover {\n",
              "      background-color: #E2EBFA;\n",
              "      box-shadow: 0px 1px 2px rgba(60, 64, 67, 0.3), 0px 1px 3px 1px rgba(60, 64, 67, 0.15);\n",
              "      fill: #174EA6;\n",
              "    }\n",
              "\n",
              "    [theme=dark] .colab-df-convert {\n",
              "      background-color: #3B4455;\n",
              "      fill: #D2E3FC;\n",
              "    }\n",
              "\n",
              "    [theme=dark] .colab-df-convert:hover {\n",
              "      background-color: #434B5C;\n",
              "      box-shadow: 0px 1px 3px 1px rgba(0, 0, 0, 0.15);\n",
              "      filter: drop-shadow(0px 1px 2px rgba(0, 0, 0, 0.3));\n",
              "      fill: #FFFFFF;\n",
              "    }\n",
              "  </style>\n",
              "\n",
              "      <script>\n",
              "        const buttonEl =\n",
              "          document.querySelector('#df-53225dbf-83b2-42df-8119-c0f4fce07023 button.colab-df-convert');\n",
              "        buttonEl.style.display =\n",
              "          google.colab.kernel.accessAllowed ? 'block' : 'none';\n",
              "\n",
              "        async function convertToInteractive(key) {\n",
              "          const element = document.querySelector('#df-53225dbf-83b2-42df-8119-c0f4fce07023');\n",
              "          const dataTable =\n",
              "            await google.colab.kernel.invokeFunction('convertToInteractive',\n",
              "                                                     [key], {});\n",
              "          if (!dataTable) return;\n",
              "\n",
              "          const docLinkHtml = 'Like what you see? Visit the ' +\n",
              "            '<a target=\"_blank\" href=https://colab.research.google.com/notebooks/data_table.ipynb>data table notebook</a>'\n",
              "            + ' to learn more about interactive tables.';\n",
              "          element.innerHTML = '';\n",
              "          dataTable['output_type'] = 'display_data';\n",
              "          await google.colab.output.renderOutput(dataTable, element);\n",
              "          const docLink = document.createElement('div');\n",
              "          docLink.innerHTML = docLinkHtml;\n",
              "          element.appendChild(docLink);\n",
              "        }\n",
              "      </script>\n",
              "    </div>\n",
              "  </div>\n",
              "  "
            ],
            "text/plain": [
              "   episode_nr  season  season_episode episode_id    episode_name  \\\n",
              "0           1       1               1        1-1  Pilot Episode    \n",
              "1           1       1               1        1-1  Pilot Episode    \n",
              "2           1       1               1        1-1  Pilot Episode    \n",
              "3           1       1               1        1-1  Pilot Episode    \n",
              "4           1       1               1        1-1  Pilot Episode    \n",
              "\n",
              "      character                     location  \\\n",
              "0       Sheldon  A corridor at a sperm bank.   \n",
              "1       Leonard  A corridor at a sperm bank.   \n",
              "2       Sheldon  A corridor at a sperm bank.   \n",
              "3       Leonard  A corridor at a sperm bank.   \n",
              "4  Receptionist  A corridor at a sperm bank.   \n",
              "\n",
              "                                                line  line_id  \n",
              "0  So if a photon is directed through a plane wit...        1  \n",
              "1                         Agreed, what’s your point?        2  \n",
              "2  There’s no point, I just think it’s a good ide...        3  \n",
              "3                                         Excuse me?        4  \n",
              "4                                           Hang on.        5  "
            ]
          },
          "metadata": {},
          "execution_count": 4
        }
      ]
    },
    {
      "cell_type": "markdown",
      "source": [
        "**Lines by main character per episode**"
      ],
      "metadata": {
        "id": "ZD2OIZeA5Df1"
      }
    },
    {
      "cell_type": "code",
      "source": [
        "#df: record for the main characters per episode\n",
        "episode = pd.read_csv('/content/gdrive/MyDrive/Kaggle/Bigbang/lines_main_characters2.csv')\n",
        "episode = episode.sort_values(['episode_id', 'character'])\n",
        "episode.head(2)"
      ],
      "metadata": {
        "colab": {
          "base_uri": "https://localhost:8080/",
          "height": 112
        },
        "id": "R-TdIItn7TvT",
        "outputId": "3d681e33-e0dc-4053-ac27-a44e4f4075d1"
      },
      "execution_count": 5,
      "outputs": [
        {
          "output_type": "execute_result",
          "data": {
            "text/html": [
              "\n",
              "  <div id=\"df-44632455-46fc-4216-9926-49ec117aeb44\">\n",
              "    <div class=\"colab-df-container\">\n",
              "      <div>\n",
              "<style scoped>\n",
              "    .dataframe tbody tr th:only-of-type {\n",
              "        vertical-align: middle;\n",
              "    }\n",
              "\n",
              "    .dataframe tbody tr th {\n",
              "        vertical-align: top;\n",
              "    }\n",
              "\n",
              "    .dataframe thead th {\n",
              "        text-align: right;\n",
              "    }\n",
              "</style>\n",
              "<table border=\"1\" class=\"dataframe\">\n",
              "  <thead>\n",
              "    <tr style=\"text-align: right;\">\n",
              "      <th></th>\n",
              "      <th>episode_id</th>\n",
              "      <th>character</th>\n",
              "      <th>line</th>\n",
              "    </tr>\n",
              "  </thead>\n",
              "  <tbody>\n",
              "    <tr>\n",
              "      <th>0</th>\n",
              "      <td>1-1</td>\n",
              "      <td>Howard</td>\n",
              "      <td>Wait till you see this. It’s a Stephen Hawking...</td>\n",
              "    </tr>\n",
              "    <tr>\n",
              "      <th>1</th>\n",
              "      <td>1-1</td>\n",
              "      <td>Leonard</td>\n",
              "      <td>Agreed, what’s your point? Excuse me? One acro...</td>\n",
              "    </tr>\n",
              "  </tbody>\n",
              "</table>\n",
              "</div>\n",
              "      <button class=\"colab-df-convert\" onclick=\"convertToInteractive('df-44632455-46fc-4216-9926-49ec117aeb44')\"\n",
              "              title=\"Convert this dataframe to an interactive table.\"\n",
              "              style=\"display:none;\">\n",
              "        \n",
              "  <svg xmlns=\"http://www.w3.org/2000/svg\" height=\"24px\"viewBox=\"0 0 24 24\"\n",
              "       width=\"24px\">\n",
              "    <path d=\"M0 0h24v24H0V0z\" fill=\"none\"/>\n",
              "    <path d=\"M18.56 5.44l.94 2.06.94-2.06 2.06-.94-2.06-.94-.94-2.06-.94 2.06-2.06.94zm-11 1L8.5 8.5l.94-2.06 2.06-.94-2.06-.94L8.5 2.5l-.94 2.06-2.06.94zm10 10l.94 2.06.94-2.06 2.06-.94-2.06-.94-.94-2.06-.94 2.06-2.06.94z\"/><path d=\"M17.41 7.96l-1.37-1.37c-.4-.4-.92-.59-1.43-.59-.52 0-1.04.2-1.43.59L10.3 9.45l-7.72 7.72c-.78.78-.78 2.05 0 2.83L4 21.41c.39.39.9.59 1.41.59.51 0 1.02-.2 1.41-.59l7.78-7.78 2.81-2.81c.8-.78.8-2.07 0-2.86zM5.41 20L4 18.59l7.72-7.72 1.47 1.35L5.41 20z\"/>\n",
              "  </svg>\n",
              "      </button>\n",
              "      \n",
              "  <style>\n",
              "    .colab-df-container {\n",
              "      display:flex;\n",
              "      flex-wrap:wrap;\n",
              "      gap: 12px;\n",
              "    }\n",
              "\n",
              "    .colab-df-convert {\n",
              "      background-color: #E8F0FE;\n",
              "      border: none;\n",
              "      border-radius: 50%;\n",
              "      cursor: pointer;\n",
              "      display: none;\n",
              "      fill: #1967D2;\n",
              "      height: 32px;\n",
              "      padding: 0 0 0 0;\n",
              "      width: 32px;\n",
              "    }\n",
              "\n",
              "    .colab-df-convert:hover {\n",
              "      background-color: #E2EBFA;\n",
              "      box-shadow: 0px 1px 2px rgba(60, 64, 67, 0.3), 0px 1px 3px 1px rgba(60, 64, 67, 0.15);\n",
              "      fill: #174EA6;\n",
              "    }\n",
              "\n",
              "    [theme=dark] .colab-df-convert {\n",
              "      background-color: #3B4455;\n",
              "      fill: #D2E3FC;\n",
              "    }\n",
              "\n",
              "    [theme=dark] .colab-df-convert:hover {\n",
              "      background-color: #434B5C;\n",
              "      box-shadow: 0px 1px 3px 1px rgba(0, 0, 0, 0.15);\n",
              "      filter: drop-shadow(0px 1px 2px rgba(0, 0, 0, 0.3));\n",
              "      fill: #FFFFFF;\n",
              "    }\n",
              "  </style>\n",
              "\n",
              "      <script>\n",
              "        const buttonEl =\n",
              "          document.querySelector('#df-44632455-46fc-4216-9926-49ec117aeb44 button.colab-df-convert');\n",
              "        buttonEl.style.display =\n",
              "          google.colab.kernel.accessAllowed ? 'block' : 'none';\n",
              "\n",
              "        async function convertToInteractive(key) {\n",
              "          const element = document.querySelector('#df-44632455-46fc-4216-9926-49ec117aeb44');\n",
              "          const dataTable =\n",
              "            await google.colab.kernel.invokeFunction('convertToInteractive',\n",
              "                                                     [key], {});\n",
              "          if (!dataTable) return;\n",
              "\n",
              "          const docLinkHtml = 'Like what you see? Visit the ' +\n",
              "            '<a target=\"_blank\" href=https://colab.research.google.com/notebooks/data_table.ipynb>data table notebook</a>'\n",
              "            + ' to learn more about interactive tables.';\n",
              "          element.innerHTML = '';\n",
              "          dataTable['output_type'] = 'display_data';\n",
              "          await google.colab.output.renderOutput(dataTable, element);\n",
              "          const docLink = document.createElement('div');\n",
              "          docLink.innerHTML = docLinkHtml;\n",
              "          element.appendChild(docLink);\n",
              "        }\n",
              "      </script>\n",
              "    </div>\n",
              "  </div>\n",
              "  "
            ],
            "text/plain": [
              "  episode_id character                                               line\n",
              "0        1-1    Howard  Wait till you see this. It’s a Stephen Hawking...\n",
              "1        1-1   Leonard  Agreed, what’s your point? Excuse me? One acro..."
            ]
          },
          "metadata": {},
          "execution_count": 5
        }
      ]
    },
    {
      "cell_type": "code",
      "source": [
        ""
      ],
      "metadata": {
        "id": "S0TeFeFLg1sZ"
      },
      "execution_count": 5,
      "outputs": []
    },
    {
      "cell_type": "code",
      "source": [
        "#see a little bit more information\n",
        "pd.set_option('display.max_colwidth', None)"
      ],
      "metadata": {
        "id": "V8y9L42TFOvL"
      },
      "execution_count": 6,
      "outputs": []
    },
    {
      "cell_type": "code",
      "source": [
        "#create a list of the lines of Penny in episode 1 of season 1\n",
        "penny_series = episode[(episode['episode_id']== '1-1') & (episode['character']=='Penny')]['line']\n",
        "penny_list = penny_series.tolist()\n",
        "penny_string = penny_series.to_string(index=False)\n",
        "penny_string"
      ],
      "metadata": {
        "colab": {
          "base_uri": "https://localhost:8080/",
          "height": 110
        },
        "id": "8rrKP5wC_OAI",
        "outputId": "925b4f7f-498f-4b5b-f8cb-054f9ac63dd0"
      },
      "execution_count": 7,
      "outputs": [
        {
          "output_type": "execute_result",
          "data": {
            "application/vnd.google.colaboratory.intrinsic+json": {
              "type": "string"
            },
            "text/plain": [
              "' Oh, hi! Hi? Oh, that’s nice. Oh, okay, well, guess I’m your new neighbour, Penny. Hi. Hi. Thankyou, maybe we can have coffee sometime. Great. Bye. Hi. Hi. Oh, you’re inviting me over to eat? Oh, that’s so nice, I’d love to. So, what do you guys do for fun around here? Okay, thankyou. This looks like some serious stuff, Leonard, did you do this? Wow. So you’re like, one of those, beautiful mind genius guys. This is really impressive. Holy smokes. Uh, do you guys mind if I start? So, sit next to me. What’s the difference? Do you want me to move? So, Klingon boggle? Um, me, okay, I’m Sagittarius, which probably tells you way more than you need to know. Participate in the what? Oh, yeah, a lot of people think I’m a water sign. Okay, let’s see, what else, oh, I’m a vegetarian, oh, except for fish, and the occasional steak, I love steak. Oh, yeah, I’m a waitress at the Cheesecake Factory. Oh, anyways, I’m also writing a screenplay. It’s about this sensitive girl who comes to L.A. from Lincoln Nebraska to be an actress, and winds up a waitress at the Cheesecake Factory. No, I’m from Omaha. I know, right? Okay, let’s see, what else? Um, that’s about it. That’s the story of Penny. It was. Until I fell in love with a jerk. Oh God, you know, four years I lived with him, four years, that’s like as long as High School. I just, I can’t believe I trusted him.<br/> You want to know the most pathetic part? Even though I hate his lying, cheating guts, I still love him. Is that crazy? Oh, I’m so sorry, I’m such a mess, and on top of everything else I’m all gross from moving and my stupid shower doesn’t even work. Really? Would it be totally weird if I used it? Thanks. You guys are really sweet.<br/> Hey, is there a trick to getting it to switch from tub to shower. Oh. Hi, sorry. Hello! Penny. I work at the Cheesecake Factory. I’m sorry? Okay. Thanks. Hey, Leonard? Um, okay. Can I ask you a favour. It’s okay if you say no. It’s just not the kind of thing you ask a guy you’ve just met. So, you guys work with Leonard and Sheldon at the University? Uh, I’m sorry, do you speak English? Really, why? Wow, cool tiger. Uh, sounds interesting. Oh, I don’t think I’ll be able to stop thinking about it. Oh, my God, what happened? I’m so sorry, I really thought if you guys went instead of me he wouldn’t be such an ass. Really, thank you so much for going and trying you’re, uh, you’re so terrific. Why don’t you put some clothes on, I’ll get my purse and dinner is on me, okay? Sure. So? So? Any ideas Raj? (He just looks at her with a worried expression.) That sounds like fun.'"
            ]
          },
          "metadata": {},
          "execution_count": 7
        }
      ]
    },
    {
      "cell_type": "markdown",
      "source": [
        "# **2 NLP introduction**"
      ],
      "metadata": {
        "id": "MUnlAIGw_1ss"
      }
    },
    {
      "cell_type": "markdown",
      "source": [
        "### **2.1 Regular expressions**"
      ],
      "metadata": {
        "id": "bHpIbRcM_5gU"
      }
    },
    {
      "cell_type": "markdown",
      "source": [
        "* \\w+: matches word\n",
        "* \\d: matches digit\n",
        "* \\s: matches space\n",
        "* .*: matches wildcard (any letter or symbol)\n",
        "* +or* : greedy matches (repeats of letters or patterns)\n",
        "* \\S: matches NOT a space\n",
        "* [a-z]: matches lowercase group\n",
        "\n",
        "\n",
        "---\n",
        "\n",
        "* split: split a string on regex\n",
        "* findall: find all patterns in a string\n",
        "* search: search for a pattern: go to entire string and find match \n",
        "* match: match an entire string or substring based on pattern: match string from the beginning"
      ],
      "metadata": {
        "id": "9pgXImbsALHQ"
      }
    },
    {
      "cell_type": "code",
      "source": [
        "#split string on space\n",
        "pd.set_option('display.max_colwidth', None)\n",
        "word_list = re.split('\\s+', penny_string)\n",
        "word_list[0:10]"
      ],
      "metadata": {
        "colab": {
          "base_uri": "https://localhost:8080/"
        },
        "id": "V2dl7gL7_yA_",
        "outputId": "19a869bf-b279-479e-8aab-59c85ad41100"
      },
      "execution_count": 13,
      "outputs": [
        {
          "output_type": "execute_result",
          "data": {
            "text/plain": [
              "['', 'Oh,', 'hi!', 'Hi?', 'Oh,', 'that’s', 'nice.', 'Oh,', 'okay,', 'well,']"
            ]
          },
          "metadata": {},
          "execution_count": 13
        }
      ]
    },
    {
      "cell_type": "code",
      "source": [
        "#split on words\n",
        "word_list = re.findall('\\w+', penny_string)\n",
        "word_list[0:10]"
      ],
      "metadata": {
        "colab": {
          "base_uri": "https://localhost:8080/"
        },
        "id": "mWb6Wfxs6EQt",
        "outputId": "418f3448-5bfa-4a1e-e140-815d8bce11bd"
      },
      "execution_count": 14,
      "outputs": [
        {
          "output_type": "execute_result",
          "data": {
            "text/plain": [
              "['Oh', 'hi', 'Hi', 'Oh', 'that', 's', 'nice', 'Oh', 'okay', 'well']"
            ]
          },
          "metadata": {},
          "execution_count": 14
        }
      ]
    },
    {
      "cell_type": "code",
      "source": [
        "#split on sentence\n",
        "\n",
        "# Write a pattern to match sentence endings: sentence_endings\n",
        "sentence_endings = r\"[.?!]\"\n",
        "\n",
        "word_list = re.split(sentence_endings, penny_string)\n",
        "word_list[0:5]\n"
      ],
      "metadata": {
        "colab": {
          "base_uri": "https://localhost:8080/"
        },
        "id": "OrMru5GOB3Co",
        "outputId": "4741bc22-e2e8-4afe-d8ee-bda4911323a7"
      },
      "execution_count": 15,
      "outputs": [
        {
          "output_type": "execute_result",
          "data": {
            "text/plain": [
              "[' Oh, hi',\n",
              " ' Hi',\n",
              " ' Oh, that’s nice',\n",
              " ' Oh, okay, well, guess I’m your new neighbour, Penny',\n",
              " ' Hi']"
            ]
          },
          "metadata": {},
          "execution_count": 15
        }
      ]
    },
    {
      "cell_type": "code",
      "source": [
        "#find all captitalized words\n",
        "capitalized_words = r\"[A-Z]\\w+\"\n",
        "word_list = re.findall(capitalized_words , penny_string)\n",
        "word_list[0:10]\n"
      ],
      "metadata": {
        "colab": {
          "base_uri": "https://localhost:8080/"
        },
        "id": "LCuVoibLGnlp",
        "outputId": "748f3cd5-c3f2-4a1d-952f-0f4323da83e7"
      },
      "execution_count": 16,
      "outputs": [
        {
          "output_type": "execute_result",
          "data": {
            "text/plain": [
              "['Oh', 'Hi', 'Oh', 'Oh', 'Penny', 'Hi', 'Hi', 'Thankyou', 'Great', 'Bye']"
            ]
          },
          "metadata": {},
          "execution_count": 16
        }
      ]
    },
    {
      "cell_type": "code",
      "source": [
        "#find all digits in string\n",
        "digits = r\"\\d+\"\n",
        "word_list = re.findall(digits , penny_string)\n",
        "word_list[0:10]\n"
      ],
      "metadata": {
        "colab": {
          "base_uri": "https://localhost:8080/"
        },
        "id": "F2xgGqVcGS-X",
        "outputId": "106b4598-9b0c-47d8-be0a-419be5248851"
      },
      "execution_count": 17,
      "outputs": [
        {
          "output_type": "execute_result",
          "data": {
            "text/plain": [
              "[]"
            ]
          },
          "metadata": {},
          "execution_count": 17
        }
      ]
    },
    {
      "cell_type": "code",
      "source": [
        "#search for the first occurence of 'Penny' and print the start and end idnexes of the match\n",
        "match = re.search(\"Penny\", penny_string)\n",
        "print(match.start(), match.end())"
      ],
      "metadata": {
        "colab": {
          "base_uri": "https://localhost:8080/"
        },
        "id": "IjEo1-4DKUnn",
        "outputId": "57fe43b8-d49f-42ec-d44c-a87444157200"
      },
      "execution_count": 18,
      "outputs": [
        {
          "output_type": "stream",
          "name": "stdout",
          "text": [
            "76 81\n"
          ]
        }
      ]
    },
    {
      "cell_type": "code",
      "source": [
        "#search for anything between brackets\n",
        "pattern1 = r\"\\(.*\\)\"\n",
        "print(re.search(pattern1, penny_string))"
      ],
      "metadata": {
        "colab": {
          "base_uri": "https://localhost:8080/"
        },
        "id": "4KRLWxXuKn5P",
        "outputId": "caeb9eb0-2f2e-4dc2-f8d2-1199d9badd0f"
      },
      "execution_count": 19,
      "outputs": [
        {
          "output_type": "stream",
          "name": "stdout",
          "text": [
            "<re.Match object; span=(2517, 2566), match='(He just looks at her with a worried expression.)>\n"
          ]
        }
      ]
    },
    {
      "cell_type": "code",
      "source": [
        "#write a pattern to match would match 'Character:\" and 'Soldier #1: )\n",
        "pattern2 = r\"[\\w\\s]+:\"\n",
        "print(re.search(pattern2, penny_string))"
      ],
      "metadata": {
        "colab": {
          "base_uri": "https://localhost:8080/"
        },
        "id": "qdDOs_voKgCQ",
        "outputId": "1ce18dac-f254-4268-9c2f-9da86b8eddc6"
      },
      "execution_count": 20,
      "outputs": [
        {
          "output_type": "stream",
          "name": "stdout",
          "text": [
            "None\n"
          ]
        }
      ]
    },
    {
      "cell_type": "markdown",
      "source": [
        "### **2.2 Tokenization**"
      ],
      "metadata": {
        "id": "C-KkKKFYHHS2"
      }
    },
    {
      "cell_type": "markdown",
      "source": [
        "* turn a string or document into tokens (smaller chunks)\n",
        "* e.g. breaking words or sentences, seperating puncuation, all hastags in a tweet\n",
        "* nltk library is commonly used\n",
        "* used to match common words, removing unwanted tokens (e.g. repeated words), derrive meaning from text"
      ],
      "metadata": {
        "id": "o6PM9TecHRPA"
      }
    },
    {
      "cell_type": "code",
      "source": [
        "#tokenize string to sentences\n",
        "sentences = sent_tokenize(penny_string)\n",
        "sentences[0:10]"
      ],
      "metadata": {
        "colab": {
          "base_uri": "https://localhost:8080/"
        },
        "id": "usiJW1XBG-SW",
        "outputId": "81cb909a-6264-442c-d900-8a96cf47546d"
      },
      "execution_count": 21,
      "outputs": [
        {
          "output_type": "execute_result",
          "data": {
            "text/plain": [
              "[' Oh, hi!',\n",
              " 'Hi?',\n",
              " 'Oh, that’s nice.',\n",
              " 'Oh, okay, well, guess I’m your new neighbour, Penny.',\n",
              " 'Hi.',\n",
              " 'Hi.',\n",
              " 'Thankyou, maybe we can have coffee sometime.',\n",
              " 'Great.',\n",
              " 'Bye.',\n",
              " 'Hi.']"
            ]
          },
          "metadata": {},
          "execution_count": 21
        }
      ]
    },
    {
      "cell_type": "code",
      "source": [
        "#tokenize string to words and characters (note the difference)\n",
        "tokenized_sent = word_tokenize(penny_string)\n",
        "tokenized_sent[0:10]"
      ],
      "metadata": {
        "colab": {
          "base_uri": "https://localhost:8080/"
        },
        "id": "xrGWH_32Img7",
        "outputId": "1f462d40-5a13-4134-f1e4-74c1cd920e3f"
      },
      "execution_count": 22,
      "outputs": [
        {
          "output_type": "execute_result",
          "data": {
            "text/plain": [
              "['Oh', ',', 'hi', '!', 'Hi', '?', 'Oh', ',', 'that', '’']"
            ]
          },
          "metadata": {},
          "execution_count": 22
        }
      ]
    },
    {
      "cell_type": "code",
      "source": [
        "#use 'set' to only return the unique items in a list\n",
        "unique = set(tokenized_sent)\n",
        "print(unique)"
      ],
      "metadata": {
        "colab": {
          "base_uri": "https://localhost:8080/"
        },
        "id": "Yr0IAKOzJHOu",
        "outputId": "66c639b7-bd84-4eb5-d6bc-e493c611bad8"
      },
      "execution_count": 23,
      "outputs": [
        {
          "output_type": "stream",
          "name": "stdout",
          "text": [
            "{'start', 'totally', 'part', 'wouldn', 'okay', 'Is', 'guess', 'top', 'have', 'd', ')', 'Thanks', 'coffee', 'from', 'new', 'Lincoln', 'was', 'four', 'Great', 'instead', 'your', 'maybe', 'most', 'need', 'though', 'story', 'English', 'just', 'thing', 'some', 'God', '!', 'in', 'steak', '?', 'I', 'uh', 'Nebraska', 'm', 'people', 'think', '’', 'School', 'looks', 'if', 'ass', 'thankyou', 'Um', 'Cheesecake', 'sorry', 'actress', 'next', 'him.', 'stuff', 'way', 'Oh', 'tiger', 'interesting', 'as', 'move', 'of', 'occasional', 'High', 'don', 'get', 'Hello', 'hate', 'more', 'oh', 'He', 'mess', 'ideas', 'me', 'shower', 'stupid', 'can', '.', 'one', 'screenplay', 'everything', 'Would', 'are', 'not', 'tells', 'sign', 'expression', 'fell', 'really', 'Really', 'moving', 'anyways', 'comes', 'who', 'nice', 'kind', 'thought', 'he', 'want', 'neighbour', 'vegetarian', 'trusted', 'L.A.', 'ask', 'terrific', 'Sure', 'years', 'those', 'Bye', 'about', 'why', 'around', 'inviting', 'genius', 'jerk', 'lived', 'is', 'be', 'sounds', 'Thankyou', 'sometime', 'do', 'mind', 'impressive', 'writing', 'his', 'gross', 'll', '<', 'pathetic', 'for', 'what', 'which', 'Participate', 'did', 'speak', 'we', 'so', 'going', 'br/', 'still', '>', 's', 'that', 'except', 'the', 'Uh', 'winds', 'smokes', 'University', 'it', 'up', 'see', 'to', 'much', 'crazy', 'doesn', 'even', 'such', 'Klingon', 'yeah', 'serious', 'Holy', 'probably', 'at', 'weird', 'put', 'fun', 'Omaha', 'no', 'love', 'right', 'here', 'Factory', ',', 'Any', 'a', 'say', 'Do', 'Leonard', 'you', 'Hey', 'met', 'trying', 'there', 'No', 'eat', 'well', 'getting', 'over', 'on', 'This', 'also', 'favour', 'thinking', 'clothes', 'guys', 'her', 'worried', 'Penny', 'used', 'cool', 'an', 'Even', 'work', 'Sheldon', 'lying', 'stop', 'tub', 'Hi', 'beautiful', 'Until', 'believe', 'fish', 'guy', 'dinner', 'hi', 'difference', 'let', 'cheating', 'Raj', 'happened', 'waitress', 'It', 'So', 'Can', 're', 't', 'sweet.', 'You', 'know', 'trick', 'girl', 'him', 'purse', 'like', 'Sagittarius', 'lot', 'guts', 've', 'went', 'What', 'able', 'than', 'Why', '(', 'sensitive', 'water', 'and', 'Wow', 'this', 'else', 'with', 'thank', 'long', 'boggle', 'That', 'all', 'Okay', 'sit', 'switch', 'my'}\n"
          ]
        }
      ]
    },
    {
      "cell_type": "markdown",
      "source": [
        "**Advanced tokenization with Regex**"
      ],
      "metadata": {
        "id": "ao8hsPcPMaxs"
      }
    },
    {
      "cell_type": "code",
      "source": [
        "#find all digits and words, but no punctuation\n",
        "match_digits_and_word = ('(\\d+ | \\w+)')\n",
        "word_list = re.findall(match_digits_and_word , penny_string)\n",
        "word_list [0:10]"
      ],
      "metadata": {
        "colab": {
          "base_uri": "https://localhost:8080/"
        },
        "id": "6AbZfnPVMZ3a",
        "outputId": "1cd139d6-c359-4bb4-ebc3-beeb8426c630"
      },
      "execution_count": 24,
      "outputs": [
        {
          "output_type": "execute_result",
          "data": {
            "text/plain": [
              "[' Oh',\n",
              " ' hi',\n",
              " ' Hi',\n",
              " ' Oh',\n",
              " ' that',\n",
              " ' nice',\n",
              " ' Oh',\n",
              " ' okay',\n",
              " ' well',\n",
              " ' guess']"
            ]
          },
          "metadata": {},
          "execution_count": 24
        }
      ]
    },
    {
      "cell_type": "code",
      "source": [
        "#Define a regex pattern to find hashtags: \n",
        "pattern1 = r\"#\\w+\"\n",
        "hashtags = regexp_tokenize(penny_string, pattern1)  #note how you pass the pattern as the seccond argument\n",
        "print(hashtags)"
      ],
      "metadata": {
        "colab": {
          "base_uri": "https://localhost:8080/"
        },
        "id": "0agns1xjMuRH",
        "outputId": "4209e3bb-41a8-4901-e0c2-e10710838305"
      },
      "execution_count": 25,
      "outputs": [
        {
          "output_type": "stream",
          "name": "stdout",
          "text": [
            "[]\n"
          ]
        }
      ]
    },
    {
      "cell_type": "code",
      "source": [
        "#Write a pattern that matches both mentions (@) and hashtags\n",
        "pattern2 = r\"([@|#]\\w+)\"\n",
        "mentions_hashtags = regexp_tokenize(penny_string, pattern2)\n",
        "print(mentions_hashtags)"
      ],
      "metadata": {
        "colab": {
          "base_uri": "https://localhost:8080/"
        },
        "id": "PhDHAt8bKIMi",
        "outputId": "4f0a0d90-6aa4-44a7-8851-6c450033f757"
      },
      "execution_count": 26,
      "outputs": [
        {
          "output_type": "stream",
          "name": "stdout",
          "text": [
            "[]\n"
          ]
        }
      ]
    },
    {
      "cell_type": "code",
      "source": [
        "# Tokenize and print only capital words\n",
        "capital_words = r\"[A-ZÜ]\\w+\"\n",
        "print(regexp_tokenize(penny_string, capital_words))"
      ],
      "metadata": {
        "colab": {
          "base_uri": "https://localhost:8080/"
        },
        "id": "_mRBft64OXJS",
        "outputId": "927509d6-29ce-436e-d128-06088d517671"
      },
      "execution_count": 27,
      "outputs": [
        {
          "output_type": "stream",
          "name": "stdout",
          "text": [
            "['Oh', 'Hi', 'Oh', 'Oh', 'Penny', 'Hi', 'Hi', 'Thankyou', 'Great', 'Bye', 'Hi', 'Hi', 'Oh', 'Oh', 'So', 'Okay', 'This', 'Leonard', 'Wow', 'So', 'This', 'Holy', 'Uh', 'So', 'What', 'Do', 'So', 'Klingon', 'Um', 'Sagittarius', 'Participate', 'Oh', 'Okay', 'Oh', 'Cheesecake', 'Factory', 'Oh', 'It', 'Lincoln', 'Nebraska', 'Cheesecake', 'Factory', 'No', 'Omaha', 'Okay', 'Um', 'That', 'Penny', 'It', 'Until', 'Oh', 'God', 'High', 'School', 'You', 'Even', 'Is', 'Oh', 'Really', 'Would', 'Thanks', 'You', 'Hey', 'Oh', 'Hi', 'Hello', 'Penny', 'Cheesecake', 'Factory', 'Okay', 'Thanks', 'Hey', 'Leonard', 'Um', 'Can', 'It', 'It', 'So', 'Leonard', 'Sheldon', 'University', 'Uh', 'English', 'Really', 'Wow', 'Uh', 'Oh', 'Oh', 'God', 'Really', 'Why', 'Sure', 'So', 'So', 'Any', 'Raj', 'He', 'That']\n"
          ]
        }
      ]
    },
    {
      "cell_type": "markdown",
      "source": [
        "#### **Charting with NLTK**"
      ],
      "metadata": {
        "id": "bORP0uxWOxcV"
      }
    },
    {
      "cell_type": "code",
      "source": [
        "sheldon_series = episode[(episode['episode_id']== '1-1') & (episode['character']=='Sheldon')]['line']\n",
        "sheldon_string = sheldon_series.to_string(index=False)\n"
      ],
      "metadata": {
        "id": "M5qGDfAKQFPu"
      },
      "execution_count": 28,
      "outputs": []
    },
    {
      "cell_type": "code",
      "source": [
        "words = word_tokenize(penny_string)\n",
        "word_lengths = [len(w) for w in words]\n",
        "plt.hist(word_lengths)\n",
        "plt.title('Penny word length')\n",
        "plt.show()"
      ],
      "metadata": {
        "colab": {
          "base_uri": "https://localhost:8080/",
          "height": 281
        },
        "id": "2U8cCUJqOl0J",
        "outputId": "7adee7fe-28f3-421f-8c07-a4788db5bc7a"
      },
      "execution_count": 29,
      "outputs": [
        {
          "output_type": "display_data",
          "data": {
            "image/png": "[encoded data removed]",
            "text/plain": [
              "<Figure size 432x288 with 1 Axes>"
            ]
          },
          "metadata": {
            "needs_background": "light"
          }
        }
      ]
    },
    {
      "cell_type": "code",
      "source": [
        "words = word_tokenize(sheldon_string)\n",
        "word_lengths = [len(w) for w in words]\n",
        "plt.hist(word_lengths)\n",
        "plt.title('Sheldon word length')\n",
        "plt.show()"
      ],
      "metadata": {
        "colab": {
          "base_uri": "https://localhost:8080/",
          "height": 281
        },
        "id": "dViMCbr1P4n_",
        "outputId": "2fea7939-1697-4b9d-bcd0-aa8dc76b415c"
      },
      "execution_count": 30,
      "outputs": [
        {
          "output_type": "display_data",
          "data": {
            "image/png": "[encoded data removed]",
            "text/plain": [
              "<Figure size 432x288 with 1 Axes>"
            ]
          },
          "metadata": {
            "needs_background": "light"
          }
        }
      ]
    },
    {
      "cell_type": "markdown",
      "source": [
        "### **2.3 Topic identification**"
      ],
      "metadata": {
        "id": "tBxDex5XSbFo"
      }
    },
    {
      "cell_type": "markdown",
      "source": [
        "* bag of words: finding topics in a text\n",
        "* create tokens, count them up --> more frequent a word is, the more important it might be\n",
        "* can help identify significant words in a text"
      ],
      "metadata": {
        "id": "Jg_Mv9w4TGcr"
      }
    },
    {
      "cell_type": "code",
      "source": [
        "# print 10 most common words\n",
        "\n",
        "#create token and lowercase it\n",
        "words = word_tokenize(penny_string)     #use:  re.findall(match_digits_and_word , penny_string)  instead, to exclude punctuation\n",
        "lower_words = [t.lower() for t in words]\n",
        "\n",
        "#count the words\n",
        "word_count = Counter(lower_words)\n",
        "print(word_count.most_common(10))"
      ],
      "metadata": {
        "colab": {
          "base_uri": "https://localhost:8080/"
        },
        "id": "gQxQBXroQOfQ",
        "outputId": "9707b50e-9d2d-4083-b418-af902f42a4cb"
      },
      "execution_count": 31,
      "outputs": [
        {
          "output_type": "stream",
          "name": "stdout",
          "text": [
            "[(',', 72), ('.', 50), ('’', 37), ('i', 31), ('?', 25), ('you', 22), ('oh', 15), ('m', 13), ('to', 12), ('so', 12)]\n"
          ]
        }
      ]
    },
    {
      "cell_type": "markdown",
      "source": [
        "#### **Text preprocessing**"
      ],
      "metadata": {
        "id": "xCDhBi_PVDPf"
      }
    },
    {
      "cell_type": "markdown",
      "source": [
        "* tokenization to create a bag of words\n",
        "* lowercasing\n",
        "* lemmatization (shorten words to their root)\n",
        "* removing stop owrds, punctuation, or unwanted tokens"
      ],
      "metadata": {
        "id": "wiTwXLGKVOVP"
      }
    },
    {
      "cell_type": "code",
      "source": [
        "#tokenize\n",
        "words = word_tokenize(penny_string)\n",
        "\n",
        "#lowercase\n",
        "lower_words = [t.lower() for t in words]\n",
        "\n",
        "#only retain alphabetic words\n",
        "alpha_only = [ w for w in lower_words if w.isalpha()]\n",
        "\n",
        "#remove stop words\n",
        "no_stops = [ w for w in alpha_only if w not in stopwords.words('english')]\n",
        "\n",
        "#lemmatize\n",
        "wordnet_lemmatizer = WordNetLemmatizer()\n",
        "lemmatized = [wordnet_lemmatizer.lemmatize(t) for t in no_stops]\n",
        "\n",
        "# Create the bag-of-words: bow\n",
        "bow = Counter(lemmatized)\n",
        "\n",
        "# Print the 10 most common tokens\n",
        "print(bow.most_common(10))"
      ],
      "metadata": {
        "colab": {
          "base_uri": "https://localhost:8080/"
        },
        "id": "rnlK3jpSWt1i",
        "outputId": "451d01df-2b1b-442e-9302-149589b76ce3"
      },
      "execution_count": 32,
      "outputs": [
        {
          "output_type": "stream",
          "name": "stdout",
          "text": [
            "[('oh', 15), ('okay', 9), ('hi', 7), ('guy', 7), ('really', 6), ('sorry', 5), ('love', 4), ('like', 4), ('uh', 4), ('know', 4)]\n"
          ]
        }
      ]
    },
    {
      "cell_type": "code",
      "source": [
        ""
      ],
      "metadata": {
        "id": "5weysN_haHzJ"
      },
      "execution_count": 32,
      "outputs": []
    },
    {
      "cell_type": "markdown",
      "source": [
        "#### **Gensim library**"
      ],
      "metadata": {
        "id": "cAIpuYZpYqvi"
      }
    },
    {
      "cell_type": "markdown",
      "source": [
        "* popular open-source NLP library\n",
        "* building document or word vectors\n",
        "  - multi-dimensional representation of word\n",
        "  - see relationships among words in a document\n",
        "  - e.g. Spain is to Madrid as Italiy is to Rome\n",
        "* performing topic identifciation and document comparison\n",
        "* Corpus is a set of text used to perform NLP tasks\n",
        "  - pre-processed text\n",
        "  - pass tokenized to the Dictionariy class\n",
        "  - create Gensim corpus (bag of word documents)."
      ],
      "metadata": {
        "id": "h8MSFaAWYzls"
      }
    },
    {
      "cell_type": "code",
      "source": [
        "# this library needs a list of documents (very basic without any pre-processing)\n",
        "episode_list_list = episode.copy()\n",
        "\n",
        "#create a list of each sentence\n",
        "def preprocessing(text):\n",
        "     return word_tokenize(text)  #or use sent_tokenize\n",
        "\n",
        "episode_list_list ['list_of_lines'] = episode_list_list ['line'].apply(preprocessing)\n",
        "\n",
        "#turn into a list of lists \n",
        "#dialogue_list = episode_list_list['list_of_lines'].tolist()"
      ],
      "metadata": {
        "id": "v9pPw1i5qHav"
      },
      "execution_count": 33,
      "outputs": []
    },
    {
      "cell_type": "code",
      "source": [
        ""
      ],
      "metadata": {
        "id": "ejrn1nZs89ro"
      },
      "execution_count": 33,
      "outputs": []
    },
    {
      "cell_type": "code",
      "source": [
        "#Pre-process episode so that it can be used in Gensim \n",
        "episode_list_list = episode.copy()\n",
        "\n",
        "\n",
        "#step 1: pre-process the text\n",
        "episode_list_list['cleaned_text']  = ''\n",
        "\n",
        "def preprocess (text):\n",
        "  doc = nlp(text, disable =['ner', 'parser'])\n",
        "  lemmas = [token.lemma_ for token in doc]\n",
        "  a_lemmas = [lemma for lemma in lemmas if lemma.isalpha()]\n",
        "  lowercase = [t.lower() for t in a_lemmas]\n",
        "  no_stops = [w for w in lowercase if w not in stopwords.words('english')]\n",
        "  return ' '.join(no_stops)\n",
        "\n",
        "#apply function\n",
        "episode_list_list['cleaned_text'] =episode_list_list['line'].apply(preprocess)\n",
        "\n",
        "\n",
        "# this library needs a list of documents: easiest way of doing this is to apply a tokenizer\n",
        "#create a list of each sentence\n",
        "def preprocessing(text):\n",
        "     return word_tokenize(text)  #or use sent_tokenize\n",
        "#apply function\n",
        "episode_list_list['list_of_lines'] = episode_list_list['cleaned_text'].apply(preprocessing)\n",
        "\n",
        "#turn into a list of lists \n",
        "dialogue_list = episode_list_list['list_of_lines'].tolist()\n",
        "\n",
        "episode_list_list.head(2)\n",
        "#episode_list_list.to_csv('episode_list_of_list.csv') #this is old version\n"
      ],
      "metadata": {
        "colab": {
          "base_uri": "https://localhost:8080/",
          "height": 1000
        },
        "id": "As7LEPIS9Rvj",
        "outputId": "2791251b-1908-4ba7-c89a-5084c6e21ee0"
      },
      "execution_count": 34,
      "outputs": [
        {
          "output_type": "execute_result",
          "data": {
            "text/html": [
              "\n",
              "  <div id=\"df-43e126e8-70a6-48a8-9692-a6946aef0578\">\n",
              "    <div class=\"colab-df-container\">\n",
              "      <div>\n",
              "<style scoped>\n",
              "    .dataframe tbody tr th:only-of-type {\n",
              "        vertical-align: middle;\n",
              "    }\n",
              "\n",
              "    .dataframe tbody tr th {\n",
              "        vertical-align: top;\n",
              "    }\n",
              "\n",
              "    .dataframe thead th {\n",
              "        text-align: right;\n",
              "    }\n",
              "</style>\n",
              "<table border=\"1\" class=\"dataframe\">\n",
              "  <thead>\n",
              "    <tr style=\"text-align: right;\">\n",
              "      <th></th>\n",
              "      <th>episode_id</th>\n",
              "      <th>character</th>\n",
              "      <th>line</th>\n",
              "      <th>cleaned_text</th>\n",
              "      <th>list_of_lines</th>\n",
              "    </tr>\n",
              "  </thead>\n",
              "  <tbody>\n",
              "    <tr>\n",
              "      <th>0</th>\n",
              "      <td>1-1</td>\n",
              "      <td>Howard</td>\n",
              "      <td>Wait till you see this. It’s a Stephen Hawking lecture from MIT in 1974. It’s before he became a creepy computer voice Yeah, right, your grandmother back in town? Hang on, there really is a lady here? And you want us out because you’re anticipating coitus? So she’s available for coitus? Enchante Madamoiselle. Howard Wolowitz, Cal-Tech department of Applied Physics. You may be familiar with some of my work, it’s currently orbiting Jupiter’s largest moon taking high-resolution digital photographs. Bon douche. It’s French for good shower. It’s a sentiment I can express in six languages. See-ka-tong-guay-jow. Oh, he speaks English, he just can’t speak to women. He’s kind of a nerd. Juice box? This is one of my favourite places to kick back after a quest, they have a great house ale. Yeah, I’ve had him since level ten. His name is Buttons. Anyway, if you had your own game character we could hang out, maybe go on a quest. So you’ll think about it? Turn left on Lake Street and head up to Colorado. I know a wonderful little sushi bar that has karaoke. Baby, baby don’t get hooked on me. Uh, baby, baby don’t get hooked on me.</td>\n",
              "      <td>wait till see stephen hawk lecture mit become creepy computer voice yeah right grandmother back town hang really lady want anticipate coitus available coitus enchante madamoiselle howard wolowitz cal tech department applied physics may familiar work currently orbit jupiter large moon take high resolution digital photograph bon douche french good shower sentiment express six language see ka tong guay jow oh speak english speak woman kind nerd juice box one favourite place kick back quest great house ale yeah since level ten name buttons anyway game character could hang maybe go quest think turn leave lake street head colorado know wonderful little sushi bar karaoke baby baby get hook uh baby baby get hook</td>\n",
              "      <td>[wait, till, see, stephen, hawk, lecture, mit, become, creepy, computer, voice, yeah, right, grandmother, back, town, hang, really, lady, want, anticipate, coitus, available, coitus, enchante, madamoiselle, howard, wolowitz, cal, tech, department, applied, physics, may, familiar, work, currently, orbit, jupiter, large, moon, take, high, resolution, digital, photograph, bon, douche, french, good, shower, sentiment, express, six, language, see, ka, tong, guay, jow, oh, speak, english, speak, woman, kind, nerd, juice, box, one, favourite, place, kick, back, quest, great, house, ale, yeah, since, level, ten, name, buttons, anyway, game, character, could, hang, maybe, go, quest, think, turn, leave, lake, street, head, colorado, know, ...]</td>\n",
              "    </tr>\n",
              "    <tr>\n",
              "      <th>1</th>\n",
              "      <td>1-1</td>\n",
              "      <td>Leonard</td>\n",
              "      <td>Agreed, what’s your point? Excuse me? One across is Aegean, eight down is Nabakov, twenty-six across is MCM, fourteen down is… move your finger… phylum, which makes fourteen across Port-au-Prince. See, Papa Doc’s capital idea, that’s Port-au-Prince. Haiti. Yes. Um, is this the High IQ sperm bank? Thank-you. We’ll be right back. What, are you kidding? You’re a semi-pro. Sheldon, this was your idea. A little extra money to get fractional T1 bandwidth in the apartment. I’m sure she’ll still love him. Well, what do you want to do? Okay. I don’t know, I’ve never reneged on a proffer of sperm before. Okay. See you. No. Not really. I don’t care. Two millimetres? That doesn’t seem right. Is that why they sent you to boarding school? New neighbour? Significant improvement over the old neighbour. Hi. Hi. We don’t mean to interrupt, we live across the hall. Oh… uh… no… we don’t live together… um… we live together but in separate, heterosexual bedrooms. Leonard, Sheldon. Hi. Hi. Well, uh, oh, welcome to the building. Oh, great. Great. Well, bye. Bye. Should we have invited her for lunch? We already watched the Season Two DVDs. I think we should be good neighbours, invite her over, make her feel welcome. Well, then that was wrong of us. We need to widen our circle. Yes, and you’ve never met one of them. I’m going to invite her over. We’ll have a nice meal and chat. Well it’s not difficult, you just listen to what she says and then you say something appropriate in response. Hi. Again. Hi. Anyway, um. We brought home Indian food. And, um. I know that moving can be stressful, and I find that when I’m undergoing stress, that good food and company can have a comforting effect. Also, curry is a natural laxative, and I don’t have to tell you that, uh, a clean colon is just one less thing to worry about. Uh, yes. Great. Okay, well, make yourself at home. You’re very welcome. I have a board. If you like boards, this is my board. What? At least I didn’t have to invent twenty-six dimensions just to make the math come out. In what universe? Here we go. Just sit somewhere else. Sheldon, sit!&lt;br/&gt; Well this is nice. We don’t have a lot of company over. Yes I now, but… Yes, I remember. I’m sorry. I said I’m sorry. Yeah, it’s like regular boggle but, in Klingon. That’s probably enough about us, tell us about you. I think what Sheldon’s trying to say, is that Sagittarius wouldn’t have been our first guess. Wu-uh, do you have some sort of a job? Oh, okay. I love cheesecake. I don’t eat it, I just think it’s a good idea. So it’s based on your life? Well, if that was a movie I would go see it. Well it sounds wonderful. I don’t know. Don’t. Should I say something? I feel like I should say something. No, it’s not crazy it’s, uh, uh, it’s a paradox. And paradoxes are part of nature, think about light. Now if you look at Huygens, light is a wave, as confirmed by the double slit experiments, but then, along comes Albert Einstein and discovers that light behaves like particles too. Well, I didn’t make it worse. Our shower works. No. No. It’s right down the hall. How so? That’s not true, remember at Thanksgiving my grandmother with Alzheimer’s had that episode. The worst part was watching her carve that turkey. Excuse me? Well I’m not trying to have sex with her. What makes you think she wouldn’t have sex with me, I’m a male and she’s a female? I’m not going to engage in hypotheticals here, I’m just trying to be a good neighbour. That’s not to say that if a carnal relationship were to develop that I wouldn’t participate. However briefly. It’s Darth Vader shampoo. (There is a knock on the door.) Luke Skywalker’s the conditioner.&lt;br/&gt; See what? This is not a good time. That’s great, you guys have to go. It’s just not a good time. No. And she’s not a lady, she’s just a new neighbour. Uh-huh. I’m not anticipating coitus. Can we please stop saying coitus? Come on, I’ll show you the trick with the shower. Save it for your blog, Howard. Uh, there it goes, it sticks, I’m sorry. You’re welcome, oh, you’re going to step right, okay, I’ll…. The hair products are Sheldon’s. A favour? Sure, you can ask me a favour, I would do you a favour for you. Oh, I’ll probably say yes. Wow. Must we? She asked me to do her a favour, Sheldon. Which is? That’s a biological impossibility and you didn’t have to come. Come on, you know how it is with break-ups. Wuh, I, I broke up with Joyce Kim. To mend her broken heart. This situation is much less complicated. There’s some kind of dispute between Penny and her ex-boyfriend as to who gets custody of the TV. She just wanted to avoid having a scene with him. No, Sheldon, there’s not going to be a scene. There’s two of us and one of him. I’ll do the talking. Hi, I’m Leonard, this is Sheldon. What did I just…. Uh, we’re here to pick up Penny’s TV. We’re not going to give up just like that. Excuse me, if I were to give up at the first little hitch I never would have been able to identify the fingerprints of string theory in the aftermath of the big bang. Come on, we have a combined IQ of 360, we should be able to figure out how to get into a stupid building. Just grab the door. This is it. (Knocks.) I’ll do the talking. I’m Leonard, this is Sheldon. Oh. We’re scientists. What? I’m sorry. Sheldon, I’m so sorry I dragged you through this. And you were right about my motives, I was hoping to establish a relationship with Penny that might have some day led to sex. Anyway, I’ve learned my lesson. She’s out of my league, I’m done with her, I’ve got my work, one day I’ll win the Nobel Prize and then I’ll die alone. Thank you Sheldon, you’re a good friend. We’re home. Well, your ex-boyfriend sends his regards and I think the rest is fairly self-explanatory. No, it was a valid hypothesis. Really? Great. Our babies will be smart and beautiful. Is Thai food okay with you Penny?</td>\n",
              "      <td>agree point excuse one across aegean eight nabakov twenty six across mcm fourteen move finger phylum make fourteen across port au prince see papa doc capital idea port au prince haiti yes um high iq sperm bank thank right back kid semi pro sheldon idea little extra money get fractional bandwidth apartment sure still love well want okay know never renege proffer sperm okay see really care two millimetre seem right send board school new neighbour significant improvement old neighbour hi hi mean interrupt live across hall oh uh live together um live together separate heterosexual bedroom leonard sheldon hi hi well uh oh welcome building oh great great well bye bye invite lunch already watch season two dvd think good neighbour invite make feel welcome well wrong need widen circle yes never meet one go invite nice meal chat well difficult listen say say something appropriate response hi hi anyway um bring home indian food um know moving stressful find undergo stress good food company comforting effect also curry natural laxative tell uh clean colon one less thing worry uh yes great okay well make home welcome board like board board least invent twenty six dimension make math come universe go sit somewhere else sheldon well nice lot company yes yes remember sorry say sorry yeah like regular boggle klingon probably enough tell think sheldon try say sagittarius would first guess wu uh sort job oh okay love cheesecake eat think good idea base life well movie would go see well sound wonderful know say something feel like say something crazy uh uh paradox paradox part nature think light look huygens light wave confirm double slit experiment along come albert einstein discover light behave like particle well make bad shower work right hall true remember thanksgiving grandmother alzheimer episode bad part watch carve turkey excuse well try sex make think would sex male female go engage hypothetical try good neighbour say carnal relationship develop would participate however briefly darth vader shampoo knock door luke skywalker see good time great guy go good time lady new neighbour uh huh anticipate coitus please stop say coitus come show trick shower save blog howard uh go stick sorry welcome oh go step right okay hair product sheldon favour sure ask favour would favour oh probably say yes wow must ask favour sheldon biological impossibility come come know break wuh break joyce kim mend broken heart situation much less complicated kind dispute penny ex boyfriend get custody tv want avoid scene sheldon go scene two one talking hi leonard sheldon uh pick penny tv go give like excuse give first little hitch never would able identify fingerprint string theory aftermath big bang come combine iq able figure get stupid building grab door knocks talking leonard sheldon oh scientist sorry sheldon sorry drag right motive hope establish relationship penny might day lead sex anyway learn lesson league get work one day win nobel prize die alone thank sheldon good friend home well ex boyfriend send regard think rest fairly self explanatory valid hypothesis really great baby smart beautiful thai food okay penny</td>\n",
              "      <td>[agree, point, excuse, one, across, aegean, eight, nabakov, twenty, six, across, mcm, fourteen, move, finger, phylum, make, fourteen, across, port, au, prince, see, papa, doc, capital, idea, port, au, prince, haiti, yes, um, high, iq, sperm, bank, thank, right, back, kid, semi, pro, sheldon, idea, little, extra, money, get, fractional, bandwidth, apartment, sure, still, love, well, want, okay, know, never, renege, proffer, sperm, okay, see, really, care, two, millimetre, seem, right, send, board, school, new, neighbour, significant, improvement, old, neighbour, hi, hi, mean, interrupt, live, across, hall, oh, uh, live, together, um, live, together, separate, heterosexual, bedroom, leonard, sheldon, hi, ...]</td>\n",
              "    </tr>\n",
              "  </tbody>\n",
              "</table>\n",
              "</div>\n",
              "      <button class=\"colab-df-convert\" onclick=\"convertToInteractive('df-43e126e8-70a6-48a8-9692-a6946aef0578')\"\n",
              "              title=\"Convert this dataframe to an interactive table.\"\n",
              "              style=\"display:none;\">\n",
              "        \n",
              "  <svg xmlns=\"http://www.w3.org/2000/svg\" height=\"24px\"viewBox=\"0 0 24 24\"\n",
              "       width=\"24px\">\n",
              "    <path d=\"M0 0h24v24H0V0z\" fill=\"none\"/>\n",
              "    <path d=\"M18.56 5.44l.94 2.06.94-2.06 2.06-.94-2.06-.94-.94-2.06-.94 2.06-2.06.94zm-11 1L8.5 8.5l.94-2.06 2.06-.94-2.06-.94L8.5 2.5l-.94 2.06-2.06.94zm10 10l.94 2.06.94-2.06 2.06-.94-2.06-.94-.94-2.06-.94 2.06-2.06.94z\"/><path d=\"M17.41 7.96l-1.37-1.37c-.4-.4-.92-.59-1.43-.59-.52 0-1.04.2-1.43.59L10.3 9.45l-7.72 7.72c-.78.78-.78 2.05 0 2.83L4 21.41c.39.39.9.59 1.41.59.51 0 1.02-.2 1.41-.59l7.78-7.78 2.81-2.81c.8-.78.8-2.07 0-2.86zM5.41 20L4 18.59l7.72-7.72 1.47 1.35L5.41 20z\"/>\n",
              "  </svg>\n",
              "      </button>\n",
              "      \n",
              "  <style>\n",
              "    .colab-df-container {\n",
              "      display:flex;\n",
              "      flex-wrap:wrap;\n",
              "      gap: 12px;\n",
              "    }\n",
              "\n",
              "    .colab-df-convert {\n",
              "      background-color: #E8F0FE;\n",
              "      border: none;\n",
              "      border-radius: 50%;\n",
              "      cursor: pointer;\n",
              "      display: none;\n",
              "      fill: #1967D2;\n",
              "      height: 32px;\n",
              "      padding: 0 0 0 0;\n",
              "      width: 32px;\n",
              "    }\n",
              "\n",
              "    .colab-df-convert:hover {\n",
              "      background-color: #E2EBFA;\n",
              "      box-shadow: 0px 1px 2px rgba(60, 64, 67, 0.3), 0px 1px 3px 1px rgba(60, 64, 67, 0.15);\n",
              "      fill: #174EA6;\n",
              "    }\n",
              "\n",
              "    [theme=dark] .colab-df-convert {\n",
              "      background-color: #3B4455;\n",
              "      fill: #D2E3FC;\n",
              "    }\n",
              "\n",
              "    [theme=dark] .colab-df-convert:hover {\n",
              "      background-color: #434B5C;\n",
              "      box-shadow: 0px 1px 3px 1px rgba(0, 0, 0, 0.15);\n",
              "      filter: drop-shadow(0px 1px 2px rgba(0, 0, 0, 0.3));\n",
              "      fill: #FFFFFF;\n",
              "    }\n",
              "  </style>\n",
              "\n",
              "      <script>\n",
              "        const buttonEl =\n",
              "          document.querySelector('#df-43e126e8-70a6-48a8-9692-a6946aef0578 button.colab-df-convert');\n",
              "        buttonEl.style.display =\n",
              "          google.colab.kernel.accessAllowed ? 'block' : 'none';\n",
              "\n",
              "        async function convertToInteractive(key) {\n",
              "          const element = document.querySelector('#df-43e126e8-70a6-48a8-9692-a6946aef0578');\n",
              "          const dataTable =\n",
              "            await google.colab.kernel.invokeFunction('convertToInteractive',\n",
              "                                                     [key], {});\n",
              "          if (!dataTable) return;\n",
              "\n",
              "          const docLinkHtml = 'Like what you see? Visit the ' +\n",
              "            '<a target=\"_blank\" href=https://colab.research.google.com/notebooks/data_table.ipynb>data table notebook</a>'\n",
              "            + ' to learn more about interactive tables.';\n",
              "          element.innerHTML = '';\n",
              "          dataTable['output_type'] = 'display_data';\n",
              "          await google.colab.output.renderOutput(dataTable, element);\n",
              "          const docLink = document.createElement('div');\n",
              "          docLink.innerHTML = docLinkHtml;\n",
              "          element.appendChild(docLink);\n",
              "        }\n",
              "      </script>\n",
              "    </div>\n",
              "  </div>\n",
              "  "
            ],
            "text/plain": [
              "  episode_id character  \\\n",
              "0        1-1    Howard   \n",
              "1        1-1   Leonard   \n",
              "\n",
              "                                                                                                                                                                                                                                                                                                                                                                                                                                                                                                                                                                                                                                                                                                                                                                                                                                                                                                                                                                                                                                                                                                                                                                                                                                                                                                                                                                                                                                                                                                                                                                                                                                                                                                                                                                                                                                                                                                                                                                                                                                                                                                                                                                                                                                                                                                                                                                                                                                                                                                                                                                                                                                                                                                                                                                                                                                                                                                                                                                                                                                                                                                                                                                                                                                                                                                                                                                                                                                                                                                                                                                                                                                                                                                                                                                                                                                                                                                                                                                                                                                                                                                                                                                                                                                                                                                                                                                                                                                                                                                                                                                                                                                                                                                                                                                                                                                                                                                                                                                                                                                                                                                                                                                                                                                                                                                                                                                                                                                                                                                                                                                                                                                                                                                                                                                                                                                                                                                                                                                                                                                                                                           line  \\\n",
              "0                                                                                                                                                                                                                                                                                                                                                                                                                                                                                                                                                                                                                                                                                                                                                                                                                                                                                                                                                                                                                                                                                                                                                                                                                                                                                                                                                                                                                                                                                                                                                                                                                                                                                                                                                                                                                                                                                                                                                                                                                                                                                                                                                                                                                                                                                                                                                                                                                                                                                                                                                                                                                                                                                                                                                                                                                                                                                                                                                                                                                                                                                                                                                                                                                                                                                                                                                                                                                                                                                                                                                                                                                                                                                                                                                                                                                                                                                                                                                                                                                                                                                                                                                                                                                                                                                                                                                                                                                                                                                                                                                                                                                                                                                                                                                                                                                                                                                                                 Wait till you see this. It’s a Stephen Hawking lecture from MIT in 1974. It’s before he became a creepy computer voice Yeah, right, your grandmother back in town? Hang on, there really is a lady here? And you want us out because you’re anticipating coitus? So she’s available for coitus? Enchante Madamoiselle. Howard Wolowitz, Cal-Tech department of Applied Physics. You may be familiar with some of my work, it’s currently orbiting Jupiter’s largest moon taking high-resolution digital photographs. Bon douche. It’s French for good shower. It’s a sentiment I can express in six languages. See-ka-tong-guay-jow. Oh, he speaks English, he just can’t speak to women. He’s kind of a nerd. Juice box? This is one of my favourite places to kick back after a quest, they have a great house ale. Yeah, I’ve had him since level ten. His name is Buttons. Anyway, if you had your own game character we could hang out, maybe go on a quest. So you’ll think about it? Turn left on Lake Street and head up to Colorado. I know a wonderful little sushi bar that has karaoke. Baby, baby don’t get hooked on me. Uh, baby, baby don’t get hooked on me.   \n",
              "1  Agreed, what’s your point? Excuse me? One across is Aegean, eight down is Nabakov, twenty-six across is MCM, fourteen down is… move your finger… phylum, which makes fourteen across Port-au-Prince. See, Papa Doc’s capital idea, that’s Port-au-Prince. Haiti. Yes. Um, is this the High IQ sperm bank? Thank-you. We’ll be right back. What, are you kidding? You’re a semi-pro. Sheldon, this was your idea. A little extra money to get fractional T1 bandwidth in the apartment. I’m sure she’ll still love him. Well, what do you want to do? Okay. I don’t know, I’ve never reneged on a proffer of sperm before. Okay. See you. No. Not really. I don’t care. Two millimetres? That doesn’t seem right. Is that why they sent you to boarding school? New neighbour? Significant improvement over the old neighbour. Hi. Hi. We don’t mean to interrupt, we live across the hall. Oh… uh… no… we don’t live together… um… we live together but in separate, heterosexual bedrooms. Leonard, Sheldon. Hi. Hi. Well, uh, oh, welcome to the building. Oh, great. Great. Well, bye. Bye. Should we have invited her for lunch? We already watched the Season Two DVDs. I think we should be good neighbours, invite her over, make her feel welcome. Well, then that was wrong of us. We need to widen our circle. Yes, and you’ve never met one of them. I’m going to invite her over. We’ll have a nice meal and chat. Well it’s not difficult, you just listen to what she says and then you say something appropriate in response. Hi. Again. Hi. Anyway, um. We brought home Indian food. And, um. I know that moving can be stressful, and I find that when I’m undergoing stress, that good food and company can have a comforting effect. Also, curry is a natural laxative, and I don’t have to tell you that, uh, a clean colon is just one less thing to worry about. Uh, yes. Great. Okay, well, make yourself at home. You’re very welcome. I have a board. If you like boards, this is my board. What? At least I didn’t have to invent twenty-six dimensions just to make the math come out. In what universe? Here we go. Just sit somewhere else. Sheldon, sit!<br/> Well this is nice. We don’t have a lot of company over. Yes I now, but… Yes, I remember. I’m sorry. I said I’m sorry. Yeah, it’s like regular boggle but, in Klingon. That’s probably enough about us, tell us about you. I think what Sheldon’s trying to say, is that Sagittarius wouldn’t have been our first guess. Wu-uh, do you have some sort of a job? Oh, okay. I love cheesecake. I don’t eat it, I just think it’s a good idea. So it’s based on your life? Well, if that was a movie I would go see it. Well it sounds wonderful. I don’t know. Don’t. Should I say something? I feel like I should say something. No, it’s not crazy it’s, uh, uh, it’s a paradox. And paradoxes are part of nature, think about light. Now if you look at Huygens, light is a wave, as confirmed by the double slit experiments, but then, along comes Albert Einstein and discovers that light behaves like particles too. Well, I didn’t make it worse. Our shower works. No. No. It’s right down the hall. How so? That’s not true, remember at Thanksgiving my grandmother with Alzheimer’s had that episode. The worst part was watching her carve that turkey. Excuse me? Well I’m not trying to have sex with her. What makes you think she wouldn’t have sex with me, I’m a male and she’s a female? I’m not going to engage in hypotheticals here, I’m just trying to be a good neighbour. That’s not to say that if a carnal relationship were to develop that I wouldn’t participate. However briefly. It’s Darth Vader shampoo. (There is a knock on the door.) Luke Skywalker’s the conditioner.<br/> See what? This is not a good time. That’s great, you guys have to go. It’s just not a good time. No. And she’s not a lady, she’s just a new neighbour. Uh-huh. I’m not anticipating coitus. Can we please stop saying coitus? Come on, I’ll show you the trick with the shower. Save it for your blog, Howard. Uh, there it goes, it sticks, I’m sorry. You’re welcome, oh, you’re going to step right, okay, I’ll…. The hair products are Sheldon’s. A favour? Sure, you can ask me a favour, I would do you a favour for you. Oh, I’ll probably say yes. Wow. Must we? She asked me to do her a favour, Sheldon. Which is? That’s a biological impossibility and you didn’t have to come. Come on, you know how it is with break-ups. Wuh, I, I broke up with Joyce Kim. To mend her broken heart. This situation is much less complicated. There’s some kind of dispute between Penny and her ex-boyfriend as to who gets custody of the TV. She just wanted to avoid having a scene with him. No, Sheldon, there’s not going to be a scene. There’s two of us and one of him. I’ll do the talking. Hi, I’m Leonard, this is Sheldon. What did I just…. Uh, we’re here to pick up Penny’s TV. We’re not going to give up just like that. Excuse me, if I were to give up at the first little hitch I never would have been able to identify the fingerprints of string theory in the aftermath of the big bang. Come on, we have a combined IQ of 360, we should be able to figure out how to get into a stupid building. Just grab the door. This is it. (Knocks.) I’ll do the talking. I’m Leonard, this is Sheldon. Oh. We’re scientists. What? I’m sorry. Sheldon, I’m so sorry I dragged you through this. And you were right about my motives, I was hoping to establish a relationship with Penny that might have some day led to sex. Anyway, I’ve learned my lesson. She’s out of my league, I’m done with her, I’ve got my work, one day I’ll win the Nobel Prize and then I’ll die alone. Thank you Sheldon, you’re a good friend. We’re home. Well, your ex-boyfriend sends his regards and I think the rest is fairly self-explanatory. No, it was a valid hypothesis. Really? Great. Our babies will be smart and beautiful. Is Thai food okay with you Penny?   \n",
              "\n",
              "                                                                                                                                                                                                                                                                                                                                                                                                                                                                                                                                                                                                                                                                                                                                                                                                                                                                                                                                                                                                                                                                                                                                                                                                                                                                                                                                                                                                                                                                                                                                                                                                                                                                                                                                                                                                                                                                                                                                                                                                                                                                                                                                                                                                                                                                                                                                                                                                                                                                                                                                                                                                                                                                                                                                                                                                                                                                                                                                                                                                                                                                                                                                                                                                                                                            cleaned_text  \\\n",
              "0                                                                                                                                                                                                                                                                                                                                                                                                                                                                                                                                                                                                                                                                                                                                                                                                                                                                                                                                                                                                                                                                                                                                                                                                                                                                                                                                                                                                                                                                                                                                                                                                                                                                                                                                                                                                                                                                                                                                                                                                                                                                                                                                                                                                                                                                                                                                                                                                                                                                                                                              wait till see stephen hawk lecture mit become creepy computer voice yeah right grandmother back town hang really lady want anticipate coitus available coitus enchante madamoiselle howard wolowitz cal tech department applied physics may familiar work currently orbit jupiter large moon take high resolution digital photograph bon douche french good shower sentiment express six language see ka tong guay jow oh speak english speak woman kind nerd juice box one favourite place kick back quest great house ale yeah since level ten name buttons anyway game character could hang maybe go quest think turn leave lake street head colorado know wonderful little sushi bar karaoke baby baby get hook uh baby baby get hook   \n",
              "1  agree point excuse one across aegean eight nabakov twenty six across mcm fourteen move finger phylum make fourteen across port au prince see papa doc capital idea port au prince haiti yes um high iq sperm bank thank right back kid semi pro sheldon idea little extra money get fractional bandwidth apartment sure still love well want okay know never renege proffer sperm okay see really care two millimetre seem right send board school new neighbour significant improvement old neighbour hi hi mean interrupt live across hall oh uh live together um live together separate heterosexual bedroom leonard sheldon hi hi well uh oh welcome building oh great great well bye bye invite lunch already watch season two dvd think good neighbour invite make feel welcome well wrong need widen circle yes never meet one go invite nice meal chat well difficult listen say say something appropriate response hi hi anyway um bring home indian food um know moving stressful find undergo stress good food company comforting effect also curry natural laxative tell uh clean colon one less thing worry uh yes great okay well make home welcome board like board board least invent twenty six dimension make math come universe go sit somewhere else sheldon well nice lot company yes yes remember sorry say sorry yeah like regular boggle klingon probably enough tell think sheldon try say sagittarius would first guess wu uh sort job oh okay love cheesecake eat think good idea base life well movie would go see well sound wonderful know say something feel like say something crazy uh uh paradox paradox part nature think light look huygens light wave confirm double slit experiment along come albert einstein discover light behave like particle well make bad shower work right hall true remember thanksgiving grandmother alzheimer episode bad part watch carve turkey excuse well try sex make think would sex male female go engage hypothetical try good neighbour say carnal relationship develop would participate however briefly darth vader shampoo knock door luke skywalker see good time great guy go good time lady new neighbour uh huh anticipate coitus please stop say coitus come show trick shower save blog howard uh go stick sorry welcome oh go step right okay hair product sheldon favour sure ask favour would favour oh probably say yes wow must ask favour sheldon biological impossibility come come know break wuh break joyce kim mend broken heart situation much less complicated kind dispute penny ex boyfriend get custody tv want avoid scene sheldon go scene two one talking hi leonard sheldon uh pick penny tv go give like excuse give first little hitch never would able identify fingerprint string theory aftermath big bang come combine iq able figure get stupid building grab door knocks talking leonard sheldon oh scientist sorry sheldon sorry drag right motive hope establish relationship penny might day lead sex anyway learn lesson league get work one day win nobel prize die alone thank sheldon good friend home well ex boyfriend send regard think rest fairly self explanatory valid hypothesis really great baby smart beautiful thai food okay penny   \n",
              "\n",
              "                                                                                                                                                                                                                                                                                                                                                                                                                                                                                                                                                                                                                                                                                                                                                             list_of_lines  \n",
              "0  [wait, till, see, stephen, hawk, lecture, mit, become, creepy, computer, voice, yeah, right, grandmother, back, town, hang, really, lady, want, anticipate, coitus, available, coitus, enchante, madamoiselle, howard, wolowitz, cal, tech, department, applied, physics, may, familiar, work, currently, orbit, jupiter, large, moon, take, high, resolution, digital, photograph, bon, douche, french, good, shower, sentiment, express, six, language, see, ka, tong, guay, jow, oh, speak, english, speak, woman, kind, nerd, juice, box, one, favourite, place, kick, back, quest, great, house, ale, yeah, since, level, ten, name, buttons, anyway, game, character, could, hang, maybe, go, quest, think, turn, leave, lake, street, head, colorado, know, ...]  \n",
              "1                             [agree, point, excuse, one, across, aegean, eight, nabakov, twenty, six, across, mcm, fourteen, move, finger, phylum, make, fourteen, across, port, au, prince, see, papa, doc, capital, idea, port, au, prince, haiti, yes, um, high, iq, sperm, bank, thank, right, back, kid, semi, pro, sheldon, idea, little, extra, money, get, fractional, bandwidth, apartment, sure, still, love, well, want, okay, know, never, renege, proffer, sperm, okay, see, really, care, two, millimetre, seem, right, send, board, school, new, neighbour, significant, improvement, old, neighbour, hi, hi, mean, interrupt, live, across, hall, oh, uh, live, together, um, live, together, separate, heterosexual, bedroom, leonard, sheldon, hi, ...]  "
            ]
          },
          "metadata": {},
          "execution_count": 34
        }
      ]
    },
    {
      "cell_type": "code",
      "source": [
        "#episode_list_list.to_csv('episode_list_of_list2.csv') "
      ],
      "metadata": {
        "id": "bfarV3I2G_td"
      },
      "execution_count": 35,
      "outputs": []
    },
    {
      "cell_type": "code",
      "source": [
        "# Create a Dictionary from the articles\n",
        "dictionary = Dictionary(dialogue_list)\n",
        "\n",
        "# Select the id for \"computer\": computer_id\n",
        "computer_id = dictionary.token2id.get(\"computer\")\n",
        "print(dictionary.get(computer_id))\n",
        "\n",
        "\n",
        "#Create a MmCorpus: corpus\n",
        "corpus = [dictionary.doc2bow(dialogue) for dialogue in dialogue_list]\n",
        "\n",
        "# Print the first 10 word ids with their frequency counts from the fifth document\n",
        "print(corpus[1][:10])"
      ],
      "metadata": {
        "colab": {
          "base_uri": "https://localhost:8080/"
        },
        "id": "p2ge9uU4nDIy",
        "outputId": "01cce08c-ad30-4901-8586-fcdce048057a"
      },
      "execution_count": 36,
      "outputs": [
        {
          "output_type": "stream",
          "name": "stdout",
          "text": [
            "computer\n",
            "[(1, 1), (2, 2), (5, 1), (6, 1), (14, 2), (30, 4), (31, 9), (32, 7), (33, 1), (34, 5)]\n"
          ]
        }
      ]
    },
    {
      "cell_type": "code",
      "source": [
        "#top 10 words in a given document (document here is a dialogue of one caracter in a given episode)\n",
        "#here: line of Howard in episode 1\n",
        "\n",
        "# Save the first document: doc\n",
        "doc = corpus[0]\n",
        "\n",
        "# Sort the doc for frequency: bow_doc\n",
        "bow_doc = sorted(doc, key=lambda w: w[1], reverse=True)\n",
        "\n",
        "# Print the top 5 words of the document alongside the count\n",
        "for word_id, word_count in bow_doc[:10]:\n",
        "    print(dictionary.get(word_id), word_count)"
      ],
      "metadata": {
        "colab": {
          "base_uri": "https://localhost:8080/"
        },
        "id": "a03-oP_Ibi-r",
        "outputId": "56a6fbdb-2c4b-4df4-d4f0-d8b059613b8f"
      },
      "execution_count": 37,
      "outputs": [
        {
          "output_type": "stream",
          "name": "stdout",
          "text": [
            "baby 4\n",
            "back 2\n",
            "coitus 2\n",
            "get 2\n",
            "hang 2\n",
            "hook 2\n",
            "quest 2\n",
            "see 2\n",
            "speak 2\n",
            "yeah 2\n"
          ]
        }
      ]
    },
    {
      "cell_type": "code",
      "source": [
        "#top 10 most common words in entire corpus (= all dialogues)\n",
        "\n",
        "# Create the defaultdict: total_word_count\n",
        "total_word_count = defaultdict(int)\n",
        "for word_id, word_count in itertools.chain.from_iterable(corpus):\n",
        "    total_word_count[word_id] += word_count\n",
        "\n",
        "# Create a sorted list from the defaultdict: sorted_word_count \n",
        "sorted_word_count = sorted(total_word_count.items(), key=lambda w: w[1], reverse=True) \n",
        "\n",
        "# Print the top 5 words across all documents alongside the count\n",
        "for word_id, word_count in sorted_word_count[:10]:\n",
        "    print(dictionary.get(word_id), word_count)"
      ],
      "metadata": {
        "colab": {
          "base_uri": "https://localhost:8080/"
        },
        "id": "Dek1-EJHoSLG",
        "outputId": "92400674-7636-4a67-8d28-753bdaebce55"
      },
      "execution_count": 38,
      "outputs": [
        {
          "output_type": "stream",
          "name": "stdout",
          "text": [
            "go 5415\n",
            "oh 4328\n",
            "get 4109\n",
            "know 3966\n",
            "well 3491\n",
            "like 2919\n",
            "would 2639\n",
            "okay 2586\n",
            "think 2497\n",
            "yeah 2372\n"
          ]
        }
      ]
    },
    {
      "cell_type": "markdown",
      "source": [
        "**TF-IDF with Gensim**"
      ],
      "metadata": {
        "id": "UaqFbJcDr2Kx"
      }
    },
    {
      "cell_type": "markdown",
      "source": [
        "* Tf-idf = term frequency - inverse document frequency\n",
        "* helps you determine the most importan words in each document in a corpus\n",
        "* common words should be down-weighted in importance\n",
        "* ensures that most common words don't show up as key --> keep doucment specific frequent words weighted high\n",
        "\n",
        "\n",
        "---\n",
        "\n",
        "* words get low weight if a word occurs often in the document.\n",
        "* wordts get low weight if it occurs in many of the documents.\n",
        "\n",
        "* weights can help you determine good topics and key words for a corpus with shared vocabulary. "
      ],
      "metadata": {
        "id": "Q-hAIw66r2RE"
      }
    },
    {
      "cell_type": "code",
      "source": [
        "episode_list_list.head(6)"
      ],
      "metadata": {
        "colab": {
          "base_uri": "https://localhost:8080/",
          "height": 1000
        },
        "id": "kqmzqLeCH0zz",
        "outputId": "0cb22f3e-84e2-4b9d-9d3a-d34dd0119bc6"
      },
      "execution_count": 39,
      "outputs": [
        {
          "output_type": "execute_result",
          "data": {
            "text/html": [
              "\n",
              "  <div id=\"df-ab0a7fc5-5a03-43a1-9520-1b7458cded5a\">\n",
              "    <div class=\"colab-df-container\">\n",
              "      <div>\n",
              "<style scoped>\n",
              "    .dataframe tbody tr th:only-of-type {\n",
              "        vertical-align: middle;\n",
              "    }\n",
              "\n",
              "    .dataframe tbody tr th {\n",
              "        vertical-align: top;\n",
              "    }\n",
              "\n",
              "    .dataframe thead th {\n",
              "        text-align: right;\n",
              "    }\n",
              "</style>\n",
              "<table border=\"1\" class=\"dataframe\">\n",
              "  <thead>\n",
              "    <tr style=\"text-align: right;\">\n",
              "      <th></th>\n",
              "      <th>episode_id</th>\n",
              "      <th>character</th>\n",
              "      <th>line</th>\n",
              "      <th>cleaned_text</th>\n",
              "      <th>list_of_lines</th>\n",
              "    </tr>\n",
              "  </thead>\n",
              "  <tbody>\n",
              "    <tr>\n",
              "      <th>0</th>\n",
              "      <td>1-1</td>\n",
              "      <td>Howard</td>\n",
              "      <td>Wait till you see this. It’s a Stephen Hawking lecture from MIT in 1974. It’s before he became a creepy computer voice Yeah, right, your grandmother back in town? Hang on, there really is a lady here? And you want us out because you’re anticipating coitus? So she’s available for coitus? Enchante Madamoiselle. Howard Wolowitz, Cal-Tech department of Applied Physics. You may be familiar with some of my work, it’s currently orbiting Jupiter’s largest moon taking high-resolution digital photographs. Bon douche. It’s French for good shower. It’s a sentiment I can express in six languages. See-ka-tong-guay-jow. Oh, he speaks English, he just can’t speak to women. He’s kind of a nerd. Juice box? This is one of my favourite places to kick back after a quest, they have a great house ale. Yeah, I’ve had him since level ten. His name is Buttons. Anyway, if you had your own game character we could hang out, maybe go on a quest. So you’ll think about it? Turn left on Lake Street and head up to Colorado. I know a wonderful little sushi bar that has karaoke. Baby, baby don’t get hooked on me. Uh, baby, baby don’t get hooked on me.</td>\n",
              "      <td>wait till see stephen hawk lecture mit become creepy computer voice yeah right grandmother back town hang really lady want anticipate coitus available coitus enchante madamoiselle howard wolowitz cal tech department applied physics may familiar work currently orbit jupiter large moon take high resolution digital photograph bon douche french good shower sentiment express six language see ka tong guay jow oh speak english speak woman kind nerd juice box one favourite place kick back quest great house ale yeah since level ten name buttons anyway game character could hang maybe go quest think turn leave lake street head colorado know wonderful little sushi bar karaoke baby baby get hook uh baby baby get hook</td>\n",
              "      <td>[wait, till, see, stephen, hawk, lecture, mit, become, creepy, computer, voice, yeah, right, grandmother, back, town, hang, really, lady, want, anticipate, coitus, available, coitus, enchante, madamoiselle, howard, wolowitz, cal, tech, department, applied, physics, may, familiar, work, currently, orbit, jupiter, large, moon, take, high, resolution, digital, photograph, bon, douche, french, good, shower, sentiment, express, six, language, see, ka, tong, guay, jow, oh, speak, english, speak, woman, kind, nerd, juice, box, one, favourite, place, kick, back, quest, great, house, ale, yeah, since, level, ten, name, buttons, anyway, game, character, could, hang, maybe, go, quest, think, turn, leave, lake, street, head, colorado, know, ...]</td>\n",
              "    </tr>\n",
              "    <tr>\n",
              "      <th>1</th>\n",
              "      <td>1-1</td>\n",
              "      <td>Leonard</td>\n",
              "      <td>Agreed, what’s your point? Excuse me? One across is Aegean, eight down is Nabakov, twenty-six across is MCM, fourteen down is… move your finger… phylum, which makes fourteen across Port-au-Prince. See, Papa Doc’s capital idea, that’s Port-au-Prince. Haiti. Yes. Um, is this the High IQ sperm bank? Thank-you. We’ll be right back. What, are you kidding? You’re a semi-pro. Sheldon, this was your idea. A little extra money to get fractional T1 bandwidth in the apartment. I’m sure she’ll still love him. Well, what do you want to do? Okay. I don’t know, I’ve never reneged on a proffer of sperm before. Okay. See you. No. Not really. I don’t care. Two millimetres? That doesn’t seem right. Is that why they sent you to boarding school? New neighbour? Significant improvement over the old neighbour. Hi. Hi. We don’t mean to interrupt, we live across the hall. Oh… uh… no… we don’t live together… um… we live together but in separate, heterosexual bedrooms. Leonard, Sheldon. Hi. Hi. Well, uh, oh, welcome to the building. Oh, great. Great. Well, bye. Bye. Should we have invited her for lunch? We already watched the Season Two DVDs. I think we should be good neighbours, invite her over, make her feel welcome. Well, then that was wrong of us. We need to widen our circle. Yes, and you’ve never met one of them. I’m going to invite her over. We’ll have a nice meal and chat. Well it’s not difficult, you just listen to what she says and then you say something appropriate in response. Hi. Again. Hi. Anyway, um. We brought home Indian food. And, um. I know that moving can be stressful, and I find that when I’m undergoing stress, that good food and company can have a comforting effect. Also, curry is a natural laxative, and I don’t have to tell you that, uh, a clean colon is just one less thing to worry about. Uh, yes. Great. Okay, well, make yourself at home. You’re very welcome. I have a board. If you like boards, this is my board. What? At least I didn’t have to invent twenty-six dimensions just to make the math come out. In what universe? Here we go. Just sit somewhere else. Sheldon, sit!&lt;br/&gt; Well this is nice. We don’t have a lot of company over. Yes I now, but… Yes, I remember. I’m sorry. I said I’m sorry. Yeah, it’s like regular boggle but, in Klingon. That’s probably enough about us, tell us about you. I think what Sheldon’s trying to say, is that Sagittarius wouldn’t have been our first guess. Wu-uh, do you have some sort of a job? Oh, okay. I love cheesecake. I don’t eat it, I just think it’s a good idea. So it’s based on your life? Well, if that was a movie I would go see it. Well it sounds wonderful. I don’t know. Don’t. Should I say something? I feel like I should say something. No, it’s not crazy it’s, uh, uh, it’s a paradox. And paradoxes are part of nature, think about light. Now if you look at Huygens, light is a wave, as confirmed by the double slit experiments, but then, along comes Albert Einstein and discovers that light behaves like particles too. Well, I didn’t make it worse. Our shower works. No. No. It’s right down the hall. How so? That’s not true, remember at Thanksgiving my grandmother with Alzheimer’s had that episode. The worst part was watching her carve that turkey. Excuse me? Well I’m not trying to have sex with her. What makes you think she wouldn’t have sex with me, I’m a male and she’s a female? I’m not going to engage in hypotheticals here, I’m just trying to be a good neighbour. That’s not to say that if a carnal relationship were to develop that I wouldn’t participate. However briefly. It’s Darth Vader shampoo. (There is a knock on the door.) Luke Skywalker’s the conditioner.&lt;br/&gt; See what? This is not a good time. That’s great, you guys have to go. It’s just not a good time. No. And she’s not a lady, she’s just a new neighbour. Uh-huh. I’m not anticipating coitus. Can we please stop saying coitus? Come on, I’ll show you the trick with the shower. Save it for your blog, Howard. Uh, there it goes, it sticks, I’m sorry. You’re welcome, oh, you’re going to step right, okay, I’ll…. The hair products are Sheldon’s. A favour? Sure, you can ask me a favour, I would do you a favour for you. Oh, I’ll probably say yes. Wow. Must we? She asked me to do her a favour, Sheldon. Which is? That’s a biological impossibility and you didn’t have to come. Come on, you know how it is with break-ups. Wuh, I, I broke up with Joyce Kim. To mend her broken heart. This situation is much less complicated. There’s some kind of dispute between Penny and her ex-boyfriend as to who gets custody of the TV. She just wanted to avoid having a scene with him. No, Sheldon, there’s not going to be a scene. There’s two of us and one of him. I’ll do the talking. Hi, I’m Leonard, this is Sheldon. What did I just…. Uh, we’re here to pick up Penny’s TV. We’re not going to give up just like that. Excuse me, if I were to give up at the first little hitch I never would have been able to identify the fingerprints of string theory in the aftermath of the big bang. Come on, we have a combined IQ of 360, we should be able to figure out how to get into a stupid building. Just grab the door. This is it. (Knocks.) I’ll do the talking. I’m Leonard, this is Sheldon. Oh. We’re scientists. What? I’m sorry. Sheldon, I’m so sorry I dragged you through this. And you were right about my motives, I was hoping to establish a relationship with Penny that might have some day led to sex. Anyway, I’ve learned my lesson. She’s out of my league, I’m done with her, I’ve got my work, one day I’ll win the Nobel Prize and then I’ll die alone. Thank you Sheldon, you’re a good friend. We’re home. Well, your ex-boyfriend sends his regards and I think the rest is fairly self-explanatory. No, it was a valid hypothesis. Really? Great. Our babies will be smart and beautiful. Is Thai food okay with you Penny?</td>\n",
              "      <td>agree point excuse one across aegean eight nabakov twenty six across mcm fourteen move finger phylum make fourteen across port au prince see papa doc capital idea port au prince haiti yes um high iq sperm bank thank right back kid semi pro sheldon idea little extra money get fractional bandwidth apartment sure still love well want okay know never renege proffer sperm okay see really care two millimetre seem right send board school new neighbour significant improvement old neighbour hi hi mean interrupt live across hall oh uh live together um live together separate heterosexual bedroom leonard sheldon hi hi well uh oh welcome building oh great great well bye bye invite lunch already watch season two dvd think good neighbour invite make feel welcome well wrong need widen circle yes never meet one go invite nice meal chat well difficult listen say say something appropriate response hi hi anyway um bring home indian food um know moving stressful find undergo stress good food company comforting effect also curry natural laxative tell uh clean colon one less thing worry uh yes great okay well make home welcome board like board board least invent twenty six dimension make math come universe go sit somewhere else sheldon well nice lot company yes yes remember sorry say sorry yeah like regular boggle klingon probably enough tell think sheldon try say sagittarius would first guess wu uh sort job oh okay love cheesecake eat think good idea base life well movie would go see well sound wonderful know say something feel like say something crazy uh uh paradox paradox part nature think light look huygens light wave confirm double slit experiment along come albert einstein discover light behave like particle well make bad shower work right hall true remember thanksgiving grandmother alzheimer episode bad part watch carve turkey excuse well try sex make think would sex male female go engage hypothetical try good neighbour say carnal relationship develop would participate however briefly darth vader shampoo knock door luke skywalker see good time great guy go good time lady new neighbour uh huh anticipate coitus please stop say coitus come show trick shower save blog howard uh go stick sorry welcome oh go step right okay hair product sheldon favour sure ask favour would favour oh probably say yes wow must ask favour sheldon biological impossibility come come know break wuh break joyce kim mend broken heart situation much less complicated kind dispute penny ex boyfriend get custody tv want avoid scene sheldon go scene two one talking hi leonard sheldon uh pick penny tv go give like excuse give first little hitch never would able identify fingerprint string theory aftermath big bang come combine iq able figure get stupid building grab door knocks talking leonard sheldon oh scientist sorry sheldon sorry drag right motive hope establish relationship penny might day lead sex anyway learn lesson league get work one day win nobel prize die alone thank sheldon good friend home well ex boyfriend send regard think rest fairly self explanatory valid hypothesis really great baby smart beautiful thai food okay penny</td>\n",
              "      <td>[agree, point, excuse, one, across, aegean, eight, nabakov, twenty, six, across, mcm, fourteen, move, finger, phylum, make, fourteen, across, port, au, prince, see, papa, doc, capital, idea, port, au, prince, haiti, yes, um, high, iq, sperm, bank, thank, right, back, kid, semi, pro, sheldon, idea, little, extra, money, get, fractional, bandwidth, apartment, sure, still, love, well, want, okay, know, never, renege, proffer, sperm, okay, see, really, care, two, millimetre, seem, right, send, board, school, new, neighbour, significant, improvement, old, neighbour, hi, hi, mean, interrupt, live, across, hall, oh, uh, live, together, um, live, together, separate, heterosexual, bedroom, leonard, sheldon, hi, ...]</td>\n",
              "    </tr>\n",
              "    <tr>\n",
              "      <th>2</th>\n",
              "      <td>1-1</td>\n",
              "      <td>Other</td>\n",
              "      <td>Hang on. Can I help you? If you have to ask, maybe you shouldn’t be here. Fill these out. Oh, take your time. I’ll just finish my crossword puzzle. Oh wait. Yeah. Get lost. Yeah? How the hell did you get in the building?</td>\n",
              "      <td>hang help ask maybe fill oh take time finish crossword puzzle oh wait yeah get lose yeah hell get building</td>\n",
              "      <td>[hang, help, ask, maybe, fill, oh, take, time, finish, crossword, puzzle, oh, wait, yeah, get, lose, yeah, hell, get, building]</td>\n",
              "    </tr>\n",
              "    <tr>\n",
              "      <th>3</th>\n",
              "      <td>1-1</td>\n",
              "      <td>Penny</td>\n",
              "      <td>Oh, hi! Hi? Oh, that’s nice. Oh, okay, well, guess I’m your new neighbour, Penny. Hi. Hi. Thankyou, maybe we can have coffee sometime. Great. Bye. Hi. Hi. Oh, you’re inviting me over to eat? Oh, that’s so nice, I’d love to. So, what do you guys do for fun around here? Okay, thankyou. This looks like some serious stuff, Leonard, did you do this? Wow. So you’re like, one of those, beautiful mind genius guys. This is really impressive. Holy smokes. Uh, do you guys mind if I start? So, sit next to me. What’s the difference? Do you want me to move? So, Klingon boggle? Um, me, okay, I’m Sagittarius, which probably tells you way more than you need to know. Participate in the what? Oh, yeah, a lot of people think I’m a water sign. Okay, let’s see, what else, oh, I’m a vegetarian, oh, except for fish, and the occasional steak, I love steak. Oh, yeah, I’m a waitress at the Cheesecake Factory. Oh, anyways, I’m also writing a screenplay. It’s about this sensitive girl who comes to L.A. from Lincoln Nebraska to be an actress, and winds up a waitress at the Cheesecake Factory. No, I’m from Omaha. I know, right? Okay, let’s see, what else? Um, that’s about it. That’s the story of Penny. It was. Until I fell in love with a jerk. Oh God, you know, four years I lived with him, four years, that’s like as long as High School. I just, I can’t believe I trusted him.&lt;br/&gt; You want to know the most pathetic part? Even though I hate his lying, cheating guts, I still love him. Is that crazy? Oh, I’m so sorry, I’m such a mess, and on top of everything else I’m all gross from moving and my stupid shower doesn’t even work. Really? Would it be totally weird if I used it? Thanks. You guys are really sweet.&lt;br/&gt; Hey, is there a trick to getting it to switch from tub to shower. Oh. Hi, sorry. Hello! Penny. I work at the Cheesecake Factory. I’m sorry? Okay. Thanks. Hey, Leonard? Um, okay. Can I ask you a favour. It’s okay if you say no. It’s just not the kind of thing you ask a guy you’ve just met. So, you guys work with Leonard and Sheldon at the University? Uh, I’m sorry, do you speak English? Really, why? Wow, cool tiger. Uh, sounds interesting. Oh, I don’t think I’ll be able to stop thinking about it. Oh, my God, what happened? I’m so sorry, I really thought if you guys went instead of me he wouldn’t be such an ass. Really, thank you so much for going and trying you’re, uh, you’re so terrific. Why don’t you put some clothes on, I’ll get my purse and dinner is on me, okay? Sure. So? So? Any ideas Raj? (He just looks at her with a worried expression.) That sounds like fun.</td>\n",
              "      <td>oh hi hi oh nice oh okay well guess new neighbour penny hi hi thankyou maybe coffee sometime great bye hi hi oh invite eat oh nice would love guy fun around okay thankyou look like serious stuff leonard wow like one beautiful mind genius guy really impressive holy smoke uh guy mind start sit next difference want move klingon boggle um okay sagittarius probably tell way need know participate oh yeah lot people think water sign okay let see else oh vegetarian oh except fish occasional steak love steak oh yeah waitress cheesecake factory oh anyways also write screenplay sensitive girl come lincoln nebraska actress wind waitress cheesecake factory omaha know right okay let see else um story penny fall love jerk oh god know four year live four year like long high school believe trust want know pathetic part even though hate lying cheat gut still love crazy oh sorry mess top everything else gross move stupid shower even work really would totally weird use thank guy really hey trick get switch tub shower oh hi sorry hello penny work cheesecake factory sorry okay thank hey leonard um okay ask favour okay say kind thing ask guy meet guy work leonard sheldon university uh sorry speak english really wow cool tiger uh sound interesting oh think able stop think oh god happen sorry really think guy go instead would ass really thank much go try uh terrific put clothe get purse dinner okay sure idea raj look worried expression sound like fun</td>\n",
              "      <td>[oh, hi, hi, oh, nice, oh, okay, well, guess, new, neighbour, penny, hi, hi, thankyou, maybe, coffee, sometime, great, bye, hi, hi, oh, invite, eat, oh, nice, would, love, guy, fun, around, okay, thankyou, look, like, serious, stuff, leonard, wow, like, one, beautiful, mind, genius, guy, really, impressive, holy, smoke, uh, guy, mind, start, sit, next, difference, want, move, klingon, boggle, um, okay, sagittarius, probably, tell, way, need, know, participate, oh, yeah, lot, people, think, water, sign, okay, let, see, else, oh, vegetarian, oh, except, fish, occasional, steak, love, steak, oh, yeah, waitress, cheesecake, factory, oh, anyways, also, write, screenplay, ...]</td>\n",
              "    </tr>\n",
              "    <tr>\n",
              "      <th>4</th>\n",
              "      <td>1-1</td>\n",
              "      <td>Raj</td>\n",
              "      <td>It’s fantastic. Unbelievable. Why? Smooth.</td>\n",
              "      <td>fantastic unbelievable smooth</td>\n",
              "      <td>[fantastic, unbelievable, smooth]</td>\n",
              "    </tr>\n",
              "    <tr>\n",
              "      <th>5</th>\n",
              "      <td>1-1</td>\n",
              "      <td>Sheldon</td>\n",
              "      <td>So if a photon is directed through a plane with two slits in it and either slit is observed it will not go through both slits. If it’s unobserved it will, however, if it’s observed after it’s left the plane but before it hits its target, it will not have gone through both slits. There’s no point, I just think it’s a good idea for a tee-shirt. I think this is the place. Leonard, I don’t think I can do this. No. We are committing genetic fraud. There’s no guarantee that our sperm is going to generate high IQ offspring, think about that. I have a sister with the same basic DNA mix who hostesses at Fuddruckers. I know, and I do yearn for faster downloads, but there’s some poor woman is going to pin her hopes on my sperm, what if she winds up with a toddler who doesn’t know if he should use an integral or a differential to solve the area under a curve. I wouldn’t. I want to leave. What’s the protocol for leaving? Let’s try just walking out. Bye-bye Are you still mad about the sperm bank? You want to hear an interesting thing about stairs? If the height of a single step is off by as little as two millimetres, most people will trip. No, it’s true, I did a series of experiments when I was twelve, my father broke his clavicle. No, that was the result of my work with lasers. Evidently. Two hundred pound transvestite with a skin condition, yes she is. Hi. Hi. Hi. Great. Bye. No. We’re going to start Season Two of Battlestar Galactica. Not with commentary. We never invited Louis-slash-Louise over. I have a very wide circle. I have 212 friends on myspace. That’s the beauty of it. Chat? We don’t chat. At least not offline. To what end? Hi. Leonard, I’m not expert here but I believe in the context of a luncheon invitation, you might want to skip the reference to bowel movements. Well, today we tried masturbating for money. Actually that’s my work. Yeah, well, it’s just some quantum mechanics, with a little string theory doodling around the edges. That part there, that’s just a joke, it’s a spoof of the Bourne-Oppenheimer approximation. Yeah. If by holy smokes you mean a derivative restatement of the kind of stuff you can find scribbled on the wall of any men’s room at MIT, sure. Oh, come on. Who hasn’t seen this differential below “here I sit broken hearted?” I didn’t invent them, they’re there. In all of them, that is the point. Um, Penny, that’s where I sit. No, I sit there. What’s the difference? In the winter that seat is close enough to the radiator to remain warm, and yet not so close as to cause perspiration. In the summer it’s directly in the path of a cross breeze created by open windows there, and there. It faces the television at an angle that is neither direct, thus discouraging conversation, nor so far wide to create a parallax distortion, I could go on, but I think I’ve made my point. Well. Fine. (Wanders in circles, looking lost.) Aaah! That’s not true. Koothrapali and Wolowitz come over all the time. Tuesday night we played Klingon boggle until one in the morning. I resent you saying we don’t have company. That is an antisocial implication. Yes, it tells us that you participate in the mass cultural delusion that the Sun’s apparent position relative to arbitrarily defined constellations and the time of your birth somehow effects your personality. That’s interesting. Leonard can’t process corn. You’re lactose intolerant. What’s happening. It took you four years to get through High School? You? No, you’ll only make it worse. Yes. Yes. No? No. Well this is an interesting development. It has been some time since we’ve had a woman take her clothes off in our apartment. Point taken. It has been some time since we’ve had a woman take her clothes off after which we didn’t want to rip our eyes out. So, what exactly are you trying to accomplish here? That woman in there’s not going to have sex with you. Oh, good. Then you won’t be disappointed. Yes, but not of the same species. Oh, of course. Do you think this possibility will be helped or hindered when she discovers your Luke Skywalker no-more-tears shampoo? Leonard has a lady over. Technically that would be coitus interruptus. I really think we should examine the chain of causality here. Event A. A beautiful woman stands naked in our shower. Event B. We drive half way across town to retrieve a television set from the aforementioned woman’s ex-boyfriend. Query, on what plane of existence is there even a semi-rational link between these events? Ah, yes, well that may be the proximal cause of our journey, but we both know it only exists in contradistinction to the higher level distal cause. You think with your penis. Oh, right, yes, I could have stayed behind and watched Wolowitz try to hit on Penny in Russian, Arabic and Farsi. Why can’t she get her own TV. No I don’t. And neither do you. You did not break up with Joyce Kim, she defected to North Korea. So we get to have a scene with him? Leonard, the two of us can’t even carry a TV. Hello. Okay, thanks for your time. Leonard, the TV is in the building, we’ve been denied access to the building, ergo we are done. My apologies. What’s your plan. It’s just a privilege to watch your mind at work. What do you think their combined IQ is? Good thinking, I’ll just be the muscle. From the intercom. Tell him about our IQ. Leonard. My mom bought me those pants. You’re going to have to call her. It’s okay. It wasn’t my first pantsing, and it won’t be my last. Well you got me out of my pants. Don’t think like that, you’re not going to die alone. And you’re certainly not going to win a Nobel Prize. That was a valid hypothesis? What is happening to you? Thank you. You’re not done with her, are you? Not to mention imaginary. We can’t have Thai food, we had Indian for lunch. They’re both curry based cuisines. They would be gastronomically redundant. I can see we’re going to have to spell out everything for this girl. I don’t know what your odds are in the world as a whole, but as far as the population of this car goes, you’re a veritable Mack Daddy.</td>\n",
              "      <td>photon direct plane two slit either slit observe go slit unobserved however observe leave plane hit target go slit point think good idea tee shirt think place leonard think commit genetic fraud guarantee sperm go generate high iq offspring think sister basic dna mix hostesse fuddrucker know yearn fast download poor woman go pin hope sperm wind toddler know use integral differential solve area curve would want leave protocol leave let try walk bye bye still mad sperm bank want hear interesting thing stair height single step little two millimetre people trip true series experiment twelve father break clavicle result work laser evidently two hundred pound transvestite skin condition yes hi hi hi great bye go start season two battlestar galactica commentary never invite louis slash louise wide circle friend myspace beauty chat chat least offline end hi leonard expert believe context luncheon invitation might want skip reference bowel movement well today try masturbate money actually work yeah well quantum mechanic little string theory doodle around edge part joke spoof bourne oppenheimer approximation yeah holy smoke mean derivative restatement kind stuff find scribble wall man room mit sure oh come see differential sit break hearted invent point um penny sit sit difference winter seat close enough radiator remain warm yet close cause perspiration summer directly path cross breeze create open window face television angle neither direct thus discourage conversation far wide create parallax distortion could go think make point well fine wander circle look lose aaah true koothrapali wolowitz come time tuesday night play klingon boggle one morning resent say company antisocial implication yes tell participate mass cultural delusion sun apparent position relative arbitrarily define constellation time birth somehow effect personality interesting leonard process corn lactose intolerant happen take four year get high school make bad yes yes well interesting development time since woman take clothe apartment point take time since woman take clothe want rip eye exactly try accomplish woman go sex oh good disappoint yes specie oh course think possibility help hinder discover luke skywalker tear shampoo leonard lady technically would coitus interruptus really think examine chain causality event beautiful woman stand naked shower event drive half way across town retrieve television set aforementioned woman ex boyfriend query plane existence even semi rational link event ah yes well may proximal cause journey know exist contradistinction high level distal cause think penis oh right yes could stay behind watch wolowitz try hit penny russian arabic farsi get tv neither break joyce kim defect north korea get scene leonard two even carry tv hello okay thank time leonard tv building deny access building ergo apology plan privilege watch mind work think combine iq good thinking muscle intercom tell iq leonard mom buy pant go call okay first pantsing last well get pant think like go die alone certainly go win nobel prize valid hypothesis happen thank mention imaginary thai food indian lunch curry base cuisine would gastronomically redundant see go spell everything girl know odd world whole far population car go veritable mack daddy</td>\n",
              "      <td>[photon, direct, plane, two, slit, either, slit, observe, go, slit, unobserved, however, observe, leave, plane, hit, target, go, slit, point, think, good, idea, tee, shirt, think, place, leonard, think, commit, genetic, fraud, guarantee, sperm, go, generate, high, iq, offspring, think, sister, basic, dna, mix, hostesse, fuddrucker, know, yearn, fast, download, poor, woman, go, pin, hope, sperm, wind, toddler, know, use, integral, differential, solve, area, curve, would, want, leave, protocol, leave, let, try, walk, bye, bye, still, mad, sperm, bank, want, hear, interesting, thing, stair, height, single, step, little, two, millimetre, people, trip, true, series, experiment, twelve, father, break, clavicle, result, ...]</td>\n",
              "    </tr>\n",
              "  </tbody>\n",
              "</table>\n",
              "</div>\n",
              "      <button class=\"colab-df-convert\" onclick=\"convertToInteractive('df-ab0a7fc5-5a03-43a1-9520-1b7458cded5a')\"\n",
              "              title=\"Convert this dataframe to an interactive table.\"\n",
              "              style=\"display:none;\">\n",
              "        \n",
              "  <svg xmlns=\"http://www.w3.org/2000/svg\" height=\"24px\"viewBox=\"0 0 24 24\"\n",
              "       width=\"24px\">\n",
              "    <path d=\"M0 0h24v24H0V0z\" fill=\"none\"/>\n",
              "    <path d=\"M18.56 5.44l.94 2.06.94-2.06 2.06-.94-2.06-.94-.94-2.06-.94 2.06-2.06.94zm-11 1L8.5 8.5l.94-2.06 2.06-.94-2.06-.94L8.5 2.5l-.94 2.06-2.06.94zm10 10l.94 2.06.94-2.06 2.06-.94-2.06-.94-.94-2.06-.94 2.06-2.06.94z\"/><path d=\"M17.41 7.96l-1.37-1.37c-.4-.4-.92-.59-1.43-.59-.52 0-1.04.2-1.43.59L10.3 9.45l-7.72 7.72c-.78.78-.78 2.05 0 2.83L4 21.41c.39.39.9.59 1.41.59.51 0 1.02-.2 1.41-.59l7.78-7.78 2.81-2.81c.8-.78.8-2.07 0-2.86zM5.41 20L4 18.59l7.72-7.72 1.47 1.35L5.41 20z\"/>\n",
              "  </svg>\n",
              "      </button>\n",
              "      \n",
              "  <style>\n",
              "    .colab-df-container {\n",
              "      display:flex;\n",
              "      flex-wrap:wrap;\n",
              "      gap: 12px;\n",
              "    }\n",
              "\n",
              "    .colab-df-convert {\n",
              "      background-color: #E8F0FE;\n",
              "      border: none;\n",
              "      border-radius: 50%;\n",
              "      cursor: pointer;\n",
              "      display: none;\n",
              "      fill: #1967D2;\n",
              "      height: 32px;\n",
              "      padding: 0 0 0 0;\n",
              "      width: 32px;\n",
              "    }\n",
              "\n",
              "    .colab-df-convert:hover {\n",
              "      background-color: #E2EBFA;\n",
              "      box-shadow: 0px 1px 2px rgba(60, 64, 67, 0.3), 0px 1px 3px 1px rgba(60, 64, 67, 0.15);\n",
              "      fill: #174EA6;\n",
              "    }\n",
              "\n",
              "    [theme=dark] .colab-df-convert {\n",
              "      background-color: #3B4455;\n",
              "      fill: #D2E3FC;\n",
              "    }\n",
              "\n",
              "    [theme=dark] .colab-df-convert:hover {\n",
              "      background-color: #434B5C;\n",
              "      box-shadow: 0px 1px 3px 1px rgba(0, 0, 0, 0.15);\n",
              "      filter: drop-shadow(0px 1px 2px rgba(0, 0, 0, 0.3));\n",
              "      fill: #FFFFFF;\n",
              "    }\n",
              "  </style>\n",
              "\n",
              "      <script>\n",
              "        const buttonEl =\n",
              "          document.querySelector('#df-ab0a7fc5-5a03-43a1-9520-1b7458cded5a button.colab-df-convert');\n",
              "        buttonEl.style.display =\n",
              "          google.colab.kernel.accessAllowed ? 'block' : 'none';\n",
              "\n",
              "        async function convertToInteractive(key) {\n",
              "          const element = document.querySelector('#df-ab0a7fc5-5a03-43a1-9520-1b7458cded5a');\n",
              "          const dataTable =\n",
              "            await google.colab.kernel.invokeFunction('convertToInteractive',\n",
              "                                                     [key], {});\n",
              "          if (!dataTable) return;\n",
              "\n",
              "          const docLinkHtml = 'Like what you see? Visit the ' +\n",
              "            '<a target=\"_blank\" href=https://colab.research.google.com/notebooks/data_table.ipynb>data table notebook</a>'\n",
              "            + ' to learn more about interactive tables.';\n",
              "          element.innerHTML = '';\n",
              "          dataTable['output_type'] = 'display_data';\n",
              "          await google.colab.output.renderOutput(dataTable, element);\n",
              "          const docLink = document.createElement('div');\n",
              "          docLink.innerHTML = docLinkHtml;\n",
              "          element.appendChild(docLink);\n",
              "        }\n",
              "      </script>\n",
              "    </div>\n",
              "  </div>\n",
              "  "
            ],
            "text/plain": [
              "  episode_id character  \\\n",
              "0        1-1    Howard   \n",
              "1        1-1   Leonard   \n",
              "2        1-1     Other   \n",
              "3        1-1     Penny   \n",
              "4        1-1       Raj   \n",
              "5        1-1   Sheldon   \n",
              "\n",
              "                                                                                                                                                                                                                                                                                                                                                                                                                                                                                                                                                                                                                                                                                                                                                                                                                                                                                                                                                                                                                                                                                                                                                                                                                                                                                                                                                                                                                                                                                                                                                                                                                                                                                                                                                                                                                                                                                                                                                                                                                                                                                                                                                                                                                                                                                                                                                                                                                                                                                                                                                                                                                                                                                                                                                                                                                                                                                                                                                                                                                                                                                                                                                                                                                                                                                                                                                                                                                                                                                                                                                                                                                                                                                                                                                                                                                                                                                                                                                                                                                                                                                                                                                                                                                                                                                                                                                                                                                                                                                                                                                                                                                                                                                                                                                                                                                                                                                                                                                                                                                                                                                                                                                                                                                                                                                                                                                                                                                                                                                                                                                                                                                                                                                                                                                                                                                                                                                                                                                                                                                                                                                                                                                                                                                                                                                   line  \\\n",
              "0                                                                                                                                                                                                                                                                                                                                                                                                                                                                                                                                                                                                                                                                                                                                                                                                                                                                                                                                                                                                                                                                                                                                                                                                                                                                                                                                                                                                                                                                                                                                                                                                                                                                                                                                                                                                                                                                                                                                                                                                                                                                                                                                                                                                                                                                                                                                                                                                                                                                                                                                                                                                                                                                                                                                                                                                                                                                                                                                                                                                                                                                                                                                                                                                                                                                                                                                                                                                                                                                                                                                                                                                                                                                                                                                                                                                                                                                                                                                                                                                                                                                                                                                                                                                                                                                                                                                                                                                                                                                                                                                                                                                                                                                                                                                                                                                                                                                                                                                                                                                                                                                                                         Wait till you see this. It’s a Stephen Hawking lecture from MIT in 1974. It’s before he became a creepy computer voice Yeah, right, your grandmother back in town? Hang on, there really is a lady here? And you want us out because you’re anticipating coitus? So she’s available for coitus? Enchante Madamoiselle. Howard Wolowitz, Cal-Tech department of Applied Physics. You may be familiar with some of my work, it’s currently orbiting Jupiter’s largest moon taking high-resolution digital photographs. Bon douche. It’s French for good shower. It’s a sentiment I can express in six languages. See-ka-tong-guay-jow. Oh, he speaks English, he just can’t speak to women. He’s kind of a nerd. Juice box? This is one of my favourite places to kick back after a quest, they have a great house ale. Yeah, I’ve had him since level ten. His name is Buttons. Anyway, if you had your own game character we could hang out, maybe go on a quest. So you’ll think about it? Turn left on Lake Street and head up to Colorado. I know a wonderful little sushi bar that has karaoke. Baby, baby don’t get hooked on me. Uh, baby, baby don’t get hooked on me.   \n",
              "1                                                                                                                                                                                          Agreed, what’s your point? Excuse me? One across is Aegean, eight down is Nabakov, twenty-six across is MCM, fourteen down is… move your finger… phylum, which makes fourteen across Port-au-Prince. See, Papa Doc’s capital idea, that’s Port-au-Prince. Haiti. Yes. Um, is this the High IQ sperm bank? Thank-you. We’ll be right back. What, are you kidding? You’re a semi-pro. Sheldon, this was your idea. A little extra money to get fractional T1 bandwidth in the apartment. I’m sure she’ll still love him. Well, what do you want to do? Okay. I don’t know, I’ve never reneged on a proffer of sperm before. Okay. See you. No. Not really. I don’t care. Two millimetres? That doesn’t seem right. Is that why they sent you to boarding school? New neighbour? Significant improvement over the old neighbour. Hi. Hi. We don’t mean to interrupt, we live across the hall. Oh… uh… no… we don’t live together… um… we live together but in separate, heterosexual bedrooms. Leonard, Sheldon. Hi. Hi. Well, uh, oh, welcome to the building. Oh, great. Great. Well, bye. Bye. Should we have invited her for lunch? We already watched the Season Two DVDs. I think we should be good neighbours, invite her over, make her feel welcome. Well, then that was wrong of us. We need to widen our circle. Yes, and you’ve never met one of them. I’m going to invite her over. We’ll have a nice meal and chat. Well it’s not difficult, you just listen to what she says and then you say something appropriate in response. Hi. Again. Hi. Anyway, um. We brought home Indian food. And, um. I know that moving can be stressful, and I find that when I’m undergoing stress, that good food and company can have a comforting effect. Also, curry is a natural laxative, and I don’t have to tell you that, uh, a clean colon is just one less thing to worry about. Uh, yes. Great. Okay, well, make yourself at home. You’re very welcome. I have a board. If you like boards, this is my board. What? At least I didn’t have to invent twenty-six dimensions just to make the math come out. In what universe? Here we go. Just sit somewhere else. Sheldon, sit!<br/> Well this is nice. We don’t have a lot of company over. Yes I now, but… Yes, I remember. I’m sorry. I said I’m sorry. Yeah, it’s like regular boggle but, in Klingon. That’s probably enough about us, tell us about you. I think what Sheldon’s trying to say, is that Sagittarius wouldn’t have been our first guess. Wu-uh, do you have some sort of a job? Oh, okay. I love cheesecake. I don’t eat it, I just think it’s a good idea. So it’s based on your life? Well, if that was a movie I would go see it. Well it sounds wonderful. I don’t know. Don’t. Should I say something? I feel like I should say something. No, it’s not crazy it’s, uh, uh, it’s a paradox. And paradoxes are part of nature, think about light. Now if you look at Huygens, light is a wave, as confirmed by the double slit experiments, but then, along comes Albert Einstein and discovers that light behaves like particles too. Well, I didn’t make it worse. Our shower works. No. No. It’s right down the hall. How so? That’s not true, remember at Thanksgiving my grandmother with Alzheimer’s had that episode. The worst part was watching her carve that turkey. Excuse me? Well I’m not trying to have sex with her. What makes you think she wouldn’t have sex with me, I’m a male and she’s a female? I’m not going to engage in hypotheticals here, I’m just trying to be a good neighbour. That’s not to say that if a carnal relationship were to develop that I wouldn’t participate. However briefly. It’s Darth Vader shampoo. (There is a knock on the door.) Luke Skywalker’s the conditioner.<br/> See what? This is not a good time. That’s great, you guys have to go. It’s just not a good time. No. And she’s not a lady, she’s just a new neighbour. Uh-huh. I’m not anticipating coitus. Can we please stop saying coitus? Come on, I’ll show you the trick with the shower. Save it for your blog, Howard. Uh, there it goes, it sticks, I’m sorry. You’re welcome, oh, you’re going to step right, okay, I’ll…. The hair products are Sheldon’s. A favour? Sure, you can ask me a favour, I would do you a favour for you. Oh, I’ll probably say yes. Wow. Must we? She asked me to do her a favour, Sheldon. Which is? That’s a biological impossibility and you didn’t have to come. Come on, you know how it is with break-ups. Wuh, I, I broke up with Joyce Kim. To mend her broken heart. This situation is much less complicated. There’s some kind of dispute between Penny and her ex-boyfriend as to who gets custody of the TV. She just wanted to avoid having a scene with him. No, Sheldon, there’s not going to be a scene. There’s two of us and one of him. I’ll do the talking. Hi, I’m Leonard, this is Sheldon. What did I just…. Uh, we’re here to pick up Penny’s TV. We’re not going to give up just like that. Excuse me, if I were to give up at the first little hitch I never would have been able to identify the fingerprints of string theory in the aftermath of the big bang. Come on, we have a combined IQ of 360, we should be able to figure out how to get into a stupid building. Just grab the door. This is it. (Knocks.) I’ll do the talking. I’m Leonard, this is Sheldon. Oh. We’re scientists. What? I’m sorry. Sheldon, I’m so sorry I dragged you through this. And you were right about my motives, I was hoping to establish a relationship with Penny that might have some day led to sex. Anyway, I’ve learned my lesson. She’s out of my league, I’m done with her, I’ve got my work, one day I’ll win the Nobel Prize and then I’ll die alone. Thank you Sheldon, you’re a good friend. We’re home. Well, your ex-boyfriend sends his regards and I think the rest is fairly self-explanatory. No, it was a valid hypothesis. Really? Great. Our babies will be smart and beautiful. Is Thai food okay with you Penny?   \n",
              "2                                                                                                                                                                                                                                                                                                                                                                                                                                                                                                                                                                                                                                                                                                                                                                                                                                                                                                                                                                                                                                                                                                                                                                                                                                                                                                                                                                                                                                                                                                                                                                                                                                                                                                                                                                                                                                                                                                                                                                                                                                                                                                                                                                                                                                                                                                                                                                                                                                                                                                                                                                                                                                                                                                                                                                                                                                                                                                                                                                                                                                                                                                                                                                                                                                                                                                                                                                                                                                                                                                                                                                                                                                                                                                                                                                                                                                                                                                                                                                                                                                                                                                                                                                                                                                                                                                                                                                                                                                                                                                                                                                                                                                                                                                                                                                                                                                                                                                                                                                                                                                                                                                                                                                                                                                                                                                                                                                                                                                                                                                                                                                                                                                                                                                                                                                                                                                                                                                                                                                                                                                                          Hang on. Can I help you? If you have to ask, maybe you shouldn’t be here. Fill these out. Oh, take your time. I’ll just finish my crossword puzzle. Oh wait. Yeah. Get lost. Yeah? How the hell did you get in the building?   \n",
              "3                                                                                                                                                                                                                                                                                                                                                                                                                                                                                                                                                                                                                                                                                                                                                                                                                                                                                                                                                                                                                                                                                                                                                                                                                                                                                                                                                                                                                                                                                                                                                                                                                                                                                                                                                                                                                                                                                                                                                                                                                                                                                                                                                                                                                                                                                                                                                                                                                                                                                                                                                                                                                                                                                                                                                                                                                                                                                                                                                                                                                                                                                                                                                                                                                                                                                                                                                                                                                                                                                                                                                                                           Oh, hi! Hi? Oh, that’s nice. Oh, okay, well, guess I’m your new neighbour, Penny. Hi. Hi. Thankyou, maybe we can have coffee sometime. Great. Bye. Hi. Hi. Oh, you’re inviting me over to eat? Oh, that’s so nice, I’d love to. So, what do you guys do for fun around here? Okay, thankyou. This looks like some serious stuff, Leonard, did you do this? Wow. So you’re like, one of those, beautiful mind genius guys. This is really impressive. Holy smokes. Uh, do you guys mind if I start? So, sit next to me. What’s the difference? Do you want me to move? So, Klingon boggle? Um, me, okay, I’m Sagittarius, which probably tells you way more than you need to know. Participate in the what? Oh, yeah, a lot of people think I’m a water sign. Okay, let’s see, what else, oh, I’m a vegetarian, oh, except for fish, and the occasional steak, I love steak. Oh, yeah, I’m a waitress at the Cheesecake Factory. Oh, anyways, I’m also writing a screenplay. It’s about this sensitive girl who comes to L.A. from Lincoln Nebraska to be an actress, and winds up a waitress at the Cheesecake Factory. No, I’m from Omaha. I know, right? Okay, let’s see, what else? Um, that’s about it. That’s the story of Penny. It was. Until I fell in love with a jerk. Oh God, you know, four years I lived with him, four years, that’s like as long as High School. I just, I can’t believe I trusted him.<br/> You want to know the most pathetic part? Even though I hate his lying, cheating guts, I still love him. Is that crazy? Oh, I’m so sorry, I’m such a mess, and on top of everything else I’m all gross from moving and my stupid shower doesn’t even work. Really? Would it be totally weird if I used it? Thanks. You guys are really sweet.<br/> Hey, is there a trick to getting it to switch from tub to shower. Oh. Hi, sorry. Hello! Penny. I work at the Cheesecake Factory. I’m sorry? Okay. Thanks. Hey, Leonard? Um, okay. Can I ask you a favour. It’s okay if you say no. It’s just not the kind of thing you ask a guy you’ve just met. So, you guys work with Leonard and Sheldon at the University? Uh, I’m sorry, do you speak English? Really, why? Wow, cool tiger. Uh, sounds interesting. Oh, I don’t think I’ll be able to stop thinking about it. Oh, my God, what happened? I’m so sorry, I really thought if you guys went instead of me he wouldn’t be such an ass. Really, thank you so much for going and trying you’re, uh, you’re so terrific. Why don’t you put some clothes on, I’ll get my purse and dinner is on me, okay? Sure. So? So? Any ideas Raj? (He just looks at her with a worried expression.) That sounds like fun.   \n",
              "4                                                                                                                                                                                                                                                                                                                                                                                                                                                                                                                                                                                                                                                                                                                                                                                                                                                                                                                                                                                                                                                                                                                                                                                                                                                                                                                                                                                                                                                                                                                                                                                                                                                                                                                                                                                                                                                                                                                                                                                                                                                                                                                                                                                                                                                                                                                                                                                                                                                                                                                                                                                                                                                                                                                                                                                                                                                                                                                                                                                                                                                                                                                                                                                                                                                                                                                                                                                                                                                                                                                                                                                                                                                                                                                                                                                                                                                                                                                                                                                                                                                                                                                                                                                                                                                                                                                                                                                                                                                                                                                                                                                                                                                                                                                                                                                                                                                                                                                                                                                                                                                                                                                                                                                                                                                                                                                                                                                                                                                                                                                                                                                                                                                                                                                                                                                                                                                                                                                                                                                                                                                                                                                                                                                                                                            It’s fantastic. Unbelievable. Why? Smooth.   \n",
              "5  So if a photon is directed through a plane with two slits in it and either slit is observed it will not go through both slits. If it’s unobserved it will, however, if it’s observed after it’s left the plane but before it hits its target, it will not have gone through both slits. There’s no point, I just think it’s a good idea for a tee-shirt. I think this is the place. Leonard, I don’t think I can do this. No. We are committing genetic fraud. There’s no guarantee that our sperm is going to generate high IQ offspring, think about that. I have a sister with the same basic DNA mix who hostesses at Fuddruckers. I know, and I do yearn for faster downloads, but there’s some poor woman is going to pin her hopes on my sperm, what if she winds up with a toddler who doesn’t know if he should use an integral or a differential to solve the area under a curve. I wouldn’t. I want to leave. What’s the protocol for leaving? Let’s try just walking out. Bye-bye Are you still mad about the sperm bank? You want to hear an interesting thing about stairs? If the height of a single step is off by as little as two millimetres, most people will trip. No, it’s true, I did a series of experiments when I was twelve, my father broke his clavicle. No, that was the result of my work with lasers. Evidently. Two hundred pound transvestite with a skin condition, yes she is. Hi. Hi. Hi. Great. Bye. No. We’re going to start Season Two of Battlestar Galactica. Not with commentary. We never invited Louis-slash-Louise over. I have a very wide circle. I have 212 friends on myspace. That’s the beauty of it. Chat? We don’t chat. At least not offline. To what end? Hi. Leonard, I’m not expert here but I believe in the context of a luncheon invitation, you might want to skip the reference to bowel movements. Well, today we tried masturbating for money. Actually that’s my work. Yeah, well, it’s just some quantum mechanics, with a little string theory doodling around the edges. That part there, that’s just a joke, it’s a spoof of the Bourne-Oppenheimer approximation. Yeah. If by holy smokes you mean a derivative restatement of the kind of stuff you can find scribbled on the wall of any men’s room at MIT, sure. Oh, come on. Who hasn’t seen this differential below “here I sit broken hearted?” I didn’t invent them, they’re there. In all of them, that is the point. Um, Penny, that’s where I sit. No, I sit there. What’s the difference? In the winter that seat is close enough to the radiator to remain warm, and yet not so close as to cause perspiration. In the summer it’s directly in the path of a cross breeze created by open windows there, and there. It faces the television at an angle that is neither direct, thus discouraging conversation, nor so far wide to create a parallax distortion, I could go on, but I think I’ve made my point. Well. Fine. (Wanders in circles, looking lost.) Aaah! That’s not true. Koothrapali and Wolowitz come over all the time. Tuesday night we played Klingon boggle until one in the morning. I resent you saying we don’t have company. That is an antisocial implication. Yes, it tells us that you participate in the mass cultural delusion that the Sun’s apparent position relative to arbitrarily defined constellations and the time of your birth somehow effects your personality. That’s interesting. Leonard can’t process corn. You’re lactose intolerant. What’s happening. It took you four years to get through High School? You? No, you’ll only make it worse. Yes. Yes. No? No. Well this is an interesting development. It has been some time since we’ve had a woman take her clothes off in our apartment. Point taken. It has been some time since we’ve had a woman take her clothes off after which we didn’t want to rip our eyes out. So, what exactly are you trying to accomplish here? That woman in there’s not going to have sex with you. Oh, good. Then you won’t be disappointed. Yes, but not of the same species. Oh, of course. Do you think this possibility will be helped or hindered when she discovers your Luke Skywalker no-more-tears shampoo? Leonard has a lady over. Technically that would be coitus interruptus. I really think we should examine the chain of causality here. Event A. A beautiful woman stands naked in our shower. Event B. We drive half way across town to retrieve a television set from the aforementioned woman’s ex-boyfriend. Query, on what plane of existence is there even a semi-rational link between these events? Ah, yes, well that may be the proximal cause of our journey, but we both know it only exists in contradistinction to the higher level distal cause. You think with your penis. Oh, right, yes, I could have stayed behind and watched Wolowitz try to hit on Penny in Russian, Arabic and Farsi. Why can’t she get her own TV. No I don’t. And neither do you. You did not break up with Joyce Kim, she defected to North Korea. So we get to have a scene with him? Leonard, the two of us can’t even carry a TV. Hello. Okay, thanks for your time. Leonard, the TV is in the building, we’ve been denied access to the building, ergo we are done. My apologies. What’s your plan. It’s just a privilege to watch your mind at work. What do you think their combined IQ is? Good thinking, I’ll just be the muscle. From the intercom. Tell him about our IQ. Leonard. My mom bought me those pants. You’re going to have to call her. It’s okay. It wasn’t my first pantsing, and it won’t be my last. Well you got me out of my pants. Don’t think like that, you’re not going to die alone. And you’re certainly not going to win a Nobel Prize. That was a valid hypothesis? What is happening to you? Thank you. You’re not done with her, are you? Not to mention imaginary. We can’t have Thai food, we had Indian for lunch. They’re both curry based cuisines. They would be gastronomically redundant. I can see we’re going to have to spell out everything for this girl. I don’t know what your odds are in the world as a whole, but as far as the population of this car goes, you’re a veritable Mack Daddy.   \n",
              "\n",
              "                                                                                                                                                                                                                                                                                                                                                                                                                                                                                                                                                                                                                                                                                                                                                                                                                                                                                                                                                                                                                                                                                                                                                                                                                                                                                                                                                                                                                                                                                                                                                                                                                                                                                                                                                                                                                                                                                                                                                                                                                                                                                                                                                                                                                                                                                                                                                                                                                                                                                                                                                                                                                                                                                                                                                                                                                                                                                                                                                                                                                                                                                                                                                                                                                                                                                                                                                                                         cleaned_text  \\\n",
              "0                                                                                                                                                                                                                                                                                                                                                                                                                                                                                                                                                                                                                                                                                                                                                                                                                                                                                                                                                                                                                                                                                                                                                                                                                                                                                                                                                                                                                                                                                                                                                                                                                                                                                                                                                                                                                                                                                                                                                                                                                                                                                                                                                                                                                                                                                                                                                                                                                                                                                                                                                                                                                                                           wait till see stephen hawk lecture mit become creepy computer voice yeah right grandmother back town hang really lady want anticipate coitus available coitus enchante madamoiselle howard wolowitz cal tech department applied physics may familiar work currently orbit jupiter large moon take high resolution digital photograph bon douche french good shower sentiment express six language see ka tong guay jow oh speak english speak woman kind nerd juice box one favourite place kick back quest great house ale yeah since level ten name buttons anyway game character could hang maybe go quest think turn leave lake street head colorado know wonderful little sushi bar karaoke baby baby get hook uh baby baby get hook   \n",
              "1                                                                                                                               agree point excuse one across aegean eight nabakov twenty six across mcm fourteen move finger phylum make fourteen across port au prince see papa doc capital idea port au prince haiti yes um high iq sperm bank thank right back kid semi pro sheldon idea little extra money get fractional bandwidth apartment sure still love well want okay know never renege proffer sperm okay see really care two millimetre seem right send board school new neighbour significant improvement old neighbour hi hi mean interrupt live across hall oh uh live together um live together separate heterosexual bedroom leonard sheldon hi hi well uh oh welcome building oh great great well bye bye invite lunch already watch season two dvd think good neighbour invite make feel welcome well wrong need widen circle yes never meet one go invite nice meal chat well difficult listen say say something appropriate response hi hi anyway um bring home indian food um know moving stressful find undergo stress good food company comforting effect also curry natural laxative tell uh clean colon one less thing worry uh yes great okay well make home welcome board like board board least invent twenty six dimension make math come universe go sit somewhere else sheldon well nice lot company yes yes remember sorry say sorry yeah like regular boggle klingon probably enough tell think sheldon try say sagittarius would first guess wu uh sort job oh okay love cheesecake eat think good idea base life well movie would go see well sound wonderful know say something feel like say something crazy uh uh paradox paradox part nature think light look huygens light wave confirm double slit experiment along come albert einstein discover light behave like particle well make bad shower work right hall true remember thanksgiving grandmother alzheimer episode bad part watch carve turkey excuse well try sex make think would sex male female go engage hypothetical try good neighbour say carnal relationship develop would participate however briefly darth vader shampoo knock door luke skywalker see good time great guy go good time lady new neighbour uh huh anticipate coitus please stop say coitus come show trick shower save blog howard uh go stick sorry welcome oh go step right okay hair product sheldon favour sure ask favour would favour oh probably say yes wow must ask favour sheldon biological impossibility come come know break wuh break joyce kim mend broken heart situation much less complicated kind dispute penny ex boyfriend get custody tv want avoid scene sheldon go scene two one talking hi leonard sheldon uh pick penny tv go give like excuse give first little hitch never would able identify fingerprint string theory aftermath big bang come combine iq able figure get stupid building grab door knocks talking leonard sheldon oh scientist sorry sheldon sorry drag right motive hope establish relationship penny might day lead sex anyway learn lesson league get work one day win nobel prize die alone thank sheldon good friend home well ex boyfriend send regard think rest fairly self explanatory valid hypothesis really great baby smart beautiful thai food okay penny   \n",
              "2                                                                                                                                                                                                                                                                                                                                                                                                                                                                                                                                                                                                                                                                                                                                                                                                                                                                                                                                                                                                                                                                                                                                                                                                                                                                                                                                                                                                                                                                                                                                                                                                                                                                                                                                                                                                                                                                                                                                                                                                                                                                                                                                                                                                                                                                                                                                                                                                                                                                                                                                                                                                                                                                                                                                                                                                                                                                                                                                                                                                                                                                                                                                                                                                                                                                                          hang help ask maybe fill oh take time finish crossword puzzle oh wait yeah get lose yeah hell get building   \n",
              "3                                                                                                                                                                                                                                                                                                                                                                                                                                                                                                                                                                                                                                                                                                                                                                                                                                                                                                                                                                                                                                                                                                                                                                                                                                                                                                                                                                                                                                                                                                                                                                                                                                                                                                                                                                                                                                                                                           oh hi hi oh nice oh okay well guess new neighbour penny hi hi thankyou maybe coffee sometime great bye hi hi oh invite eat oh nice would love guy fun around okay thankyou look like serious stuff leonard wow like one beautiful mind genius guy really impressive holy smoke uh guy mind start sit next difference want move klingon boggle um okay sagittarius probably tell way need know participate oh yeah lot people think water sign okay let see else oh vegetarian oh except fish occasional steak love steak oh yeah waitress cheesecake factory oh anyways also write screenplay sensitive girl come lincoln nebraska actress wind waitress cheesecake factory omaha know right okay let see else um story penny fall love jerk oh god know four year live four year like long high school believe trust want know pathetic part even though hate lying cheat gut still love crazy oh sorry mess top everything else gross move stupid shower even work really would totally weird use thank guy really hey trick get switch tub shower oh hi sorry hello penny work cheesecake factory sorry okay thank hey leonard um okay ask favour okay say kind thing ask guy meet guy work leonard sheldon university uh sorry speak english really wow cool tiger uh sound interesting oh think able stop think oh god happen sorry really think guy go instead would ass really thank much go try uh terrific put clothe get purse dinner okay sure idea raj look worried expression sound like fun   \n",
              "4                                                                                                                                                                                                                                                                                                                                                                                                                                                                                                                                                                                                                                                                                                                                                                                                                                                                                                                                                                                                                                                                                                                                                                                                                                                                                                                                                                                                                                                                                                                                                                                                                                                                                                                                                                                                                                                                                                                                                                                                                                                                                                                                                                                                                                                                                                                                                                                                                                                                                                                                                                                                                                                                                                                                                                                                                                                                                                                                                                                                                                                                                                                                                                                                                                                                                                                                                                       fantastic unbelievable smooth   \n",
              "5  photon direct plane two slit either slit observe go slit unobserved however observe leave plane hit target go slit point think good idea tee shirt think place leonard think commit genetic fraud guarantee sperm go generate high iq offspring think sister basic dna mix hostesse fuddrucker know yearn fast download poor woman go pin hope sperm wind toddler know use integral differential solve area curve would want leave protocol leave let try walk bye bye still mad sperm bank want hear interesting thing stair height single step little two millimetre people trip true series experiment twelve father break clavicle result work laser evidently two hundred pound transvestite skin condition yes hi hi hi great bye go start season two battlestar galactica commentary never invite louis slash louise wide circle friend myspace beauty chat chat least offline end hi leonard expert believe context luncheon invitation might want skip reference bowel movement well today try masturbate money actually work yeah well quantum mechanic little string theory doodle around edge part joke spoof bourne oppenheimer approximation yeah holy smoke mean derivative restatement kind stuff find scribble wall man room mit sure oh come see differential sit break hearted invent point um penny sit sit difference winter seat close enough radiator remain warm yet close cause perspiration summer directly path cross breeze create open window face television angle neither direct thus discourage conversation far wide create parallax distortion could go think make point well fine wander circle look lose aaah true koothrapali wolowitz come time tuesday night play klingon boggle one morning resent say company antisocial implication yes tell participate mass cultural delusion sun apparent position relative arbitrarily define constellation time birth somehow effect personality interesting leonard process corn lactose intolerant happen take four year get high school make bad yes yes well interesting development time since woman take clothe apartment point take time since woman take clothe want rip eye exactly try accomplish woman go sex oh good disappoint yes specie oh course think possibility help hinder discover luke skywalker tear shampoo leonard lady technically would coitus interruptus really think examine chain causality event beautiful woman stand naked shower event drive half way across town retrieve television set aforementioned woman ex boyfriend query plane existence even semi rational link event ah yes well may proximal cause journey know exist contradistinction high level distal cause think penis oh right yes could stay behind watch wolowitz try hit penny russian arabic farsi get tv neither break joyce kim defect north korea get scene leonard two even carry tv hello okay thank time leonard tv building deny access building ergo apology plan privilege watch mind work think combine iq good thinking muscle intercom tell iq leonard mom buy pant go call okay first pantsing last well get pant think like go die alone certainly go win nobel prize valid hypothesis happen thank mention imaginary thai food indian lunch curry base cuisine would gastronomically redundant see go spell everything girl know odd world whole far population car go veritable mack daddy   \n",
              "\n",
              "                                                                                                                                                                                                                                                                                                                                                                                                                                                                                                                                                                                                                                                                                                                                                             list_of_lines  \n",
              "0  [wait, till, see, stephen, hawk, lecture, mit, become, creepy, computer, voice, yeah, right, grandmother, back, town, hang, really, lady, want, anticipate, coitus, available, coitus, enchante, madamoiselle, howard, wolowitz, cal, tech, department, applied, physics, may, familiar, work, currently, orbit, jupiter, large, moon, take, high, resolution, digital, photograph, bon, douche, french, good, shower, sentiment, express, six, language, see, ka, tong, guay, jow, oh, speak, english, speak, woman, kind, nerd, juice, box, one, favourite, place, kick, back, quest, great, house, ale, yeah, since, level, ten, name, buttons, anyway, game, character, could, hang, maybe, go, quest, think, turn, leave, lake, street, head, colorado, know, ...]  \n",
              "1                             [agree, point, excuse, one, across, aegean, eight, nabakov, twenty, six, across, mcm, fourteen, move, finger, phylum, make, fourteen, across, port, au, prince, see, papa, doc, capital, idea, port, au, prince, haiti, yes, um, high, iq, sperm, bank, thank, right, back, kid, semi, pro, sheldon, idea, little, extra, money, get, fractional, bandwidth, apartment, sure, still, love, well, want, okay, know, never, renege, proffer, sperm, okay, see, really, care, two, millimetre, seem, right, send, board, school, new, neighbour, significant, improvement, old, neighbour, hi, hi, mean, interrupt, live, across, hall, oh, uh, live, together, um, live, together, separate, heterosexual, bedroom, leonard, sheldon, hi, ...]  \n",
              "2                                                                                                                                                                                                                                                                                                                                                                                                                                                                                                                                                                                                                                          [hang, help, ask, maybe, fill, oh, take, time, finish, crossword, puzzle, oh, wait, yeah, get, lose, yeah, hell, get, building]  \n",
              "3                                                                  [oh, hi, hi, oh, nice, oh, okay, well, guess, new, neighbour, penny, hi, hi, thankyou, maybe, coffee, sometime, great, bye, hi, hi, oh, invite, eat, oh, nice, would, love, guy, fun, around, okay, thankyou, look, like, serious, stuff, leonard, wow, like, one, beautiful, mind, genius, guy, really, impressive, holy, smoke, uh, guy, mind, start, sit, next, difference, want, move, klingon, boggle, um, okay, sagittarius, probably, tell, way, need, know, participate, oh, yeah, lot, people, think, water, sign, okay, let, see, else, oh, vegetarian, oh, except, fish, occasional, steak, love, steak, oh, yeah, waitress, cheesecake, factory, oh, anyways, also, write, screenplay, ...]  \n",
              "4                                                                                                                                                                                                                                                                                                                                                                                                                                                                                                                                                                                                                                                                                                                                        [fantastic, unbelievable, smooth]  \n",
              "5                  [photon, direct, plane, two, slit, either, slit, observe, go, slit, unobserved, however, observe, leave, plane, hit, target, go, slit, point, think, good, idea, tee, shirt, think, place, leonard, think, commit, genetic, fraud, guarantee, sperm, go, generate, high, iq, offspring, think, sister, basic, dna, mix, hostesse, fuddrucker, know, yearn, fast, download, poor, woman, go, pin, hope, sperm, wind, toddler, know, use, integral, differential, solve, area, curve, would, want, leave, protocol, leave, let, try, walk, bye, bye, still, mad, sperm, bank, want, hear, interesting, thing, stair, height, single, step, little, two, millimetre, people, trip, true, series, experiment, twelve, father, break, clavicle, result, ...]  "
            ]
          },
          "metadata": {},
          "execution_count": 39
        }
      ]
    },
    {
      "cell_type": "code",
      "source": [
        "\n",
        "# Create a new TfidfModel using the corpus: tfidf\n",
        "tfidf = TfidfModel(corpus)\n",
        "\n",
        "# Save the first document: doc (this is Howard in episode 1)\n",
        "doc = corpus[0]\n",
        "\n",
        "# Calculate the tfidf weights of doc: tfidf_weights\n",
        "tfidf_weights = tfidf[doc]\n",
        "\n",
        "# Print the first five weights\n",
        "print(tfidf_weights[:5])\n",
        "print()\n",
        "\n",
        "# Sort the weights from highest to lowest: sorted_tfidf_weights\n",
        "sorted_tfidf_weights = sorted(tfidf_weights, key=lambda w: w[1], reverse=True)\n",
        "\n",
        "# Print the top 5 weighted words\n",
        "for term_id, weight in sorted_tfidf_weights[:10]:\n",
        "    print(dictionary.get(term_id), weight)"
      ],
      "metadata": {
        "colab": {
          "base_uri": "https://localhost:8080/"
        },
        "id": "JSYz6C_duC5n",
        "outputId": "960bad59-7bda-46fc-9c18-46d53bb136d2"
      },
      "execution_count": 40,
      "outputs": [
        {
          "output_type": "stream",
          "name": "stdout",
          "text": [
            "[(0, 0.14239277867538616), (1, 0.12928280464074776), (2, 0.05374154882741577), (3, 0.15863095803921123), (4, 0.09295736091106925)]\n",
            "\n",
            "quest 0.2260892505538453\n",
            "baby 0.20928524609409202\n",
            "hook 0.1757444940020544\n",
            "buttons 0.17486913740303633\n",
            "enchante 0.17486913740303633\n",
            "guay 0.17486913740303633\n",
            "jow 0.17486913740303633\n",
            "madamoiselle 0.17486913740303633\n",
            "tong 0.17486913740303633\n",
            "coitus 0.17461543981055153\n"
          ]
        }
      ]
    },
    {
      "cell_type": "markdown",
      "source": [
        "### **2.4 Named entity recognition**"
      ],
      "metadata": {
        "id": "X64E0IZ6xpOc"
      }
    },
    {
      "cell_type": "markdown",
      "source": [
        "* used to identify imortan nemed entities in the text (people, places ,organizatgions, dates, etc.)\n",
        "* can be used alongisde topic identification\n",
        "* used to answer who, what, when, where questions\n"
      ],
      "metadata": {
        "id": "c43lRci5xwsG"
      }
    },
    {
      "cell_type": "code",
      "source": [
        ""
      ],
      "metadata": {
        "id": "HOALnsA5xdhj"
      },
      "execution_count": 40,
      "outputs": []
    },
    {
      "cell_type": "code",
      "source": [
        "#Named entity recognition (rough, below is nicer)\n",
        "\n",
        "#tokenize and tag\n",
        "words = nltk.word_tokenize(penny_string)\n",
        "tagged_sentence = nltk.pos_tag(words)\n",
        "\n",
        "#pass tagged sentence in nltk chunk function: returns sentence as a tree\n",
        "print(nltk.ne_chunk(tagged_sentence[0:20]))"
      ],
      "metadata": {
        "colab": {
          "base_uri": "https://localhost:8080/"
        },
        "id": "uAFpj-UNxddE",
        "outputId": "df8f2a0c-5cc0-494c-a5e6-e35cbdcc31ff"
      },
      "execution_count": 41,
      "outputs": [
        {
          "output_type": "stream",
          "name": "stdout",
          "text": [
            "(S\n",
            "  Oh/UH\n",
            "  ,/,\n",
            "  hi/JJ\n",
            "  !/.\n",
            "  Hi/NNP\n",
            "  ?/.\n",
            "  Oh/UH\n",
            "  ,/,\n",
            "  that/IN\n",
            "  ’/NNP\n",
            "  s/VBD\n",
            "  nice/JJ\n",
            "  ./.\n",
            "  Oh/UH\n",
            "  ,/,\n",
            "  okay/JJ\n",
            "  ,/,\n",
            "  well/RB\n",
            "  ,/,\n",
            "  guess/NN)\n"
          ]
        }
      ]
    },
    {
      "cell_type": "code",
      "source": [
        "# Tokenize the article into sentences: sentences\n",
        "sentences = nltk.sent_tokenize(penny_string)\n",
        "\n",
        "# Tokenize each sentence into words: token_sentences\n",
        "token_sentences = [nltk.word_tokenize(sent) for sent in sentences]\n",
        "\n",
        "# Tag each tokenized sentence into parts of speech: pos_sentences\n",
        "pos_sentences = [nltk.pos_tag(sent) for sent in token_sentences] \n",
        "\n",
        "# Create the named entity chunks: chunked_sentences\n",
        "chunked_sentences = nltk.ne_chunk_sents(pos_sentences, binary=True)\n",
        "\n",
        "# Test for stems of the tree with 'NE' tags\n",
        "for sent in chunked_sentences:\n",
        "    for chunk in sent:\n",
        "        if hasattr(chunk, \"label\") and chunk.label() == \"NE\":\n",
        "            print(chunk[0:10])"
      ],
      "metadata": {
        "colab": {
          "base_uri": "https://localhost:8080/"
        },
        "id": "kEf24mAi0L0u",
        "outputId": "5d98544b-d04c-4e7c-e192-706fce396388"
      },
      "execution_count": 42,
      "outputs": [
        {
          "output_type": "stream",
          "name": "stdout",
          "text": [
            "[('Penny', 'NNP')]\n",
            "[('Thankyou', 'NNP')]\n",
            "[('Great', 'NNP')]\n",
            "[('Bye', 'NNP')]\n",
            "[('Okay', 'NNP')]\n",
            "[('Leonard', 'NNP')]\n",
            "[('Wow', 'NNP')]\n",
            "[('Holy', 'NNP')]\n",
            "[('Uh', 'NNP')]\n",
            "[('Klingon', 'NNP')]\n",
            "[('Um', 'NNP')]\n",
            "[('Okay', 'NNP')]\n",
            "[('Cheesecake', 'NNP'), ('Factory', 'NNP')]\n",
            "[('Lincoln', 'NNP'), ('Nebraska', 'NNP')]\n",
            "[('Cheesecake', 'NNP'), ('Factory', 'NNP')]\n",
            "[('No', 'DT')]\n",
            "[('Omaha', 'NNP')]\n",
            "[('Okay', 'NNP')]\n",
            "[('Um', 'NNP')]\n",
            "[('Penny', 'NNP')]\n",
            "[('High', 'JJ'), ('School', 'NNP')]\n",
            "[('Hi', 'NNP')]\n",
            "[('Hello', 'NN')]\n",
            "[('Penny', 'NNP')]\n",
            "[('Cheesecake', 'NNP'), ('Factory', 'NNP')]\n",
            "[('Okay', 'NNP')]\n",
            "[('Hey', 'NNP')]\n",
            "[('Leonard', 'NNP')]\n",
            "[('Um', 'NNP')]\n",
            "[('Leonard', 'NNP')]\n",
            "[('Sheldon', 'NNP')]\n",
            "[('University', 'NNP')]\n",
            "[('Uh', 'NNP')]\n",
            "[('English', 'NNP')]\n",
            "[('Wow', 'NNP')]\n",
            "[('Uh', 'NNP')]\n"
          ]
        }
      ]
    },
    {
      "cell_type": "code",
      "source": [
        "#doesnt work :(\n",
        "\n",
        "# Create the defaultdict: ner_categories\n",
        "ner_categories = defaultdict(int)\n",
        "\n",
        "# Create the nested for loop\n",
        "for sent in chunked_sentences:\n",
        "    for chunk in sent:\n",
        "        if hasattr(chunk, 'label'):\n",
        "            ner_categories[chunk.label()] += 1\n",
        "            \n",
        "# Create a list from the dictionary keys for the chart labels: labels\n",
        "labels = list(ner_categories.keys())\n",
        "labels\n",
        "# ['ORGANIZATION', 'GPE', 'PERSON', 'LOCATION', 'FACILITY']\n",
        "\n",
        "# Create a list of the values: values\n",
        "values = [ner_categories.get(v) for v in labels]\n",
        "\n",
        "# Create the pie chart\n",
        "plt.pie(values, labels=labels, autopct='%1.1f%%', startangle=140)\n",
        "\n",
        "# Display the chart\n",
        "plt.show()"
      ],
      "metadata": {
        "colab": {
          "base_uri": "https://localhost:8080/",
          "height": 247
        },
        "id": "LN_pLFuy0xjI",
        "outputId": "f51b9e1d-b7ec-4064-9bc6-91602b116592"
      },
      "execution_count": 43,
      "outputs": [
        {
          "output_type": "display_data",
          "data": {
            "image/png": "[encoded data removed]",
            "text/plain": [
              "<Figure size 432x288 with 1 Axes>"
            ]
          },
          "metadata": {}
        }
      ]
    },
    {
      "cell_type": "markdown",
      "source": [
        "### **2.5 Spacy**"
      ],
      "metadata": {
        "id": "HpuIlegL2KwO"
      }
    },
    {
      "cell_type": "markdown",
      "source": [
        "* similar to gensim, but differnt implementations\n",
        "focus on creating NLP pipelines to generate models and corpora\n",
        "* uses different entity types compared to nltk\n",
        "* has informal language corpora (useful for finidng entities in TWeets and chats)"
      ],
      "metadata": {
        "id": "ymm6nMiO2Paz"
      }
    },
    {
      "cell_type": "code",
      "source": [
        "\n",
        "#instantiate the English model\n",
        "nlp = spacy.load('en')\n",
        "\n",
        "#create a new document\n",
        "doc = nlp(penny_string)\n",
        "\n",
        "#find entities\n",
        "entities = doc.ents\n",
        "entities[0:10]"
      ],
      "metadata": {
        "colab": {
          "base_uri": "https://localhost:8080/"
        },
        "id": "PuwOoe0S0-GD",
        "outputId": "012a98d4-f40d-479f-eca9-06181609e687"
      },
      "execution_count": 44,
      "outputs": [
        {
          "output_type": "execute_result",
          "data": {
            "text/plain": [
              "(Penny,\n",
              " Bye,\n",
              " Leonard,\n",
              " Klingon,\n",
              " Sagittarius,\n",
              " the Cheesecake Factory,\n",
              " L.A.,\n",
              " Lincoln Nebraska,\n",
              " the Cheesecake Factory,\n",
              " Omaha)"
            ]
          },
          "metadata": {},
          "execution_count": 44
        }
      ]
    },
    {
      "cell_type": "code",
      "source": [
        "#print the label of the first entity\n",
        "print(doc.ents[0], doc.ents[0].label_)\n",
        "print()\n",
        "\n",
        "# Print all of the found entities and their labels\n",
        "for ent in doc.ents:\n",
        "    print(ent.label_, ent.text)\n"
      ],
      "metadata": {
        "colab": {
          "base_uri": "https://localhost:8080/"
        },
        "id": "unkOV0Ya0xfU",
        "outputId": "57ac2de7-4dc2-4f9d-f924-3134db3ec6e6"
      },
      "execution_count": 45,
      "outputs": [
        {
          "output_type": "stream",
          "name": "stdout",
          "text": [
            "Penny PERSON\n",
            "\n",
            "PERSON Penny\n",
            "PERSON Bye\n",
            "PERSON Leonard\n",
            "PERSON Klingon\n",
            "PERSON Sagittarius\n",
            "ORG the Cheesecake Factory\n",
            "GPE L.A.\n",
            "PERSON Lincoln Nebraska\n",
            "ORG the Cheesecake Factory\n",
            "GPE Omaha\n",
            "PERSON Penny\n",
            "DATE four years\n",
            "DATE four years\n",
            "PERSON Penny\n",
            "ORG the Cheesecake Factory\n",
            "PERSON Leonard\n",
            "PERSON Leonard\n",
            "PERSON Sheldon\n",
            "LANGUAGE English\n",
            "PERSON Raj\n"
          ]
        }
      ]
    },
    {
      "cell_type": "markdown",
      "source": [
        "**Polyglot (multilingual)**"
      ],
      "metadata": {
        "id": "gc5XHPeL4qZS"
      }
    },
    {
      "cell_type": "markdown",
      "source": [
        "* NLP library which uses word verctors (like Gensim and Spacy)\n",
        "* Polyglot supports more than 130 languages, so it is useful for translating texts."
      ],
      "metadata": {
        "id": "rijeGxko4sA2"
      }
    },
    {
      "cell_type": "markdown",
      "source": [
        "### **2.5 Modelling with NLP**"
      ],
      "metadata": {
        "id": "OyXmpVSK632n"
      }
    },
    {
      "cell_type": "code",
      "source": [
        "df.head()"
      ],
      "metadata": {
        "colab": {
          "base_uri": "https://localhost:8080/",
          "height": 336
        },
        "id": "OWx-G_2uJ1Ze",
        "outputId": "d4b983c3-6e26-46dc-9df6-e23cd312f3f1"
      },
      "execution_count": 46,
      "outputs": [
        {
          "output_type": "execute_result",
          "data": {
            "text/html": [
              "\n",
              "  <div id=\"df-b80a222c-3617-4956-b67d-5782eda1f43e\">\n",
              "    <div class=\"colab-df-container\">\n",
              "      <div>\n",
              "<style scoped>\n",
              "    .dataframe tbody tr th:only-of-type {\n",
              "        vertical-align: middle;\n",
              "    }\n",
              "\n",
              "    .dataframe tbody tr th {\n",
              "        vertical-align: top;\n",
              "    }\n",
              "\n",
              "    .dataframe thead th {\n",
              "        text-align: right;\n",
              "    }\n",
              "</style>\n",
              "<table border=\"1\" class=\"dataframe\">\n",
              "  <thead>\n",
              "    <tr style=\"text-align: right;\">\n",
              "      <th></th>\n",
              "      <th>episode_nr</th>\n",
              "      <th>season</th>\n",
              "      <th>season_episode</th>\n",
              "      <th>episode_id</th>\n",
              "      <th>episode_name</th>\n",
              "      <th>character</th>\n",
              "      <th>location</th>\n",
              "      <th>line</th>\n",
              "      <th>line_id</th>\n",
              "    </tr>\n",
              "  </thead>\n",
              "  <tbody>\n",
              "    <tr>\n",
              "      <th>0</th>\n",
              "      <td>1</td>\n",
              "      <td>1</td>\n",
              "      <td>1</td>\n",
              "      <td>1-1</td>\n",
              "      <td>Pilot Episode</td>\n",
              "      <td>Sheldon</td>\n",
              "      <td>A corridor at a sperm bank.</td>\n",
              "      <td>So if a photon is directed through a plane with two slits in it and either slit is observed it will not go through both slits. If it’s unobserved it will, however, if it’s observed after it’s left the plane but before it hits its target, it will not have gone through both slits.</td>\n",
              "      <td>1</td>\n",
              "    </tr>\n",
              "    <tr>\n",
              "      <th>1</th>\n",
              "      <td>1</td>\n",
              "      <td>1</td>\n",
              "      <td>1</td>\n",
              "      <td>1-1</td>\n",
              "      <td>Pilot Episode</td>\n",
              "      <td>Leonard</td>\n",
              "      <td>A corridor at a sperm bank.</td>\n",
              "      <td>Agreed, what’s your point?</td>\n",
              "      <td>2</td>\n",
              "    </tr>\n",
              "    <tr>\n",
              "      <th>2</th>\n",
              "      <td>1</td>\n",
              "      <td>1</td>\n",
              "      <td>1</td>\n",
              "      <td>1-1</td>\n",
              "      <td>Pilot Episode</td>\n",
              "      <td>Sheldon</td>\n",
              "      <td>A corridor at a sperm bank.</td>\n",
              "      <td>There’s no point, I just think it’s a good idea for a tee-shirt.</td>\n",
              "      <td>3</td>\n",
              "    </tr>\n",
              "    <tr>\n",
              "      <th>3</th>\n",
              "      <td>1</td>\n",
              "      <td>1</td>\n",
              "      <td>1</td>\n",
              "      <td>1-1</td>\n",
              "      <td>Pilot Episode</td>\n",
              "      <td>Leonard</td>\n",
              "      <td>A corridor at a sperm bank.</td>\n",
              "      <td>Excuse me?</td>\n",
              "      <td>4</td>\n",
              "    </tr>\n",
              "    <tr>\n",
              "      <th>4</th>\n",
              "      <td>1</td>\n",
              "      <td>1</td>\n",
              "      <td>1</td>\n",
              "      <td>1-1</td>\n",
              "      <td>Pilot Episode</td>\n",
              "      <td>Receptionist</td>\n",
              "      <td>A corridor at a sperm bank.</td>\n",
              "      <td>Hang on.</td>\n",
              "      <td>5</td>\n",
              "    </tr>\n",
              "  </tbody>\n",
              "</table>\n",
              "</div>\n",
              "      <button class=\"colab-df-convert\" onclick=\"convertToInteractive('df-b80a222c-3617-4956-b67d-5782eda1f43e')\"\n",
              "              title=\"Convert this dataframe to an interactive table.\"\n",
              "              style=\"display:none;\">\n",
              "        \n",
              "  <svg xmlns=\"http://www.w3.org/2000/svg\" height=\"24px\"viewBox=\"0 0 24 24\"\n",
              "       width=\"24px\">\n",
              "    <path d=\"M0 0h24v24H0V0z\" fill=\"none\"/>\n",
              "    <path d=\"M18.56 5.44l.94 2.06.94-2.06 2.06-.94-2.06-.94-.94-2.06-.94 2.06-2.06.94zm-11 1L8.5 8.5l.94-2.06 2.06-.94-2.06-.94L8.5 2.5l-.94 2.06-2.06.94zm10 10l.94 2.06.94-2.06 2.06-.94-2.06-.94-.94-2.06-.94 2.06-2.06.94z\"/><path d=\"M17.41 7.96l-1.37-1.37c-.4-.4-.92-.59-1.43-.59-.52 0-1.04.2-1.43.59L10.3 9.45l-7.72 7.72c-.78.78-.78 2.05 0 2.83L4 21.41c.39.39.9.59 1.41.59.51 0 1.02-.2 1.41-.59l7.78-7.78 2.81-2.81c.8-.78.8-2.07 0-2.86zM5.41 20L4 18.59l7.72-7.72 1.47 1.35L5.41 20z\"/>\n",
              "  </svg>\n",
              "      </button>\n",
              "      \n",
              "  <style>\n",
              "    .colab-df-container {\n",
              "      display:flex;\n",
              "      flex-wrap:wrap;\n",
              "      gap: 12px;\n",
              "    }\n",
              "\n",
              "    .colab-df-convert {\n",
              "      background-color: #E8F0FE;\n",
              "      border: none;\n",
              "      border-radius: 50%;\n",
              "      cursor: pointer;\n",
              "      display: none;\n",
              "      fill: #1967D2;\n",
              "      height: 32px;\n",
              "      padding: 0 0 0 0;\n",
              "      width: 32px;\n",
              "    }\n",
              "\n",
              "    .colab-df-convert:hover {\n",
              "      background-color: #E2EBFA;\n",
              "      box-shadow: 0px 1px 2px rgba(60, 64, 67, 0.3), 0px 1px 3px 1px rgba(60, 64, 67, 0.15);\n",
              "      fill: #174EA6;\n",
              "    }\n",
              "\n",
              "    [theme=dark] .colab-df-convert {\n",
              "      background-color: #3B4455;\n",
              "      fill: #D2E3FC;\n",
              "    }\n",
              "\n",
              "    [theme=dark] .colab-df-convert:hover {\n",
              "      background-color: #434B5C;\n",
              "      box-shadow: 0px 1px 3px 1px rgba(0, 0, 0, 0.15);\n",
              "      filter: drop-shadow(0px 1px 2px rgba(0, 0, 0, 0.3));\n",
              "      fill: #FFFFFF;\n",
              "    }\n",
              "  </style>\n",
              "\n",
              "      <script>\n",
              "        const buttonEl =\n",
              "          document.querySelector('#df-b80a222c-3617-4956-b67d-5782eda1f43e button.colab-df-convert');\n",
              "        buttonEl.style.display =\n",
              "          google.colab.kernel.accessAllowed ? 'block' : 'none';\n",
              "\n",
              "        async function convertToInteractive(key) {\n",
              "          const element = document.querySelector('#df-b80a222c-3617-4956-b67d-5782eda1f43e');\n",
              "          const dataTable =\n",
              "            await google.colab.kernel.invokeFunction('convertToInteractive',\n",
              "                                                     [key], {});\n",
              "          if (!dataTable) return;\n",
              "\n",
              "          const docLinkHtml = 'Like what you see? Visit the ' +\n",
              "            '<a target=\"_blank\" href=https://colab.research.google.com/notebooks/data_table.ipynb>data table notebook</a>'\n",
              "            + ' to learn more about interactive tables.';\n",
              "          element.innerHTML = '';\n",
              "          dataTable['output_type'] = 'display_data';\n",
              "          await google.colab.output.renderOutput(dataTable, element);\n",
              "          const docLink = document.createElement('div');\n",
              "          docLink.innerHTML = docLinkHtml;\n",
              "          element.appendChild(docLink);\n",
              "        }\n",
              "      </script>\n",
              "    </div>\n",
              "  </div>\n",
              "  "
            ],
            "text/plain": [
              "   episode_nr  season  season_episode episode_id    episode_name  \\\n",
              "0           1       1               1        1-1  Pilot Episode    \n",
              "1           1       1               1        1-1  Pilot Episode    \n",
              "2           1       1               1        1-1  Pilot Episode    \n",
              "3           1       1               1        1-1  Pilot Episode    \n",
              "4           1       1               1        1-1  Pilot Episode    \n",
              "\n",
              "      character                     location  \\\n",
              "0       Sheldon  A corridor at a sperm bank.   \n",
              "1       Leonard  A corridor at a sperm bank.   \n",
              "2       Sheldon  A corridor at a sperm bank.   \n",
              "3       Leonard  A corridor at a sperm bank.   \n",
              "4  Receptionist  A corridor at a sperm bank.   \n",
              "\n",
              "                                                                                                                                                                                                                                                                                      line  \\\n",
              "0  So if a photon is directed through a plane with two slits in it and either slit is observed it will not go through both slits. If it’s unobserved it will, however, if it’s observed after it’s left the plane but before it hits its target, it will not have gone through both slits.   \n",
              "1                                                                                                                                                                                                                                                               Agreed, what’s your point?   \n",
              "2                                                                                                                                                                                                                         There’s no point, I just think it’s a good idea for a tee-shirt.   \n",
              "3                                                                                                                                                                                                                                                                               Excuse me?   \n",
              "4                                                                                                                                                                                                                                                                                 Hang on.   \n",
              "\n",
              "   line_id  \n",
              "0        1  \n",
              "1        2  \n",
              "2        3  \n",
              "3        4  \n",
              "4        5  "
            ]
          },
          "metadata": {},
          "execution_count": 46
        }
      ]
    },
    {
      "cell_type": "code",
      "source": [
        "#BAG OF WORDS (text is not pre-processed)\n",
        "#create a copy of the dataset, drop empty records, and only include the 4 main characters\n",
        "df2 = df.copy()\n",
        "df2 = df2.dropna()\n",
        "\n",
        "mains = ['Sheldon',  'Penny']\n",
        "df2 = df2[df2['character'].isin(mains)]\n",
        "\n",
        "#define labels\n",
        "y = df2['character']\n",
        "X = df2['line']\n",
        "\n",
        "#split data\n",
        "X_train, X_test, y_train, y_test = train_test_split(X, y, test_size=0.3, random_state = 42)\n",
        "\n",
        "#create count vectorizer (similar to gensim corpus) = bag of words + remove stop words\n",
        "count_vectorizer = CountVectorizer(stop_words='english')\n",
        "\n",
        "#transform training data to create bag of words\n",
        "count_train = count_vectorizer.fit_transform(X_train.values)\n",
        "count_test = count_vectorizer.transform(X_test.values)\n",
        "\n",
        "# Print the first 10 features of the count_vectorizer (??!)\n",
        "print(count_vectorizer.get_feature_names_out()[:10])\n",
        "\n",
        "#fit model\n",
        "#Naive BAyes is often used for NLP classification because of its'basis in probability\n",
        "# given a particular piece of data, how likely is a particular?\n",
        "# how likely given a spaceship, how likely is the series to be sci-fi?\n",
        "nb_classifier = MultinomialNB()\n",
        "nb_classifier.fit(count_train, y_train)\n",
        "pred = nb_classifier.predict(count_test)\n",
        "\n",
        "#evaluate\n",
        "metrics.accuracy_score(y_test, pred)"
      ],
      "metadata": {
        "colab": {
          "base_uri": "https://localhost:8080/"
        },
        "id": "HcBsauz35ikx",
        "outputId": "63e25fcf-855e-4585-8c97-b43a36b16573"
      },
      "execution_count": 47,
      "outputs": [
        {
          "output_type": "stream",
          "name": "stdout",
          "text": [
            "['000' '000lb' '01100111' '0400' '06' '0700' '10' '100' '101' '102']\n"
          ]
        },
        {
          "output_type": "execute_result",
          "data": {
            "text/plain": [
              "0.7272101823185414"
            ]
          },
          "metadata": {},
          "execution_count": 47
        }
      ]
    },
    {
      "cell_type": "code",
      "source": [
        "#TFIDF (text is not pre-processed)\n",
        "#create a copy of the dataset, drop empty records, and only include the 4 main characters\n",
        "df2 = df.copy()\n",
        "df2 = df2.dropna()\n",
        "\n",
        "mains = ['Sheldon', 'Penny']\n",
        "df2 = df2[df2['character'].isin(mains)]\n",
        "\n",
        "#define labels\n",
        "y = df2['character']\n",
        "X = df2['line']\n",
        "\n",
        "# Initialize a TfidfVectorizer object: tfidf_vectorizer\n",
        "tfidf_vectorizer = TfidfVectorizer(stop_words='english', max_df=0.7)\n",
        "\n",
        "# Transform the training data: tfidf_train \n",
        "tfidf_train = tfidf_vectorizer.fit_transform(X_train)\n",
        "\n",
        "# Transform the test data: tfidf_test \n",
        "tfidf_test = tfidf_vectorizer.transform(X_test)\n",
        "\n",
        "# Print the first 10 features\n",
        "print(tfidf_vectorizer.get_feature_names_out()[:10])\n",
        "\n",
        "# Print the first 5 vectors of the tfidf training data\n",
        "print(tfidf_train.A[:5])\n",
        "\n",
        "#fit model\n",
        "nb_classifier = MultinomialNB()\n",
        "nb_classifier.fit(tfidf_train , y_train)\n",
        "pred = nb_classifier.predict(tfidf_test)\n",
        "\n",
        "#evaluate\n",
        "metrics.accuracy_score(y_test, pred)\n"
      ],
      "metadata": {
        "colab": {
          "base_uri": "https://localhost:8080/"
        },
        "id": "zwggichR0xSW",
        "outputId": "f9114dad-e1e2-4db1-c373-857175f27462"
      },
      "execution_count": 48,
      "outputs": [
        {
          "output_type": "stream",
          "name": "stdout",
          "text": [
            "['000' '000lb' '01100111' '0400' '06' '0700' '10' '100' '101' '102']\n",
            "[[0. 0. 0. ... 0. 0. 0.]\n",
            " [0. 0. 0. ... 0. 0. 0.]\n",
            " [0. 0. 0. ... 0. 0. 0.]\n",
            " [0. 0. 0. ... 0. 0. 0.]\n",
            " [0. 0. 0. ... 0. 0. 0.]]\n"
          ]
        },
        {
          "output_type": "execute_result",
          "data": {
            "text/plain": [
              "0.7291021671826625"
            ]
          },
          "metadata": {},
          "execution_count": 48
        }
      ]
    },
    {
      "cell_type": "code",
      "source": [
        "#plot confusion matrix\n",
        "def confusion_matrix_plotter (y_test,y_pred):\n",
        "  fig, ax = plt.subplots(figsize=(8,5)) \n",
        "  data = metrics.confusion_matrix(y_test, y_pred)\n",
        "  df_cm = pd.DataFrame(data, columns=np.unique(y_test), index = np.unique(y_test))\n",
        "  ax = sns.heatmap(df_cm, cmap='Blues', fmt='g' ,annot=True,annot_kws={\"size\": 14})\n",
        "  ax.set_xlabel(\"Predicted\")\n",
        "  ax.set_ylabel (\"Actual\")\n",
        "  ax.set_xticklabels(ax.get_xticklabels(), rotation=45)\n",
        "  ax.set_yticklabels(ax.get_xticklabels(), rotation=0)\n",
        "\n",
        "confusion_matrix_plotter(y_test, pred)"
      ],
      "metadata": {
        "colab": {
          "base_uri": "https://localhost:8080/",
          "height": 358
        },
        "id": "SoM10eK_Q4iU",
        "outputId": "fccf4518-54c5-4b09-c7a7-8024a1774c89"
      },
      "execution_count": 49,
      "outputs": [
        {
          "output_type": "display_data",
          "data": {
            "image/png": "[encoded data removed]",
            "text/plain": [
              "<Figure size 576x360 with 2 Axes>"
            ]
          },
          "metadata": {
            "needs_background": "light"
          }
        }
      ]
    },
    {
      "cell_type": "code",
      "source": [
        "# Get the class labels: class_labels\n",
        "class_labels = nb_classifier.classes_\n",
        "\n",
        "# Extract the features: feature_names\n",
        "feature_names = tfidf_vectorizer.get_feature_names_out()\n",
        "\n",
        "# Zip the feature names together with the coefficient array and sort by weights: feat_with_weights\n",
        "feat_with_weights = sorted(zip(nb_classifier.coef_[0], feature_names))\n",
        "\n",
        "# Print the first class label and the top 20 feat_with_weights entries (makes little sense without cleaning the data)\n",
        "print(class_labels[0], feat_with_weights[:20])\n",
        "\n",
        "# Print the second class label and the bottom 20 feat_with_weights entries\n",
        "print(class_labels[1], feat_with_weights[-20:])\n"
      ],
      "metadata": {
        "colab": {
          "base_uri": "https://localhost:8080/"
        },
        "id": "-EdXGHL8TMb6",
        "outputId": "277e2033-bc20-4363-c143-72f31d1e0a71"
      },
      "execution_count": 50,
      "outputs": [
        {
          "output_type": "stream",
          "name": "stdout",
          "text": [
            "Penny [(-10.329157073625595, '0400'), (-10.329157073625595, '11th'), (-10.329157073625595, '150'), (-10.329157073625595, '1619'), (-10.329157073625595, '1865'), (-10.329157073625595, '1am'), (-10.329157073625595, '20s'), (-10.329157073625595, '22'), (-10.329157073625595, '2a'), (-10.329157073625595, '30s'), (-10.329157073625595, '34'), (-10.329157073625595, '390'), (-10.329157073625595, '401k'), (-10.329157073625595, '58'), (-10.329157073625595, 'aaaaaaa'), (-10.329157073625595, 'abducted'), (-10.329157073625595, 'abs'), (-10.329157073625595, 'accents'), (-10.329157073625595, 'acne'), (-10.329157073625595, 'acoustics')]\n",
            "Sheldon [(-6.214702697173658, 'say'), (-6.136435490956541, 've'), (-6.108977547406329, 'thank'), (-6.080420122995037, 'want'), (-5.999194762273916, 'hello'), (-5.955587329340971, 'think'), (-5.945461906566187, 'did'), (-5.944211569208797, 'll'), (-5.938849416489132, 'good'), (-5.915301303890037, 'penny'), (-5.892947722135722, 'knock'), (-5.834718258817, 'just'), (-5.821100630454067, 'going'), (-5.7092058308199185, 'like'), (-5.671245090775127, 'right'), (-5.609762405150466, 'yes'), (-5.585106946066985, 'know'), (-5.527764030059586, 'leonard'), (-5.417544146250913, 'don'), (-5.251183005310116, 'oh')]\n"
          ]
        },
        {
          "output_type": "stream",
          "name": "stderr",
          "text": [
            "/usr/local/lib/python3.7/dist-packages/sklearn/utils/deprecation.py:103: FutureWarning: Attribute `coef_` was deprecated in version 0.24 and will be removed in 1.1 (renaming of 0.26).\n",
            "  warnings.warn(msg, category=FutureWarning)\n"
          ]
        }
      ]
    },
    {
      "cell_type": "markdown",
      "source": [
        "# **3  NLP Advanced - Spacy**"
      ],
      "metadata": {
        "id": "xAcyPKMvjau9"
      }
    },
    {
      "cell_type": "markdown",
      "source": [
        "* core is the language specific nlp object\n",
        "* contains the processing pipeline, including language-specific rules for tokenization\n",
        "* the nlp object produces a doc object, which you can use to access information\n",
        "* a doc consists of tokens, which can be words and punctuation"
      ],
      "metadata": {
        "id": "TdoZbRlXjvM7"
      }
    },
    {
      "cell_type": "markdown",
      "source": [
        "### **3.1 Finding words, phrases, names**"
      ],
      "metadata": {
        "id": "L0yD-AYrko-p"
      }
    },
    {
      "cell_type": "code",
      "source": [
        "#instantiate the English model\n",
        "nlp = spacy.load('en')\n",
        "\n",
        "#create a new document\n",
        "doc = nlp(penny_string)\n",
        "print(doc.text)\n",
        "print()\n",
        "\n",
        "#available token attributes in doc\n",
        "print('Index', [token.i for token in doc]) #index of token within doc\n",
        "print('Text', [token.text for token in doc]) #returns the text\n",
        "print('is_alpha', [token.is_alpha for token in doc]) \n",
        "print('is_punct', [token.is_punct for token in doc]) \n",
        "print('is_num', [token.like_num for token in doc]) \n"
      ],
      "metadata": {
        "colab": {
          "base_uri": "https://localhost:8080/"
        },
        "id": "5ZVqVtD1iccV",
        "outputId": "4230df4c-4e1e-4b6b-e2c7-81d68a468a5e"
      },
      "execution_count": 51,
      "outputs": [
        {
          "output_type": "stream",
          "name": "stdout",
          "text": [
            " Oh, hi! Hi? Oh, that’s nice. Oh, okay, well, guess I’m your new neighbour, Penny. Hi. Hi. Thankyou, maybe we can have coffee sometime. Great. Bye. Hi. Hi. Oh, you’re inviting me over to eat? Oh, that’s so nice, I’d love to. So, what do you guys do for fun around here? Okay, thankyou. This looks like some serious stuff, Leonard, did you do this? Wow. So you’re like, one of those, beautiful mind genius guys. This is really impressive. Holy smokes. Uh, do you guys mind if I start? So, sit next to me. What’s the difference? Do you want me to move? So, Klingon boggle? Um, me, okay, I’m Sagittarius, which probably tells you way more than you need to know. Participate in the what? Oh, yeah, a lot of people think I’m a water sign. Okay, let’s see, what else, oh, I’m a vegetarian, oh, except for fish, and the occasional steak, I love steak. Oh, yeah, I’m a waitress at the Cheesecake Factory. Oh, anyways, I’m also writing a screenplay. It’s about this sensitive girl who comes to L.A. from Lincoln Nebraska to be an actress, and winds up a waitress at the Cheesecake Factory. No, I’m from Omaha. I know, right? Okay, let’s see, what else? Um, that’s about it. That’s the story of Penny. It was. Until I fell in love with a jerk. Oh God, you know, four years I lived with him, four years, that’s like as long as High School. I just, I can’t believe I trusted him.<br/> You want to know the most pathetic part? Even though I hate his lying, cheating guts, I still love him. Is that crazy? Oh, I’m so sorry, I’m such a mess, and on top of everything else I’m all gross from moving and my stupid shower doesn’t even work. Really? Would it be totally weird if I used it? Thanks. You guys are really sweet.<br/> Hey, is there a trick to getting it to switch from tub to shower. Oh. Hi, sorry. Hello! Penny. I work at the Cheesecake Factory. I’m sorry? Okay. Thanks. Hey, Leonard? Um, okay. Can I ask you a favour. It’s okay if you say no. It’s just not the kind of thing you ask a guy you’ve just met. So, you guys work with Leonard and Sheldon at the University? Uh, I’m sorry, do you speak English? Really, why? Wow, cool tiger. Uh, sounds interesting. Oh, I don’t think I’ll be able to stop thinking about it. Oh, my God, what happened? I’m so sorry, I really thought if you guys went instead of me he wouldn’t be such an ass. Really, thank you so much for going and trying you’re, uh, you’re so terrific. Why don’t you put some clothes on, I’ll get my purse and dinner is on me, okay? Sure. So? So? Any ideas Raj? (He just looks at her with a worried expression.) That sounds like fun.\n",
            "\n",
            "Index [0, 1, 2, 3, 4, 5, 6, 7, 8, 9, 10, 11, 12, 13, 14, 15, 16, 17, 18, 19, 20, 21, 22, 23, 24, 25, 26, 27, 28, 29, 30, 31, 32, 33, 34, 35, 36, 37, 38, 39, 40, 41, 42, 43, 44, 45, 46, 47, 48, 49, 50, 51, 52, 53, 54, 55, 56, 57, 58, 59, 60, 61, 62, 63, 64, 65, 66, 67, 68, 69, 70, 71, 72, 73, 74, 75, 76, 77, 78, 79, 80, 81, 82, 83, 84, 85, 86, 87, 88, 89, 90, 91, 92, 93, 94, 95, 96, 97, 98, 99, 100, 101, 102, 103, 104, 105, 106, 107, 108, 109, 110, 111, 112, 113, 114, 115, 116, 117, 118, 119, 120, 121, 122, 123, 124, 125, 126, 127, 128, 129, 130, 131, 132, 133, 134, 135, 136, 137, 138, 139, 140, 141, 142, 143, 144, 145, 146, 147, 148, 149, 150, 151, 152, 153, 154, 155, 156, 157, 158, 159, 160, 161, 162, 163, 164, 165, 166, 167, 168, 169, 170, 171, 172, 173, 174, 175, 176, 177, 178, 179, 180, 181, 182, 183, 184, 185, 186, 187, 188, 189, 190, 191, 192, 193, 194, 195, 196, 197, 198, 199, 200, 201, 202, 203, 204, 205, 206, 207, 208, 209, 210, 211, 212, 213, 214, 215, 216, 217, 218, 219, 220, 221, 222, 223, 224, 225, 226, 227, 228, 229, 230, 231, 232, 233, 234, 235, 236, 237, 238, 239, 240, 241, 242, 243, 244, 245, 246, 247, 248, 249, 250, 251, 252, 253, 254, 255, 256, 257, 258, 259, 260, 261, 262, 263, 264, 265, 266, 267, 268, 269, 270, 271, 272, 273, 274, 275, 276, 277, 278, 279, 280, 281, 282, 283, 284, 285, 286, 287, 288, 289, 290, 291, 292, 293, 294, 295, 296, 297, 298, 299, 300, 301, 302, 303, 304, 305, 306, 307, 308, 309, 310, 311, 312, 313, 314, 315, 316, 317, 318, 319, 320, 321, 322, 323, 324, 325, 326, 327, 328, 329, 330, 331, 332, 333, 334, 335, 336, 337, 338, 339, 340, 341, 342, 343, 344, 345, 346, 347, 348, 349, 350, 351, 352, 353, 354, 355, 356, 357, 358, 359, 360, 361, 362, 363, 364, 365, 366, 367, 368, 369, 370, 371, 372, 373, 374, 375, 376, 377, 378, 379, 380, 381, 382, 383, 384, 385, 386, 387, 388, 389, 390, 391, 392, 393, 394, 395, 396, 397, 398, 399, 400, 401, 402, 403, 404, 405, 406, 407, 408, 409, 410, 411, 412, 413, 414, 415, 416, 417, 418, 419, 420, 421, 422, 423, 424, 425, 426, 427, 428, 429, 430, 431, 432, 433, 434, 435, 436, 437, 438, 439, 440, 441, 442, 443, 444, 445, 446, 447, 448, 449, 450, 451, 452, 453, 454, 455, 456, 457, 458, 459, 460, 461, 462, 463, 464, 465, 466, 467, 468, 469, 470, 471, 472, 473, 474, 475, 476, 477, 478, 479, 480, 481, 482, 483, 484, 485, 486, 487, 488, 489, 490, 491, 492, 493, 494, 495, 496, 497, 498, 499, 500, 501, 502, 503, 504, 505, 506, 507, 508, 509, 510, 511, 512, 513, 514, 515, 516, 517, 518, 519, 520, 521, 522, 523, 524, 525, 526, 527, 528, 529, 530, 531, 532, 533, 534, 535, 536, 537, 538, 539, 540, 541, 542, 543, 544, 545, 546, 547, 548, 549, 550, 551, 552, 553, 554, 555, 556, 557, 558, 559, 560, 561, 562, 563, 564, 565, 566, 567, 568, 569, 570, 571, 572, 573, 574, 575, 576, 577, 578, 579, 580, 581, 582, 583, 584, 585, 586, 587, 588, 589, 590, 591, 592, 593, 594, 595, 596, 597, 598, 599, 600, 601, 602, 603, 604, 605, 606, 607, 608, 609, 610, 611, 612, 613, 614, 615, 616, 617, 618, 619, 620, 621, 622, 623, 624, 625, 626, 627, 628, 629, 630, 631, 632, 633, 634, 635, 636, 637, 638, 639, 640, 641, 642, 643, 644, 645, 646, 647, 648, 649, 650, 651, 652, 653, 654, 655, 656, 657, 658, 659, 660, 661, 662, 663, 664, 665, 666, 667, 668, 669, 670, 671, 672, 673, 674, 675, 676, 677, 678, 679, 680, 681, 682, 683]\n",
            "Text [' ', 'Oh', ',', 'hi', '!', 'Hi', '?', 'Oh', ',', 'that', '’s', 'nice', '.', 'Oh', ',', 'okay', ',', 'well', ',', 'guess', 'I', '’m', 'your', 'new', 'neighbour', ',', 'Penny', '.', 'Hi', '.', 'Hi', '.', 'Thankyou', ',', 'maybe', 'we', 'can', 'have', 'coffee', 'sometime', '.', 'Great', '.', 'Bye', '.', 'Hi', '.', 'Hi', '.', 'Oh', ',', 'you', '’re', 'inviting', 'me', 'over', 'to', 'eat', '?', 'Oh', ',', 'that', '’s', 'so', 'nice', ',', 'I', '’d', 'love', 'to', '.', 'So', ',', 'what', 'do', 'you', 'guys', 'do', 'for', 'fun', 'around', 'here', '?', 'Okay', ',', 'thankyou', '.', 'This', 'looks', 'like', 'some', 'serious', 'stuff', ',', 'Leonard', ',', 'did', 'you', 'do', 'this', '?', 'Wow', '.', 'So', 'you', '’re', 'like', ',', 'one', 'of', 'those', ',', 'beautiful', 'mind', 'genius', 'guys', '.', 'This', 'is', 'really', 'impressive', '.', 'Holy', 'smokes', '.', 'Uh', ',', 'do', 'you', 'guys', 'mind', 'if', 'I', 'start', '?', 'So', ',', 'sit', 'next', 'to', 'me', '.', 'What', '’s', 'the', 'difference', '?', 'Do', 'you', 'want', 'me', 'to', 'move', '?', 'So', ',', 'Klingon', 'boggle', '?', 'Um', ',', 'me', ',', 'okay', ',', 'I', '’m', 'Sagittarius', ',', 'which', 'probably', 'tells', 'you', 'way', 'more', 'than', 'you', 'need', 'to', 'know', '.', 'Participate', 'in', 'the', 'what', '?', 'Oh', ',', 'yeah', ',', 'a', 'lot', 'of', 'people', 'think', 'I', '’m', 'a', 'water', 'sign', '.', 'Okay', ',', 'let', '’s', 'see', ',', 'what', 'else', ',', 'oh', ',', 'I', '’m', 'a', 'vegetarian', ',', 'oh', ',', 'except', 'for', 'fish', ',', 'and', 'the', 'occasional', 'steak', ',', 'I', 'love', 'steak', '.', 'Oh', ',', 'yeah', ',', 'I', '’m', 'a', 'waitress', 'at', 'the', 'Cheesecake', 'Factory', '.', 'Oh', ',', 'anyways', ',', 'I', '’m', 'also', 'writing', 'a', 'screenplay', '.', 'It', '’s', 'about', 'this', 'sensitive', 'girl', 'who', 'comes', 'to', 'L.A.', 'from', 'Lincoln', 'Nebraska', 'to', 'be', 'an', 'actress', ',', 'and', 'winds', 'up', 'a', 'waitress', 'at', 'the', 'Cheesecake', 'Factory', '.', 'No', ',', 'I', '’m', 'from', 'Omaha', '.', 'I', 'know', ',', 'right', '?', 'Okay', ',', 'let', '’s', 'see', ',', 'what', 'else', '?', 'Um', ',', 'that', '’s', 'about', 'it', '.', 'That', '’s', 'the', 'story', 'of', 'Penny', '.', 'It', 'was', '.', 'Until', 'I', 'fell', 'in', 'love', 'with', 'a', 'jerk', '.', 'Oh', 'God', ',', 'you', 'know', ',', 'four', 'years', 'I', 'lived', 'with', 'him', ',', 'four', 'years', ',', 'that', '’s', 'like', 'as', 'long', 'as', 'High', 'School', '.', 'I', 'just', ',', 'I', 'ca', 'n’t', 'believe', 'I', 'trusted', 'him.<br/', '>', 'You', 'want', 'to', 'know', 'the', 'most', 'pathetic', 'part', '?', 'Even', 'though', 'I', 'hate', 'his', 'lying', ',', 'cheating', 'guts', ',', 'I', 'still', 'love', 'him', '.', 'Is', 'that', 'crazy', '?', 'Oh', ',', 'I', '’m', 'so', 'sorry', ',', 'I', '’m', 'such', 'a', 'mess', ',', 'and', 'on', 'top', 'of', 'everything', 'else', 'I', '’m', 'all', 'gross', 'from', 'moving', 'and', 'my', 'stupid', 'shower', 'does', 'n’t', 'even', 'work', '.', 'Really', '?', 'Would', 'it', 'be', 'totally', 'weird', 'if', 'I', 'used', 'it', '?', 'Thanks', '.', 'You', 'guys', 'are', 'really', 'sweet.<br/', '>', 'Hey', ',', 'is', 'there', 'a', 'trick', 'to', 'getting', 'it', 'to', 'switch', 'from', 'tub', 'to', 'shower', '.', 'Oh', '.', 'Hi', ',', 'sorry', '.', 'Hello', '!', 'Penny', '.', 'I', 'work', 'at', 'the', 'Cheesecake', 'Factory', '.', 'I', '’m', 'sorry', '?', 'Okay', '.', 'Thanks', '.', 'Hey', ',', 'Leonard', '?', 'Um', ',', 'okay', '.', 'Can', 'I', 'ask', 'you', 'a', 'favour', '.', 'It', '’s', 'okay', 'if', 'you', 'say', 'no', '.', 'It', '’s', 'just', 'not', 'the', 'kind', 'of', 'thing', 'you', 'ask', 'a', 'guy', 'you', '’ve', 'just', 'met', '.', 'So', ',', 'you', 'guys', 'work', 'with', 'Leonard', 'and', 'Sheldon', 'at', 'the', 'University', '?', 'Uh', ',', 'I', '’m', 'sorry', ',', 'do', 'you', 'speak', 'English', '?', 'Really', ',', 'why', '?', 'Wow', ',', 'cool', 'tiger', '.', 'Uh', ',', 'sounds', 'interesting', '.', 'Oh', ',', 'I', 'do', 'n’t', 'think', 'I', '’ll', 'be', 'able', 'to', 'stop', 'thinking', 'about', 'it', '.', 'Oh', ',', 'my', 'God', ',', 'what', 'happened', '?', 'I', '’m', 'so', 'sorry', ',', 'I', 'really', 'thought', 'if', 'you', 'guys', 'went', 'instead', 'of', 'me', 'he', 'would', 'n’t', 'be', 'such', 'an', 'ass', '.', 'Really', ',', 'thank', 'you', 'so', 'much', 'for', 'going', 'and', 'trying', 'you', '’re', ',', 'uh', ',', 'you', '’re', 'so', 'terrific', '.', 'Why', 'do', 'n’t', 'you', 'put', 'some', 'clothes', 'on', ',', 'I', '’ll', 'get', 'my', 'purse', 'and', 'dinner', 'is', 'on', 'me', ',', 'okay', '?', 'Sure', '.', 'So', '?', 'So', '?', 'Any', 'ideas', 'Raj', '?', '(', 'He', 'just', 'looks', 'at', 'her', 'with', 'a', 'worried', 'expression', '.', ')', 'That', 'sounds', 'like', 'fun', '.']\n",
            "is_alpha [False, True, False, True, False, True, False, True, False, True, False, True, False, True, False, True, False, True, False, True, True, False, True, True, True, False, True, False, True, False, True, False, True, False, True, True, True, True, True, True, False, True, False, True, False, True, False, True, False, True, False, True, False, True, True, True, True, True, False, True, False, True, False, True, True, False, True, False, True, True, False, True, False, True, True, True, True, True, True, True, True, True, False, True, False, True, False, True, True, True, True, True, True, False, True, False, True, True, True, True, False, True, False, True, True, False, True, False, True, True, True, False, True, True, True, True, False, True, True, True, True, False, True, True, False, True, False, True, True, True, True, True, True, True, False, True, False, True, True, True, True, False, True, False, True, True, False, True, True, True, True, True, True, False, True, False, True, True, False, True, False, True, False, True, False, True, False, True, False, True, True, True, True, True, True, True, True, True, True, True, False, True, True, True, True, False, True, False, True, False, True, True, True, True, True, True, False, True, True, True, False, True, False, True, False, True, False, True, True, False, True, False, True, False, True, True, False, True, False, True, True, True, False, True, True, True, True, False, True, True, True, False, True, False, True, False, True, False, True, True, True, True, True, True, False, True, False, True, False, True, False, True, True, True, True, False, True, False, True, True, True, True, True, True, True, False, True, True, True, True, True, True, True, False, True, True, True, True, True, True, True, True, True, False, True, False, True, False, True, True, False, True, True, False, True, False, True, False, True, False, True, False, True, True, False, True, False, True, False, True, True, False, True, False, True, True, True, True, False, True, True, False, True, True, True, True, True, True, True, True, False, True, True, False, True, True, False, True, True, True, True, True, True, False, True, True, False, True, False, True, True, True, True, True, True, False, True, True, False, True, True, False, True, True, True, False, False, True, True, True, True, True, True, True, True, False, True, True, True, True, True, True, False, True, True, False, True, True, True, True, False, True, True, True, False, True, False, True, False, True, True, False, True, False, True, True, True, False, True, True, True, True, True, True, True, False, True, True, True, True, True, True, True, True, True, False, True, True, False, True, False, True, True, True, True, True, True, True, True, True, False, True, False, True, True, True, True, False, False, True, False, True, True, True, True, True, True, True, True, True, True, True, True, True, False, True, False, True, False, True, False, True, False, True, False, True, True, True, True, True, True, False, True, False, True, False, True, False, True, False, True, False, True, False, True, False, True, False, True, True, True, True, True, True, False, True, False, True, True, True, True, True, False, True, False, True, True, True, True, True, True, True, True, True, True, True, False, True, True, False, True, False, True, True, True, True, True, True, True, True, True, True, False, True, False, True, False, True, False, True, True, True, True, False, True, False, True, False, True, False, True, True, False, True, False, True, True, False, True, False, True, True, False, True, True, False, True, True, True, True, True, True, True, False, True, False, True, True, False, True, True, False, True, False, True, True, False, True, True, True, True, True, True, True, True, True, True, True, True, False, True, True, True, True, False, True, False, True, True, True, True, True, True, True, True, True, False, False, True, False, True, False, True, True, False, True, True, False, True, True, True, True, True, False, True, False, True, True, True, True, True, True, True, True, False, True, False, True, False, True, False, True, False, True, True, True, False, False, True, True, True, True, True, True, True, True, True, False, False, True, True, True, True, False]\n",
            "is_punct [False, False, True, False, True, False, True, False, True, False, False, False, True, False, True, False, True, False, True, False, False, False, False, False, False, True, False, True, False, True, False, True, False, True, False, False, False, False, False, False, True, False, True, False, True, False, True, False, True, False, True, False, False, False, False, False, False, False, True, False, True, False, False, False, False, True, False, False, False, False, True, False, True, False, False, False, False, False, False, False, False, False, True, False, True, False, True, False, False, False, False, False, False, True, False, True, False, False, False, False, True, False, True, False, False, False, False, True, False, False, False, True, False, False, False, False, True, False, False, False, False, True, False, False, True, False, True, False, False, False, False, False, False, False, True, False, True, False, False, False, False, True, False, False, False, False, True, False, False, False, False, False, False, True, False, True, False, False, True, False, True, False, True, False, True, False, False, False, True, False, False, False, False, False, False, False, False, False, False, False, True, False, False, False, False, True, False, True, False, True, False, False, False, False, False, False, False, False, False, False, True, False, True, False, False, False, True, False, False, True, False, True, False, False, False, False, True, False, True, False, False, False, True, False, False, False, False, True, False, False, False, True, False, True, False, True, False, False, False, False, False, False, False, False, True, False, True, False, True, False, False, False, False, False, False, True, False, False, False, False, False, False, False, False, False, False, False, False, False, False, False, False, False, True, False, False, False, False, False, False, False, False, False, True, False, True, False, False, False, False, True, False, False, True, False, True, False, True, False, False, False, True, False, False, True, False, True, False, False, False, False, True, False, False, False, False, False, False, True, False, False, True, False, False, False, False, False, False, False, False, True, False, False, True, False, False, True, False, False, False, False, False, False, True, False, False, True, False, False, False, False, False, False, False, False, True, False, False, True, False, False, False, False, False, False, False, False, False, False, False, False, False, False, False, False, True, False, False, False, False, False, False, True, False, False, True, False, False, False, False, True, False, False, False, True, False, True, False, False, False, False, True, False, False, False, False, False, True, False, False, False, False, False, False, False, False, False, False, False, False, False, False, False, False, False, False, False, False, True, False, True, False, False, False, False, False, False, False, False, False, True, False, True, False, False, False, False, False, False, False, True, False, False, False, False, False, False, False, False, False, False, False, False, False, True, False, True, False, True, False, True, False, True, False, True, False, False, False, False, False, False, True, False, False, False, True, False, True, False, True, False, True, False, True, False, True, False, True, False, False, False, False, False, False, True, False, False, False, False, False, False, False, True, False, False, False, False, False, False, False, False, False, False, False, False, False, False, False, False, True, False, True, False, False, False, False, False, False, False, False, False, False, True, False, True, False, False, False, True, False, False, False, False, True, False, True, False, True, False, True, False, False, True, False, True, False, False, True, False, True, False, False, False, False, False, False, False, False, False, False, False, False, False, True, False, True, False, False, True, False, False, True, False, False, False, False, True, False, False, False, False, False, False, False, False, False, False, False, False, False, False, False, False, False, True, False, True, False, False, False, False, False, False, False, False, False, False, True, False, True, False, False, False, False, True, False, False, False, False, False, False, False, False, True, False, False, False, False, False, False, False, False, False, False, True, False, True, False, True, False, True, False, True, False, False, False, True, True, False, False, False, False, False, False, False, False, False, True, True, False, False, False, False, True]\n",
            "is_num [False, False, False, False, False, False, False, False, False, False, False, False, False, False, False, False, False, False, False, False, False, False, False, False, False, False, False, False, False, False, False, False, False, False, False, False, False, False, False, False, False, False, False, False, False, False, False, False, False, False, False, False, False, False, False, False, False, False, False, False, False, False, False, False, False, False, False, False, False, False, False, False, False, False, False, False, False, False, False, False, False, False, False, False, False, False, False, False, False, False, False, False, False, False, False, False, False, False, False, False, False, False, False, False, False, False, False, False, True, False, False, False, False, False, False, False, False, False, False, False, False, False, False, False, False, False, False, False, False, False, False, False, False, False, False, False, False, False, False, False, False, False, False, False, False, False, False, False, False, False, False, False, False, False, False, False, False, False, False, False, False, False, False, False, False, False, False, False, False, False, False, False, False, False, False, False, False, False, False, False, False, False, False, False, False, False, False, False, False, False, False, False, False, False, False, False, False, False, False, False, False, False, False, False, False, False, False, False, False, False, False, False, False, False, False, False, False, False, False, False, False, False, False, False, False, False, False, False, False, False, False, False, False, False, False, False, False, False, False, False, False, False, False, False, False, False, False, False, False, False, False, False, False, False, False, False, False, False, False, False, False, False, False, False, False, False, False, False, False, False, False, False, False, False, False, False, False, False, False, False, False, False, False, False, False, False, False, False, False, False, False, False, False, False, False, False, False, False, False, False, False, False, False, False, False, False, False, False, False, False, False, False, False, False, False, False, False, False, False, False, False, False, False, False, False, False, False, False, False, False, False, False, False, False, False, False, False, True, False, False, False, False, False, False, True, False, False, False, False, False, False, False, False, False, False, False, False, False, False, False, False, False, False, False, False, False, False, False, False, False, False, False, False, False, False, False, False, False, False, False, False, False, False, False, False, False, False, False, False, False, False, False, False, False, False, False, False, False, False, False, False, False, False, False, False, False, False, False, False, False, False, False, False, False, False, False, False, False, False, False, False, False, False, False, False, False, False, False, False, False, False, False, False, False, False, False, False, False, False, False, False, False, False, False, False, False, False, False, False, False, False, False, False, False, False, False, False, False, False, False, False, False, False, False, False, False, False, False, False, False, False, False, False, False, False, False, False, False, False, False, False, False, False, False, False, False, False, False, False, False, False, False, False, False, False, False, False, False, False, False, False, False, False, False, False, False, False, False, False, False, False, False, False, False, False, False, False, False, False, False, False, False, False, False, False, False, False, False, False, False, False, False, False, False, False, False, False, False, False, False, False, False, False, False, False, False, False, False, False, False, False, False, False, False, False, False, False, False, False, False, False, False, False, False, False, False, False, False, False, False, False, False, False, False, False, False, False, False, False, False, False, False, False, False, False, False, False, False, False, False, False, False, False, False, False, False, False, False, False, False, False, False, False, False, False, False, False, False, False, False, False, False, False, False, False, False, False, False, False, False, False, False, False, False, False, False, False, False, False, False, False, False, False, False, False, False, False, False, False, False, False, False, False, False, False, False, False, False, False, False, False, False, False, False, False, False, False, False, False, False, False, False, False, False, False, False, False, False, False, False, False, False, False, False, False, False, False, False, False, False, False, False, False, False]\n"
          ]
        }
      ]
    },
    {
      "cell_type": "code",
      "source": [
        "#you can use indexing on the doc to return only part of the doc\n",
        "\n",
        "nlp = spacy.load('en')\n",
        "doc = nlp(penny_string)\n",
        "\n",
        "#print first token\n",
        "first_token = doc[1] #actual first token is an empty string\n",
        "print(first_token.text)\n",
        "token_range = doc[1:7] #actual first token is an empty string\n",
        "print(token_range)"
      ],
      "metadata": {
        "colab": {
          "base_uri": "https://localhost:8080/"
        },
        "id": "1Xbbxw23k7PP",
        "outputId": "55244831-659f-45a8-9583-f7b08d50fdb2"
      },
      "execution_count": 52,
      "outputs": [
        {
          "output_type": "stream",
          "name": "stdout",
          "text": [
            "Oh\n",
            "Oh, hi! Hi?\n"
          ]
        }
      ]
    },
    {
      "cell_type": "code",
      "source": [
        "#find texts in string using token attributes\n",
        "doc = nlp(\"In 1990, more than 60% of people in East Asia were in extreme poverty. Now less than 4% are.\")\n",
        "\n",
        "# Iterate over the tokens in the doc\n",
        "for token in doc:\n",
        "    # Check if the token resembles a number\n",
        "    if token.like_num:\n",
        "        # Get the next token in the document\n",
        "        next_token = doc[token.i + 1]\n",
        "        # Check if the next token's text equals '%'\n",
        "        if next_token.text == '%':\n",
        "          print('Percentage found:', token.text)"
      ],
      "metadata": {
        "colab": {
          "base_uri": "https://localhost:8080/"
        },
        "id": "o39wfO9gmLA-",
        "outputId": "0f14d655-4564-4589-cf2e-f8834a60f7c8"
      },
      "execution_count": 53,
      "outputs": [
        {
          "output_type": "stream",
          "name": "stdout",
          "text": [
            "Percentage found: 60\n",
            "Percentage found: 4\n"
          ]
        }
      ]
    },
    {
      "cell_type": "markdown",
      "source": [
        "### **3.2 Spacy - Part of speech tags**"
      ],
      "metadata": {
        "id": "e0oKvjCaqG81"
      }
    },
    {
      "cell_type": "markdown",
      "source": [
        "* enable Spacy to predict linguistic attributes (e.g. is it a name)\n",
        "* these models are trained on large labeled example texts, but can be updated with more examples to fine_tune it's predictions\n",
        "* Spacy has multiple model packages that you can download\n",
        "-- 'en_core_web_sm is small english models that is trained on web tests\n",
        "-- the package contains the binary weights that Spacy needs to make a prediction, vocabulary and meta information."
      ],
      "metadata": {
        "id": "31N_K5bzqLAI"
      }
    },
    {
      "cell_type": "code",
      "source": [
        "#use spacy's statistical models to predict the label of words\n",
        "\n",
        "nlp = spacy.load('en_core_web_sm')\n",
        "doc = nlp(penny_string)\n",
        "\n",
        "#only look at first 10 words\n",
        "short_tokens = doc[0:10]\n",
        "\n",
        "for token in short_tokens:\n",
        "  print(token.text, token.pos_) # return each token and the part-of-speech tag"
      ],
      "metadata": {
        "colab": {
          "base_uri": "https://localhost:8080/"
        },
        "id": "d3mpgqA2qYyv",
        "outputId": "63c3e4e1-694b-4ddd-a16e-25bbc4d924b4"
      },
      "execution_count": 54,
      "outputs": [
        {
          "output_type": "stream",
          "name": "stdout",
          "text": [
            "  SPACE\n",
            "Oh INTJ\n",
            ", PUNCT\n",
            "hi INTJ\n",
            "! PUNCT\n",
            "Hi INTJ\n",
            "? PUNCT\n",
            "Oh INTJ\n",
            ", PUNCT\n",
            "that DET\n"
          ]
        }
      ]
    },
    {
      "cell_type": "code",
      "source": [
        "#you can also predict how words are related (e.g. are they the subject of the sentence)\n",
        "# head attribute returns the syntactic head token (the parent token the token is attached to)\n",
        "\n",
        "doc = nlp(penny_string)\n",
        "short_tokens = doc[0:10]\n",
        "\n",
        "for token in short_tokens:\n",
        "  print(token.text, token.pos_, token.dep_, token.head.text) # return each token and the part-of-speech tag"
      ],
      "metadata": {
        "colab": {
          "base_uri": "https://localhost:8080/"
        },
        "id": "hUBKID8pqt7Z",
        "outputId": "394c029f-6c10-436c-8871-f0207c890f0a"
      },
      "execution_count": 55,
      "outputs": [
        {
          "output_type": "stream",
          "name": "stdout",
          "text": [
            "  SPACE  Oh\n",
            "Oh INTJ intj hi\n",
            ", PUNCT punct hi\n",
            "hi INTJ ROOT hi\n",
            "! PUNCT punct hi\n",
            "Hi INTJ ROOT Hi\n",
            "? PUNCT punct Hi\n",
            "Oh INTJ intj ’s\n",
            ", PUNCT punct ’s\n",
            "that DET nsubj ’s\n"
          ]
        }
      ]
    },
    {
      "cell_type": "code",
      "source": [
        "#and for named entities\n",
        "\n",
        "for ent in doc.ents:\n",
        "  #print(ent.text, ent.label_)\n",
        "  ent_text = ent.text\n",
        "  ent_label = ent.label_\n",
        "  print('{:<30}{:<10}'.format(ent_text, ent_label))\n"
      ],
      "metadata": {
        "colab": {
          "base_uri": "https://localhost:8080/"
        },
        "id": "YlfT4-84sP4l",
        "outputId": "a4b7234b-f691-4909-ce5a-21f06bc65e01"
      },
      "execution_count": 56,
      "outputs": [
        {
          "output_type": "stream",
          "name": "stdout",
          "text": [
            "Penny                         PERSON    \n",
            "Bye                           PERSON    \n",
            "Leonard                       PERSON    \n",
            "Klingon                       PERSON    \n",
            "Sagittarius                   PERSON    \n",
            "the Cheesecake Factory        ORG       \n",
            "L.A.                          GPE       \n",
            "Lincoln Nebraska              PERSON    \n",
            "the Cheesecake Factory        ORG       \n",
            "Omaha                         GPE       \n",
            "Penny                         PERSON    \n",
            "four years                    DATE      \n",
            "four years                    DATE      \n",
            "Penny                         PERSON    \n",
            "the Cheesecake Factory        ORG       \n",
            "Leonard                       PERSON    \n",
            "Leonard                       PERSON    \n",
            "Sheldon                       PERSON    \n",
            "English                       LANGUAGE  \n",
            "Raj                           PERSON    \n"
          ]
        }
      ]
    },
    {
      "cell_type": "code",
      "source": [
        "#quickly check what a label means\n",
        "spacy.explain('GPE')"
      ],
      "metadata": {
        "colab": {
          "base_uri": "https://localhost:8080/",
          "height": 36
        },
        "id": "QElhmyHCvlco",
        "outputId": "32d5c531-5af2-42d7-ba55-dae261f617ce"
      },
      "execution_count": 57,
      "outputs": [
        {
          "output_type": "execute_result",
          "data": {
            "application/vnd.google.colaboratory.intrinsic+json": {
              "type": "string"
            },
            "text/plain": [
              "'Countries, cities, states'"
            ]
          },
          "metadata": {},
          "execution_count": 57
        }
      ]
    },
    {
      "cell_type": "markdown",
      "source": [
        "* PERSON:      People, including fictional.\n",
        "* NORP:        Nationalities or religious or political groups.\n",
        "* FAC:         Buildings, airports, highways, bridges, etc.\n",
        "* ORG:         Companies, agencies, institutions, etc.\n",
        "* GPE:         Countries, cities, states.\n",
        "* LOC:         Non-GPE locations, mountain ranges, bodies of water.\n",
        "* PRODUCT:     Objects, vehicles, foods, etc. (Not services.)\n",
        "* EVENT:       Named hurricanes, battles, wars, sports events, etc.\n",
        "* WORK_OF_ART: Titles of books, songs, etc.\n",
        "* LAW:         Named documents made into laws.\n",
        "* LANGUAGE:    Any named language.\n",
        "* DATE:        Absolute or relative dates or periods.\n",
        "* TIME:        Times smaller than a day.\n",
        "* PERCENT:     Percentage, including ”%“.\n",
        "* MONEY:       Monetary values, including unit.\n",
        "* QUANTITY:    Measurements, as of weight or distance.\n",
        "* ORDINAL:     “first”, “second”, etc.\n",
        "* CARDINAL:    Numerals that do not fall under another type."
      ],
      "metadata": {
        "id": "tVQ7jM2JuriM"
      }
    },
    {
      "cell_type": "markdown",
      "source": [
        "### 3.3 Spacy matcher"
      ],
      "metadata": {
        "id": "hSdyR7c-yCjx"
      }
    },
    {
      "cell_type": "markdown",
      "source": [
        "* write rules to find words and phrases in text\n",
        "* comppared to regular expressions, spacy works with doc objects, not just strings. It is also more flexible.\n",
        "* you can also find words using the model's predictions (e.g. the noun 'duck' vs. the verb 'duck')\n",
        "\n",
        "\n",
        "---\n",
        "* match patterns are a list of dictionaries, one item per token.\n",
        "** {'ORTH': 'iPhone'} is an exact match for iPhone\n",
        "** {'LOWER': 'iphone'} matches lowercase form of iphone\n",
        "** {'LEMMA': 'buy'} matches items that contain the lemmatized version of buy \n",
        "** pattern = [{'TEXT': 'iOS'}, {'IS_DIGIT': True}] ((\"iOS 7\", \"iOS 11\", \"iOS 10\"))\n",
        "** Write a pattern that matches a form of \"download\" plus proper noun\n",
        "pattern = [{'LEMMA': 'download'}, {'POS': 'PROPN'}]\n",
        "** Write a pattern for adjective plus one or two nouns\n",
        "pattern = [{'POS': 'ADJ'}, {'POS': 'NOUN'}, {'POS': 'NOUN', 'OP': '?'}]\n",
        "\n"
      ],
      "metadata": {
        "id": "q8BnmJ8iyGMK"
      }
    },
    {
      "cell_type": "code",
      "source": [
        ""
      ],
      "metadata": {
        "id": "6LbZf6z0zf-m"
      },
      "execution_count": 57,
      "outputs": []
    },
    {
      "cell_type": "code",
      "source": [
        "#load model and create the nlp object\n",
        "nlp = spacy.load('en_core_web_sm')\n",
        "doc = nlp(penny_string)\n",
        "\n",
        "#initialize the matcher with shared vocabulary\n",
        "matcher = Matcher(nlp.vocab)\n",
        "\n",
        "#add a pattern to the matcher\n",
        "pattern = [{'LEMMA': 'speak'}, {'TEXT': 'English'}] \n",
        "matcher.add('Speak_pattern', None, pattern)  #second argument is an optinal callbakc\n",
        "\n",
        "#call matches on doc\n",
        "matches = matcher(doc)  #returns tuple with match:id, start_index and end index\n",
        "print(matches)\n",
        "\n",
        "print('Total matches found:', len(matches))\n",
        "print('Matches:', [doc[start:end].text for match_id, start, end in matches])"
      ],
      "metadata": {
        "colab": {
          "base_uri": "https://localhost:8080/"
        },
        "id": "8TIrMCN5s_HA",
        "outputId": "1fe39043-8746-4486-9638-975bcce76698"
      },
      "execution_count": 58,
      "outputs": [
        {
          "output_type": "stream",
          "name": "stdout",
          "text": [
            "[(8309639128054061621, 551, 553)]\n",
            "Total matches found: 1\n",
            "Matches: ['speak English']\n"
          ]
        }
      ]
    },
    {
      "cell_type": "code",
      "source": [
        "pattern = [{'LEMMA': 'love', 'POS': 'VERB'}, { 'POS': 'NOUN', 'OP': '?'}] #OPerator  is added to indicate to match 0 or 1 times, but more is possible\n",
        "matcher.add('love_pattern', None, pattern)  #second argument is an optinal callbakc\n",
        "matches = matcher(doc) \n",
        "print(matches)\n",
        "\n",
        "print('Matches:', [doc[start:end].text for match_id, start, end in matches])"
      ],
      "metadata": {
        "colab": {
          "base_uri": "https://localhost:8080/"
        },
        "id": "FgxTlb7XxwKE",
        "outputId": "4505e50f-e319-494e-abe7-b3537fd1894f"
      },
      "execution_count": 59,
      "outputs": [
        {
          "output_type": "stream",
          "name": "stdout",
          "text": [
            "[(9434855986025066383, 68, 69), (9434855986025066383, 229, 230), (9434855986025066383, 229, 231), (9434855986025066383, 388, 389), (8309639128054061621, 551, 553)]\n",
            "Matches: ['love', 'love', 'love steak', 'love', 'speak English']\n"
          ]
        }
      ]
    },
    {
      "cell_type": "code",
      "source": [
        "#load model and create the nlp object\n",
        "nlp = spacy.load('en_core_web_sm')\n",
        "doc = nlp(penny_string)\n",
        "\n",
        "#initialize the matcher with shared vocabulary\n",
        "matcher = Matcher(nlp.vocab)\n",
        "\n",
        "#add a pattern to the matcher\n",
        "pattern = [{'POS': 'ADJ'}, {'POS': 'NOUN'}, {'POS': 'NOUN', 'OP': '?'}]\n",
        "matcher.add('newpattern', None, pattern)  #second argument is an optinal callbakc\n",
        "\n",
        "#call matches on doc\n",
        "matches = matcher(doc)  #returns tuple with match:id, start_index and end index\n",
        "#print(matches)\n",
        "\n",
        "print('Total matches found:', len(matches))\n",
        "print('Matches:', [doc[start:end].text for match_id, start, end in matches])\n"
      ],
      "metadata": {
        "colab": {
          "base_uri": "https://localhost:8080/"
        },
        "id": "niHpx-Ky4lku",
        "outputId": "db1989a0-9268-4885-81d1-244ebbdd3963"
      },
      "execution_count": 60,
      "outputs": [
        {
          "output_type": "stream",
          "name": "stdout",
          "text": [
            "Total matches found: 11\n",
            "Matches: ['new neighbour', 'serious stuff', 'beautiful mind', 'beautiful mind genius', 'Holy smokes', 'occasional steak', 'sensitive girl', 'pathetic part', 'stupid shower', 'cool tiger', 'worried expression']\n"
          ]
        }
      ]
    },
    {
      "cell_type": "code",
      "source": [
        ""
      ],
      "metadata": {
        "id": "WATAWxMwnBpC"
      },
      "execution_count": 60,
      "outputs": []
    },
    {
      "cell_type": "markdown",
      "source": [
        "### 3.4 Spacy under the hood"
      ],
      "metadata": {
        "id": "ZejWtVDVjtE9"
      }
    },
    {
      "cell_type": "markdown",
      "source": [
        "* vocab: stores data across multiple documents\n",
        "* all strings are stored to hash values (a word is stored only once)\n",
        "* strings are stored once in the stringstore\n",
        "* lexemes are context-independent entries in the vocabulary \n",
        "\n",
        "\n",
        "\n",
        "---\n",
        "\n",
        "\n",
        "* a doc contains words in context (e.g. I love coffee), with their part of speech tegs and dependencies\n",
        "* each token refers to a lexeme, which knows the words hash id (e.g. love = 37020...)\n",
        "* to get the string representation of the word, the has can be looked up in the strongstore\n",
        "\n",
        "\n",
        "---\n",
        "\n",
        "**tips**\n",
        "* convert the doc as late as possible because f you do it early, you loose all relationships between the tokens."
      ],
      "metadata": {
        "id": "A08MKqfvkOPy"
      }
    },
    {
      "cell_type": "code",
      "source": [
        "#each word is saved using a hash\n",
        "\n",
        "#load model and create the nlp object\n",
        "nlp = spacy.load('en_core_web_sm')\n",
        "doc = nlp(penny_string)\n",
        "\n",
        "# Look up the hash for the word \"hello\"\n",
        "hello_hash = nlp.vocab.strings['hello']\n",
        "print(hello_hash)\n",
        "\n",
        "# Look up the hello_hash to get the string\n",
        "hello_string = nlp.vocab.strings[hello_hash]\n",
        "print(hello_string)\n",
        "\n",
        "print()\n",
        "lexeme = nlp.vocab['hello']\n",
        "print (lexeme.text, lexeme.orth, lexeme.is_alpha)"
      ],
      "metadata": {
        "colab": {
          "base_uri": "https://localhost:8080/"
        },
        "id": "xC2XfsA2kqBU",
        "outputId": "8bd1a864-ccff-4284-899c-3f4bf2aad6cb"
      },
      "execution_count": 61,
      "outputs": [
        {
          "output_type": "stream",
          "name": "stdout",
          "text": [
            "5983625672228268878\n",
            "hello\n",
            "\n",
            "hello 5983625672228268878 True\n"
          ]
        }
      ]
    },
    {
      "cell_type": "markdown",
      "source": [
        "### 3.5 Semantic similarity"
      ],
      "metadata": {
        "id": "IfszopSSrD73"
      }
    },
    {
      "cell_type": "markdown",
      "source": [
        "* compare two objects and predict how similarity they are (docs, spans or token)\n",
        "* similarity is expressed in a scale of 0 to 1\n",
        "* you need a model that has word vectors included, such as a medium or large model\n",
        "* if you want to use word vectors, always use the medium or large models, not the small model\n",
        "----\n",
        "* similarity is determined using word vectors (multi-demensional meaning representations of words)\n",
        "* generated using an algorithm that is similar to the Word2Vec that is often used to create wordvectors\n",
        "* doc and span ectors deffault to the average of token vectors, that is why short phrases are better than long documents with many irrelevant words\n",
        "* similarity can be used for many applications: recommendation systems, flagging duplicates etc.\n",
        "* there is no objective definition of similarity ('I like cats' and 'I hate cats' have a high similarity score, becuase they both express sentiment about cats, but there are contexts where you may want them to be very dissimilar"
      ],
      "metadata": {
        "id": "VVsQs5zvrJog"
      }
    },
    {
      "cell_type": "code",
      "source": [
        "#load a model with vectors\n",
        "nlp = spacy.load('en_core_web_md')\n",
        "\n",
        "#create a string for sheldon\n",
        "sheldon_series = episode[(episode['episode_id']== '1-1') & (episode['character']=='Sheldon')]['line']\n",
        "sheldon_string = sheldon_series.to_string(index=False)\n",
        "\n",
        "#create two documetns and create how similar they are\n",
        "doc1 = nlp(penny_string)\n",
        "doc2 = nlp(sheldon_string)\n",
        "print(doc1.similarity(doc2))"
      ],
      "metadata": {
        "colab": {
          "base_uri": "https://localhost:8080/"
        },
        "id": "zqSnKcOhrlJv",
        "outputId": "ccf380d4-73e2-4e9b-a95e-f7951045169d"
      },
      "execution_count": 64,
      "outputs": [
        {
          "output_type": "stream",
          "name": "stdout",
          "text": [
            "0.9754445545646069\n"
          ]
        }
      ]
    },
    {
      "cell_type": "code",
      "source": [
        "#compare two docs - similarity is very objective\n",
        "doc1 = nlp(\"I like cats\")\n",
        "doc2 = nlp (\"I hate cats\")\n",
        "doc3 = nlp ('I like dogs')\n",
        "\n",
        "#print vector of the word 'I'\n",
        "i_vector = doc1[0].vector\n",
        "#print(i_vector)\n",
        "print()\n",
        "\n",
        "#print documents\n",
        "print(doc1.similarity(doc2))\n",
        "print(doc1.similarity(doc3))"
      ],
      "metadata": {
        "colab": {
          "base_uri": "https://localhost:8080/"
        },
        "id": "SJMZmyCDlX5q",
        "outputId": "3fa04960-78b4-4ba6-c0b6-ffc9fe92031b"
      },
      "execution_count": 69,
      "outputs": [
        {
          "output_type": "stream",
          "name": "stdout",
          "text": [
            "\n",
            "0.9501447503553421\n",
            "0.957709143352323\n"
          ]
        }
      ]
    },
    {
      "cell_type": "code",
      "source": [
        ""
      ],
      "metadata": {
        "id": "GY2_-uhmz6QE"
      },
      "execution_count": null,
      "outputs": []
    },
    {
      "cell_type": "markdown",
      "source": [
        "### 3.6 Combining statistical models and rules"
      ],
      "metadata": {
        "id": "oxdsNGqsyyFk"
      }
    },
    {
      "cell_type": "markdown",
      "source": [
        "**Statistical models**\n",
        "* applications that need to generalize based on examples\n",
        "* used for product names, person names, object relatonships\n",
        "* part-of-speech tagger, entity recognizer, dependency parser are some of the spacy features\n",
        "\n",
        "\n",
        "\n",
        "---\n",
        "**Rule-based systems**\n",
        "* handy where there is a finite number of examples you may want to find\n",
        "* e.g. countries f the world, cities, drug names, dog breeds\n",
        "* tokenizer, Matcher, PhraseMatcher as some of the examples here\n"
      ],
      "metadata": {
        "id": "bR64oydQy2K_"
      }
    },
    {
      "cell_type": "code",
      "source": [
        "#example of phrase matching\n",
        "\n",
        "#initailze phrasematcher with a vocabulary\n",
        "matcher = PhraseMatcher(nlp.vocab)\n",
        "\n",
        "#pass in a doc object as the pattern\n",
        "pattern = nlp('I’m')\n",
        "matcher.add('IAM', None, pattern)\n",
        "\n",
        "doc = nlp(penny_string)\n",
        "\n",
        "#iterate over the matches\n",
        "for match_id, start, end in matcher(doc):\n",
        "  #get the matched span\n",
        "  span = doc[start:end]\n",
        "  print('Matched span:', span.text)\n",
        "\n"
      ],
      "metadata": {
        "colab": {
          "base_uri": "https://localhost:8080/"
        },
        "id": "Aia4N2vNzHjV",
        "outputId": "0c965d8b-718f-4835-cbca-eaeff964a73d"
      },
      "execution_count": 71,
      "outputs": [
        {
          "output_type": "stream",
          "name": "stdout",
          "text": [
            "Matched span: I’m\n",
            "Matched span: I’m\n",
            "Matched span: I’m\n",
            "Matched span: I’m\n",
            "Matched span: I’m\n",
            "Matched span: I’m\n",
            "Matched span: I’m\n",
            "Matched span: I’m\n",
            "Matched span: I’m\n",
            "Matched span: I’m\n",
            "Matched span: I’m\n",
            "Matched span: I’m\n",
            "Matched span: I’m\n"
          ]
        }
      ]
    },
    {
      "cell_type": "code",
      "source": [
        "#this is how you could match with matcher\n",
        "\n",
        "doc = nlp(penny_string)\n",
        "\n",
        "# Create the match patterns\n",
        "#pattern1 = [{'LOWER': 'amazon'}, {'IS_TITLE': True, 'POS': 'PROPN'}]\n",
        "#pattern2 = [{'LOWER': 'ad'}, {'TEXT': '-'}, {'LOWER': 'free'}, {'POS': 'NOUN'}]\n",
        "\n",
        "pattern1 = [{'LEMMA': 'speak'}, {'TEXT': 'English'}] \n",
        "pattern2 = [{'LEMMA': 'love'}, { 'POS': 'NOUN'}] \n",
        "\n",
        "# Initialize the Matcher and add the patterns\n",
        "matcher = Matcher(nlp.vocab)\n",
        "matcher.add('PATTERN1', None, pattern1)\n",
        "matcher.add('PATTERN2', None, pattern2)\n",
        "\n",
        "# Iterate over the matches\n",
        "for match_id, start, end in matcher(doc):\n",
        "  # Print pattern string name and text of matched span\n",
        "  print(doc.vocab.strings[match_id], doc[start:end].text)"
      ],
      "metadata": {
        "colab": {
          "base_uri": "https://localhost:8080/"
        },
        "id": "CTwjITcb1S0B",
        "outputId": "c60e27e2-ff95-4f19-909f-fc099bf37eed"
      },
      "execution_count": 80,
      "outputs": [
        {
          "output_type": "stream",
          "name": "stdout",
          "text": [
            "PATTERN2 love steak\n",
            "PATTERN1 speak English\n"
          ]
        }
      ]
    },
    {
      "cell_type": "code",
      "source": [
        "Lincoln Nebraska              PERSON "
      ],
      "metadata": {
        "id": "aQrvIf5K3mwf"
      },
      "execution_count": 84,
      "outputs": []
    },
    {
      "cell_type": "code",
      "source": [
        "#this is how you use phrase matcher\n",
        "\n",
        "doc = nlp(penny_string)\n",
        "\n",
        "# Import the PhraseMatcher and initialize it\n",
        "matcher = PhraseMatcher(nlp.vocab)\n",
        "\n",
        "# Create pattern Doc objects and add them to the matcher\n",
        "# This is the faster version of: [nlp(name) for name in names]\n",
        "names = ['Penny', 'Sheldon', 'Leonard', 'Howard']  #phase matcher is useful when you have a finite list\n",
        "patterns = list(nlp.pipe(names ))\n",
        "matcher.add('NAME', None, *patterns)\n",
        "\n",
        "# Call the matcher on the test document and print the result\n",
        "matches = matcher(doc)\n",
        "print([doc[start:end] for match_id, start, end in matches])"
      ],
      "metadata": {
        "colab": {
          "base_uri": "https://localhost:8080/"
        },
        "id": "oohmWErI3OoB",
        "outputId": "e21113ac-ee76-4430-e3a6-4d503dc0c10a"
      },
      "execution_count": 11,
      "outputs": [
        {
          "output_type": "stream",
          "name": "stdout",
          "text": [
            "[Penny, Leonard, Penny, Penny, Leonard, Leonard, Sheldon]\n"
          ]
        }
      ]
    },
    {
      "cell_type": "code",
      "source": [
        "#above we used phraseMatcher to fines names in a text\n",
        "# you can run phrasematcher on a longer text, analyze the syntax, and update the document's entities with the matched countries\n",
        "\n",
        "# Iterate over the matches\n",
        "for match_id, start, end in matcher(doc):\n",
        "    # Create a Span with the label for \"PERSON   #the current matches are already classifier as persons, but if they werent, you could give them the right tag\n",
        "    span = Span(doc, start, end, label='PERSON')\n",
        "\n",
        "    # Overwrite the doc.ents and add the span\n",
        "    #doc.ents = list(doc.ents) + [span]\n",
        "\n",
        "    # Get the span's root head token\n",
        "    span_root_head = span.root.head\n",
        "    # Print the text of the span root's head token and the span text\n",
        "    print(span_root_head.text, '-->', span.text)\n",
        "    \n",
        "# Print the entities in the document\n",
        "#print([(ent.text, ent.label_) for ent in doc.ents if ent.label_ == 'PERSON'])\n"
      ],
      "metadata": {
        "colab": {
          "base_uri": "https://localhost:8080/"
        },
        "id": "anjmNxaS1SlT",
        "outputId": "6f34b5eb-c88a-45a9-9f16-f48cd928e771"
      },
      "execution_count": 12,
      "outputs": [
        {
          "output_type": "stream",
          "name": "stdout",
          "text": [
            "neighbour --> Penny\n",
            "do --> Leonard\n",
            "of --> Penny\n",
            "Penny --> Penny\n",
            "Leonard --> Leonard\n",
            "with --> Leonard\n",
            "Leonard --> Sheldon\n"
          ]
        }
      ]
    },
    {
      "cell_type": "markdown",
      "source": [
        "### 3.7 Processing pipelines"
      ],
      "metadata": {
        "id": "Cwco4coE8MV_"
      }
    },
    {
      "cell_type": "code",
      "source": [
        ""
      ],
      "metadata": {
        "id": "v18LqnVFvTse"
      },
      "execution_count": null,
      "outputs": []
    }
  ]
}